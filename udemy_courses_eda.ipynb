{
  "cells": [
    {
      "cell_type": "code",
      "execution_count": 1,
      "id": "7ba1e02a",
      "metadata": {
        "_cell_guid": "b1076dfc-b9ad-4769-8c92-a6c4dae69d19",
        "_uuid": "8f2839f25d086af736a60e9eeb907d3b93b6e0e5",
        "execution": {
          "iopub.execute_input": "2022-09-05T11:48:38.302050Z",
          "iopub.status.busy": "2022-09-05T11:48:38.301040Z",
          "iopub.status.idle": "2022-09-05T11:48:38.323424Z",
          "shell.execute_reply": "2022-09-05T11:48:38.322210Z"
        },
        "papermill": {
          "duration": 0.039749,
          "end_time": "2022-09-05T11:48:38.326468",
          "exception": false,
          "start_time": "2022-09-05T11:48:38.286719",
          "status": "completed"
        },
        "tags": [],
        "id": "7ba1e02a"
      },
      "outputs": [],
      "source": [
        "\n",
        "\n",
        "import numpy as np # linear algebra\n",
        "import pandas as pd # data processing, CSV file I/O (e.g. pd.read_csv)\n",
        "\n",
        "\n"
      ]
    },
    {
      "cell_type": "markdown",
      "source": [
        "1.  parse_dates:  parse_dates parameter for read_csv which allows you to define the names of the columns you want to be treated as dates or datetimes:  or we can use pd.to_datetime()\n",
        "\n",
        "\n",
        "2. value_counts()  : The value_counts() method returns a Series containing the counts of unique values\n",
        "\n",
        "\n",
        "3. Countplot:  countplot() method is used to show the counts of observations in each categorical bin using bars.\n",
        "\n",
        "\n",
        "4. Barplot(): Bar plots or graphs are useful for displaying relationships between categorical data and at least one numerical variable. \n"
      ],
      "metadata": {
        "id": "MROXyuAUdoHN"
      },
      "id": "MROXyuAUdoHN"
    },
    {
      "cell_type": "code",
      "execution_count": 2,
      "id": "fdc78d14",
      "metadata": {
        "execution": {
          "iopub.execute_input": "2022-09-05T11:48:38.348940Z",
          "iopub.status.busy": "2022-09-05T11:48:38.347962Z",
          "iopub.status.idle": "2022-09-05T11:48:39.391238Z",
          "shell.execute_reply": "2022-09-05T11:48:39.390050Z"
        },
        "papermill": {
          "duration": 1.058486,
          "end_time": "2022-09-05T11:48:39.394094",
          "exception": false,
          "start_time": "2022-09-05T11:48:38.335608",
          "status": "completed"
        },
        "tags": [],
        "id": "fdc78d14"
      },
      "outputs": [],
      "source": [
        "import numpy as np\n",
        "import pandas as pd\n",
        "import matplotlib.pyplot as plt\n",
        "import seaborn as sns"
      ]
    },
    {
      "cell_type": "code",
      "execution_count": 3,
      "id": "72a96e43",
      "metadata": {
        "execution": {
          "iopub.execute_input": "2022-09-05T11:48:39.410672Z",
          "iopub.status.busy": "2022-09-05T11:48:39.409486Z",
          "iopub.status.idle": "2022-09-05T11:48:39.453255Z",
          "shell.execute_reply": "2022-09-05T11:48:39.452330Z"
        },
        "papermill": {
          "duration": 0.054638,
          "end_time": "2022-09-05T11:48:39.455894",
          "exception": false,
          "start_time": "2022-09-05T11:48:39.401256",
          "status": "completed"
        },
        "tags": [],
        "id": "72a96e43"
      },
      "outputs": [],
      "source": [
        "df = pd.read_csv('/content/sample_data/udemy_courses.csv')"
      ]
    },
    {
      "cell_type": "code",
      "execution_count": 4,
      "id": "6d0f80be",
      "metadata": {
        "execution": {
          "iopub.execute_input": "2022-09-05T11:48:39.472543Z",
          "iopub.status.busy": "2022-09-05T11:48:39.471504Z",
          "iopub.status.idle": "2022-09-05T11:48:39.494344Z",
          "shell.execute_reply": "2022-09-05T11:48:39.493142Z"
        },
        "papermill": {
          "duration": 0.033751,
          "end_time": "2022-09-05T11:48:39.497030",
          "exception": false,
          "start_time": "2022-09-05T11:48:39.463279",
          "status": "completed"
        },
        "tags": [],
        "colab": {
          "base_uri": "https://localhost:8080/",
          "height": 548
        },
        "id": "6d0f80be",
        "outputId": "ef6f1f60-5688-4131-99e7-005c05ad3ae6"
      },
      "outputs": [
        {
          "output_type": "execute_result",
          "data": {
            "text/plain": [
              "   course_id                                       course_title  \\\n",
              "0    1070968                 Ultimate Investment Banking Course   \n",
              "1    1113822  Complete GST Course & Certification - Grow You...   \n",
              "2    1006314  Financial Modeling for Business Analysts and C...   \n",
              "3    1210588  Beginner to Pro - Financial Analysis in Excel ...   \n",
              "4    1011058       How To Maximize Your Profits Trading Options   \n",
              "\n",
              "                                                 url  is_paid  price  \\\n",
              "0  https://www.udemy.com/ultimate-investment-bank...     True    200   \n",
              "1      https://www.udemy.com/goods-and-services-tax/     True     75   \n",
              "2  https://www.udemy.com/financial-modeling-for-b...     True     45   \n",
              "3  https://www.udemy.com/complete-excel-finance-c...     True     95   \n",
              "4  https://www.udemy.com/how-to-maximize-your-pro...     True    200   \n",
              "\n",
              "   num_subscribers  num_reviews  num_lectures               level  \\\n",
              "0             2147           23            51          All Levels   \n",
              "1             2792          923           274          All Levels   \n",
              "2             2174           74            51  Intermediate Level   \n",
              "3             2451           11            36          All Levels   \n",
              "4             1276           45            26  Intermediate Level   \n",
              "\n",
              "   content_duration   published_timestamp           subject  \n",
              "0               1.5  2017-01-18T20:58:58Z  Business Finance  \n",
              "1              39.0  2017-03-09T16:34:20Z  Business Finance  \n",
              "2               2.5  2016-12-19T19:26:30Z  Business Finance  \n",
              "3               3.0  2017-05-30T20:07:24Z  Business Finance  \n",
              "4               2.0  2016-12-13T14:57:18Z  Business Finance  "
            ],
            "text/html": [
              "\n",
              "  <div id=\"df-206d9bee-6471-4b56-9e03-d6786e851d18\">\n",
              "    <div class=\"colab-df-container\">\n",
              "      <div>\n",
              "<style scoped>\n",
              "    .dataframe tbody tr th:only-of-type {\n",
              "        vertical-align: middle;\n",
              "    }\n",
              "\n",
              "    .dataframe tbody tr th {\n",
              "        vertical-align: top;\n",
              "    }\n",
              "\n",
              "    .dataframe thead th {\n",
              "        text-align: right;\n",
              "    }\n",
              "</style>\n",
              "<table border=\"1\" class=\"dataframe\">\n",
              "  <thead>\n",
              "    <tr style=\"text-align: right;\">\n",
              "      <th></th>\n",
              "      <th>course_id</th>\n",
              "      <th>course_title</th>\n",
              "      <th>url</th>\n",
              "      <th>is_paid</th>\n",
              "      <th>price</th>\n",
              "      <th>num_subscribers</th>\n",
              "      <th>num_reviews</th>\n",
              "      <th>num_lectures</th>\n",
              "      <th>level</th>\n",
              "      <th>content_duration</th>\n",
              "      <th>published_timestamp</th>\n",
              "      <th>subject</th>\n",
              "    </tr>\n",
              "  </thead>\n",
              "  <tbody>\n",
              "    <tr>\n",
              "      <th>0</th>\n",
              "      <td>1070968</td>\n",
              "      <td>Ultimate Investment Banking Course</td>\n",
              "      <td>https://www.udemy.com/ultimate-investment-bank...</td>\n",
              "      <td>True</td>\n",
              "      <td>200</td>\n",
              "      <td>2147</td>\n",
              "      <td>23</td>\n",
              "      <td>51</td>\n",
              "      <td>All Levels</td>\n",
              "      <td>1.5</td>\n",
              "      <td>2017-01-18T20:58:58Z</td>\n",
              "      <td>Business Finance</td>\n",
              "    </tr>\n",
              "    <tr>\n",
              "      <th>1</th>\n",
              "      <td>1113822</td>\n",
              "      <td>Complete GST Course &amp; Certification - Grow You...</td>\n",
              "      <td>https://www.udemy.com/goods-and-services-tax/</td>\n",
              "      <td>True</td>\n",
              "      <td>75</td>\n",
              "      <td>2792</td>\n",
              "      <td>923</td>\n",
              "      <td>274</td>\n",
              "      <td>All Levels</td>\n",
              "      <td>39.0</td>\n",
              "      <td>2017-03-09T16:34:20Z</td>\n",
              "      <td>Business Finance</td>\n",
              "    </tr>\n",
              "    <tr>\n",
              "      <th>2</th>\n",
              "      <td>1006314</td>\n",
              "      <td>Financial Modeling for Business Analysts and C...</td>\n",
              "      <td>https://www.udemy.com/financial-modeling-for-b...</td>\n",
              "      <td>True</td>\n",
              "      <td>45</td>\n",
              "      <td>2174</td>\n",
              "      <td>74</td>\n",
              "      <td>51</td>\n",
              "      <td>Intermediate Level</td>\n",
              "      <td>2.5</td>\n",
              "      <td>2016-12-19T19:26:30Z</td>\n",
              "      <td>Business Finance</td>\n",
              "    </tr>\n",
              "    <tr>\n",
              "      <th>3</th>\n",
              "      <td>1210588</td>\n",
              "      <td>Beginner to Pro - Financial Analysis in Excel ...</td>\n",
              "      <td>https://www.udemy.com/complete-excel-finance-c...</td>\n",
              "      <td>True</td>\n",
              "      <td>95</td>\n",
              "      <td>2451</td>\n",
              "      <td>11</td>\n",
              "      <td>36</td>\n",
              "      <td>All Levels</td>\n",
              "      <td>3.0</td>\n",
              "      <td>2017-05-30T20:07:24Z</td>\n",
              "      <td>Business Finance</td>\n",
              "    </tr>\n",
              "    <tr>\n",
              "      <th>4</th>\n",
              "      <td>1011058</td>\n",
              "      <td>How To Maximize Your Profits Trading Options</td>\n",
              "      <td>https://www.udemy.com/how-to-maximize-your-pro...</td>\n",
              "      <td>True</td>\n",
              "      <td>200</td>\n",
              "      <td>1276</td>\n",
              "      <td>45</td>\n",
              "      <td>26</td>\n",
              "      <td>Intermediate Level</td>\n",
              "      <td>2.0</td>\n",
              "      <td>2016-12-13T14:57:18Z</td>\n",
              "      <td>Business Finance</td>\n",
              "    </tr>\n",
              "  </tbody>\n",
              "</table>\n",
              "</div>\n",
              "      <button class=\"colab-df-convert\" onclick=\"convertToInteractive('df-206d9bee-6471-4b56-9e03-d6786e851d18')\"\n",
              "              title=\"Convert this dataframe to an interactive table.\"\n",
              "              style=\"display:none;\">\n",
              "        \n",
              "  <svg xmlns=\"http://www.w3.org/2000/svg\" height=\"24px\"viewBox=\"0 0 24 24\"\n",
              "       width=\"24px\">\n",
              "    <path d=\"M0 0h24v24H0V0z\" fill=\"none\"/>\n",
              "    <path d=\"M18.56 5.44l.94 2.06.94-2.06 2.06-.94-2.06-.94-.94-2.06-.94 2.06-2.06.94zm-11 1L8.5 8.5l.94-2.06 2.06-.94-2.06-.94L8.5 2.5l-.94 2.06-2.06.94zm10 10l.94 2.06.94-2.06 2.06-.94-2.06-.94-.94-2.06-.94 2.06-2.06.94z\"/><path d=\"M17.41 7.96l-1.37-1.37c-.4-.4-.92-.59-1.43-.59-.52 0-1.04.2-1.43.59L10.3 9.45l-7.72 7.72c-.78.78-.78 2.05 0 2.83L4 21.41c.39.39.9.59 1.41.59.51 0 1.02-.2 1.41-.59l7.78-7.78 2.81-2.81c.8-.78.8-2.07 0-2.86zM5.41 20L4 18.59l7.72-7.72 1.47 1.35L5.41 20z\"/>\n",
              "  </svg>\n",
              "      </button>\n",
              "      \n",
              "  <style>\n",
              "    .colab-df-container {\n",
              "      display:flex;\n",
              "      flex-wrap:wrap;\n",
              "      gap: 12px;\n",
              "    }\n",
              "\n",
              "    .colab-df-convert {\n",
              "      background-color: #E8F0FE;\n",
              "      border: none;\n",
              "      border-radius: 50%;\n",
              "      cursor: pointer;\n",
              "      display: none;\n",
              "      fill: #1967D2;\n",
              "      height: 32px;\n",
              "      padding: 0 0 0 0;\n",
              "      width: 32px;\n",
              "    }\n",
              "\n",
              "    .colab-df-convert:hover {\n",
              "      background-color: #E2EBFA;\n",
              "      box-shadow: 0px 1px 2px rgba(60, 64, 67, 0.3), 0px 1px 3px 1px rgba(60, 64, 67, 0.15);\n",
              "      fill: #174EA6;\n",
              "    }\n",
              "\n",
              "    [theme=dark] .colab-df-convert {\n",
              "      background-color: #3B4455;\n",
              "      fill: #D2E3FC;\n",
              "    }\n",
              "\n",
              "    [theme=dark] .colab-df-convert:hover {\n",
              "      background-color: #434B5C;\n",
              "      box-shadow: 0px 1px 3px 1px rgba(0, 0, 0, 0.15);\n",
              "      filter: drop-shadow(0px 1px 2px rgba(0, 0, 0, 0.3));\n",
              "      fill: #FFFFFF;\n",
              "    }\n",
              "  </style>\n",
              "\n",
              "      <script>\n",
              "        const buttonEl =\n",
              "          document.querySelector('#df-206d9bee-6471-4b56-9e03-d6786e851d18 button.colab-df-convert');\n",
              "        buttonEl.style.display =\n",
              "          google.colab.kernel.accessAllowed ? 'block' : 'none';\n",
              "\n",
              "        async function convertToInteractive(key) {\n",
              "          const element = document.querySelector('#df-206d9bee-6471-4b56-9e03-d6786e851d18');\n",
              "          const dataTable =\n",
              "            await google.colab.kernel.invokeFunction('convertToInteractive',\n",
              "                                                     [key], {});\n",
              "          if (!dataTable) return;\n",
              "\n",
              "          const docLinkHtml = 'Like what you see? Visit the ' +\n",
              "            '<a target=\"_blank\" href=https://colab.research.google.com/notebooks/data_table.ipynb>data table notebook</a>'\n",
              "            + ' to learn more about interactive tables.';\n",
              "          element.innerHTML = '';\n",
              "          dataTable['output_type'] = 'display_data';\n",
              "          await google.colab.output.renderOutput(dataTable, element);\n",
              "          const docLink = document.createElement('div');\n",
              "          docLink.innerHTML = docLinkHtml;\n",
              "          element.appendChild(docLink);\n",
              "        }\n",
              "      </script>\n",
              "    </div>\n",
              "  </div>\n",
              "  "
            ]
          },
          "metadata": {},
          "execution_count": 4
        }
      ],
      "source": [
        "df.head()"
      ]
    },
    {
      "cell_type": "code",
      "execution_count": null,
      "id": "fd138c59",
      "metadata": {
        "execution": {
          "iopub.execute_input": "2022-09-05T11:48:39.513560Z",
          "iopub.status.busy": "2022-09-05T11:48:39.512688Z",
          "iopub.status.idle": "2022-09-05T11:48:39.539066Z",
          "shell.execute_reply": "2022-09-05T11:48:39.537021Z"
        },
        "papermill": {
          "duration": 0.037905,
          "end_time": "2022-09-05T11:48:39.542200",
          "exception": false,
          "start_time": "2022-09-05T11:48:39.504295",
          "status": "completed"
        },
        "tags": [],
        "id": "fd138c59",
        "outputId": "4fee01cb-bea0-44a0-8608-b46db053b086"
      },
      "outputs": [
        {
          "name": "stdout",
          "output_type": "stream",
          "text": [
            "<class 'pandas.core.frame.DataFrame'>\n",
            "RangeIndex: 3678 entries, 0 to 3677\n",
            "Data columns (total 12 columns):\n",
            " #   Column               Non-Null Count  Dtype  \n",
            "---  ------               --------------  -----  \n",
            " 0   course_id            3678 non-null   int64  \n",
            " 1   course_title         3678 non-null   object \n",
            " 2   url                  3678 non-null   object \n",
            " 3   is_paid              3678 non-null   bool   \n",
            " 4   price                3678 non-null   int64  \n",
            " 5   num_subscribers      3678 non-null   int64  \n",
            " 6   num_reviews          3678 non-null   int64  \n",
            " 7   num_lectures         3678 non-null   int64  \n",
            " 8   level                3678 non-null   object \n",
            " 9   content_duration     3678 non-null   float64\n",
            " 10  published_timestamp  3678 non-null   object \n",
            " 11  subject              3678 non-null   object \n",
            "dtypes: bool(1), float64(1), int64(5), object(5)\n",
            "memory usage: 319.8+ KB\n"
          ]
        }
      ],
      "source": [
        "df.info()"
      ]
    },
    {
      "cell_type": "markdown",
      "id": "aae25cb7",
      "metadata": {
        "papermill": {
          "duration": 0.006953,
          "end_time": "2022-09-05T11:48:39.557264",
          "exception": false,
          "start_time": "2022-09-05T11:48:39.550311",
          "status": "completed"
        },
        "tags": [],
        "id": "aae25cb7"
      },
      "source": [
        "#### No null values found"
      ]
    },
    {
      "cell_type": "markdown",
      "id": "eda1cf5f",
      "metadata": {
        "papermill": {
          "duration": 0.007029,
          "end_time": "2022-09-05T11:48:39.571755",
          "exception": false,
          "start_time": "2022-09-05T11:48:39.564726",
          "status": "completed"
        },
        "tags": [],
        "id": "eda1cf5f"
      },
      "source": [
        "# Data Cleaning\n",
        "\n",
        "\n",
        "- unnecessary columns  \n",
        "- all null columns \n",
        "- check column type \n",
        "- find duplicates \n",
        "- check null values ---> delete : file [mean - mod , median]\n",
        "- Categorical Columns : Relations"
      ]
    },
    {
      "cell_type": "markdown",
      "id": "497302cf",
      "metadata": {
        "papermill": {
          "duration": 0.007097,
          "end_time": "2022-09-05T11:48:39.586177",
          "exception": false,
          "start_time": "2022-09-05T11:48:39.579080",
          "status": "completed"
        },
        "tags": [],
        "id": "497302cf"
      },
      "source": [
        "Null Values -----> No  \n",
        "Unneccasssry Columns -----> url  \n",
        "Categorical Columns. -----> is_paid , level , subject"
      ]
    },
    {
      "cell_type": "code",
      "execution_count": null,
      "id": "815e697a",
      "metadata": {
        "execution": {
          "iopub.execute_input": "2022-09-05T11:48:39.603455Z",
          "iopub.status.busy": "2022-09-05T11:48:39.602765Z",
          "iopub.status.idle": "2022-09-05T11:48:39.610267Z",
          "shell.execute_reply": "2022-09-05T11:48:39.609486Z"
        },
        "papermill": {
          "duration": 0.018282,
          "end_time": "2022-09-05T11:48:39.612372",
          "exception": false,
          "start_time": "2022-09-05T11:48:39.594090",
          "status": "completed"
        },
        "tags": [],
        "id": "815e697a"
      },
      "outputs": [],
      "source": [
        "df.drop('url',axis=1,inplace=True)"
      ]
    },
    {
      "cell_type": "code",
      "execution_count": null,
      "id": "a45973c0",
      "metadata": {
        "execution": {
          "iopub.execute_input": "2022-09-05T11:48:39.629520Z",
          "iopub.status.busy": "2022-09-05T11:48:39.628845Z",
          "iopub.status.idle": "2022-09-05T11:48:39.636510Z",
          "shell.execute_reply": "2022-09-05T11:48:39.635371Z"
        },
        "papermill": {
          "duration": 0.019001,
          "end_time": "2022-09-05T11:48:39.638882",
          "exception": false,
          "start_time": "2022-09-05T11:48:39.619881",
          "status": "completed"
        },
        "tags": [],
        "id": "a45973c0",
        "outputId": "bc010bb1-8a11-4d53-ad65-a7f0dba063ef"
      },
      "outputs": [
        {
          "data": {
            "text/plain": [
              "course_id                int64\n",
              "course_title            object\n",
              "is_paid                   bool\n",
              "price                    int64\n",
              "num_subscribers          int64\n",
              "num_reviews              int64\n",
              "num_lectures             int64\n",
              "level                   object\n",
              "content_duration       float64\n",
              "published_timestamp     object\n",
              "subject                 object\n",
              "dtype: object"
            ]
          },
          "execution_count": 7,
          "metadata": {},
          "output_type": "execute_result"
        }
      ],
      "source": [
        "# Take Another Look\n",
        "df.dtypes"
      ]
    },
    {
      "cell_type": "code",
      "execution_count": null,
      "id": "dc6cf745",
      "metadata": {
        "execution": {
          "iopub.execute_input": "2022-09-05T11:48:39.655764Z",
          "iopub.status.busy": "2022-09-05T11:48:39.655285Z",
          "iopub.status.idle": "2022-09-05T11:48:39.664505Z",
          "shell.execute_reply": "2022-09-05T11:48:39.663308Z"
        },
        "papermill": {
          "duration": 0.020591,
          "end_time": "2022-09-05T11:48:39.667013",
          "exception": false,
          "start_time": "2022-09-05T11:48:39.646422",
          "status": "completed"
        },
        "tags": [],
        "id": "dc6cf745"
      },
      "outputs": [],
      "source": [
        "# convert published_timestamp from object to datetime\n",
        "df['published_timestamp'] = pd.to_datetime(df['published_timestamp'])"
      ]
    },
    {
      "cell_type": "code",
      "execution_count": null,
      "id": "c0df0dc2",
      "metadata": {
        "execution": {
          "iopub.execute_input": "2022-09-05T11:48:39.684149Z",
          "iopub.status.busy": "2022-09-05T11:48:39.683745Z",
          "iopub.status.idle": "2022-09-05T11:48:39.706904Z",
          "shell.execute_reply": "2022-09-05T11:48:39.705647Z"
        },
        "papermill": {
          "duration": 0.034493,
          "end_time": "2022-09-05T11:48:39.709280",
          "exception": false,
          "start_time": "2022-09-05T11:48:39.674787",
          "status": "completed"
        },
        "tags": [],
        "id": "c0df0dc2",
        "outputId": "4fd75237-485e-4f35-b05f-2ee9df4435b9"
      },
      "outputs": [
        {
          "data": {
            "text/html": [
              "<div>\n",
              "<style scoped>\n",
              "    .dataframe tbody tr th:only-of-type {\n",
              "        vertical-align: middle;\n",
              "    }\n",
              "\n",
              "    .dataframe tbody tr th {\n",
              "        vertical-align: top;\n",
              "    }\n",
              "\n",
              "    .dataframe thead th {\n",
              "        text-align: right;\n",
              "    }\n",
              "</style>\n",
              "<table border=\"1\" class=\"dataframe\">\n",
              "  <thead>\n",
              "    <tr style=\"text-align: right;\">\n",
              "      <th></th>\n",
              "      <th>course_id</th>\n",
              "      <th>course_title</th>\n",
              "      <th>is_paid</th>\n",
              "      <th>price</th>\n",
              "      <th>num_subscribers</th>\n",
              "      <th>num_reviews</th>\n",
              "      <th>num_lectures</th>\n",
              "      <th>level</th>\n",
              "      <th>content_duration</th>\n",
              "      <th>published_timestamp</th>\n",
              "      <th>subject</th>\n",
              "    </tr>\n",
              "  </thead>\n",
              "  <tbody>\n",
              "    <tr>\n",
              "      <th>488</th>\n",
              "      <td>843536</td>\n",
              "      <td>Forex Trading Profit 183%p.a : Trend is Our Fr...</td>\n",
              "      <td>True</td>\n",
              "      <td>120</td>\n",
              "      <td>54</td>\n",
              "      <td>11</td>\n",
              "      <td>12</td>\n",
              "      <td>All Levels</td>\n",
              "      <td>0.6</td>\n",
              "      <td>2016-12-05 17:01:51+00:00</td>\n",
              "      <td>Business Finance</td>\n",
              "    </tr>\n",
              "    <tr>\n",
              "      <th>1497</th>\n",
              "      <td>938680</td>\n",
              "      <td>Logo Design Made Easy: Create your own logo in...</td>\n",
              "      <td>True</td>\n",
              "      <td>20</td>\n",
              "      <td>1086</td>\n",
              "      <td>17</td>\n",
              "      <td>8</td>\n",
              "      <td>Beginner Level</td>\n",
              "      <td>1.0</td>\n",
              "      <td>2016-11-22 16:30:46+00:00</td>\n",
              "      <td>Graphic Design</td>\n",
              "    </tr>\n",
              "    <tr>\n",
              "      <th>3141</th>\n",
              "      <td>548278</td>\n",
              "      <td>The Complete Web Development Course -  Build 1...</td>\n",
              "      <td>True</td>\n",
              "      <td>200</td>\n",
              "      <td>7501</td>\n",
              "      <td>1213</td>\n",
              "      <td>384</td>\n",
              "      <td>All Levels</td>\n",
              "      <td>76.5</td>\n",
              "      <td>2015-11-09 22:01:02+00:00</td>\n",
              "      <td>Web Development</td>\n",
              "    </tr>\n",
              "    <tr>\n",
              "      <th>747</th>\n",
              "      <td>987682</td>\n",
              "      <td>Stocks: Quick Method to get started Investing</td>\n",
              "      <td>False</td>\n",
              "      <td>0</td>\n",
              "      <td>718</td>\n",
              "      <td>13</td>\n",
              "      <td>7</td>\n",
              "      <td>Beginner Level</td>\n",
              "      <td>1.0</td>\n",
              "      <td>2017-05-18 17:37:33+00:00</td>\n",
              "      <td>Business Finance</td>\n",
              "    </tr>\n",
              "    <tr>\n",
              "      <th>2695</th>\n",
              "      <td>1199774</td>\n",
              "      <td>JavaScript 2017: Become Top Rated Web Developer</td>\n",
              "      <td>True</td>\n",
              "      <td>115</td>\n",
              "      <td>1346</td>\n",
              "      <td>330</td>\n",
              "      <td>32</td>\n",
              "      <td>All Levels</td>\n",
              "      <td>3.0</td>\n",
              "      <td>2017-05-03 14:15:06+00:00</td>\n",
              "      <td>Web Development</td>\n",
              "    </tr>\n",
              "    <tr>\n",
              "      <th>553</th>\n",
              "      <td>469526</td>\n",
              "      <td>Trading Biotech Stocks - Understanding the Hea...</td>\n",
              "      <td>True</td>\n",
              "      <td>55</td>\n",
              "      <td>166</td>\n",
              "      <td>17</td>\n",
              "      <td>16</td>\n",
              "      <td>All Levels</td>\n",
              "      <td>1.5</td>\n",
              "      <td>2015-04-24 21:22:27+00:00</td>\n",
              "      <td>Business Finance</td>\n",
              "    </tr>\n",
              "    <tr>\n",
              "      <th>2492</th>\n",
              "      <td>987064</td>\n",
              "      <td>Learn by Doing: Vue JS 2.0 the Right Way</td>\n",
              "      <td>True</td>\n",
              "      <td>95</td>\n",
              "      <td>1087</td>\n",
              "      <td>220</td>\n",
              "      <td>32</td>\n",
              "      <td>Intermediate Level</td>\n",
              "      <td>3.5</td>\n",
              "      <td>2016-11-07 17:53:40+00:00</td>\n",
              "      <td>Web Development</td>\n",
              "    </tr>\n",
              "    <tr>\n",
              "      <th>741</th>\n",
              "      <td>207166</td>\n",
              "      <td>How to Copy the Best Traders on Etoro</td>\n",
              "      <td>True</td>\n",
              "      <td>90</td>\n",
              "      <td>564</td>\n",
              "      <td>9</td>\n",
              "      <td>41</td>\n",
              "      <td>All Levels</td>\n",
              "      <td>3.5</td>\n",
              "      <td>2014-05-01 20:37:45+00:00</td>\n",
              "      <td>Business Finance</td>\n",
              "    </tr>\n",
              "    <tr>\n",
              "      <th>2447</th>\n",
              "      <td>411986</td>\n",
              "      <td>Rapidly Learn &amp; Master Acoustic Guitar, Classi...</td>\n",
              "      <td>True</td>\n",
              "      <td>30</td>\n",
              "      <td>478</td>\n",
              "      <td>3</td>\n",
              "      <td>31</td>\n",
              "      <td>Beginner Level</td>\n",
              "      <td>0.7</td>\n",
              "      <td>2015-02-06 10:46:51+00:00</td>\n",
              "      <td>Musical Instruments</td>\n",
              "    </tr>\n",
              "    <tr>\n",
              "      <th>3277</th>\n",
              "      <td>1179104</td>\n",
              "      <td>Learning Path: React: Make Stunning React Webs...</td>\n",
              "      <td>True</td>\n",
              "      <td>200</td>\n",
              "      <td>91</td>\n",
              "      <td>5</td>\n",
              "      <td>53</td>\n",
              "      <td>Expert Level</td>\n",
              "      <td>6.5</td>\n",
              "      <td>2017-04-18 16:49:41+00:00</td>\n",
              "      <td>Web Development</td>\n",
              "    </tr>\n",
              "  </tbody>\n",
              "</table>\n",
              "</div>"
            ],
            "text/plain": [
              "      course_id                                       course_title  is_paid  \\\n",
              "488      843536  Forex Trading Profit 183%p.a : Trend is Our Fr...     True   \n",
              "1497     938680  Logo Design Made Easy: Create your own logo in...     True   \n",
              "3141     548278  The Complete Web Development Course -  Build 1...     True   \n",
              "747      987682      Stocks: Quick Method to get started Investing    False   \n",
              "2695    1199774    JavaScript 2017: Become Top Rated Web Developer     True   \n",
              "553      469526  Trading Biotech Stocks - Understanding the Hea...     True   \n",
              "2492     987064           Learn by Doing: Vue JS 2.0 the Right Way     True   \n",
              "741      207166              How to Copy the Best Traders on Etoro     True   \n",
              "2447     411986  Rapidly Learn & Master Acoustic Guitar, Classi...     True   \n",
              "3277    1179104  Learning Path: React: Make Stunning React Webs...     True   \n",
              "\n",
              "      price  num_subscribers  num_reviews  num_lectures               level  \\\n",
              "488     120               54           11            12          All Levels   \n",
              "1497     20             1086           17             8      Beginner Level   \n",
              "3141    200             7501         1213           384          All Levels   \n",
              "747       0              718           13             7      Beginner Level   \n",
              "2695    115             1346          330            32          All Levels   \n",
              "553      55              166           17            16          All Levels   \n",
              "2492     95             1087          220            32  Intermediate Level   \n",
              "741      90              564            9            41          All Levels   \n",
              "2447     30              478            3            31      Beginner Level   \n",
              "3277    200               91            5            53        Expert Level   \n",
              "\n",
              "      content_duration       published_timestamp              subject  \n",
              "488                0.6 2016-12-05 17:01:51+00:00     Business Finance  \n",
              "1497               1.0 2016-11-22 16:30:46+00:00       Graphic Design  \n",
              "3141              76.5 2015-11-09 22:01:02+00:00      Web Development  \n",
              "747                1.0 2017-05-18 17:37:33+00:00     Business Finance  \n",
              "2695               3.0 2017-05-03 14:15:06+00:00      Web Development  \n",
              "553                1.5 2015-04-24 21:22:27+00:00     Business Finance  \n",
              "2492               3.5 2016-11-07 17:53:40+00:00      Web Development  \n",
              "741                3.5 2014-05-01 20:37:45+00:00     Business Finance  \n",
              "2447               0.7 2015-02-06 10:46:51+00:00  Musical Instruments  \n",
              "3277               6.5 2017-04-18 16:49:41+00:00      Web Development  "
            ]
          },
          "execution_count": 9,
          "metadata": {},
          "output_type": "execute_result"
        }
      ],
      "source": [
        "# see sample of data\n",
        "df.sample(10)"
      ]
    },
    {
      "cell_type": "markdown",
      "id": "dc336a58",
      "metadata": {
        "papermill": {
          "duration": 0.00788,
          "end_time": "2022-09-05T11:48:39.725195",
          "exception": false,
          "start_time": "2022-09-05T11:48:39.717315",
          "status": "completed"
        },
        "tags": [],
        "id": "dc336a58"
      },
      "source": [
        "# Visualize"
      ]
    },
    {
      "cell_type": "code",
      "execution_count": 5,
      "id": "5a7e61bf",
      "metadata": {
        "execution": {
          "iopub.execute_input": "2022-09-05T11:48:39.743683Z",
          "iopub.status.busy": "2022-09-05T11:48:39.742505Z",
          "iopub.status.idle": "2022-09-05T11:48:39.976765Z",
          "shell.execute_reply": "2022-09-05T11:48:39.975630Z"
        },
        "papermill": {
          "duration": 0.246189,
          "end_time": "2022-09-05T11:48:39.979400",
          "exception": false,
          "start_time": "2022-09-05T11:48:39.733211",
          "status": "completed"
        },
        "tags": [],
        "colab": {
          "base_uri": "https://localhost:8080/",
          "height": 368
        },
        "id": "5a7e61bf",
        "outputId": "631654c5-6438-499e-f28f-db545394e2a1"
      },
      "outputs": [
        {
          "output_type": "stream",
          "name": "stderr",
          "text": [
            "/usr/local/lib/python3.8/dist-packages/seaborn/_decorators.py:36: FutureWarning: Pass the following variable as a keyword arg: x. From version 0.12, the only valid positional argument will be `data`, and passing other arguments without an explicit keyword will result in an error or misinterpretation.\n",
            "  warnings.warn(\n"
          ]
        },
        {
          "output_type": "execute_result",
          "data": {
            "text/plain": [
              "Text(0.5, 1.0, 'Paid And Free Courses')"
            ]
          },
          "metadata": {},
          "execution_count": 5
        },
        {
          "output_type": "display_data",
          "data": {
            "text/plain": [
              "<Figure size 432x288 with 1 Axes>"
            ],
            "image/png": "[encoded data removed]"
          },
          "metadata": {
            "needs_background": "light"
          }
        }
      ],
      "source": [
        "# free Vs Paid Courses \n",
        "sns.countplot('is_paid',data=df)\n",
        "plt.title('Paid And Free Courses')"
      ]
    },
    {
      "cell_type": "markdown",
      "id": "2e6cf8f5",
      "metadata": {
        "papermill": {
          "duration": 0.00807,
          "end_time": "2022-09-05T11:48:39.996325",
          "exception": false,
          "start_time": "2022-09-05T11:48:39.988255",
          "status": "completed"
        },
        "tags": [],
        "id": "2e6cf8f5"
      },
      "source": [
        "Result : Most Of The Courses Is Paid¶\n"
      ]
    },
    {
      "cell_type": "code",
      "execution_count": 7,
      "id": "cecc71fc",
      "metadata": {
        "execution": {
          "iopub.execute_input": "2022-09-05T11:48:40.015462Z",
          "iopub.status.busy": "2022-09-05T11:48:40.014770Z",
          "iopub.status.idle": "2022-09-05T11:48:40.232707Z",
          "shell.execute_reply": "2022-09-05T11:48:40.231630Z"
        },
        "papermill": {
          "duration": 0.230664,
          "end_time": "2022-09-05T11:48:40.235305",
          "exception": false,
          "start_time": "2022-09-05T11:48:40.004641",
          "status": "completed"
        },
        "tags": [],
        "colab": {
          "base_uri": "https://localhost:8080/",
          "height": 353
        },
        "id": "cecc71fc",
        "outputId": "fe80e0b8-f989-4502-83c0-d94265f371f4"
      },
      "outputs": [
        {
          "output_type": "stream",
          "name": "stderr",
          "text": [
            "/usr/local/lib/python3.8/dist-packages/seaborn/_decorators.py:36: FutureWarning: Pass the following variable as a keyword arg: x. From version 0.12, the only valid positional argument will be `data`, and passing other arguments without an explicit keyword will result in an error or misinterpretation.\n",
            "  warnings.warn(\n"
          ]
        },
        {
          "output_type": "execute_result",
          "data": {
            "text/plain": [
              "<AxesSubplot:xlabel='level', ylabel='count'>"
            ]
          },
          "metadata": {},
          "execution_count": 7
        },
        {
          "output_type": "display_data",
          "data": {
            "text/plain": [
              "<Figure size 432x288 with 1 Axes>"
            ],
            "image/png": "[encoded data removed]"
          },
          "metadata": {
            "needs_background": "light"
          }
        }
      ],
      "source": [
        "sns.countplot(df['level'])"
      ]
    },
    {
      "cell_type": "markdown",
      "id": "21794904",
      "metadata": {
        "papermill": {
          "duration": 0.008568,
          "end_time": "2022-09-05T11:48:40.252665",
          "exception": false,
          "start_time": "2022-09-05T11:48:40.244097",
          "status": "completed"
        },
        "tags": [],
        "id": "21794904"
      },
      "source": [
        "Result ---> Most Of The Courses are All Levels , Need More From Expert Level¶"
      ]
    },
    {
      "cell_type": "code",
      "execution_count": null,
      "id": "b60685df",
      "metadata": {
        "execution": {
          "iopub.execute_input": "2022-09-05T11:48:40.272041Z",
          "iopub.status.busy": "2022-09-05T11:48:40.271679Z",
          "iopub.status.idle": "2022-09-05T11:48:40.499935Z",
          "shell.execute_reply": "2022-09-05T11:48:40.498955Z"
        },
        "papermill": {
          "duration": 0.242121,
          "end_time": "2022-09-05T11:48:40.503382",
          "exception": false,
          "start_time": "2022-09-05T11:48:40.261261",
          "status": "completed"
        },
        "tags": [],
        "id": "b60685df",
        "outputId": "1ac13dff-247c-4fec-bf7b-fcb238721ddd"
      },
      "outputs": [
        {
          "name": "stderr",
          "output_type": "stream",
          "text": [
            "/opt/conda/lib/python3.7/site-packages/seaborn/_decorators.py:43: FutureWarning: Pass the following variable as a keyword arg: x. From version 0.12, the only valid positional argument will be `data`, and passing other arguments without an explicit keyword will result in an error or misinterpretation.\n",
            "  FutureWarning\n"
          ]
        },
        {
          "data": {
            "text/plain": [
              "<AxesSubplot:xlabel='subject', ylabel='count'>"
            ]
          },
          "execution_count": 12,
          "metadata": {},
          "output_type": "execute_result"
        },
        {
          "data": {
            "image/png": "[encoded data removed]",
            "text/plain": [
              "<Figure size 864x576 with 1 Axes>"
            ]
          },
          "metadata": {
            "needs_background": "light"
          },
          "output_type": "display_data"
        }
      ],
      "source": [
        "plt.figure(figsize=(12,8))\n",
        "sns.countplot('subject',data=df)"
      ]
    },
    {
      "cell_type": "markdown",
      "id": "1bd31eee",
      "metadata": {
        "papermill": {
          "duration": 0.008993,
          "end_time": "2022-09-05T11:48:40.526071",
          "exception": false,
          "start_time": "2022-09-05T11:48:40.517078",
          "status": "completed"
        },
        "tags": [],
        "id": "1bd31eee"
      },
      "source": [
        "Result --> Most Of Students care about Buisiness Finance & Web Development"
      ]
    },
    {
      "cell_type": "markdown",
      "id": "215f2404",
      "metadata": {
        "papermill": {
          "duration": 0.008757,
          "end_time": "2022-09-05T11:48:40.543990",
          "exception": false,
          "start_time": "2022-09-05T11:48:40.535233",
          "status": "completed"
        },
        "tags": [],
        "id": "215f2404"
      },
      "source": [
        "# Find Relations Between Columns¶"
      ]
    },
    {
      "cell_type": "code",
      "execution_count": null,
      "id": "6e2a4dfd",
      "metadata": {
        "execution": {
          "iopub.execute_input": "2022-09-05T11:48:40.563885Z",
          "iopub.status.busy": "2022-09-05T11:48:40.563458Z",
          "iopub.status.idle": "2022-09-05T11:48:40.579974Z",
          "shell.execute_reply": "2022-09-05T11:48:40.578945Z"
        },
        "papermill": {
          "duration": 0.029147,
          "end_time": "2022-09-05T11:48:40.582245",
          "exception": false,
          "start_time": "2022-09-05T11:48:40.553098",
          "status": "completed"
        },
        "tags": [],
        "id": "6e2a4dfd",
        "outputId": "547ef36b-c3ed-47db-ca0d-6b3992fbd9d3"
      },
      "outputs": [
        {
          "data": {
            "text/html": [
              "<div>\n",
              "<style scoped>\n",
              "    .dataframe tbody tr th:only-of-type {\n",
              "        vertical-align: middle;\n",
              "    }\n",
              "\n",
              "    .dataframe tbody tr th {\n",
              "        vertical-align: top;\n",
              "    }\n",
              "\n",
              "    .dataframe thead th {\n",
              "        text-align: right;\n",
              "    }\n",
              "</style>\n",
              "<table border=\"1\" class=\"dataframe\">\n",
              "  <thead>\n",
              "    <tr style=\"text-align: right;\">\n",
              "      <th></th>\n",
              "      <th>course_id</th>\n",
              "      <th>is_paid</th>\n",
              "      <th>price</th>\n",
              "      <th>num_subscribers</th>\n",
              "      <th>num_reviews</th>\n",
              "      <th>num_lectures</th>\n",
              "      <th>content_duration</th>\n",
              "    </tr>\n",
              "  </thead>\n",
              "  <tbody>\n",
              "    <tr>\n",
              "      <th>course_id</th>\n",
              "      <td>1.000000</td>\n",
              "      <td>-0.013679</td>\n",
              "      <td>0.142319</td>\n",
              "      <td>-0.167856</td>\n",
              "      <td>-0.058550</td>\n",
              "      <td>-0.024646</td>\n",
              "      <td>-0.057223</td>\n",
              "    </tr>\n",
              "    <tr>\n",
              "      <th>is_paid</th>\n",
              "      <td>-0.013679</td>\n",
              "      <td>1.000000</td>\n",
              "      <td>0.328513</td>\n",
              "      <td>-0.266159</td>\n",
              "      <td>-0.087471</td>\n",
              "      <td>0.112574</td>\n",
              "      <td>0.094417</td>\n",
              "    </tr>\n",
              "    <tr>\n",
              "      <th>price</th>\n",
              "      <td>0.142319</td>\n",
              "      <td>0.328513</td>\n",
              "      <td>1.000000</td>\n",
              "      <td>0.050769</td>\n",
              "      <td>0.113696</td>\n",
              "      <td>0.330160</td>\n",
              "      <td>0.293450</td>\n",
              "    </tr>\n",
              "    <tr>\n",
              "      <th>num_subscribers</th>\n",
              "      <td>-0.167856</td>\n",
              "      <td>-0.266159</td>\n",
              "      <td>0.050769</td>\n",
              "      <td>1.000000</td>\n",
              "      <td>0.649946</td>\n",
              "      <td>0.157746</td>\n",
              "      <td>0.161839</td>\n",
              "    </tr>\n",
              "    <tr>\n",
              "      <th>num_reviews</th>\n",
              "      <td>-0.058550</td>\n",
              "      <td>-0.087471</td>\n",
              "      <td>0.113696</td>\n",
              "      <td>0.649946</td>\n",
              "      <td>1.000000</td>\n",
              "      <td>0.243029</td>\n",
              "      <td>0.228889</td>\n",
              "    </tr>\n",
              "    <tr>\n",
              "      <th>num_lectures</th>\n",
              "      <td>-0.024646</td>\n",
              "      <td>0.112574</td>\n",
              "      <td>0.330160</td>\n",
              "      <td>0.157746</td>\n",
              "      <td>0.243029</td>\n",
              "      <td>1.000000</td>\n",
              "      <td>0.801647</td>\n",
              "    </tr>\n",
              "    <tr>\n",
              "      <th>content_duration</th>\n",
              "      <td>-0.057223</td>\n",
              "      <td>0.094417</td>\n",
              "      <td>0.293450</td>\n",
              "      <td>0.161839</td>\n",
              "      <td>0.228889</td>\n",
              "      <td>0.801647</td>\n",
              "      <td>1.000000</td>\n",
              "    </tr>\n",
              "  </tbody>\n",
              "</table>\n",
              "</div>"
            ],
            "text/plain": [
              "                  course_id   is_paid     price  num_subscribers  num_reviews  \\\n",
              "course_id          1.000000 -0.013679  0.142319        -0.167856    -0.058550   \n",
              "is_paid           -0.013679  1.000000  0.328513        -0.266159    -0.087471   \n",
              "price              0.142319  0.328513  1.000000         0.050769     0.113696   \n",
              "num_subscribers   -0.167856 -0.266159  0.050769         1.000000     0.649946   \n",
              "num_reviews       -0.058550 -0.087471  0.113696         0.649946     1.000000   \n",
              "num_lectures      -0.024646  0.112574  0.330160         0.157746     0.243029   \n",
              "content_duration  -0.057223  0.094417  0.293450         0.161839     0.228889   \n",
              "\n",
              "                  num_lectures  content_duration  \n",
              "course_id            -0.024646         -0.057223  \n",
              "is_paid               0.112574          0.094417  \n",
              "price                 0.330160          0.293450  \n",
              "num_subscribers       0.157746          0.161839  \n",
              "num_reviews           0.243029          0.228889  \n",
              "num_lectures          1.000000          0.801647  \n",
              "content_duration      0.801647          1.000000  "
            ]
          },
          "execution_count": 13,
          "metadata": {},
          "output_type": "execute_result"
        }
      ],
      "source": [
        "df.corr()"
      ]
    },
    {
      "cell_type": "code",
      "execution_count": null,
      "id": "119cfce1",
      "metadata": {
        "execution": {
          "iopub.execute_input": "2022-09-05T11:48:40.603471Z",
          "iopub.status.busy": "2022-09-05T11:48:40.602714Z",
          "iopub.status.idle": "2022-09-05T11:48:41.177721Z",
          "shell.execute_reply": "2022-09-05T11:48:41.176515Z"
        },
        "papermill": {
          "duration": 0.588695,
          "end_time": "2022-09-05T11:48:41.180412",
          "exception": false,
          "start_time": "2022-09-05T11:48:40.591717",
          "status": "completed"
        },
        "tags": [],
        "id": "119cfce1",
        "outputId": "f79d3052-5a9e-4425-9cec-4678216224ef"
      },
      "outputs": [
        {
          "data": {
            "text/plain": [
              "<AxesSubplot:>"
            ]
          },
          "execution_count": 14,
          "metadata": {},
          "output_type": "execute_result"
        },
        {
          "data": {
            "image/png": "[encoded data removed]",
            "text/plain": [
              "<Figure size 864x576 with 2 Axes>"
            ]
          },
          "metadata": {
            "needs_background": "light"
          },
          "output_type": "display_data"
        }
      ],
      "source": [
        "## See Correlation In Seaborn ColorMap\n",
        "plt.figure(figsize=(12,8))\n",
        "sns.heatmap(df.corr(),annot=True)"
      ]
    },
    {
      "cell_type": "code",
      "execution_count": null,
      "id": "a9c66297",
      "metadata": {
        "execution": {
          "iopub.execute_input": "2022-09-05T11:48:41.204209Z",
          "iopub.status.busy": "2022-09-05T11:48:41.203471Z",
          "iopub.status.idle": "2022-09-05T11:48:41.817381Z",
          "shell.execute_reply": "2022-09-05T11:48:41.816279Z"
        },
        "papermill": {
          "duration": 0.628619,
          "end_time": "2022-09-05T11:48:41.819858",
          "exception": false,
          "start_time": "2022-09-05T11:48:41.191239",
          "status": "completed"
        },
        "tags": [],
        "id": "a9c66297",
        "outputId": "d9bb14bf-bfea-479e-c252-92f2dedfdf3c"
      },
      "outputs": [
        {
          "data": {
            "text/plain": [
              "<AxesSubplot:xlabel='price', ylabel='num_subscribers'>"
            ]
          },
          "execution_count": 15,
          "metadata": {},
          "output_type": "execute_result"
        },
        {
          "data": {
            "image/png": "[encoded data removed]",
            "text/plain": [
              "<Figure size 864x576 with 1 Axes>"
            ]
          },
          "metadata": {
            "needs_background": "light"
          },
          "output_type": "display_data"
        }
      ],
      "source": [
        "# visualize subscribers with price \n",
        "plt.figure(figsize=(12,8))\n",
        "sns.regplot(x=\"price\" , y=\"num_subscribers\" , data=df)"
      ]
    },
    {
      "cell_type": "markdown",
      "id": "4bdee0f7",
      "metadata": {
        "papermill": {
          "duration": 0.012444,
          "end_time": "2022-09-05T11:48:41.843789",
          "exception": false,
          "start_time": "2022-09-05T11:48:41.831345",
          "status": "completed"
        },
        "tags": [],
        "id": "4bdee0f7"
      },
      "source": [
        "Result ---> Course Price Does Not Affect Subscripers¶\n"
      ]
    },
    {
      "cell_type": "code",
      "execution_count": null,
      "id": "e27a8895",
      "metadata": {
        "execution": {
          "iopub.execute_input": "2022-09-05T11:48:41.868228Z",
          "iopub.status.busy": "2022-09-05T11:48:41.867271Z",
          "iopub.status.idle": "2022-09-05T11:48:42.126986Z",
          "shell.execute_reply": "2022-09-05T11:48:42.125814Z"
        },
        "papermill": {
          "duration": 0.274537,
          "end_time": "2022-09-05T11:48:42.129429",
          "exception": false,
          "start_time": "2022-09-05T11:48:41.854892",
          "status": "completed"
        },
        "tags": [],
        "id": "e27a8895",
        "outputId": "97b0315f-f275-4209-e376-20b3b6cb5002"
      },
      "outputs": [
        {
          "data": {
            "text/plain": [
              "<matplotlib.collections.PathCollection at 0x7fd733a856d0>"
            ]
          },
          "execution_count": 16,
          "metadata": {},
          "output_type": "execute_result"
        },
        {
          "data": {
            "image/png": "[encoded data removed]",
            "text/plain": [
              "<Figure size 864x576 with 1 Axes>"
            ]
          },
          "metadata": {
            "needs_background": "light"
          },
          "output_type": "display_data"
        }
      ],
      "source": [
        "plt.figure(figsize=(12,8))\n",
        "plt.scatter(df['price'],df['num_subscribers'])"
      ]
    },
    {
      "cell_type": "code",
      "execution_count": null,
      "id": "4abb9a1c",
      "metadata": {
        "execution": {
          "iopub.execute_input": "2022-09-05T11:48:42.154591Z",
          "iopub.status.busy": "2022-09-05T11:48:42.154153Z",
          "iopub.status.idle": "2022-09-05T11:48:42.744348Z",
          "shell.execute_reply": "2022-09-05T11:48:42.743502Z"
        },
        "papermill": {
          "duration": 0.605331,
          "end_time": "2022-09-05T11:48:42.746463",
          "exception": false,
          "start_time": "2022-09-05T11:48:42.141132",
          "status": "completed"
        },
        "tags": [],
        "id": "4abb9a1c",
        "outputId": "27d821a1-4746-452a-d62e-e22c511458a1"
      },
      "outputs": [
        {
          "data": {
            "text/plain": [
              "<AxesSubplot:xlabel='price', ylabel='num_reviews'>"
            ]
          },
          "execution_count": 17,
          "metadata": {},
          "output_type": "execute_result"
        },
        {
          "data": {
            "image/png": "[encoded data removed]",
            "text/plain": [
              "<Figure size 864x576 with 1 Axes>"
            ]
          },
          "metadata": {
            "needs_background": "light"
          },
          "output_type": "display_data"
        }
      ],
      "source": [
        "plt.figure(figsize=(12,8))\n",
        "sns.regplot(x=\"price\" , y=\"num_reviews\" , data=df)"
      ]
    },
    {
      "cell_type": "markdown",
      "id": "18a2bb39",
      "metadata": {
        "papermill": {
          "duration": 0.011577,
          "end_time": "2022-09-05T11:48:42.770079",
          "exception": false,
          "start_time": "2022-09-05T11:48:42.758502",
          "status": "completed"
        },
        "tags": [],
        "id": "18a2bb39"
      },
      "source": [
        "Result --> Price Does Not Affect Reviews¶\n"
      ]
    },
    {
      "cell_type": "code",
      "execution_count": null,
      "id": "e7fb4545",
      "metadata": {
        "execution": {
          "iopub.execute_input": "2022-09-05T11:48:42.796353Z",
          "iopub.status.busy": "2022-09-05T11:48:42.795914Z",
          "iopub.status.idle": "2022-09-05T11:48:43.404884Z",
          "shell.execute_reply": "2022-09-05T11:48:43.403680Z"
        },
        "papermill": {
          "duration": 0.625766,
          "end_time": "2022-09-05T11:48:43.407792",
          "exception": false,
          "start_time": "2022-09-05T11:48:42.782026",
          "status": "completed"
        },
        "tags": [],
        "id": "e7fb4545",
        "outputId": "05a45d3c-aeea-43f6-a504-451b83535589"
      },
      "outputs": [
        {
          "data": {
            "text/plain": [
              "<AxesSubplot:xlabel='price', ylabel='content_duration'>"
            ]
          },
          "execution_count": 18,
          "metadata": {},
          "output_type": "execute_result"
        },
        {
          "data": {
            "image/png": "[encoded data removed]",
            "text/plain": [
              "<Figure size 864x576 with 1 Axes>"
            ]
          },
          "metadata": {
            "needs_background": "light"
          },
          "output_type": "display_data"
        }
      ],
      "source": [
        "# price vs course duration\n",
        "plt.figure(figsize=(12,8))\n",
        "sns.regplot(x=\"price\" , y=\"content_duration\" , data=df)"
      ]
    },
    {
      "cell_type": "markdown",
      "id": "8da762e1",
      "metadata": {
        "papermill": {
          "duration": 0.012818,
          "end_time": "2022-09-05T11:48:43.434295",
          "exception": false,
          "start_time": "2022-09-05T11:48:43.421477",
          "status": "completed"
        },
        "tags": [],
        "id": "8da762e1"
      },
      "source": [
        "Result --> Price Does Not Affect Course Duration¶\n"
      ]
    },
    {
      "cell_type": "code",
      "execution_count": null,
      "id": "fab147a2",
      "metadata": {
        "execution": {
          "iopub.execute_input": "2022-09-05T11:48:43.462436Z",
          "iopub.status.busy": "2022-09-05T11:48:43.462010Z",
          "iopub.status.idle": "2022-09-05T11:48:44.061611Z",
          "shell.execute_reply": "2022-09-05T11:48:44.060702Z"
        },
        "papermill": {
          "duration": 0.616378,
          "end_time": "2022-09-05T11:48:44.064074",
          "exception": false,
          "start_time": "2022-09-05T11:48:43.447696",
          "status": "completed"
        },
        "tags": [],
        "id": "fab147a2",
        "outputId": "35fba2e4-4da2-4eb8-aec6-57a8febcfcae"
      },
      "outputs": [
        {
          "data": {
            "text/plain": [
              "<AxesSubplot:xlabel='num_subscribers', ylabel='content_duration'>"
            ]
          },
          "execution_count": 19,
          "metadata": {},
          "output_type": "execute_result"
        },
        {
          "data": {
            "image/png": "[encoded data removed]",
            "text/plain": [
              "<Figure size 864x576 with 1 Axes>"
            ]
          },
          "metadata": {
            "needs_background": "light"
          },
          "output_type": "display_data"
        }
      ],
      "source": [
        "# course duration vs num of subscribers \n",
        "plt.figure(figsize=(12,8))\n",
        "sns.regplot(x=\"num_subscribers\" , y=\"content_duration\" , data=df)"
      ]
    },
    {
      "cell_type": "markdown",
      "id": "0830e8ae",
      "metadata": {
        "papermill": {
          "duration": 0.013886,
          "end_time": "2022-09-05T11:48:44.092121",
          "exception": false,
          "start_time": "2022-09-05T11:48:44.078235",
          "status": "completed"
        },
        "tags": [],
        "id": "0830e8ae"
      },
      "source": [
        "Result ---> More Subscribers leads to more reviews¶\n"
      ]
    },
    {
      "cell_type": "markdown",
      "id": "2f669772",
      "metadata": {
        "papermill": {
          "duration": 0.013509,
          "end_time": "2022-09-05T11:48:44.119456",
          "exception": false,
          "start_time": "2022-09-05T11:48:44.105947",
          "status": "completed"
        },
        "tags": [],
        "id": "2f669772"
      },
      "source": [
        "# Insights\n",
        "- Most Of The Courses Is Paid\n",
        "- Most Of The Courses are All Levels , Need More From Expert Level\n",
        "- Most Of Students care about Buisiness Finance & Web Development\n",
        "- Course Price Does Not Affect Subscripers\n",
        "- Price Does Not Affect Reviews\n",
        "- Price Does Not Affect Course Duration\n",
        "- probaly course time affect course subscribers\n",
        "- More Subscribers leads to more reviews"
      ]
    },
    {
      "cell_type": "markdown",
      "source": [
        "Find Out Number of Courses Per Subjects?"
      ],
      "metadata": {
        "id": "_Z9AJVWKcYrm"
      },
      "id": "_Z9AJVWKcYrm"
    },
    {
      "cell_type": "code",
      "execution_count": 8,
      "id": "38636e25",
      "metadata": {
        "papermill": {
          "duration": 0.013493,
          "end_time": "2022-09-05T11:48:44.146810",
          "exception": false,
          "start_time": "2022-09-05T11:48:44.133317",
          "status": "completed"
        },
        "tags": [],
        "colab": {
          "base_uri": "https://localhost:8080/"
        },
        "id": "38636e25",
        "outputId": "0a859bc3-922a-4475-98e8-f2077613b7e6"
      },
      "outputs": [
        {
          "output_type": "execute_result",
          "data": {
            "text/plain": [
              "Web Development        1200\n",
              "Business Finance       1195\n",
              "Musical Instruments     680\n",
              "Graphic Design          603\n",
              "Name: subject, dtype: int64"
            ]
          },
          "metadata": {},
          "execution_count": 8
        }
      ],
      "source": [
        "df['subject'].value_counts()"
      ]
    },
    {
      "cell_type": "code",
      "source": [
        "sns.countplot(df['subject'])"
      ],
      "metadata": {
        "colab": {
          "base_uri": "https://localhost:8080/",
          "height": 351
        },
        "id": "alZpQOSCckLd",
        "outputId": "1484f30e-f373-43e9-b431-58c3a33e0b94"
      },
      "id": "alZpQOSCckLd",
      "execution_count": 9,
      "outputs": [
        {
          "output_type": "stream",
          "name": "stderr",
          "text": [
            "/usr/local/lib/python3.8/dist-packages/seaborn/_decorators.py:36: FutureWarning: Pass the following variable as a keyword arg: x. From version 0.12, the only valid positional argument will be `data`, and passing other arguments without an explicit keyword will result in an error or misinterpretation.\n",
            "  warnings.warn(\n"
          ]
        },
        {
          "output_type": "execute_result",
          "data": {
            "text/plain": [
              "<AxesSubplot:xlabel='subject', ylabel='count'>"
            ]
          },
          "metadata": {},
          "execution_count": 9
        },
        {
          "output_type": "display_data",
          "data": {
            "text/plain": [
              "<Figure size 432x288 with 1 Axes>"
            ],
            "image/png": "[encoded data removed]"
          },
          "metadata": {
            "needs_background": "light"
          }
        }
      ]
    },
    {
      "cell_type": "markdown",
      "source": [
        " Which Level Has The Highest Number of Subscribers?"
      ],
      "metadata": {
        "id": "m3P4hitVeWu-"
      },
      "id": "m3P4hitVeWu-"
    },
    {
      "cell_type": "code",
      "source": [
        "sns.barplot(x='level', y='num_subscribers' , data=df)\n",
        "plt.xticks(rotation=60)\n",
        "plt.show()"
      ],
      "metadata": {
        "colab": {
          "base_uri": "https://localhost:8080/",
          "height": 356
        },
        "id": "zMdxCYVjcugT",
        "outputId": "fa1a1fc2-5724-47c5-aa19-b39c74af15ea"
      },
      "id": "zMdxCYVjcugT",
      "execution_count": 11,
      "outputs": [
        {
          "output_type": "display_data",
          "data": {
            "text/plain": [
              "<Figure size 432x288 with 1 Axes>"
            ],
            "image/png": "[encoded data removed]"
          },
          "metadata": {
            "needs_background": "light"
          }
        }
      ]
    },
    {
      "cell_type": "code",
      "source": [],
      "metadata": {
        "id": "J1Z2gcDbe3tR"
      },
      "id": "J1Z2gcDbe3tR",
      "execution_count": null,
      "outputs": []
    },
    {
      "cell_type": "markdown",
      "source": [
        "Find Most Popular Course Title?\n"
      ],
      "metadata": {
        "id": "EoqYuHA5fZ3L"
      },
      "id": "EoqYuHA5fZ3L"
    },
    {
      "cell_type": "code",
      "source": [
        "df.columns"
      ],
      "metadata": {
        "colab": {
          "base_uri": "https://localhost:8080/"
        },
        "id": "YCarKUPffc5g",
        "outputId": "22edef48-bb13-43a6-824c-8c632ef3c9a0"
      },
      "id": "YCarKUPffc5g",
      "execution_count": 12,
      "outputs": [
        {
          "output_type": "execute_result",
          "data": {
            "text/plain": [
              "Index(['course_id', 'course_title', 'url', 'is_paid', 'price',\n",
              "       'num_subscribers', 'num_reviews', 'num_lectures', 'level',\n",
              "       'content_duration', 'published_timestamp', 'subject'],\n",
              "      dtype='object')"
            ]
          },
          "metadata": {},
          "execution_count": 12
        }
      ]
    },
    {
      "cell_type": "code",
      "source": [
        "df[df['num_subscribers']==df['num_subscribers'].max()]['course_title']"
      ],
      "metadata": {
        "colab": {
          "base_uri": "https://localhost:8080/"
        },
        "id": "W48C6qx_feg8",
        "outputId": "4d15827f-58c4-495a-ad44-f6215488ce23"
      },
      "id": "W48C6qx_feg8",
      "execution_count": 15,
      "outputs": [
        {
          "output_type": "execute_result",
          "data": {
            "text/plain": [
              "2827    Learn HTML5 Programming From Scratch\n",
              "Name: course_title, dtype: object"
            ]
          },
          "metadata": {},
          "execution_count": 15
        }
      ]
    },
    {
      "cell_type": "markdown",
      "source": [
        "Display 10 Most Popular Courses As Per Number of Subscribers?"
      ],
      "metadata": {
        "id": "hhQJ4FY7gIHH"
      },
      "id": "hhQJ4FY7gIHH"
    },
    {
      "cell_type": "code",
      "source": [
        "index_val = df['num_subscribers'].sort_values(ascending = True).head(10).index"
      ],
      "metadata": {
        "id": "AeuJ9Ib5f61k"
      },
      "id": "AeuJ9Ib5f61k",
      "execution_count": 24,
      "outputs": []
    },
    {
      "cell_type": "code",
      "source": [
        "df.iloc[index_val]"
      ],
      "metadata": {
        "colab": {
          "base_uri": "https://localhost:8080/",
          "height": 843
        },
        "id": "E0XiYUy5gS9T",
        "outputId": "922c5444-2874-481d-921d-9f4be5252a16"
      },
      "id": "E0XiYUy5gS9T",
      "execution_count": 25,
      "outputs": [
        {
          "output_type": "execute_result",
          "data": {
            "text/plain": [
              "     course_id                                       course_title  \\\n",
              "885    1032648                               beginning accounting   \n",
              "456    1247992  Introduction to Project Management for Finance...   \n",
              "457    1251582              Best Practices in Corporate Budgeting   \n",
              "458    1258666                Financial Statement Auditing Cycles   \n",
              "459    1168172       Case studies on credit appraisal for bankers   \n",
              "460    1233314                      Building a Balanced Scorecard   \n",
              "461    1276182  Options Trading Foundation: Your journey to co...   \n",
              "462    1187084  Forex how traders beat the markest with little...   \n",
              "463    1084454                  CFA Level 2- Quantitative Methods   \n",
              "464     885413                           Foundations of Investing   \n",
              "\n",
              "                                                   url  is_paid  price  \\\n",
              "885        https://www.udemy.com/beginning_accounting/     True     20   \n",
              "456  https://www.udemy.com/introduction-to-project-...     True     50   \n",
              "457  https://www.udemy.com/best-practices-corporate...     True     50   \n",
              "458  https://www.udemy.com/financial-statement-audi...     True     50   \n",
              "459  https://www.udemy.com/case-studies-on-credit-a...     True     20   \n",
              "460  https://www.udemy.com/building-balanced-scorec...     True     50   \n",
              "461  https://www.udemy.com/option-trading-foundatio...     True     95   \n",
              "462  https://www.udemy.com/forex-how-traders-beat-t...     True    100   \n",
              "463  https://www.udemy.com/cfa-level-2-quantitative...     True     40   \n",
              "464    https://www.udemy.com/foundations-of-investing/     True     40   \n",
              "\n",
              "     num_subscribers  num_reviews  num_lectures               level  \\\n",
              "885                0            0            12  Intermediate Level   \n",
              "456                0            0             9      Beginner Level   \n",
              "457                0            0             9  Intermediate Level   \n",
              "458                0            0             9  Intermediate Level   \n",
              "459                0            0            15      Beginner Level   \n",
              "460                0            0            11  Intermediate Level   \n",
              "461                0            0             5  Intermediate Level   \n",
              "462                0            0            16          All Levels   \n",
              "463                0            0            35          All Levels   \n",
              "464                0            0            18      Beginner Level   \n",
              "\n",
              "     content_duration   published_timestamp           subject  \n",
              "885          0.633333  2016-12-26T16:52:47Z  Business Finance  \n",
              "456          2.000000  2017-07-03T21:40:32Z  Business Finance  \n",
              "457          2.000000  2017-06-29T22:01:56Z  Business Finance  \n",
              "458          2.000000  2017-06-29T23:20:10Z  Business Finance  \n",
              "459          3.500000  2017-05-01T20:16:26Z  Business Finance  \n",
              "460          2.000000  2017-07-03T21:38:22Z  Business Finance  \n",
              "461          1.000000  2017-07-05T04:41:54Z  Business Finance  \n",
              "462          1.000000  2017-07-06T21:16:13Z  Business Finance  \n",
              "463          5.500000  2017-07-02T14:29:35Z  Business Finance  \n",
              "464          2.000000  2016-07-27T21:07:46Z  Business Finance  "
            ],
            "text/html": [
              "\n",
              "  <div id=\"df-030430da-57a7-402b-826d-ce000241de86\">\n",
              "    <div class=\"colab-df-container\">\n",
              "      <div>\n",
              "<style scoped>\n",
              "    .dataframe tbody tr th:only-of-type {\n",
              "        vertical-align: middle;\n",
              "    }\n",
              "\n",
              "    .dataframe tbody tr th {\n",
              "        vertical-align: top;\n",
              "    }\n",
              "\n",
              "    .dataframe thead th {\n",
              "        text-align: right;\n",
              "    }\n",
              "</style>\n",
              "<table border=\"1\" class=\"dataframe\">\n",
              "  <thead>\n",
              "    <tr style=\"text-align: right;\">\n",
              "      <th></th>\n",
              "      <th>course_id</th>\n",
              "      <th>course_title</th>\n",
              "      <th>url</th>\n",
              "      <th>is_paid</th>\n",
              "      <th>price</th>\n",
              "      <th>num_subscribers</th>\n",
              "      <th>num_reviews</th>\n",
              "      <th>num_lectures</th>\n",
              "      <th>level</th>\n",
              "      <th>content_duration</th>\n",
              "      <th>published_timestamp</th>\n",
              "      <th>subject</th>\n",
              "    </tr>\n",
              "  </thead>\n",
              "  <tbody>\n",
              "    <tr>\n",
              "      <th>885</th>\n",
              "      <td>1032648</td>\n",
              "      <td>beginning accounting</td>\n",
              "      <td>https://www.udemy.com/beginning_accounting/</td>\n",
              "      <td>True</td>\n",
              "      <td>20</td>\n",
              "      <td>0</td>\n",
              "      <td>0</td>\n",
              "      <td>12</td>\n",
              "      <td>Intermediate Level</td>\n",
              "      <td>0.633333</td>\n",
              "      <td>2016-12-26T16:52:47Z</td>\n",
              "      <td>Business Finance</td>\n",
              "    </tr>\n",
              "    <tr>\n",
              "      <th>456</th>\n",
              "      <td>1247992</td>\n",
              "      <td>Introduction to Project Management for Finance...</td>\n",
              "      <td>https://www.udemy.com/introduction-to-project-...</td>\n",
              "      <td>True</td>\n",
              "      <td>50</td>\n",
              "      <td>0</td>\n",
              "      <td>0</td>\n",
              "      <td>9</td>\n",
              "      <td>Beginner Level</td>\n",
              "      <td>2.000000</td>\n",
              "      <td>2017-07-03T21:40:32Z</td>\n",
              "      <td>Business Finance</td>\n",
              "    </tr>\n",
              "    <tr>\n",
              "      <th>457</th>\n",
              "      <td>1251582</td>\n",
              "      <td>Best Practices in Corporate Budgeting</td>\n",
              "      <td>https://www.udemy.com/best-practices-corporate...</td>\n",
              "      <td>True</td>\n",
              "      <td>50</td>\n",
              "      <td>0</td>\n",
              "      <td>0</td>\n",
              "      <td>9</td>\n",
              "      <td>Intermediate Level</td>\n",
              "      <td>2.000000</td>\n",
              "      <td>2017-06-29T22:01:56Z</td>\n",
              "      <td>Business Finance</td>\n",
              "    </tr>\n",
              "    <tr>\n",
              "      <th>458</th>\n",
              "      <td>1258666</td>\n",
              "      <td>Financial Statement Auditing Cycles</td>\n",
              "      <td>https://www.udemy.com/financial-statement-audi...</td>\n",
              "      <td>True</td>\n",
              "      <td>50</td>\n",
              "      <td>0</td>\n",
              "      <td>0</td>\n",
              "      <td>9</td>\n",
              "      <td>Intermediate Level</td>\n",
              "      <td>2.000000</td>\n",
              "      <td>2017-06-29T23:20:10Z</td>\n",
              "      <td>Business Finance</td>\n",
              "    </tr>\n",
              "    <tr>\n",
              "      <th>459</th>\n",
              "      <td>1168172</td>\n",
              "      <td>Case studies on credit appraisal for bankers</td>\n",
              "      <td>https://www.udemy.com/case-studies-on-credit-a...</td>\n",
              "      <td>True</td>\n",
              "      <td>20</td>\n",
              "      <td>0</td>\n",
              "      <td>0</td>\n",
              "      <td>15</td>\n",
              "      <td>Beginner Level</td>\n",
              "      <td>3.500000</td>\n",
              "      <td>2017-05-01T20:16:26Z</td>\n",
              "      <td>Business Finance</td>\n",
              "    </tr>\n",
              "    <tr>\n",
              "      <th>460</th>\n",
              "      <td>1233314</td>\n",
              "      <td>Building a Balanced Scorecard</td>\n",
              "      <td>https://www.udemy.com/building-balanced-scorec...</td>\n",
              "      <td>True</td>\n",
              "      <td>50</td>\n",
              "      <td>0</td>\n",
              "      <td>0</td>\n",
              "      <td>11</td>\n",
              "      <td>Intermediate Level</td>\n",
              "      <td>2.000000</td>\n",
              "      <td>2017-07-03T21:38:22Z</td>\n",
              "      <td>Business Finance</td>\n",
              "    </tr>\n",
              "    <tr>\n",
              "      <th>461</th>\n",
              "      <td>1276182</td>\n",
              "      <td>Options Trading Foundation: Your journey to co...</td>\n",
              "      <td>https://www.udemy.com/option-trading-foundatio...</td>\n",
              "      <td>True</td>\n",
              "      <td>95</td>\n",
              "      <td>0</td>\n",
              "      <td>0</td>\n",
              "      <td>5</td>\n",
              "      <td>Intermediate Level</td>\n",
              "      <td>1.000000</td>\n",
              "      <td>2017-07-05T04:41:54Z</td>\n",
              "      <td>Business Finance</td>\n",
              "    </tr>\n",
              "    <tr>\n",
              "      <th>462</th>\n",
              "      <td>1187084</td>\n",
              "      <td>Forex how traders beat the markest with little...</td>\n",
              "      <td>https://www.udemy.com/forex-how-traders-beat-t...</td>\n",
              "      <td>True</td>\n",
              "      <td>100</td>\n",
              "      <td>0</td>\n",
              "      <td>0</td>\n",
              "      <td>16</td>\n",
              "      <td>All Levels</td>\n",
              "      <td>1.000000</td>\n",
              "      <td>2017-07-06T21:16:13Z</td>\n",
              "      <td>Business Finance</td>\n",
              "    </tr>\n",
              "    <tr>\n",
              "      <th>463</th>\n",
              "      <td>1084454</td>\n",
              "      <td>CFA Level 2- Quantitative Methods</td>\n",
              "      <td>https://www.udemy.com/cfa-level-2-quantitative...</td>\n",
              "      <td>True</td>\n",
              "      <td>40</td>\n",
              "      <td>0</td>\n",
              "      <td>0</td>\n",
              "      <td>35</td>\n",
              "      <td>All Levels</td>\n",
              "      <td>5.500000</td>\n",
              "      <td>2017-07-02T14:29:35Z</td>\n",
              "      <td>Business Finance</td>\n",
              "    </tr>\n",
              "    <tr>\n",
              "      <th>464</th>\n",
              "      <td>885413</td>\n",
              "      <td>Foundations of Investing</td>\n",
              "      <td>https://www.udemy.com/foundations-of-investing/</td>\n",
              "      <td>True</td>\n",
              "      <td>40</td>\n",
              "      <td>0</td>\n",
              "      <td>0</td>\n",
              "      <td>18</td>\n",
              "      <td>Beginner Level</td>\n",
              "      <td>2.000000</td>\n",
              "      <td>2016-07-27T21:07:46Z</td>\n",
              "      <td>Business Finance</td>\n",
              "    </tr>\n",
              "  </tbody>\n",
              "</table>\n",
              "</div>\n",
              "      <button class=\"colab-df-convert\" onclick=\"convertToInteractive('df-030430da-57a7-402b-826d-ce000241de86')\"\n",
              "              title=\"Convert this dataframe to an interactive table.\"\n",
              "              style=\"display:none;\">\n",
              "        \n",
              "  <svg xmlns=\"http://www.w3.org/2000/svg\" height=\"24px\"viewBox=\"0 0 24 24\"\n",
              "       width=\"24px\">\n",
              "    <path d=\"M0 0h24v24H0V0z\" fill=\"none\"/>\n",
              "    <path d=\"M18.56 5.44l.94 2.06.94-2.06 2.06-.94-2.06-.94-.94-2.06-.94 2.06-2.06.94zm-11 1L8.5 8.5l.94-2.06 2.06-.94-2.06-.94L8.5 2.5l-.94 2.06-2.06.94zm10 10l.94 2.06.94-2.06 2.06-.94-2.06-.94-.94-2.06-.94 2.06-2.06.94z\"/><path d=\"M17.41 7.96l-1.37-1.37c-.4-.4-.92-.59-1.43-.59-.52 0-1.04.2-1.43.59L10.3 9.45l-7.72 7.72c-.78.78-.78 2.05 0 2.83L4 21.41c.39.39.9.59 1.41.59.51 0 1.02-.2 1.41-.59l7.78-7.78 2.81-2.81c.8-.78.8-2.07 0-2.86zM5.41 20L4 18.59l7.72-7.72 1.47 1.35L5.41 20z\"/>\n",
              "  </svg>\n",
              "      </button>\n",
              "      \n",
              "  <style>\n",
              "    .colab-df-container {\n",
              "      display:flex;\n",
              "      flex-wrap:wrap;\n",
              "      gap: 12px;\n",
              "    }\n",
              "\n",
              "    .colab-df-convert {\n",
              "      background-color: #E8F0FE;\n",
              "      border: none;\n",
              "      border-radius: 50%;\n",
              "      cursor: pointer;\n",
              "      display: none;\n",
              "      fill: #1967D2;\n",
              "      height: 32px;\n",
              "      padding: 0 0 0 0;\n",
              "      width: 32px;\n",
              "    }\n",
              "\n",
              "    .colab-df-convert:hover {\n",
              "      background-color: #E2EBFA;\n",
              "      box-shadow: 0px 1px 2px rgba(60, 64, 67, 0.3), 0px 1px 3px 1px rgba(60, 64, 67, 0.15);\n",
              "      fill: #174EA6;\n",
              "    }\n",
              "\n",
              "    [theme=dark] .colab-df-convert {\n",
              "      background-color: #3B4455;\n",
              "      fill: #D2E3FC;\n",
              "    }\n",
              "\n",
              "    [theme=dark] .colab-df-convert:hover {\n",
              "      background-color: #434B5C;\n",
              "      box-shadow: 0px 1px 3px 1px rgba(0, 0, 0, 0.15);\n",
              "      filter: drop-shadow(0px 1px 2px rgba(0, 0, 0, 0.3));\n",
              "      fill: #FFFFFF;\n",
              "    }\n",
              "  </style>\n",
              "\n",
              "      <script>\n",
              "        const buttonEl =\n",
              "          document.querySelector('#df-030430da-57a7-402b-826d-ce000241de86 button.colab-df-convert');\n",
              "        buttonEl.style.display =\n",
              "          google.colab.kernel.accessAllowed ? 'block' : 'none';\n",
              "\n",
              "        async function convertToInteractive(key) {\n",
              "          const element = document.querySelector('#df-030430da-57a7-402b-826d-ce000241de86');\n",
              "          const dataTable =\n",
              "            await google.colab.kernel.invokeFunction('convertToInteractive',\n",
              "                                                     [key], {});\n",
              "          if (!dataTable) return;\n",
              "\n",
              "          const docLinkHtml = 'Like what you see? Visit the ' +\n",
              "            '<a target=\"_blank\" href=https://colab.research.google.com/notebooks/data_table.ipynb>data table notebook</a>'\n",
              "            + ' to learn more about interactive tables.';\n",
              "          element.innerHTML = '';\n",
              "          dataTable['output_type'] = 'display_data';\n",
              "          await google.colab.output.renderOutput(dataTable, element);\n",
              "          const docLink = document.createElement('div');\n",
              "          docLink.innerHTML = docLinkHtml;\n",
              "          element.appendChild(docLink);\n",
              "        }\n",
              "      </script>\n",
              "    </div>\n",
              "  </div>\n",
              "  "
            ]
          },
          "metadata": {},
          "execution_count": 25
        }
      ]
    },
    {
      "cell_type": "code",
      "source": [
        "top_10 = df['num_subscribers'].sort_values(ascending = False).head(10)\n",
        "print(top_10)\n",
        "\n"
      ],
      "metadata": {
        "colab": {
          "base_uri": "https://localhost:8080/"
        },
        "id": "j_FZeUuOgtaa",
        "outputId": "60aadec0-078c-4af1-86a8-505bc1518245"
      },
      "id": "j_FZeUuOgtaa",
      "execution_count": 33,
      "outputs": [
        {
          "output_type": "stream",
          "name": "stdout",
          "text": [
            "2827    268923\n",
            "3032    161029\n",
            "3230    121584\n",
            "2783    120291\n",
            "3232    114512\n",
            "1896    101154\n",
            "2589     98867\n",
            "2619     84897\n",
            "3289     83737\n",
            "3247     79612\n",
            "Name: num_subscribers, dtype: int64\n"
          ]
        }
      ]
    },
    {
      "cell_type": "code",
      "source": [],
      "metadata": {
        "id": "xLMbkDC4hgC1"
      },
      "id": "xLMbkDC4hgC1",
      "execution_count": 36,
      "outputs": []
    },
    {
      "cell_type": "code",
      "source": [],
      "metadata": {
        "id": "Zf9LiVANjNip"
      },
      "id": "Zf9LiVANjNip",
      "execution_count": null,
      "outputs": []
    }
  ],
  "metadata": {
    "kernelspec": {
      "display_name": "Python 3",
      "language": "python",
      "name": "python3"
    },
    "language_info": {
      "codemirror_mode": {
        "name": "ipython",
        "version": 3
      },
      "file_extension": ".py",
      "mimetype": "text/x-python",
      "name": "python",
      "nbconvert_exporter": "python",
      "pygments_lexer": "ipython3",
      "version": "3.7.12"
    },
    "papermill": {
      "default_parameters": {},
      "duration": 16.486085,
      "end_time": "2022-09-05T11:48:44.983365",
      "environment_variables": {},
      "exception": null,
      "input_path": "__notebook__.ipynb",
      "output_path": "__notebook__.ipynb",
      "parameters": {},
      "start_time": "2022-09-05T11:48:28.497280",
      "version": "2.3.4"
    },
    "colab": {
      "provenance": []
    }
  },
  "nbformat": 4,
  "nbformat_minor": 5
}