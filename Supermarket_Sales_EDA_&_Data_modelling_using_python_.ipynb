{
  "cells": [
    {
      "cell_type": "markdown",
      "id": "1483f804",
      "metadata": {
        "papermill": {
          "duration": 0.028929,
          "end_time": "2022-12-14T15:57:10.501286",
          "exception": false,
          "start_time": "2022-12-14T15:57:10.472357",
          "status": "completed"
        },
        "tags": [],
        "id": "1483f804"
      },
      "source": [
        "## **Supermarket EDA, Prediction, and Data Modelling**"
      ]
    },
    {
      "cell_type": "markdown",
      "id": "2c554726",
      "metadata": {
        "papermill": {
          "duration": 0.021909,
          "end_time": "2022-12-14T15:57:10.545742",
          "exception": false,
          "start_time": "2022-12-14T15:57:10.523833",
          "status": "completed"
        },
        "tags": [],
        "id": "2c554726"
      },
      "source": [
        "### Table of Contents\n",
        "* [Dataset Background](#dsb)\n",
        "* [Setting Up](#su)\n",
        "* [Importing Dataset](#ids)\n",
        "* [Data Processing](#dp)\n",
        "* [Exploratory Data Analysis](#eda)\n",
        "* [Data Modelling](#dm)\n",
        "    * [K-Means](#km)\n",
        "    * [Random Forest Classification](#rfc)\n",
        "    * [Randform Forest Regression Algorithm](#rfra)\n",
        "* [Conclusion](#c)\n",
        "\n",
        "\n",
        "\n",
        "\n",
        "\n",
        "\n",
        "\n"
      ]
    },
    {
      "cell_type": "markdown",
      "id": "b62d24cf",
      "metadata": {
        "papermill": {
          "duration": 0.022556,
          "end_time": "2022-12-14T15:57:10.590626",
          "exception": false,
          "start_time": "2022-12-14T15:57:10.568070",
          "status": "completed"
        },
        "tags": [],
        "id": "b62d24cf"
      },
      "source": [
        "#### **Dataset Background** <a class=\"anchor\" id=\"dsb\"></a>\n",
        "\n",
        "<br>\n",
        "\n",
        "This supermarket dataset is a collection of data that provides information about the transactions that took place in a supermarket. This dataset typically includes information such as the date and time of the transaction, the products that were purchased, the price of each product, the total amount spent on the transaction, and other relevant details.\n",
        "\n",
        "We will use this dataset to perform data analysis and gain insights into the behavior of the supermarket customers. For example, we might use this supermarket dataset to study the relationship between the day of the week and the total amount spent on transactions, or to analyze the factors that influence customer spending patterns. We might also use this dataset to identify trends and patterns in customer behavior, to optimize pricing and product placement, or to develop marketing and advertising strategies.\n",
        "\n",
        "Overall, this supermarket dataset can be a valuable tool for understanding and predicting the behavior of supermarket customers, and for making data-driven decisions that can improve the performance of a supermarket business."
      ]
    },
    {
      "cell_type": "markdown",
      "id": "91a70551",
      "metadata": {
        "papermill": {
          "duration": 0.021499,
          "end_time": "2022-12-14T15:57:10.634306",
          "exception": false,
          "start_time": "2022-12-14T15:57:10.612807",
          "status": "completed"
        },
        "tags": [],
        "id": "91a70551"
      },
      "source": [
        "#### **Setting Up** <a class=\"anchor\" id=\"su\"></a>"
      ]
    },
    {
      "cell_type": "code",
      "execution_count": null,
      "id": "19c94959",
      "metadata": {
        "execution": {
          "iopub.execute_input": "2022-12-14T15:57:10.684012Z",
          "iopub.status.busy": "2022-12-14T15:57:10.683299Z",
          "iopub.status.idle": "2022-12-14T15:57:11.968964Z",
          "shell.execute_reply": "2022-12-14T15:57:11.967666Z"
        },
        "papermill": {
          "duration": 1.316284,
          "end_time": "2022-12-14T15:57:11.972497",
          "exception": false,
          "start_time": "2022-12-14T15:57:10.656213",
          "status": "completed"
        },
        "tags": [],
        "id": "19c94959"
      },
      "outputs": [],
      "source": [
        "# importing the necessary packages.\n",
        "\n",
        "import pandas as pd\n",
        "import numpy as np\n",
        "import matplotlib.pyplot as plt\n",
        "import seaborn as sns\n",
        "%matplotlib inline"
      ]
    },
    {
      "cell_type": "markdown",
      "id": "37fa5c2f",
      "metadata": {
        "papermill": {
          "duration": 0.023479,
          "end_time": "2022-12-14T15:57:12.018361",
          "exception": false,
          "start_time": "2022-12-14T15:57:11.994882",
          "status": "completed"
        },
        "tags": [],
        "id": "37fa5c2f"
      },
      "source": [
        "#### **Importing Dataset** <a class=\"anchor\" id=\"ids\"></a>"
      ]
    },
    {
      "cell_type": "code",
      "execution_count": null,
      "id": "9ffced42",
      "metadata": {
        "execution": {
          "iopub.execute_input": "2022-12-14T15:57:12.064040Z",
          "iopub.status.busy": "2022-12-14T15:57:12.063647Z",
          "iopub.status.idle": "2022-12-14T15:57:12.120495Z",
          "shell.execute_reply": "2022-12-14T15:57:12.119171Z"
        },
        "papermill": {
          "duration": 0.083883,
          "end_time": "2022-12-14T15:57:12.124554",
          "exception": false,
          "start_time": "2022-12-14T15:57:12.040671",
          "status": "completed"
        },
        "tags": [],
        "id": "9ffced42",
        "outputId": "fc09e529-2a29-4320-d8b3-234fe9480ac1"
      },
      "outputs": [
        {
          "data": {
            "text/html": [
              "<div>\n",
              "<style scoped>\n",
              "    .dataframe tbody tr th:only-of-type {\n",
              "        vertical-align: middle;\n",
              "    }\n",
              "\n",
              "    .dataframe tbody tr th {\n",
              "        vertical-align: top;\n",
              "    }\n",
              "\n",
              "    .dataframe thead th {\n",
              "        text-align: right;\n",
              "    }\n",
              "</style>\n",
              "<table border=\"1\" class=\"dataframe\">\n",
              "  <thead>\n",
              "    <tr style=\"text-align: right;\">\n",
              "      <th></th>\n",
              "      <th>Invoice ID</th>\n",
              "      <th>Branch</th>\n",
              "      <th>City</th>\n",
              "      <th>Customer type</th>\n",
              "      <th>Gender</th>\n",
              "      <th>Product line</th>\n",
              "      <th>Unit price</th>\n",
              "      <th>Quantity</th>\n",
              "      <th>Tax 5%</th>\n",
              "      <th>Total</th>\n",
              "      <th>Date</th>\n",
              "      <th>Time</th>\n",
              "      <th>Payment</th>\n",
              "      <th>cogs</th>\n",
              "      <th>gross margin percentage</th>\n",
              "      <th>gross income</th>\n",
              "      <th>Rating</th>\n",
              "    </tr>\n",
              "  </thead>\n",
              "  <tbody>\n",
              "    <tr>\n",
              "      <th>0</th>\n",
              "      <td>750-67-8428</td>\n",
              "      <td>A</td>\n",
              "      <td>Yangon</td>\n",
              "      <td>Member</td>\n",
              "      <td>Female</td>\n",
              "      <td>Health and beauty</td>\n",
              "      <td>74.69</td>\n",
              "      <td>7</td>\n",
              "      <td>26.1415</td>\n",
              "      <td>548.9715</td>\n",
              "      <td>1/5/2019</td>\n",
              "      <td>13:08</td>\n",
              "      <td>Ewallet</td>\n",
              "      <td>522.83</td>\n",
              "      <td>4.761905</td>\n",
              "      <td>26.1415</td>\n",
              "      <td>9.1</td>\n",
              "    </tr>\n",
              "    <tr>\n",
              "      <th>1</th>\n",
              "      <td>226-31-3081</td>\n",
              "      <td>C</td>\n",
              "      <td>Naypyitaw</td>\n",
              "      <td>Normal</td>\n",
              "      <td>Female</td>\n",
              "      <td>Electronic accessories</td>\n",
              "      <td>15.28</td>\n",
              "      <td>5</td>\n",
              "      <td>3.8200</td>\n",
              "      <td>80.2200</td>\n",
              "      <td>3/8/2019</td>\n",
              "      <td>10:29</td>\n",
              "      <td>Cash</td>\n",
              "      <td>76.40</td>\n",
              "      <td>4.761905</td>\n",
              "      <td>3.8200</td>\n",
              "      <td>9.6</td>\n",
              "    </tr>\n",
              "    <tr>\n",
              "      <th>2</th>\n",
              "      <td>631-41-3108</td>\n",
              "      <td>A</td>\n",
              "      <td>Yangon</td>\n",
              "      <td>Normal</td>\n",
              "      <td>Male</td>\n",
              "      <td>Home and lifestyle</td>\n",
              "      <td>46.33</td>\n",
              "      <td>7</td>\n",
              "      <td>16.2155</td>\n",
              "      <td>340.5255</td>\n",
              "      <td>3/3/2019</td>\n",
              "      <td>13:23</td>\n",
              "      <td>Credit card</td>\n",
              "      <td>324.31</td>\n",
              "      <td>4.761905</td>\n",
              "      <td>16.2155</td>\n",
              "      <td>7.4</td>\n",
              "    </tr>\n",
              "    <tr>\n",
              "      <th>3</th>\n",
              "      <td>123-19-1176</td>\n",
              "      <td>A</td>\n",
              "      <td>Yangon</td>\n",
              "      <td>Member</td>\n",
              "      <td>Male</td>\n",
              "      <td>Health and beauty</td>\n",
              "      <td>58.22</td>\n",
              "      <td>8</td>\n",
              "      <td>23.2880</td>\n",
              "      <td>489.0480</td>\n",
              "      <td>1/27/2019</td>\n",
              "      <td>20:33</td>\n",
              "      <td>Ewallet</td>\n",
              "      <td>465.76</td>\n",
              "      <td>4.761905</td>\n",
              "      <td>23.2880</td>\n",
              "      <td>8.4</td>\n",
              "    </tr>\n",
              "    <tr>\n",
              "      <th>4</th>\n",
              "      <td>373-73-7910</td>\n",
              "      <td>A</td>\n",
              "      <td>Yangon</td>\n",
              "      <td>Normal</td>\n",
              "      <td>Male</td>\n",
              "      <td>Sports and travel</td>\n",
              "      <td>86.31</td>\n",
              "      <td>7</td>\n",
              "      <td>30.2085</td>\n",
              "      <td>634.3785</td>\n",
              "      <td>2/8/2019</td>\n",
              "      <td>10:37</td>\n",
              "      <td>Ewallet</td>\n",
              "      <td>604.17</td>\n",
              "      <td>4.761905</td>\n",
              "      <td>30.2085</td>\n",
              "      <td>5.3</td>\n",
              "    </tr>\n",
              "  </tbody>\n",
              "</table>\n",
              "</div>"
            ],
            "text/plain": [
              "    Invoice ID Branch       City Customer type  Gender  \\\n",
              "0  750-67-8428      A     Yangon        Member  Female   \n",
              "1  226-31-3081      C  Naypyitaw        Normal  Female   \n",
              "2  631-41-3108      A     Yangon        Normal    Male   \n",
              "3  123-19-1176      A     Yangon        Member    Male   \n",
              "4  373-73-7910      A     Yangon        Normal    Male   \n",
              "\n",
              "             Product line  Unit price  Quantity   Tax 5%     Total       Date  \\\n",
              "0       Health and beauty       74.69         7  26.1415  548.9715   1/5/2019   \n",
              "1  Electronic accessories       15.28         5   3.8200   80.2200   3/8/2019   \n",
              "2      Home and lifestyle       46.33         7  16.2155  340.5255   3/3/2019   \n",
              "3       Health and beauty       58.22         8  23.2880  489.0480  1/27/2019   \n",
              "4       Sports and travel       86.31         7  30.2085  634.3785   2/8/2019   \n",
              "\n",
              "    Time      Payment    cogs  gross margin percentage  gross income  Rating  \n",
              "0  13:08      Ewallet  522.83                 4.761905       26.1415     9.1  \n",
              "1  10:29         Cash   76.40                 4.761905        3.8200     9.6  \n",
              "2  13:23  Credit card  324.31                 4.761905       16.2155     7.4  \n",
              "3  20:33      Ewallet  465.76                 4.761905       23.2880     8.4  \n",
              "4  10:37      Ewallet  604.17                 4.761905       30.2085     5.3  "
            ]
          },
          "execution_count": 2,
          "metadata": {},
          "output_type": "execute_result"
        }
      ],
      "source": [
        "# Load the dataset into a Pandas DataFrame\n",
        "df = pd.read_csv(\"/content/sample_data/supermarket_sales - Sheet1.csv\")\n",
        "df.head()"
      ]
    },
    {
      "cell_type": "markdown",
      "id": "81c8e985",
      "metadata": {
        "papermill": {
          "duration": 0.022439,
          "end_time": "2022-12-14T15:57:12.169817",
          "exception": false,
          "start_time": "2022-12-14T15:57:12.147378",
          "status": "completed"
        },
        "tags": [],
        "id": "81c8e985"
      },
      "source": [
        "#### **Data Processing** <a class=\"anchor\" id=\"dp\"></a>"
      ]
    },
    {
      "cell_type": "code",
      "execution_count": null,
      "id": "ace677e3",
      "metadata": {
        "execution": {
          "iopub.execute_input": "2022-12-14T15:57:12.217279Z",
          "iopub.status.busy": "2022-12-14T15:57:12.216574Z",
          "iopub.status.idle": "2022-12-14T15:57:12.225867Z",
          "shell.execute_reply": "2022-12-14T15:57:12.224848Z"
        },
        "papermill": {
          "duration": 0.035898,
          "end_time": "2022-12-14T15:57:12.228365",
          "exception": false,
          "start_time": "2022-12-14T15:57:12.192467",
          "status": "completed"
        },
        "tags": [],
        "id": "ace677e3",
        "outputId": "2771a30e-95c0-4e62-a297-5a1acff65301"
      },
      "outputs": [
        {
          "data": {
            "text/plain": [
              "Invoice ID                 0\n",
              "Branch                     0\n",
              "City                       0\n",
              "Customer type              0\n",
              "Gender                     0\n",
              "Product line               0\n",
              "Unit price                 0\n",
              "Quantity                   0\n",
              "Tax 5%                     0\n",
              "Total                      0\n",
              "Date                       0\n",
              "Time                       0\n",
              "Payment                    0\n",
              "cogs                       0\n",
              "gross margin percentage    0\n",
              "gross income               0\n",
              "Rating                     0\n",
              "dtype: int64"
            ]
          },
          "execution_count": 3,
          "metadata": {},
          "output_type": "execute_result"
        }
      ],
      "source": [
        "# checking for missing values\n",
        "\n",
        "missing_values = df.isnull().sum()\n",
        "\n",
        "missing_values"
      ]
    },
    {
      "cell_type": "code",
      "execution_count": null,
      "id": "0436964d",
      "metadata": {
        "execution": {
          "iopub.execute_input": "2022-12-14T15:57:12.275994Z",
          "iopub.status.busy": "2022-12-14T15:57:12.275573Z",
          "iopub.status.idle": "2022-12-14T15:57:12.284707Z",
          "shell.execute_reply": "2022-12-14T15:57:12.283577Z"
        },
        "papermill": {
          "duration": 0.035634,
          "end_time": "2022-12-14T15:57:12.287011",
          "exception": false,
          "start_time": "2022-12-14T15:57:12.251377",
          "status": "completed"
        },
        "tags": [],
        "id": "0436964d",
        "outputId": "05f90ab6-304a-40cf-c0ec-77bf870696fb"
      },
      "outputs": [
        {
          "data": {
            "text/plain": [
              "Invoice ID                  object\n",
              "Branch                      object\n",
              "City                        object\n",
              "Customer type               object\n",
              "Gender                      object\n",
              "Product line                object\n",
              "Unit price                 float64\n",
              "Quantity                     int64\n",
              "Tax 5%                     float64\n",
              "Total                      float64\n",
              "Date                        object\n",
              "Time                        object\n",
              "Payment                     object\n",
              "cogs                       float64\n",
              "gross margin percentage    float64\n",
              "gross income               float64\n",
              "Rating                     float64\n",
              "dtype: object"
            ]
          },
          "execution_count": 4,
          "metadata": {},
          "output_type": "execute_result"
        }
      ],
      "source": [
        "# dataset info\n",
        "\n",
        "df.dtypes"
      ]
    },
    {
      "cell_type": "code",
      "execution_count": null,
      "id": "272e4227",
      "metadata": {
        "execution": {
          "iopub.execute_input": "2022-12-14T15:57:12.334510Z",
          "iopub.status.busy": "2022-12-14T15:57:12.334085Z",
          "iopub.status.idle": "2022-12-14T15:57:12.342040Z",
          "shell.execute_reply": "2022-12-14T15:57:12.340894Z"
        },
        "papermill": {
          "duration": 0.0346,
          "end_time": "2022-12-14T15:57:12.344354",
          "exception": false,
          "start_time": "2022-12-14T15:57:12.309754",
          "status": "completed"
        },
        "tags": [],
        "id": "272e4227",
        "outputId": "484a7d23-d7ec-464d-932c-519f1f187e3c"
      },
      "outputs": [
        {
          "data": {
            "text/plain": [
              "Index(['Invoice ID', 'Branch', 'City', 'Customer type', 'Gender',\n",
              "       'Product line', 'Unit price', 'Quantity', 'Tax 5%', 'Total', 'Date',\n",
              "       'Time', 'Payment', 'cogs', 'gross margin percentage', 'gross income',\n",
              "       'Rating'],\n",
              "      dtype='object')"
            ]
          },
          "execution_count": 5,
          "metadata": {},
          "output_type": "execute_result"
        }
      ],
      "source": [
        "df.columns"
      ]
    },
    {
      "cell_type": "code",
      "execution_count": null,
      "id": "ff6d9f1e",
      "metadata": {
        "execution": {
          "iopub.execute_input": "2022-12-14T15:57:12.392429Z",
          "iopub.status.busy": "2022-12-14T15:57:12.391987Z",
          "iopub.status.idle": "2022-12-14T15:57:12.437506Z",
          "shell.execute_reply": "2022-12-14T15:57:12.436562Z"
        },
        "papermill": {
          "duration": 0.072701,
          "end_time": "2022-12-14T15:57:12.439725",
          "exception": false,
          "start_time": "2022-12-14T15:57:12.367024",
          "status": "completed"
        },
        "tags": [],
        "id": "ff6d9f1e",
        "outputId": "f940440c-bb93-4ac2-da82-4a23b6551130"
      },
      "outputs": [
        {
          "data": {
            "text/html": [
              "<div>\n",
              "<style scoped>\n",
              "    .dataframe tbody tr th:only-of-type {\n",
              "        vertical-align: middle;\n",
              "    }\n",
              "\n",
              "    .dataframe tbody tr th {\n",
              "        vertical-align: top;\n",
              "    }\n",
              "\n",
              "    .dataframe thead th {\n",
              "        text-align: right;\n",
              "    }\n",
              "</style>\n",
              "<table border=\"1\" class=\"dataframe\">\n",
              "  <thead>\n",
              "    <tr style=\"text-align: right;\">\n",
              "      <th></th>\n",
              "      <th>Unit price</th>\n",
              "      <th>Quantity</th>\n",
              "      <th>Tax 5%</th>\n",
              "      <th>Total</th>\n",
              "      <th>cogs</th>\n",
              "      <th>gross margin percentage</th>\n",
              "      <th>gross income</th>\n",
              "      <th>Rating</th>\n",
              "    </tr>\n",
              "  </thead>\n",
              "  <tbody>\n",
              "    <tr>\n",
              "      <th>count</th>\n",
              "      <td>1000.000000</td>\n",
              "      <td>1000.000000</td>\n",
              "      <td>1000.000000</td>\n",
              "      <td>1000.000000</td>\n",
              "      <td>1000.00000</td>\n",
              "      <td>1000.000000</td>\n",
              "      <td>1000.000000</td>\n",
              "      <td>1000.00000</td>\n",
              "    </tr>\n",
              "    <tr>\n",
              "      <th>mean</th>\n",
              "      <td>55.672130</td>\n",
              "      <td>5.510000</td>\n",
              "      <td>15.379369</td>\n",
              "      <td>322.966749</td>\n",
              "      <td>307.58738</td>\n",
              "      <td>4.761905</td>\n",
              "      <td>15.379369</td>\n",
              "      <td>6.97270</td>\n",
              "    </tr>\n",
              "    <tr>\n",
              "      <th>std</th>\n",
              "      <td>26.494628</td>\n",
              "      <td>2.923431</td>\n",
              "      <td>11.708825</td>\n",
              "      <td>245.885335</td>\n",
              "      <td>234.17651</td>\n",
              "      <td>0.000000</td>\n",
              "      <td>11.708825</td>\n",
              "      <td>1.71858</td>\n",
              "    </tr>\n",
              "    <tr>\n",
              "      <th>min</th>\n",
              "      <td>10.080000</td>\n",
              "      <td>1.000000</td>\n",
              "      <td>0.508500</td>\n",
              "      <td>10.678500</td>\n",
              "      <td>10.17000</td>\n",
              "      <td>4.761905</td>\n",
              "      <td>0.508500</td>\n",
              "      <td>4.00000</td>\n",
              "    </tr>\n",
              "    <tr>\n",
              "      <th>25%</th>\n",
              "      <td>32.875000</td>\n",
              "      <td>3.000000</td>\n",
              "      <td>5.924875</td>\n",
              "      <td>124.422375</td>\n",
              "      <td>118.49750</td>\n",
              "      <td>4.761905</td>\n",
              "      <td>5.924875</td>\n",
              "      <td>5.50000</td>\n",
              "    </tr>\n",
              "    <tr>\n",
              "      <th>50%</th>\n",
              "      <td>55.230000</td>\n",
              "      <td>5.000000</td>\n",
              "      <td>12.088000</td>\n",
              "      <td>253.848000</td>\n",
              "      <td>241.76000</td>\n",
              "      <td>4.761905</td>\n",
              "      <td>12.088000</td>\n",
              "      <td>7.00000</td>\n",
              "    </tr>\n",
              "    <tr>\n",
              "      <th>75%</th>\n",
              "      <td>77.935000</td>\n",
              "      <td>8.000000</td>\n",
              "      <td>22.445250</td>\n",
              "      <td>471.350250</td>\n",
              "      <td>448.90500</td>\n",
              "      <td>4.761905</td>\n",
              "      <td>22.445250</td>\n",
              "      <td>8.50000</td>\n",
              "    </tr>\n",
              "    <tr>\n",
              "      <th>max</th>\n",
              "      <td>99.960000</td>\n",
              "      <td>10.000000</td>\n",
              "      <td>49.650000</td>\n",
              "      <td>1042.650000</td>\n",
              "      <td>993.00000</td>\n",
              "      <td>4.761905</td>\n",
              "      <td>49.650000</td>\n",
              "      <td>10.00000</td>\n",
              "    </tr>\n",
              "  </tbody>\n",
              "</table>\n",
              "</div>"
            ],
            "text/plain": [
              "        Unit price     Quantity       Tax 5%        Total        cogs  \\\n",
              "count  1000.000000  1000.000000  1000.000000  1000.000000  1000.00000   \n",
              "mean     55.672130     5.510000    15.379369   322.966749   307.58738   \n",
              "std      26.494628     2.923431    11.708825   245.885335   234.17651   \n",
              "min      10.080000     1.000000     0.508500    10.678500    10.17000   \n",
              "25%      32.875000     3.000000     5.924875   124.422375   118.49750   \n",
              "50%      55.230000     5.000000    12.088000   253.848000   241.76000   \n",
              "75%      77.935000     8.000000    22.445250   471.350250   448.90500   \n",
              "max      99.960000    10.000000    49.650000  1042.650000   993.00000   \n",
              "\n",
              "       gross margin percentage  gross income      Rating  \n",
              "count              1000.000000   1000.000000  1000.00000  \n",
              "mean                  4.761905     15.379369     6.97270  \n",
              "std                   0.000000     11.708825     1.71858  \n",
              "min                   4.761905      0.508500     4.00000  \n",
              "25%                   4.761905      5.924875     5.50000  \n",
              "50%                   4.761905     12.088000     7.00000  \n",
              "75%                   4.761905     22.445250     8.50000  \n",
              "max                   4.761905     49.650000    10.00000  "
            ]
          },
          "execution_count": 6,
          "metadata": {},
          "output_type": "execute_result"
        }
      ],
      "source": [
        "# quick statistical summary\n",
        "\n",
        "df.describe()"
      ]
    },
    {
      "cell_type": "markdown",
      "id": "a632931a",
      "metadata": {
        "papermill": {
          "duration": 0.022836,
          "end_time": "2022-12-14T15:57:12.485584",
          "exception": false,
          "start_time": "2022-12-14T15:57:12.462748",
          "status": "completed"
        },
        "tags": [],
        "id": "a632931a"
      },
      "source": [
        "#### **Exploratory Data Analysis** <a class=\"anchor\" id=\"eda\"></a>"
      ]
    },
    {
      "cell_type": "markdown",
      "id": "ec52d5ba",
      "metadata": {
        "papermill": {
          "duration": 0.022773,
          "end_time": "2022-12-14T15:57:12.531632",
          "exception": false,
          "start_time": "2022-12-14T15:57:12.508859",
          "status": "completed"
        },
        "tags": [],
        "id": "ec52d5ba"
      },
      "source": [
        "**1. What is the average total amount spent by each customer type and gender**"
      ]
    },
    {
      "cell_type": "code",
      "execution_count": null,
      "id": "453c1816",
      "metadata": {
        "execution": {
          "iopub.execute_input": "2022-12-14T15:57:12.580688Z",
          "iopub.status.busy": "2022-12-14T15:57:12.580027Z",
          "iopub.status.idle": "2022-12-14T15:57:12.841250Z",
          "shell.execute_reply": "2022-12-14T15:57:12.840420Z"
        },
        "papermill": {
          "duration": 0.288952,
          "end_time": "2022-12-14T15:57:12.843680",
          "exception": false,
          "start_time": "2022-12-14T15:57:12.554728",
          "status": "completed"
        },
        "tags": [],
        "id": "453c1816",
        "outputId": "a6ca54a3-4b7f-4155-c70f-e059eb70817d"
      },
      "outputs": [
        {
          "name": "stdout",
          "output_type": "stream",
          "text": [
            "Customer type\n",
            "Member    327.791305\n",
            "Normal    318.122856\n",
            "Name: Total, dtype: float64\n"
          ]
        },
        {
          "data": {
            "text/plain": [
              "<AxesSubplot:title={'center':'Average Total Amount Spent By Customer type '}, xlabel='Customer type'>"
            ]
          },
          "execution_count": 7,
          "metadata": {},
          "output_type": "execute_result"
        },
        {
          "data": {
            "image/png": "[encoded data removed]",
            "text/plain": [
              "<Figure size 432x288 with 1 Axes>"
            ]
          },
          "metadata": {
            "needs_background": "light"
          },
          "output_type": "display_data"
        }
      ],
      "source": [
        "# group the data by customer type and calculate the average total amount spent by each type\n",
        "\n",
        "df_customer_type = df.groupby('Customer type')['Total'].mean()\n",
        "print(df_customer_type)\n",
        "\n",
        "# visualize the df_customer_type\n",
        "df_customer_type.plot(kind='bar', title = 'Average Total Amount Spent By Customer type ')"
      ]
    },
    {
      "cell_type": "code",
      "execution_count": null,
      "id": "31ce105a",
      "metadata": {
        "execution": {
          "iopub.execute_input": "2022-12-14T15:57:12.893190Z",
          "iopub.status.busy": "2022-12-14T15:57:12.892696Z",
          "iopub.status.idle": "2022-12-14T15:57:13.130259Z",
          "shell.execute_reply": "2022-12-14T15:57:13.128805Z"
        },
        "papermill": {
          "duration": 0.266987,
          "end_time": "2022-12-14T15:57:13.134267",
          "exception": false,
          "start_time": "2022-12-14T15:57:12.867280",
          "status": "completed"
        },
        "tags": [],
        "id": "31ce105a",
        "outputId": "a76d0c46-7c84-4d2a-e908-5e993967898c"
      },
      "outputs": [
        {
          "name": "stdout",
          "output_type": "stream",
          "text": [
            "Gender\n",
            "Female    335.095659\n",
            "Male      310.789226\n",
            "Name: Total, dtype: float64\n"
          ]
        },
        {
          "data": {
            "text/plain": [
              "<AxesSubplot:title={'center':'Average Total Amount Spent By Gender'}, xlabel='Gender'>"
            ]
          },
          "execution_count": 8,
          "metadata": {},
          "output_type": "execute_result"
        },
        {
          "data": {
            "image/png": "[encoded data removed]",
            "text/plain": [
              "<Figure size 432x288 with 1 Axes>"
            ]
          },
          "metadata": {
            "needs_background": "light"
          },
          "output_type": "display_data"
        }
      ],
      "source": [
        "# group the data by Gender and calculate the average total amount spent by each type\n",
        "\n",
        "df_genderr = df.groupby('Gender')['Total'].mean()\n",
        "print(df_genderr)\n",
        "\n",
        "# visualize the df_customer_type\n",
        "df_genderr.plot(kind='bar', title = 'Average Total Amount Spent By Gender')"
      ]
    },
    {
      "cell_type": "markdown",
      "id": "937fc5ef",
      "metadata": {
        "papermill": {
          "duration": 0.023852,
          "end_time": "2022-12-14T15:57:13.182966",
          "exception": false,
          "start_time": "2022-12-14T15:57:13.159114",
          "status": "completed"
        },
        "tags": [],
        "id": "937fc5ef"
      },
      "source": [
        "**2. What is the total sales for each gender and product line combination?**"
      ]
    },
    {
      "cell_type": "code",
      "execution_count": null,
      "id": "db606ed8",
      "metadata": {
        "execution": {
          "iopub.execute_input": "2022-12-14T15:57:13.233971Z",
          "iopub.status.busy": "2022-12-14T15:57:13.233179Z",
          "iopub.status.idle": "2022-12-14T15:57:13.559490Z",
          "shell.execute_reply": "2022-12-14T15:57:13.557979Z"
        },
        "papermill": {
          "duration": 0.354919,
          "end_time": "2022-12-14T15:57:13.562218",
          "exception": false,
          "start_time": "2022-12-14T15:57:13.207299",
          "status": "completed"
        },
        "tags": [],
        "id": "db606ed8",
        "outputId": "2ccde83f-d649-4bfd-85bc-9e6dd68c0774"
      },
      "outputs": [
        {
          "data": {
            "text/plain": [
              "<AxesSubplot:xlabel='Product line', ylabel='Total'>"
            ]
          },
          "execution_count": 9,
          "metadata": {},
          "output_type": "execute_result"
        },
        {
          "data": {
            "image/png": "[encoded data removed]",
            "text/plain": [
              "<Figure size 792x432 with 1 Axes>"
            ]
          },
          "metadata": {
            "needs_background": "light"
          },
          "output_type": "display_data"
        }
      ],
      "source": [
        "# let's visualize gender, product line vs total first\n",
        "\n",
        "plt.figure(figsize=(11,6))\n",
        "sns.barplot(x='Product line', y = 'Total', hue = 'Gender', data = df, estimator = sum, ci = None)"
      ]
    },
    {
      "cell_type": "code",
      "execution_count": null,
      "id": "a8dafee7",
      "metadata": {
        "execution": {
          "iopub.execute_input": "2022-12-14T15:57:13.613001Z",
          "iopub.status.busy": "2022-12-14T15:57:13.612525Z",
          "iopub.status.idle": "2022-12-14T15:57:13.940390Z",
          "shell.execute_reply": "2022-12-14T15:57:13.938922Z"
        },
        "papermill": {
          "duration": 0.356871,
          "end_time": "2022-12-14T15:57:13.943654",
          "exception": false,
          "start_time": "2022-12-14T15:57:13.586783",
          "status": "completed"
        },
        "tags": [],
        "id": "a8dafee7",
        "outputId": "d23480bf-0a02-4988-feca-77e97e070fdb"
      },
      "outputs": [
        {
          "name": "stdout",
          "output_type": "stream",
          "text": [
            "Gender  Product line          \n",
            "Female  Electronic accessories    27102.0225\n",
            "        Fashion accessories       30437.4000\n",
            "        Food and beverages        33170.9175\n",
            "        Health and beauty         18560.9865\n",
            "        Home and lifestyle        30036.8775\n",
            "        Sports and travel         28574.7210\n",
            "Male    Electronic accessories    27235.5090\n",
            "        Fashion accessories       23868.4950\n",
            "        Food and beverages        22973.9265\n",
            "        Health and beauty         30632.7525\n",
            "        Home and lifestyle        23825.0355\n",
            "        Sports and travel         26548.1055\n",
            "Name: Total, dtype: float64\n"
          ]
        },
        {
          "data": {
            "text/plain": [
              "<AxesSubplot:title={'center':'Total Sales for each Group of Gender and Product Line'}, xlabel='Gender,Product line'>"
            ]
          },
          "execution_count": 10,
          "metadata": {},
          "output_type": "execute_result"
        },
        {
          "data": {
            "image/png": "[encoded data removed]",
            "text/plain": [
              "<Figure size 432x288 with 1 Axes>"
            ]
          },
          "metadata": {
            "needs_background": "light"
          },
          "output_type": "display_data"
        }
      ],
      "source": [
        "# group the data by gender and product line and calculate the total sales for each group\n",
        "\n",
        "df_gender_product_line = df.groupby(['Gender', 'Product line'])['Total'].sum()\n",
        "print(df_gender_product_line)\n",
        "\n",
        "# visualize the total sales for each group of gender and product line\n",
        "df_gender_product_line.plot(kind='bar', title = 'Total Sales for each Group of Gender and Product Line')"
      ]
    },
    {
      "cell_type": "markdown",
      "id": "a8b2e242",
      "metadata": {
        "papermill": {
          "duration": 0.025473,
          "end_time": "2022-12-14T15:57:13.994750",
          "exception": false,
          "start_time": "2022-12-14T15:57:13.969277",
          "status": "completed"
        },
        "tags": [],
        "id": "a8b2e242"
      },
      "source": [
        "**3. What is the average unit price for each product line?**"
      ]
    },
    {
      "cell_type": "code",
      "execution_count": null,
      "id": "4870ac08",
      "metadata": {
        "execution": {
          "iopub.execute_input": "2022-12-14T15:57:14.050043Z",
          "iopub.status.busy": "2022-12-14T15:57:14.049563Z",
          "iopub.status.idle": "2022-12-14T15:57:14.249888Z",
          "shell.execute_reply": "2022-12-14T15:57:14.248926Z"
        },
        "papermill": {
          "duration": 0.229295,
          "end_time": "2022-12-14T15:57:14.252065",
          "exception": false,
          "start_time": "2022-12-14T15:57:14.022770",
          "status": "completed"
        },
        "tags": [],
        "id": "4870ac08",
        "outputId": "c687b8c7-cd89-41fd-85cd-fa444bff0102"
      },
      "outputs": [
        {
          "name": "stdout",
          "output_type": "stream",
          "text": [
            "Product line\n",
            "Electronic accessories    53.551588\n",
            "Fashion accessories       57.153652\n",
            "Food and beverages        56.008851\n",
            "Health and beauty         54.854474\n",
            "Home and lifestyle        55.316937\n",
            "Sports and travel         56.993253\n",
            "Name: Unit price, dtype: float64\n"
          ]
        },
        {
          "data": {
            "text/plain": [
              "<AxesSubplot:title={'center':'Average Unit Price For Each Product Line'}, xlabel='Product line'>"
            ]
          },
          "execution_count": 11,
          "metadata": {},
          "output_type": "execute_result"
        },
        {
          "data": {
            "image/png": "[encoded data removed]",
            "text/plain": [
              "<Figure size 432x288 with 1 Axes>"
            ]
          },
          "metadata": {
            "needs_background": "light"
          },
          "output_type": "display_data"
        }
      ],
      "source": [
        "# calculate the average unit price for each product line\n",
        "\n",
        "df_product_line_price = df.groupby('Product line')['Unit price'].mean()\n",
        "print(df_product_line_price)\n",
        "\n",
        "# visualize the average unit price for each product line\n",
        "df_product_line_price.plot(kind='bar', title = 'Average Unit Price For Each Product Line')"
      ]
    },
    {
      "cell_type": "markdown",
      "id": "9021571c",
      "metadata": {
        "papermill": {
          "duration": 0.024688,
          "end_time": "2022-12-14T15:57:14.301781",
          "exception": false,
          "start_time": "2022-12-14T15:57:14.277093",
          "status": "completed"
        },
        "tags": [],
        "id": "9021571c"
      },
      "source": [
        "**4. What is the overall gross margin percentage?**"
      ]
    },
    {
      "cell_type": "code",
      "execution_count": null,
      "id": "b283608c",
      "metadata": {
        "execution": {
          "iopub.execute_input": "2022-12-14T15:57:14.355831Z",
          "iopub.status.busy": "2022-12-14T15:57:14.354537Z",
          "iopub.status.idle": "2022-12-14T15:57:14.365537Z",
          "shell.execute_reply": "2022-12-14T15:57:14.363506Z"
        },
        "papermill": {
          "duration": 0.041877,
          "end_time": "2022-12-14T15:57:14.369397",
          "exception": false,
          "start_time": "2022-12-14T15:57:14.327520",
          "status": "completed"
        },
        "tags": [],
        "id": "b283608c",
        "outputId": "ca4dfc58-e37c-4b30-b102-f80f601e3c14"
      },
      "outputs": [
        {
          "name": "stdout",
          "output_type": "stream",
          "text": [
            "0.04761904761904762\n"
          ]
        }
      ],
      "source": [
        "# calculate the overall gross margin percentage\n",
        "\n",
        "df['gross_margin'] = (df['Total'] - df['cogs']) / df['Total']\n",
        "overall_gross_margin = df['gross_margin'].mean()\n",
        "\n",
        "print(overall_gross_margin)\n"
      ]
    },
    {
      "cell_type": "markdown",
      "id": "9392c64c",
      "metadata": {
        "papermill": {
          "duration": 0.024633,
          "end_time": "2022-12-14T15:57:14.419844",
          "exception": false,
          "start_time": "2022-12-14T15:57:14.395211",
          "status": "completed"
        },
        "tags": [],
        "id": "9392c64c"
      },
      "source": [
        "A gross margin of **0.047** means that out of the total revenue, only **4.76%** is left after accounting for the COGS. This indicates a low level of profitability for the Supermarket. To improve the profitability, the business can try to reduce the COGS or increase the revenue."
      ]
    },
    {
      "cell_type": "markdown",
      "id": "2d515181",
      "metadata": {
        "papermill": {
          "duration": 0.024622,
          "end_time": "2022-12-14T15:57:14.469431",
          "exception": false,
          "start_time": "2022-12-14T15:57:14.444809",
          "status": "completed"
        },
        "tags": [],
        "id": "2d515181"
      },
      "source": [
        "**5. Which cities are the biggest contributors to the overall sales?**"
      ]
    },
    {
      "cell_type": "code",
      "execution_count": null,
      "id": "97e764c3",
      "metadata": {
        "execution": {
          "iopub.execute_input": "2022-12-14T15:57:14.522307Z",
          "iopub.status.busy": "2022-12-14T15:57:14.521320Z",
          "iopub.status.idle": "2022-12-14T15:57:14.653059Z",
          "shell.execute_reply": "2022-12-14T15:57:14.652178Z"
        },
        "papermill": {
          "duration": 0.163249,
          "end_time": "2022-12-14T15:57:14.657790",
          "exception": false,
          "start_time": "2022-12-14T15:57:14.494541",
          "status": "completed"
        },
        "tags": [],
        "id": "97e764c3",
        "outputId": "f97dbad8-29d7-46ca-9d2e-26ae62151a99"
      },
      "outputs": [
        {
          "data": {
            "image/png": "[encoded data removed]",
            "text/plain": [
              "<Figure size 432x288 with 1 Axes>"
            ]
          },
          "metadata": {
            "needs_background": "light"
          },
          "output_type": "display_data"
        }
      ],
      "source": [
        "# import the pyplot library from matplotlib\n",
        "import matplotlib.pyplot as plt\n",
        "\n",
        "# calculate the total sales for each city\n",
        "df_city_sales = df.groupby('City')['Total'].sum()\n",
        "\n",
        "# create a bar chart to visualize the total sales for each city\n",
        "df_city_sales.plot(kind='bar')\n",
        "\n",
        "# add title and labels to the plot\n",
        "plt.title('Total Sales by City')\n",
        "plt.xlabel('City')\n",
        "plt.ylabel('Total Sales')\n",
        "\n",
        "# show the plot\n",
        "plt.show()\n"
      ]
    },
    {
      "cell_type": "markdown",
      "id": "5f7f1a28",
      "metadata": {
        "papermill": {
          "duration": 0.026111,
          "end_time": "2022-12-14T15:57:14.720019",
          "exception": false,
          "start_time": "2022-12-14T15:57:14.693908",
          "status": "completed"
        },
        "tags": [],
        "id": "5f7f1a28"
      },
      "source": [
        "**6. Which product lines are the most popular among customers?**"
      ]
    },
    {
      "cell_type": "code",
      "execution_count": null,
      "id": "ab690768",
      "metadata": {
        "execution": {
          "iopub.execute_input": "2022-12-14T15:57:14.773428Z",
          "iopub.status.busy": "2022-12-14T15:57:14.772642Z",
          "iopub.status.idle": "2022-12-14T15:57:14.934189Z",
          "shell.execute_reply": "2022-12-14T15:57:14.932448Z"
        },
        "papermill": {
          "duration": 0.193139,
          "end_time": "2022-12-14T15:57:14.938678",
          "exception": false,
          "start_time": "2022-12-14T15:57:14.745539",
          "status": "completed"
        },
        "tags": [],
        "id": "ab690768",
        "outputId": "c67698b8-d72d-435a-a9c2-eae956daedc7"
      },
      "outputs": [
        {
          "data": {
            "image/png": "[encoded data removed]",
            "text/plain": [
              "<Figure size 432x288 with 1 Axes>"
            ]
          },
          "metadata": {},
          "output_type": "display_data"
        }
      ],
      "source": [
        "# create a pie chart to visualize the distribution of sales across different product lines\n",
        "\n",
        "df.groupby('Product line')['Total'].sum().plot(kind='pie')\n",
        "\n",
        "# add title and labels to the plot\n",
        "plt.title('Sales by Product Line')\n",
        "\n",
        "# show the plot\n",
        "plt.show()\n"
      ]
    },
    {
      "cell_type": "markdown",
      "id": "76cddab7",
      "metadata": {
        "papermill": {
          "duration": 0.026265,
          "end_time": "2022-12-14T15:57:15.020055",
          "exception": false,
          "start_time": "2022-12-14T15:57:14.993790",
          "status": "completed"
        },
        "tags": [],
        "id": "76cddab7"
      },
      "source": [
        "**7. What is the relationship between the unit price and the quantity of each product?**"
      ]
    },
    {
      "cell_type": "code",
      "execution_count": null,
      "id": "bd8a5a30",
      "metadata": {
        "execution": {
          "iopub.execute_input": "2022-12-14T15:57:15.077308Z",
          "iopub.status.busy": "2022-12-14T15:57:15.076491Z",
          "iopub.status.idle": "2022-12-14T15:57:15.293777Z",
          "shell.execute_reply": "2022-12-14T15:57:15.292175Z"
        },
        "papermill": {
          "duration": 0.249996,
          "end_time": "2022-12-14T15:57:15.296708",
          "exception": false,
          "start_time": "2022-12-14T15:57:15.046712",
          "status": "completed"
        },
        "tags": [],
        "id": "bd8a5a30",
        "outputId": "025b446a-35e3-4661-b7f3-8e6f9913a750"
      },
      "outputs": [
        {
          "data": {
            "image/png": "[encoded data removed]",
            "text/plain": [
              "<Figure size 432x288 with 1 Axes>"
            ]
          },
          "metadata": {
            "needs_background": "light"
          },
          "output_type": "display_data"
        },
        {
          "data": {
            "text/html": [
              "<div>\n",
              "<style scoped>\n",
              "    .dataframe tbody tr th:only-of-type {\n",
              "        vertical-align: middle;\n",
              "    }\n",
              "\n",
              "    .dataframe tbody tr th {\n",
              "        vertical-align: top;\n",
              "    }\n",
              "\n",
              "    .dataframe thead th {\n",
              "        text-align: right;\n",
              "    }\n",
              "</style>\n",
              "<table border=\"1\" class=\"dataframe\">\n",
              "  <thead>\n",
              "    <tr style=\"text-align: right;\">\n",
              "      <th></th>\n",
              "      <th>Unit price</th>\n",
              "      <th>Quantity</th>\n",
              "    </tr>\n",
              "  </thead>\n",
              "  <tbody>\n",
              "    <tr>\n",
              "      <th>Unit price</th>\n",
              "      <td>1.000000</td>\n",
              "      <td>0.010778</td>\n",
              "    </tr>\n",
              "    <tr>\n",
              "      <th>Quantity</th>\n",
              "      <td>0.010778</td>\n",
              "      <td>1.000000</td>\n",
              "    </tr>\n",
              "  </tbody>\n",
              "</table>\n",
              "</div>"
            ],
            "text/plain": [
              "            Unit price  Quantity\n",
              "Unit price    1.000000  0.010778\n",
              "Quantity      0.010778  1.000000"
            ]
          },
          "execution_count": 15,
          "metadata": {},
          "output_type": "execute_result"
        }
      ],
      "source": [
        "# create a scatter plot to visualize the relationship between unit price and quantity\n",
        "\n",
        "plt.scatter(df['Unit price'], df['Quantity'])\n",
        "\n",
        "# add title and labels to the plot\n",
        "plt.title('Unit Price vs Quantity')\n",
        "plt.xlabel('Unit Price')\n",
        "plt.ylabel('Quantity')\n",
        "\n",
        "# show the plot\n",
        "plt.show()\n",
        "\n",
        "df[[\"Unit price\", \"Quantity\"]].corr()"
      ]
    },
    {
      "cell_type": "markdown",
      "id": "e02efdd0",
      "metadata": {
        "papermill": {
          "duration": 0.026825,
          "end_time": "2022-12-14T15:57:15.351053",
          "exception": false,
          "start_time": "2022-12-14T15:57:15.324228",
          "status": "completed"
        },
        "tags": [],
        "id": "e02efdd0"
      },
      "source": [
        "We can see a correlation value of **0.010778** indicates a very weak positive correlation between the two variables. This means that there is a very weak relationship between the two variables and as one variable increases, the other variable also increases, but only slightly."
      ]
    },
    {
      "cell_type": "markdown",
      "id": "f51d734d",
      "metadata": {
        "papermill": {
          "duration": 0.027348,
          "end_time": "2022-12-14T15:57:15.405618",
          "exception": false,
          "start_time": "2022-12-14T15:57:15.378270",
          "status": "completed"
        },
        "tags": [],
        "id": "f51d734d"
      },
      "source": [
        "**8. What is the overall satisfaction level of customers with the supermarket?**"
      ]
    },
    {
      "cell_type": "code",
      "execution_count": null,
      "id": "a161dcfd",
      "metadata": {
        "execution": {
          "iopub.execute_input": "2022-12-14T15:57:15.462928Z",
          "iopub.status.busy": "2022-12-14T15:57:15.461916Z",
          "iopub.status.idle": "2022-12-14T15:57:15.692567Z",
          "shell.execute_reply": "2022-12-14T15:57:15.691566Z"
        },
        "papermill": {
          "duration": 0.262014,
          "end_time": "2022-12-14T15:57:15.694961",
          "exception": false,
          "start_time": "2022-12-14T15:57:15.432947",
          "status": "completed"
        },
        "tags": [],
        "id": "a161dcfd",
        "outputId": "ff066ea3-37e1-4d5b-a4f0-3dededdf66fe"
      },
      "outputs": [
        {
          "data": {
            "image/png": "[encoded data removed]",
            "text/plain": [
              "<Figure size 432x288 with 1 Axes>"
            ]
          },
          "metadata": {
            "needs_background": "light"
          },
          "output_type": "display_data"
        }
      ],
      "source": [
        "# create a histogram to visualize the distribution of customer ratings\n",
        "\n",
        "df['Rating'].plot(kind='hist')\n",
        "\n",
        "# add title and labels to the plot\n",
        "plt.title('Distribution of Customer Ratings')\n",
        "plt.xlabel('Rating')\n",
        "plt.ylabel('Number of Customers')\n",
        "\n",
        "# show the plot\n",
        "plt.show()\n"
      ]
    },
    {
      "cell_type": "markdown",
      "id": "088db402",
      "metadata": {
        "papermill": {
          "duration": 0.029958,
          "end_time": "2022-12-14T15:57:15.752242",
          "exception": false,
          "start_time": "2022-12-14T15:57:15.722284",
          "status": "completed"
        },
        "tags": [],
        "id": "088db402"
      },
      "source": [
        "This visualization isn't really telling us much. Let's try to bin our dataset and let's see what happens."
      ]
    },
    {
      "cell_type": "code",
      "execution_count": null,
      "id": "66cef61e",
      "metadata": {
        "execution": {
          "iopub.execute_input": "2022-12-14T15:57:15.808330Z",
          "iopub.status.busy": "2022-12-14T15:57:15.807390Z",
          "iopub.status.idle": "2022-12-14T15:57:15.829323Z",
          "shell.execute_reply": "2022-12-14T15:57:15.828144Z"
        },
        "papermill": {
          "duration": 0.053444,
          "end_time": "2022-12-14T15:57:15.832460",
          "exception": false,
          "start_time": "2022-12-14T15:57:15.779016",
          "status": "completed"
        },
        "tags": [],
        "id": "66cef61e",
        "outputId": "c30d16ef-e95f-4e71-cb9e-f6ced5742a77"
      },
      "outputs": [
        {
          "data": {
            "text/html": [
              "<div>\n",
              "<style scoped>\n",
              "    .dataframe tbody tr th:only-of-type {\n",
              "        vertical-align: middle;\n",
              "    }\n",
              "\n",
              "    .dataframe tbody tr th {\n",
              "        vertical-align: top;\n",
              "    }\n",
              "\n",
              "    .dataframe thead th {\n",
              "        text-align: right;\n",
              "    }\n",
              "</style>\n",
              "<table border=\"1\" class=\"dataframe\">\n",
              "  <thead>\n",
              "    <tr style=\"text-align: right;\">\n",
              "      <th></th>\n",
              "      <th>Rating</th>\n",
              "      <th>rating-binned</th>\n",
              "    </tr>\n",
              "  </thead>\n",
              "  <tbody>\n",
              "    <tr>\n",
              "      <th>0</th>\n",
              "      <td>9.1</td>\n",
              "      <td>High</td>\n",
              "    </tr>\n",
              "    <tr>\n",
              "      <th>1</th>\n",
              "      <td>9.6</td>\n",
              "      <td>High</td>\n",
              "    </tr>\n",
              "    <tr>\n",
              "      <th>2</th>\n",
              "      <td>7.4</td>\n",
              "      <td>Medium</td>\n",
              "    </tr>\n",
              "    <tr>\n",
              "      <th>3</th>\n",
              "      <td>8.4</td>\n",
              "      <td>High</td>\n",
              "    </tr>\n",
              "    <tr>\n",
              "      <th>4</th>\n",
              "      <td>5.3</td>\n",
              "      <td>Low</td>\n",
              "    </tr>\n",
              "    <tr>\n",
              "      <th>5</th>\n",
              "      <td>4.1</td>\n",
              "      <td>Low</td>\n",
              "    </tr>\n",
              "    <tr>\n",
              "      <th>6</th>\n",
              "      <td>5.8</td>\n",
              "      <td>Low</td>\n",
              "    </tr>\n",
              "    <tr>\n",
              "      <th>7</th>\n",
              "      <td>8.0</td>\n",
              "      <td>Medium</td>\n",
              "    </tr>\n",
              "    <tr>\n",
              "      <th>8</th>\n",
              "      <td>7.2</td>\n",
              "      <td>Medium</td>\n",
              "    </tr>\n",
              "    <tr>\n",
              "      <th>9</th>\n",
              "      <td>5.9</td>\n",
              "      <td>Low</td>\n",
              "    </tr>\n",
              "    <tr>\n",
              "      <th>10</th>\n",
              "      <td>4.5</td>\n",
              "      <td>Low</td>\n",
              "    </tr>\n",
              "    <tr>\n",
              "      <th>11</th>\n",
              "      <td>6.8</td>\n",
              "      <td>Medium</td>\n",
              "    </tr>\n",
              "    <tr>\n",
              "      <th>12</th>\n",
              "      <td>7.1</td>\n",
              "      <td>Medium</td>\n",
              "    </tr>\n",
              "    <tr>\n",
              "      <th>13</th>\n",
              "      <td>8.2</td>\n",
              "      <td>High</td>\n",
              "    </tr>\n",
              "    <tr>\n",
              "      <th>14</th>\n",
              "      <td>5.7</td>\n",
              "      <td>Low</td>\n",
              "    </tr>\n",
              "    <tr>\n",
              "      <th>15</th>\n",
              "      <td>4.5</td>\n",
              "      <td>Low</td>\n",
              "    </tr>\n",
              "    <tr>\n",
              "      <th>16</th>\n",
              "      <td>4.6</td>\n",
              "      <td>Low</td>\n",
              "    </tr>\n",
              "    <tr>\n",
              "      <th>17</th>\n",
              "      <td>6.9</td>\n",
              "      <td>Medium</td>\n",
              "    </tr>\n",
              "    <tr>\n",
              "      <th>18</th>\n",
              "      <td>8.6</td>\n",
              "      <td>High</td>\n",
              "    </tr>\n",
              "    <tr>\n",
              "      <th>19</th>\n",
              "      <td>4.4</td>\n",
              "      <td>Low</td>\n",
              "    </tr>\n",
              "  </tbody>\n",
              "</table>\n",
              "</div>"
            ],
            "text/plain": [
              "    Rating rating-binned\n",
              "0      9.1          High\n",
              "1      9.6          High\n",
              "2      7.4        Medium\n",
              "3      8.4          High\n",
              "4      5.3           Low\n",
              "5      4.1           Low\n",
              "6      5.8           Low\n",
              "7      8.0        Medium\n",
              "8      7.2        Medium\n",
              "9      5.9           Low\n",
              "10     4.5           Low\n",
              "11     6.8        Medium\n",
              "12     7.1        Medium\n",
              "13     8.2          High\n",
              "14     5.7           Low\n",
              "15     4.5           Low\n",
              "16     4.6           Low\n",
              "17     6.9        Medium\n",
              "18     8.6          High\n",
              "19     4.4           Low"
            ]
          },
          "execution_count": 17,
          "metadata": {},
          "output_type": "execute_result"
        }
      ],
      "source": [
        "bins = np.linspace(min(df[\"Rating\"]), max(df[\"Rating\"]), 4)\n",
        "\n",
        "group_names = ['Low', 'Medium', 'High'] # let's set our group names\n",
        "\n",
        "df['rating-binned'] = pd.cut(df['Rating'], bins, labels=group_names, include_lowest=True )\n",
        "df[['Rating','rating-binned']].head(20)"
      ]
    },
    {
      "cell_type": "code",
      "execution_count": null,
      "id": "e04f6abd",
      "metadata": {
        "execution": {
          "iopub.execute_input": "2022-12-14T15:57:15.890208Z",
          "iopub.status.busy": "2022-12-14T15:57:15.889685Z",
          "iopub.status.idle": "2022-12-14T15:57:15.900354Z",
          "shell.execute_reply": "2022-12-14T15:57:15.899436Z"
        },
        "papermill": {
          "duration": 0.041606,
          "end_time": "2022-12-14T15:57:15.902696",
          "exception": false,
          "start_time": "2022-12-14T15:57:15.861090",
          "status": "completed"
        },
        "tags": [],
        "id": "e04f6abd",
        "outputId": "b9baafc6-cb94-4091-e2b6-96fda16b1606"
      },
      "outputs": [
        {
          "data": {
            "text/plain": [
              "Medium    351\n",
              "Low       341\n",
              "High      308\n",
              "Name: rating-binned, dtype: int64"
            ]
          },
          "execution_count": 18,
          "metadata": {},
          "output_type": "execute_result"
        }
      ],
      "source": [
        "# Let's see the number of ratings in each bin\n",
        "\n",
        "df[\"rating-binned\"].value_counts()"
      ]
    },
    {
      "cell_type": "code",
      "execution_count": null,
      "id": "3e21c6a5",
      "metadata": {
        "execution": {
          "iopub.execute_input": "2022-12-14T15:57:15.960186Z",
          "iopub.status.busy": "2022-12-14T15:57:15.959413Z",
          "iopub.status.idle": "2022-12-14T15:57:16.175460Z",
          "shell.execute_reply": "2022-12-14T15:57:16.173906Z"
        },
        "papermill": {
          "duration": 0.248096,
          "end_time": "2022-12-14T15:57:16.178551",
          "exception": false,
          "start_time": "2022-12-14T15:57:15.930455",
          "status": "completed"
        },
        "tags": [],
        "id": "3e21c6a5",
        "outputId": "9940dc6a-ef08-47bd-97fa-2d8e18ef8bc0"
      },
      "outputs": [
        {
          "data": {
            "text/plain": [
              "Text(0.5, 1.0, 'Distribution of Customer Rating bins')"
            ]
          },
          "execution_count": 19,
          "metadata": {},
          "output_type": "execute_result"
        },
        {
          "data": {
            "image/png": "[encoded data removed]",
            "text/plain": [
              "<Figure size 432x288 with 1 Axes>"
            ]
          },
          "metadata": {
            "needs_background": "light"
          },
          "output_type": "display_data"
        }
      ],
      "source": [
        "# Let's plot the distribution of each bin\n",
        "\n",
        "import matplotlib.pyplot as plt\n",
        "plt.bar(group_names, df[\"rating-binned\"].value_counts())\n",
        "\n",
        "# set x/y labels and plot title\n",
        "plt.xlabel(\"Rating\")\n",
        "plt.ylabel(\"count\")\n",
        "plt.title(\"Distribution of Customer Rating bins\")"
      ]
    },
    {
      "cell_type": "markdown",
      "id": "17ef72ec",
      "metadata": {
        "papermill": {
          "duration": 0.027928,
          "end_time": "2022-12-14T15:57:16.235044",
          "exception": false,
          "start_time": "2022-12-14T15:57:16.207116",
          "status": "completed"
        },
        "tags": [],
        "id": "17ef72ec"
      },
      "source": [
        "This visualization is much clear, compared to the earlier one."
      ]
    },
    {
      "cell_type": "markdown",
      "id": "6eb0d18b",
      "metadata": {
        "papermill": {
          "duration": 0.027589,
          "end_time": "2022-12-14T15:57:16.291262",
          "exception": false,
          "start_time": "2022-12-14T15:57:16.263673",
          "status": "completed"
        },
        "tags": [],
        "id": "6eb0d18b"
      },
      "source": [
        "**9. Which branches are performing well in terms of gross margin percentage?**"
      ]
    },
    {
      "cell_type": "code",
      "execution_count": null,
      "id": "6c204f8e",
      "metadata": {
        "execution": {
          "iopub.execute_input": "2022-12-14T15:57:16.349168Z",
          "iopub.status.busy": "2022-12-14T15:57:16.348543Z",
          "iopub.status.idle": "2022-12-14T15:57:16.535337Z",
          "shell.execute_reply": "2022-12-14T15:57:16.533947Z"
        },
        "papermill": {
          "duration": 0.218926,
          "end_time": "2022-12-14T15:57:16.537993",
          "exception": false,
          "start_time": "2022-12-14T15:57:16.319067",
          "status": "completed"
        },
        "tags": [],
        "id": "6c204f8e",
        "outputId": "e5f2a050-d1ad-4204-dfdf-44630de693ac"
      },
      "outputs": [
        {
          "data": {
            "image/png": "[encoded data removed]",
            "text/plain": [
              "<Figure size 432x288 with 1 Axes>"
            ]
          },
          "metadata": {
            "needs_background": "light"
          },
          "output_type": "display_data"
        }
      ],
      "source": [
        "import matplotlib.pyplot as plt\n",
        "\n",
        "# calculate the gross margin percentage for each branch\n",
        "df_branch_margin = df.groupby('Branch')['gross margin percentage'].mean()\n",
        "\n",
        "# create a box plot to visualize the distribution of gross margin percentages across different branches\n",
        "df_branch_margin.plot(kind='box')\n",
        "\n",
        "# add title and labels to the plot\n",
        "plt.title('Gross Margin Percentage by Branch')\n",
        "plt.xlabel('Branch')\n",
        "plt.ylabel('Gross Margin Percentage')\n",
        "\n",
        "# show the plot\n",
        "plt.show()\n"
      ]
    },
    {
      "cell_type": "markdown",
      "id": "40ffbe5a",
      "metadata": {
        "papermill": {
          "duration": 0.028441,
          "end_time": "2022-12-14T15:57:16.595032",
          "exception": false,
          "start_time": "2022-12-14T15:57:16.566591",
          "status": "completed"
        },
        "tags": [],
        "id": "40ffbe5a"
      },
      "source": [
        "As stated earlier, a gross margin of **0.047** means that out of the total revenue, only 4.76% is left after accounting for the COGS. This indicates a low level of profitability for the Supermarket. To improve the profitability, the business can try to reduce the COGS or increase the revenue."
      ]
    },
    {
      "cell_type": "markdown",
      "id": "e7db18d7",
      "metadata": {
        "papermill": {
          "duration": 0.029759,
          "end_time": "2022-12-14T15:57:16.653939",
          "exception": false,
          "start_time": "2022-12-14T15:57:16.624180",
          "status": "completed"
        },
        "tags": [],
        "id": "e7db18d7"
      },
      "source": [
        "**10. What are the most popular product lines in the supermarket?**"
      ]
    },
    {
      "cell_type": "code",
      "execution_count": null,
      "id": "cb1aebc8",
      "metadata": {
        "execution": {
          "iopub.execute_input": "2022-12-14T15:57:16.714451Z",
          "iopub.status.busy": "2022-12-14T15:57:16.714047Z",
          "iopub.status.idle": "2022-12-14T15:57:16.912767Z",
          "shell.execute_reply": "2022-12-14T15:57:16.911158Z"
        },
        "papermill": {
          "duration": 0.232186,
          "end_time": "2022-12-14T15:57:16.915428",
          "exception": false,
          "start_time": "2022-12-14T15:57:16.683242",
          "status": "completed"
        },
        "tags": [],
        "id": "cb1aebc8",
        "outputId": "483dc76a-aa5f-401a-d133-6e8819e681a9"
      },
      "outputs": [
        {
          "name": "stdout",
          "output_type": "stream",
          "text": [
            "Most popular product lines:\n",
            "Product line\n",
            "Food and beverages        56144.8440\n",
            "Sports and travel         55122.8265\n",
            "Electronic accessories    54337.5315\n",
            "Fashion accessories       54305.8950\n",
            "Home and lifestyle        53861.9130\n",
            "Health and beauty         49193.7390\n",
            "Name: Total, dtype: float64\n"
          ]
        },
        {
          "data": {
            "text/plain": [
              "<AxesSubplot:title={'center':'Most Popular Product Lines'}, xlabel='Product line'>"
            ]
          },
          "execution_count": 21,
          "metadata": {},
          "output_type": "execute_result"
        },
        {
          "data": {
            "image/png": "[encoded data removed]",
            "text/plain": [
              "<Figure size 432x288 with 1 Axes>"
            ]
          },
          "metadata": {
            "needs_background": "light"
          },
          "output_type": "display_data"
        }
      ],
      "source": [
        "# group the data by product line and calculate the total sales for each product line\n",
        "product_line_sales = df.groupby('Product line')['Total'].sum()\n",
        "\n",
        "# sort the product lines by total sales in descending order\n",
        "product_line_sales = product_line_sales.sort_values(ascending=False)\n",
        "\n",
        "# print the most popular product lines\n",
        "print('Most popular product lines:')\n",
        "print(product_line_sales.head(10))\n",
        "\n",
        "# visualize the most popular product lines\n",
        "product_line_sales.head(10).plot(kind='bar', title = 'Most Popular Product Lines')"
      ]
    },
    {
      "cell_type": "markdown",
      "id": "4af47d32",
      "metadata": {
        "papermill": {
          "duration": 0.028527,
          "end_time": "2022-12-14T15:57:16.973350",
          "exception": false,
          "start_time": "2022-12-14T15:57:16.944823",
          "status": "completed"
        },
        "tags": [],
        "id": "4af47d32"
      },
      "source": [
        "**11. What are the most profitable product lines in the supermarket?**"
      ]
    },
    {
      "cell_type": "code",
      "execution_count": null,
      "id": "f4313e92",
      "metadata": {
        "execution": {
          "iopub.execute_input": "2022-12-14T15:57:17.035926Z",
          "iopub.status.busy": "2022-12-14T15:57:17.035167Z",
          "iopub.status.idle": "2022-12-14T15:57:17.232806Z",
          "shell.execute_reply": "2022-12-14T15:57:17.231096Z"
        },
        "papermill": {
          "duration": 0.232857,
          "end_time": "2022-12-14T15:57:17.235921",
          "exception": false,
          "start_time": "2022-12-14T15:57:17.003064",
          "status": "completed"
        },
        "tags": [],
        "id": "f4313e92",
        "outputId": "d3fea084-9e45-4138-b0a3-9a6c99f39bba"
      },
      "outputs": [
        {
          "name": "stdout",
          "output_type": "stream",
          "text": [
            "Most profitable product lines:\n",
            "Product line\n",
            "Food and beverages        2673.5640\n",
            "Sports and travel         2624.8965\n",
            "Electronic accessories    2587.5015\n",
            "Fashion accessories       2585.9950\n",
            "Home and lifestyle        2564.8530\n",
            "Health and beauty         2342.5590\n",
            "Name: gross income, dtype: float64\n"
          ]
        },
        {
          "data": {
            "text/plain": [
              "<AxesSubplot:title={'center':'Most Profitable Product Lines'}, xlabel='Product line'>"
            ]
          },
          "execution_count": 22,
          "metadata": {},
          "output_type": "execute_result"
        },
        {
          "data": {
            "image/png": "[encoded data removed]",
            "text/plain": [
              "<Figure size 432x288 with 1 Axes>"
            ]
          },
          "metadata": {
            "needs_background": "light"
          },
          "output_type": "display_data"
        }
      ],
      "source": [
        "# group the data by product line and calculate the total gross income for each product line\n",
        "product_line_income = df.groupby('Product line')['gross income'].sum()\n",
        "\n",
        "# sort the product lines by total gross income in descending order\n",
        "product_line_income = product_line_income.sort_values(ascending=False)\n",
        "\n",
        "# print the top 10 most profitable product lines\n",
        "print('Most profitable product lines:')\n",
        "print(product_line_income.head(10))\n",
        "\n",
        "# visualize the most profitable product lines\n",
        "product_line_income.head(10).plot(kind='bar', title = 'Most Profitable Product Lines')"
      ]
    },
    {
      "cell_type": "markdown",
      "id": "4abd3ca1",
      "metadata": {
        "papermill": {
          "duration": 0.02897,
          "end_time": "2022-12-14T15:57:17.294952",
          "exception": false,
          "start_time": "2022-12-14T15:57:17.265982",
          "status": "completed"
        },
        "tags": [],
        "id": "4abd3ca1"
      },
      "source": [
        "**12. What are the most popular payment methods used in the supermarket?**"
      ]
    },
    {
      "cell_type": "code",
      "execution_count": null,
      "id": "3290e432",
      "metadata": {
        "execution": {
          "iopub.execute_input": "2022-12-14T15:57:17.355260Z",
          "iopub.status.busy": "2022-12-14T15:57:17.354000Z",
          "iopub.status.idle": "2022-12-14T15:57:17.514198Z",
          "shell.execute_reply": "2022-12-14T15:57:17.512879Z"
        },
        "papermill": {
          "duration": 0.19334,
          "end_time": "2022-12-14T15:57:17.516996",
          "exception": false,
          "start_time": "2022-12-14T15:57:17.323656",
          "status": "completed"
        },
        "tags": [],
        "id": "3290e432",
        "outputId": "15677190-ca9b-4296-860f-11835169e463"
      },
      "outputs": [
        {
          "name": "stdout",
          "output_type": "stream",
          "text": [
            "Most popular payment methods:\n",
            "Payment\n",
            "Cash           112206.570\n",
            "Ewallet        109993.107\n",
            "Credit card    100767.072\n",
            "Name: Total, dtype: float64\n"
          ]
        },
        {
          "data": {
            "text/plain": [
              "<AxesSubplot:title={'center':'Most Popular Payment Methods'}, xlabel='Payment'>"
            ]
          },
          "execution_count": 23,
          "metadata": {},
          "output_type": "execute_result"
        },
        {
          "data": {
            "image/png": "[encoded data removed]",
            "text/plain": [
              "<Figure size 432x288 with 1 Axes>"
            ]
          },
          "metadata": {
            "needs_background": "light"
          },
          "output_type": "display_data"
        }
      ],
      "source": [
        "# group the data by payment method and calculate the total sales for each payment method\n",
        "payment_method_sales = df.groupby('Payment')['Total'].sum()\n",
        "\n",
        "# sort the payment methods by total sales in descending order\n",
        "payment_method_sales = payment_method_sales.sort_values(ascending=False)\n",
        "\n",
        "# print the most popular payment methods\n",
        "print('Most popular payment methods:')\n",
        "print(payment_method_sales.head(10))\n",
        "\n",
        "# visualize the most popular payment methods\n",
        "payment_method_sales.head(10).plot(kind='bar', title = 'Most Popular Payment Methods')"
      ]
    },
    {
      "cell_type": "code",
      "execution_count": null,
      "id": "aa2bdfe6",
      "metadata": {
        "execution": {
          "iopub.execute_input": "2022-12-14T15:57:17.578019Z",
          "iopub.status.busy": "2022-12-14T15:57:17.577503Z",
          "iopub.status.idle": "2022-12-14T15:57:17.778109Z",
          "shell.execute_reply": "2022-12-14T15:57:17.776822Z"
        },
        "papermill": {
          "duration": 0.234009,
          "end_time": "2022-12-14T15:57:17.780659",
          "exception": false,
          "start_time": "2022-12-14T15:57:17.546650",
          "status": "completed"
        },
        "tags": [],
        "id": "aa2bdfe6",
        "outputId": "d91fd2f4-06a3-4d72-dc57-30b0258c6f53"
      },
      "outputs": [
        {
          "data": {
            "text/plain": [
              "<AxesSubplot:xlabel='Payment', ylabel='Total'>"
            ]
          },
          "execution_count": 24,
          "metadata": {},
          "output_type": "execute_result"
        },
        {
          "data": {
            "image/png": "[encoded data removed]",
            "text/plain": [
              "<Figure size 792x432 with 1 Axes>"
            ]
          },
          "metadata": {
            "needs_background": "light"
          },
          "output_type": "display_data"
        }
      ],
      "source": [
        "# total sales for each gender by payment method\n",
        "\n",
        "plt.figure(figsize = (11,6))\n",
        "sns.barplot(x = 'Payment', y = 'Total', hue = 'Gender', data = df, ci = None, estimator = sum)"
      ]
    },
    {
      "cell_type": "code",
      "execution_count": null,
      "id": "091f4cfe",
      "metadata": {
        "execution": {
          "iopub.execute_input": "2022-12-14T15:57:17.844067Z",
          "iopub.status.busy": "2022-12-14T15:57:17.843555Z",
          "iopub.status.idle": "2022-12-14T15:57:18.048752Z",
          "shell.execute_reply": "2022-12-14T15:57:18.047204Z"
        },
        "papermill": {
          "duration": 0.240808,
          "end_time": "2022-12-14T15:57:18.051586",
          "exception": false,
          "start_time": "2022-12-14T15:57:17.810778",
          "status": "completed"
        },
        "tags": [],
        "id": "091f4cfe",
        "outputId": "ce3fbcac-b819-428e-f1ad-ee88dccd78de"
      },
      "outputs": [
        {
          "data": {
            "text/plain": [
              "<AxesSubplot:xlabel='Payment', ylabel='Total'>"
            ]
          },
          "execution_count": 25,
          "metadata": {},
          "output_type": "execute_result"
        },
        {
          "data": {
            "image/png": "[encoded data removed]",
            "text/plain": [
              "<Figure size 792x432 with 1 Axes>"
            ]
          },
          "metadata": {
            "needs_background": "light"
          },
          "output_type": "display_data"
        }
      ],
      "source": [
        "# total sales for each customer type by payment method\n",
        "\n",
        "plt.figure(figsize = (11,6))\n",
        "sns.barplot(x = 'Payment', y = 'Total', hue = 'Customer type', data = df, ci = None, estimator = sum)"
      ]
    },
    {
      "cell_type": "markdown",
      "id": "56045069",
      "metadata": {
        "papermill": {
          "duration": 0.029826,
          "end_time": "2022-12-14T15:57:18.111979",
          "exception": false,
          "start_time": "2022-12-14T15:57:18.082153",
          "status": "completed"
        },
        "tags": [],
        "id": "56045069"
      },
      "source": [
        "**13. What are the average unit prices and quantities sold for each product line?**"
      ]
    },
    {
      "cell_type": "code",
      "execution_count": null,
      "id": "8cd769fa",
      "metadata": {
        "execution": {
          "iopub.execute_input": "2022-12-14T15:57:18.173506Z",
          "iopub.status.busy": "2022-12-14T15:57:18.172798Z",
          "iopub.status.idle": "2022-12-14T15:57:18.472346Z",
          "shell.execute_reply": "2022-12-14T15:57:18.471408Z"
        },
        "papermill": {
          "duration": 0.333349,
          "end_time": "2022-12-14T15:57:18.474836",
          "exception": false,
          "start_time": "2022-12-14T15:57:18.141487",
          "status": "completed"
        },
        "tags": [],
        "id": "8cd769fa",
        "outputId": "57bb4207-9deb-44b7-8c6d-628b20bc4456"
      },
      "outputs": [
        {
          "name": "stdout",
          "output_type": "stream",
          "text": [
            "Average unit prices and quantities for each product line:\n",
            "                        Unit price  Quantity\n",
            "Product line                                \n",
            "Electronic accessories   53.551588  5.711765\n",
            "Fashion accessories      57.153652  5.067416\n",
            "Food and beverages       56.008851  5.471264\n",
            "Health and beauty        54.854474  5.618421\n",
            "Home and lifestyle       55.316937  5.693750\n",
            "Sports and travel        56.993253  5.542169\n"
          ]
        },
        {
          "name": "stderr",
          "output_type": "stream",
          "text": [
            "/opt/conda/lib/python3.7/site-packages/ipykernel_launcher.py:2: FutureWarning: Indexing with multiple keys (implicitly converted to a tuple of keys) will be deprecated, use a list instead.\n",
            "  \n"
          ]
        },
        {
          "data": {
            "text/plain": [
              "<AxesSubplot:title={'center':'Average Unit Price and Quantities Per Product Line'}, xlabel='Product line'>"
            ]
          },
          "execution_count": 26,
          "metadata": {},
          "output_type": "execute_result"
        },
        {
          "data": {
            "image/png": "[encoded data removed]",
            "text/plain": [
              "<Figure size 432x288 with 1 Axes>"
            ]
          },
          "metadata": {
            "needs_background": "light"
          },
          "output_type": "display_data"
        }
      ],
      "source": [
        "# group the data by product line and calculate the average unit price and quantity for each product line\n",
        "product_line_data = df.groupby('Product line')['Unit price', 'Quantity'].mean()\n",
        "\n",
        "# print the average unit prices and quantities for each product line\n",
        "print('Average unit prices and quantities for each product line:')\n",
        "print(product_line_data)\n",
        "\n",
        "# visualize the average unit price and quantities for each product line\n",
        "product_line_data.head(10).plot(kind='bar', title = 'Average Unit Price and Quantities Per Product Line')"
      ]
    },
    {
      "cell_type": "code",
      "execution_count": null,
      "id": "9feb0292",
      "metadata": {
        "execution": {
          "iopub.execute_input": "2022-12-14T15:57:18.542290Z",
          "iopub.status.busy": "2022-12-14T15:57:18.541514Z",
          "iopub.status.idle": "2022-12-14T15:57:18.943738Z",
          "shell.execute_reply": "2022-12-14T15:57:18.941999Z"
        },
        "papermill": {
          "duration": 0.439303,
          "end_time": "2022-12-14T15:57:18.946946",
          "exception": false,
          "start_time": "2022-12-14T15:57:18.507643",
          "status": "completed"
        },
        "tags": [],
        "id": "9feb0292",
        "outputId": "11e665af-bd58-480b-b655-57844da1d69b"
      },
      "outputs": [
        {
          "data": {
            "text/plain": [
              "<AxesSubplot:title={'center':'Average Unit Price Per Product Line'}, xlabel='Product line'>"
            ]
          },
          "execution_count": 27,
          "metadata": {},
          "output_type": "execute_result"
        },
        {
          "data": {
            "image/png": "[encoded data removed]",
            "text/plain": [
              "<Figure size 432x288 with 1 Axes>"
            ]
          },
          "metadata": {
            "needs_background": "light"
          },
          "output_type": "display_data"
        }
      ],
      "source": [
        "# visualize the average unit prices for each product line\n",
        "product_line_data['Unit price'].plot(kind='bar', title = 'Average Unit Price Per Product Line')"
      ]
    },
    {
      "cell_type": "code",
      "execution_count": null,
      "id": "5c219cf2",
      "metadata": {
        "execution": {
          "iopub.execute_input": "2022-12-14T15:57:19.012790Z",
          "iopub.status.busy": "2022-12-14T15:57:19.012375Z",
          "iopub.status.idle": "2022-12-14T15:57:19.202101Z",
          "shell.execute_reply": "2022-12-14T15:57:19.200473Z"
        },
        "papermill": {
          "duration": 0.226548,
          "end_time": "2022-12-14T15:57:19.205203",
          "exception": false,
          "start_time": "2022-12-14T15:57:18.978655",
          "status": "completed"
        },
        "tags": [],
        "id": "5c219cf2",
        "outputId": "8397701b-3360-45c9-a512-83a2621bc165"
      },
      "outputs": [
        {
          "data": {
            "text/plain": [
              "<AxesSubplot:title={'center':'Average Quantities Per Product Line'}, xlabel='Product line'>"
            ]
          },
          "execution_count": 28,
          "metadata": {},
          "output_type": "execute_result"
        },
        {
          "data": {
            "image/png": "[encoded data removed]",
            "text/plain": [
              "<Figure size 432x288 with 1 Axes>"
            ]
          },
          "metadata": {
            "needs_background": "light"
          },
          "output_type": "display_data"
        }
      ],
      "source": [
        "# visualize the average quantities for each product line\n",
        "product_line_data['Quantity'].plot(kind='bar', title = 'Average Quantities Per Product Line')"
      ]
    },
    {
      "cell_type": "markdown",
      "id": "050eddb4",
      "metadata": {
        "papermill": {
          "duration": 0.031727,
          "end_time": "2022-12-14T15:57:19.268844",
          "exception": false,
          "start_time": "2022-12-14T15:57:19.237117",
          "status": "completed"
        },
        "tags": [],
        "id": "050eddb4"
      },
      "source": [
        "**14. What are the average gross margins and gross incomes for each product line?**"
      ]
    },
    {
      "cell_type": "code",
      "execution_count": null,
      "id": "2b1c5341",
      "metadata": {
        "execution": {
          "iopub.execute_input": "2022-12-14T15:57:19.335228Z",
          "iopub.status.busy": "2022-12-14T15:57:19.334733Z",
          "iopub.status.idle": "2022-12-14T15:57:19.589535Z",
          "shell.execute_reply": "2022-12-14T15:57:19.587932Z"
        },
        "papermill": {
          "duration": 0.291464,
          "end_time": "2022-12-14T15:57:19.592563",
          "exception": false,
          "start_time": "2022-12-14T15:57:19.301099",
          "status": "completed"
        },
        "tags": [],
        "id": "2b1c5341",
        "outputId": "0c3fd863-6171-4cda-c880-1ffac06fe0d1"
      },
      "outputs": [
        {
          "name": "stdout",
          "output_type": "stream",
          "text": [
            "Average gross margins and gross incomes for each product line:\n",
            "                        gross margin percentage  gross income\n",
            "Product line                                                 \n",
            "Electronic accessories                 4.761905     15.220597\n",
            "Fashion accessories                    4.761905     14.528062\n",
            "Food and beverages                     4.761905     15.365310\n",
            "Health and beauty                      4.761905     15.411572\n",
            "Home and lifestyle                     4.761905     16.030331\n",
            "Sports and travel                      4.761905     15.812630\n"
          ]
        },
        {
          "name": "stderr",
          "output_type": "stream",
          "text": [
            "/opt/conda/lib/python3.7/site-packages/ipykernel_launcher.py:2: FutureWarning: Indexing with multiple keys (implicitly converted to a tuple of keys) will be deprecated, use a list instead.\n",
            "  \n"
          ]
        },
        {
          "data": {
            "text/plain": [
              "<AxesSubplot:title={'center':'Average Gross Margins and Gross Incomes Per Product Line'}, xlabel='Product line'>"
            ]
          },
          "execution_count": 29,
          "metadata": {},
          "output_type": "execute_result"
        },
        {
          "data": {
            "image/png": "[encoded data removed]",
            "text/plain": [
              "<Figure size 432x288 with 1 Axes>"
            ]
          },
          "metadata": {
            "needs_background": "light"
          },
          "output_type": "display_data"
        }
      ],
      "source": [
        "# group the data by product line and calculate the average gross margin and gross income for each product line\n",
        "product_line_dataa = df.groupby('Product line')['gross margin percentage', 'gross income'].mean()\n",
        "\n",
        "# print the average gross margins and gross incomes for each product line\n",
        "print('Average gross margins and gross incomes for each product line:')\n",
        "print(product_line_dataa)\n",
        "\n",
        "# visualize the average gross margins and gross incomes for each product line\n",
        "product_line_dataa.head(10).plot(kind='bar', title = 'Average Gross Margins and Gross Incomes Per Product Line')"
      ]
    },
    {
      "cell_type": "markdown",
      "id": "5bfb9bbf",
      "metadata": {
        "papermill": {
          "duration": 0.034231,
          "end_time": "2022-12-14T15:57:19.659820",
          "exception": false,
          "start_time": "2022-12-14T15:57:19.625589",
          "status": "completed"
        },
        "tags": [],
        "id": "5bfb9bbf"
      },
      "source": [
        "**15. What are the average customer ratings for each product line?**"
      ]
    },
    {
      "cell_type": "code",
      "execution_count": null,
      "id": "06a8ad34",
      "metadata": {
        "execution": {
          "iopub.execute_input": "2022-12-14T15:57:19.735797Z",
          "iopub.status.busy": "2022-12-14T15:57:19.734722Z",
          "iopub.status.idle": "2022-12-14T15:57:19.932319Z",
          "shell.execute_reply": "2022-12-14T15:57:19.930953Z"
        },
        "papermill": {
          "duration": 0.236818,
          "end_time": "2022-12-14T15:57:19.935229",
          "exception": false,
          "start_time": "2022-12-14T15:57:19.698411",
          "status": "completed"
        },
        "tags": [],
        "id": "06a8ad34",
        "outputId": "92e86bce-f671-423c-b7d0-c24c8a28f23c"
      },
      "outputs": [
        {
          "name": "stdout",
          "output_type": "stream",
          "text": [
            "Average customer ratings for each product line:\n",
            "Product line\n",
            "Electronic accessories    6.924706\n",
            "Fashion accessories       7.029213\n",
            "Food and beverages        7.113218\n",
            "Health and beauty         7.003289\n",
            "Home and lifestyle        6.837500\n",
            "Sports and travel         6.916265\n",
            "Name: Rating, dtype: float64\n"
          ]
        },
        {
          "data": {
            "text/plain": [
              "<AxesSubplot:title={'center':'Average Customer Ratings Per Product Line'}, xlabel='Product line'>"
            ]
          },
          "execution_count": 30,
          "metadata": {},
          "output_type": "execute_result"
        },
        {
          "data": {
            "image/png": "[encoded data removed]",
            "text/plain": [
              "<Figure size 432x288 with 1 Axes>"
            ]
          },
          "metadata": {
            "needs_background": "light"
          },
          "output_type": "display_data"
        }
      ],
      "source": [
        "# group the data by product line and calculate the average customer rating for each product line\n",
        "product_line_datta = df.groupby('Product line')['Rating'].mean()\n",
        "\n",
        "# print the average customer ratings for each product line\n",
        "print('Average customer ratings for each product line:')\n",
        "print(product_line_datta)\n",
        "\n",
        "# visualize the average customer ratings for each product line\n",
        "product_line_datta.head(10).plot(kind='bar', title = 'Average Customer Ratings Per Product Line')"
      ]
    },
    {
      "cell_type": "markdown",
      "id": "473550a0",
      "metadata": {
        "papermill": {
          "duration": 0.033963,
          "end_time": "2022-12-14T15:57:20.002899",
          "exception": false,
          "start_time": "2022-12-14T15:57:19.968936",
          "status": "completed"
        },
        "tags": [],
        "id": "473550a0"
      },
      "source": [
        "**16. What are the most popular branches of the supermarket in terms of sales and customer ratings?**"
      ]
    },
    {
      "cell_type": "code",
      "execution_count": null,
      "id": "fa510d8d",
      "metadata": {
        "execution": {
          "iopub.execute_input": "2022-12-14T15:57:20.074584Z",
          "iopub.status.busy": "2022-12-14T15:57:20.074073Z",
          "iopub.status.idle": "2022-12-14T15:57:20.320105Z",
          "shell.execute_reply": "2022-12-14T15:57:20.318656Z"
        },
        "papermill": {
          "duration": 0.285142,
          "end_time": "2022-12-14T15:57:20.323222",
          "exception": false,
          "start_time": "2022-12-14T15:57:20.038080",
          "status": "completed"
        },
        "tags": [],
        "id": "fa510d8d",
        "outputId": "ff918dd2-c264-4e89-9eb3-1f1c8c38afcc"
      },
      "outputs": [
        {
          "name": "stdout",
          "output_type": "stream",
          "text": [
            "Most popular branches:\n",
            "              Total              Rating          \n",
            "                sum        mean     sum      mean\n",
            "Branch                                           \n",
            "C       110568.7065  337.099715  2319.9  7.072866\n",
            "A       106200.3705  312.354031  2389.2  7.027059\n",
            "B       106197.6720  319.872506  2263.6  6.818072\n"
          ]
        },
        {
          "name": "stderr",
          "output_type": "stream",
          "text": [
            "/opt/conda/lib/python3.7/site-packages/ipykernel_launcher.py:2: FutureWarning: Indexing with multiple keys (implicitly converted to a tuple of keys) will be deprecated, use a list instead.\n",
            "  \n"
          ]
        },
        {
          "data": {
            "text/plain": [
              "<AxesSubplot:title={'center':'Most Popular Branch in Sales and Customer Ratings'}, xlabel='Branch'>"
            ]
          },
          "execution_count": 31,
          "metadata": {},
          "output_type": "execute_result"
        },
        {
          "data": {
            "image/png": "[encoded data removed]",
            "text/plain": [
              "<Figure size 432x288 with 1 Axes>"
            ]
          },
          "metadata": {
            "needs_background": "light"
          },
          "output_type": "display_data"
        }
      ],
      "source": [
        "# group the data by branch and calculate the total sales and average customer rating for each branch\n",
        "branch_data = df.groupby('Branch')['Total', 'Rating'].agg(['sum', 'mean'])\n",
        "\n",
        "# sort the branches by total sales in descending order\n",
        "branch_data = branch_data.sort_values(('Total', 'sum'), ascending=False)\n",
        "\n",
        "# print the most popular branches in terms of sales and customer ratings\n",
        "print('Most popular branches:')\n",
        "print(branch_data.head(10))\n",
        "\n",
        "# visualize the most popular branches in terms of sales and customer ratings\n",
        "branch_data.head(10).plot(kind='bar', title = 'Most Popular Branch in Sales and Customer Ratings')"
      ]
    },
    {
      "cell_type": "markdown",
      "id": "b5455c76",
      "metadata": {
        "papermill": {
          "duration": 0.033498,
          "end_time": "2022-12-14T15:57:20.391000",
          "exception": false,
          "start_time": "2022-12-14T15:57:20.357502",
          "status": "completed"
        },
        "tags": [],
        "id": "b5455c76"
      },
      "source": [
        "**17. What are the most popular cities for the supermarket in terms of sales and customer ratings?**"
      ]
    },
    {
      "cell_type": "code",
      "execution_count": null,
      "id": "91442f78",
      "metadata": {
        "execution": {
          "iopub.execute_input": "2022-12-14T15:57:20.462207Z",
          "iopub.status.busy": "2022-12-14T15:57:20.461087Z",
          "iopub.status.idle": "2022-12-14T15:57:20.714450Z",
          "shell.execute_reply": "2022-12-14T15:57:20.712560Z"
        },
        "papermill": {
          "duration": 0.294189,
          "end_time": "2022-12-14T15:57:20.719120",
          "exception": false,
          "start_time": "2022-12-14T15:57:20.424931",
          "status": "completed"
        },
        "tags": [],
        "id": "91442f78",
        "outputId": "65900d87-d745-4f09-bd93-bc97644c76da"
      },
      "outputs": [
        {
          "name": "stdout",
          "output_type": "stream",
          "text": [
            "Most popular cities:\n",
            "                 Total              Rating          \n",
            "                   sum        mean     sum      mean\n",
            "City                                                \n",
            "Naypyitaw  110568.7065  337.099715  2319.9  7.072866\n",
            "Yangon     106200.3705  312.354031  2389.2  7.027059\n",
            "Mandalay   106197.6720  319.872506  2263.6  6.818072\n"
          ]
        },
        {
          "name": "stderr",
          "output_type": "stream",
          "text": [
            "/opt/conda/lib/python3.7/site-packages/ipykernel_launcher.py:2: FutureWarning: Indexing with multiple keys (implicitly converted to a tuple of keys) will be deprecated, use a list instead.\n",
            "  \n"
          ]
        },
        {
          "data": {
            "text/plain": [
              "<AxesSubplot:title={'center':'Most Popular Cities in Sales and Customer Ratings'}, xlabel='City'>"
            ]
          },
          "execution_count": 32,
          "metadata": {},
          "output_type": "execute_result"
        },
        {
          "data": {
            "image/png": "[encoded data removed]",
            "text/plain": [
              "<Figure size 432x288 with 1 Axes>"
            ]
          },
          "metadata": {
            "needs_background": "light"
          },
          "output_type": "display_data"
        }
      ],
      "source": [
        "# group the data by city and calculate the total sales and average customer rating for each city\n",
        "city_data = df.groupby('City')['Total', 'Rating'].agg(['sum', 'mean'])\n",
        "\n",
        "# sort the cities by total sales in descending order\n",
        "city_data = city_data.sort_values(('Total', 'sum'), ascending=False)\n",
        "\n",
        "# print the most popular cities in terms of sales and customer ratings\n",
        "print('Most popular cities:')\n",
        "print(city_data.head(10))\n",
        "\n",
        "# visualize the most popular cities in terms of sales and customer ratings\n",
        "city_data.head(10).plot(kind='bar', title = 'Most Popular Cities in Sales and Customer Ratings')"
      ]
    },
    {
      "cell_type": "markdown",
      "id": "9d035d6e",
      "metadata": {
        "papermill": {
          "duration": 0.041272,
          "end_time": "2022-12-14T15:57:20.815486",
          "exception": false,
          "start_time": "2022-12-14T15:57:20.774214",
          "status": "completed"
        },
        "tags": [],
        "id": "9d035d6e"
      },
      "source": [
        "**18. What are the characteristics of the most satisfied customers in terms of gender, customer type, payment method, and product line?**"
      ]
    },
    {
      "cell_type": "code",
      "execution_count": null,
      "id": "c8e37996",
      "metadata": {
        "execution": {
          "iopub.execute_input": "2022-12-14T15:57:20.896945Z",
          "iopub.status.busy": "2022-12-14T15:57:20.895445Z",
          "iopub.status.idle": "2022-12-14T15:57:21.260187Z",
          "shell.execute_reply": "2022-12-14T15:57:21.255313Z"
        },
        "papermill": {
          "duration": 0.406848,
          "end_time": "2022-12-14T15:57:21.263605",
          "exception": false,
          "start_time": "2022-12-14T15:57:20.856757",
          "status": "completed"
        },
        "tags": [],
        "id": "c8e37996",
        "outputId": "76f25ffa-d210-42cd-d0db-004029812ce8"
      },
      "outputs": [
        {
          "name": "stdout",
          "output_type": "stream",
          "text": [
            "Top 10 groups with the highest average customer ratings:\n",
            "Gender  Customer type  Payment      Product line          \n",
            "Female  Member         Credit card  Electronic accessories    8.050000\n",
            "Male    Normal         Credit card  Electronic accessories    7.925000\n",
            "Female  Normal         Cash         Food and beverages        7.876923\n",
            "Male    Member         Credit card  Electronic accessories    7.843750\n",
            "                       Ewallet      Health and beauty         7.815385\n",
            "Female  Normal         Cash         Health and beauty         7.738462\n",
            "Male    Normal         Ewallet      Sports and travel         7.584211\n",
            "Female  Member         Ewallet      Home and lifestyle        7.520000\n",
            "                       Cash         Food and beverages        7.485000\n",
            "        Normal         Cash         Fashion accessories       7.476471\n",
            "Name: Rating, dtype: float64\n"
          ]
        },
        {
          "data": {
            "text/plain": [
              "<AxesSubplot:title={'center':'Top Groups With The Highest Average Customer Ratings'}, xlabel='Gender,Customer type,Payment,Product line'>"
            ]
          },
          "execution_count": 33,
          "metadata": {},
          "output_type": "execute_result"
        },
        {
          "data": {
            "image/png": "[encoded data removed]",
            "text/plain": [
              "<Figure size 432x288 with 1 Axes>"
            ]
          },
          "metadata": {
            "needs_background": "light"
          },
          "output_type": "display_data"
        }
      ],
      "source": [
        "# group the data by gender, customer type, payment method, and product line and calculate the average customer rating for each group\n",
        "customer_data = df.groupby(['Gender', 'Customer type', 'Payment', 'Product line'])['Rating'].mean()\n",
        "\n",
        "# sort the groups by average customer rating in descending order\n",
        "customer_data = customer_data.sort_values(ascending=False)\n",
        "\n",
        "# print the top 10 groups with the highest average customer ratings\n",
        "print('Top 10 groups with the highest average customer ratings:')\n",
        "print(customer_data.head(10))\n",
        "\n",
        "# visualize the top 10 groups with the highest average customer ratings\n",
        "customer_data.head(10).plot(kind='bar', title = 'Top Groups With The Highest Average Customer Ratings')"
      ]
    },
    {
      "cell_type": "markdown",
      "id": "98f4eadc",
      "metadata": {
        "papermill": {
          "duration": 0.035282,
          "end_time": "2022-12-14T15:57:21.334834",
          "exception": false,
          "start_time": "2022-12-14T15:57:21.299552",
          "status": "completed"
        },
        "tags": [],
        "id": "98f4eadc"
      },
      "source": [
        "**19. What are the characteristics of the most dissatisfied customers in terms of gender, customer type, payment method, and product line?**"
      ]
    },
    {
      "cell_type": "code",
      "execution_count": null,
      "id": "33f8bbc4",
      "metadata": {
        "execution": {
          "iopub.execute_input": "2022-12-14T15:57:21.408195Z",
          "iopub.status.busy": "2022-12-14T15:57:21.407225Z",
          "iopub.status.idle": "2022-12-14T15:57:21.740199Z",
          "shell.execute_reply": "2022-12-14T15:57:21.738844Z"
        },
        "papermill": {
          "duration": 0.372887,
          "end_time": "2022-12-14T15:57:21.743218",
          "exception": false,
          "start_time": "2022-12-14T15:57:21.370331",
          "status": "completed"
        },
        "tags": [],
        "id": "33f8bbc4",
        "outputId": "8c69ff21-7aa9-4352-c1ed-19613bbb1027"
      },
      "outputs": [
        {
          "name": "stdout",
          "output_type": "stream",
          "text": [
            "Top 10 groups with the lowest average customer ratings:\n",
            "Gender  Customer type  Payment      Product line          \n",
            "Male    Member         Cash         Home and lifestyle        6.073333\n",
            "Female  Member         Ewallet      Food and beverages        6.100000\n",
            "        Normal         Credit card  Home and lifestyle        6.133333\n",
            "        Member         Ewallet      Sports and travel         6.181250\n",
            "        Normal         Ewallet      Sports and travel         6.227273\n",
            "        Member         Ewallet      Electronic accessories    6.250000\n",
            "        Normal         Credit card  Electronic accessories    6.250000\n",
            "Male    Member         Credit card  Home and lifestyle        6.300000\n",
            "Female  Normal         Ewallet      Home and lifestyle        6.335714\n",
            "                                    Health and beauty         6.392857\n",
            "Name: Rating, dtype: float64\n"
          ]
        },
        {
          "data": {
            "text/plain": [
              "<AxesSubplot:title={'center':'Top Groups With The Lowest Average Customer Ratings'}, xlabel='Gender,Customer type,Payment,Product line'>"
            ]
          },
          "execution_count": 34,
          "metadata": {},
          "output_type": "execute_result"
        },
        {
          "data": {
            "image/png": "[encoded data removed]",
            "text/plain": [
              "<Figure size 432x288 with 1 Axes>"
            ]
          },
          "metadata": {
            "needs_background": "light"
          },
          "output_type": "display_data"
        }
      ],
      "source": [
        "# group the data by gender, customer type, payment method, and product line and calculate the average customer rating for each group\n",
        "customer_dataa = df.groupby(['Gender', 'Customer type', 'Payment', 'Product line'])['Rating'].mean()\n",
        "\n",
        "# sort the groups by average customer rating in ascending order\n",
        "customer_dataa = customer_data.sort_values()\n",
        "\n",
        "# print the top 10 groups with the lowest average customer ratings\n",
        "print('Top 10 groups with the lowest average customer ratings:')\n",
        "print(customer_dataa.head(10))\n",
        "\n",
        "# visualize the top groups with the lowest average customer ratings\n",
        "customer_dataa.head(10).plot(kind='bar', title = 'Top Groups With The Lowest Average Customer Ratings')"
      ]
    },
    {
      "cell_type": "markdown",
      "id": "5261a2e5",
      "metadata": {
        "papermill": {
          "duration": 0.03469,
          "end_time": "2022-12-14T15:57:21.814602",
          "exception": false,
          "start_time": "2022-12-14T15:57:21.779912",
          "status": "completed"
        },
        "tags": [],
        "id": "5261a2e5"
      },
      "source": [
        "**20. Analyze and visualize total sales per month, transactions per week, transactions per day, and transactions per hour**"
      ]
    },
    {
      "cell_type": "code",
      "execution_count": null,
      "id": "b7e0786d",
      "metadata": {
        "execution": {
          "iopub.execute_input": "2022-12-14T15:57:21.887807Z",
          "iopub.status.busy": "2022-12-14T15:57:21.887190Z",
          "iopub.status.idle": "2022-12-14T15:57:22.125670Z",
          "shell.execute_reply": "2022-12-14T15:57:22.124505Z"
        },
        "papermill": {
          "duration": 0.278901,
          "end_time": "2022-12-14T15:57:22.128661",
          "exception": false,
          "start_time": "2022-12-14T15:57:21.849760",
          "status": "completed"
        },
        "tags": [],
        "id": "b7e0786d",
        "outputId": "93030fb7-a2a1-499d-898a-3035b058ae55"
      },
      "outputs": [
        {
          "name": "stdout",
          "output_type": "stream",
          "text": [
            "Date\n",
            "February     97219.374\n",
            "January     116291.868\n",
            "March       109455.507\n",
            "Name: Total, dtype: float64\n"
          ]
        },
        {
          "data": {
            "text/plain": [
              "<AxesSubplot:title={'center':'Monthly Sales'}, xlabel='Date'>"
            ]
          },
          "execution_count": 35,
          "metadata": {},
          "output_type": "execute_result"
        },
        {
          "data": {
            "image/png": "[encoded data removed]",
            "text/plain": [
              "<Figure size 432x288 with 1 Axes>"
            ]
          },
          "metadata": {
            "needs_background": "light"
          },
          "output_type": "display_data"
        }
      ],
      "source": [
        "# calculate the total sales per month\n",
        "df['Date'] = pd.to_datetime(df['Date'])\n",
        "monthly_sales = df.groupby(df['Date'].dt.strftime('%B'))['Total'].sum()\n",
        "\n",
        "print(monthly_sales)\n",
        "\n",
        "# visualize the monthly sales\n",
        "monthly_sales.plot(kind='bar', title = 'Monthly Sales')"
      ]
    },
    {
      "cell_type": "code",
      "execution_count": null,
      "id": "e6c240fa",
      "metadata": {
        "execution": {
          "iopub.execute_input": "2022-12-14T15:57:22.205314Z",
          "iopub.status.busy": "2022-12-14T15:57:22.204218Z",
          "iopub.status.idle": "2022-12-14T15:57:22.480584Z",
          "shell.execute_reply": "2022-12-14T15:57:22.479332Z"
        },
        "papermill": {
          "duration": 0.317759,
          "end_time": "2022-12-14T15:57:22.483570",
          "exception": false,
          "start_time": "2022-12-14T15:57:22.165811",
          "status": "completed"
        },
        "tags": [],
        "id": "e6c240fa",
        "outputId": "c52ff5c3-a172-4085-fcdd-9785014f90d9"
      },
      "outputs": [
        {
          "name": "stdout",
          "output_type": "stream",
          "text": [
            "Date\n",
            "00    46\n",
            "01    72\n",
            "02    82\n",
            "03    89\n",
            "04    83\n",
            "05    95\n",
            "06    70\n",
            "07    64\n",
            "08    82\n",
            "09    90\n",
            "10    84\n",
            "11    71\n",
            "12    72\n",
            "Name: Invoice ID, dtype: int64\n"
          ]
        },
        {
          "data": {
            "text/plain": [
              "<AxesSubplot:title={'center':'Transactions Per Week'}, xlabel='Date'>"
            ]
          },
          "execution_count": 36,
          "metadata": {},
          "output_type": "execute_result"
        },
        {
          "data": {
            "image/png": "[encoded data removed]",
            "text/plain": [
              "<Figure size 432x288 with 1 Axes>"
            ]
          },
          "metadata": {
            "needs_background": "light"
          },
          "output_type": "display_data"
        }
      ],
      "source": [
        "# calculate the total number of transactions per week\n",
        "df['Date'] = pd.to_datetime(df['Date'])\n",
        "transactions_per_week = df.groupby(df['Date'].dt.strftime('%U'))['Invoice ID'].nunique()\n",
        "\n",
        "# print the results\n",
        "print(transactions_per_week)\n",
        "\n",
        "# visualize the transactions per week\n",
        "transactions_per_week.plot(kind='bar', title = 'Transactions Per Week')"
      ]
    },
    {
      "cell_type": "code",
      "execution_count": null,
      "id": "ea1643b3",
      "metadata": {
        "execution": {
          "iopub.execute_input": "2022-12-14T15:57:22.560542Z",
          "iopub.status.busy": "2022-12-14T15:57:22.560003Z",
          "iopub.status.idle": "2022-12-14T15:57:22.843407Z",
          "shell.execute_reply": "2022-12-14T15:57:22.841746Z"
        },
        "papermill": {
          "duration": 0.325297,
          "end_time": "2022-12-14T15:57:22.846591",
          "exception": false,
          "start_time": "2022-12-14T15:57:22.521294",
          "status": "completed"
        },
        "tags": [],
        "id": "ea1643b3",
        "outputId": "16d7fef6-c1be-41ca-ddf4-8063bd80f8e2"
      },
      "outputs": [
        {
          "name": "stdout",
          "output_type": "stream",
          "text": [
            "Date\n",
            "Fri    139\n",
            "Mon    125\n",
            "Sat    164\n",
            "Sun    133\n",
            "Thu    138\n",
            "Tue    158\n",
            "Wed    143\n",
            "Name: Invoice ID, dtype: int64\n"
          ]
        },
        {
          "data": {
            "text/plain": [
              "<AxesSubplot:title={'center':'Transaction Per Day'}, xlabel='Date'>"
            ]
          },
          "execution_count": 37,
          "metadata": {},
          "output_type": "execute_result"
        },
        {
          "data": {
            "image/png": "[encoded data removed]",
            "text/plain": [
              "<Figure size 432x288 with 1 Axes>"
            ]
          },
          "metadata": {
            "needs_background": "light"
          },
          "output_type": "display_data"
        }
      ],
      "source": [
        "# calculate the total number of transactions per day\n",
        "df['Date'] = pd.to_datetime(df['Date'])\n",
        "transactions_per_day = df.groupby(df['Date'].dt.strftime('%a'))['Invoice ID'].nunique()\n",
        "\n",
        "# print the results\n",
        "print(transactions_per_day)\n",
        "\n",
        "# visualize the transactions per day\n",
        "transactions_per_day.plot(kind='bar', title='Transaction Per Day')"
      ]
    },
    {
      "cell_type": "code",
      "execution_count": null,
      "id": "3b56cda5",
      "metadata": {
        "execution": {
          "iopub.execute_input": "2022-12-14T15:57:22.926361Z",
          "iopub.status.busy": "2022-12-14T15:57:22.925154Z",
          "iopub.status.idle": "2022-12-14T15:57:23.186917Z",
          "shell.execute_reply": "2022-12-14T15:57:23.185599Z"
        },
        "papermill": {
          "duration": 0.304737,
          "end_time": "2022-12-14T15:57:23.189686",
          "exception": false,
          "start_time": "2022-12-14T15:57:22.884949",
          "status": "completed"
        },
        "tags": [],
        "id": "3b56cda5",
        "outputId": "1674c3dc-59d3-40da-fbed-714572f5cbe8"
      },
      "outputs": [
        {
          "name": "stdout",
          "output_type": "stream",
          "text": [
            "Time\n",
            "10    101\n",
            "11     90\n",
            "12     89\n",
            "13    103\n",
            "14     83\n",
            "15    102\n",
            "16     77\n",
            "17     74\n",
            "18     93\n",
            "19    113\n",
            "20     75\n",
            "Name: Invoice ID, dtype: int64\n"
          ]
        },
        {
          "data": {
            "text/plain": [
              "<AxesSubplot:title={'center':'Transactions Per Hour'}, xlabel='Time'>"
            ]
          },
          "execution_count": 38,
          "metadata": {},
          "output_type": "execute_result"
        },
        {
          "data": {
            "image/png": "[encoded data removed]",
            "text/plain": [
              "<Figure size 432x288 with 1 Axes>"
            ]
          },
          "metadata": {
            "needs_background": "light"
          },
          "output_type": "display_data"
        }
      ],
      "source": [
        "# calculate the total number of transactions per hour\n",
        "df['Time'] = pd.to_datetime(df['Time'])\n",
        "transactions_per_hour = df.groupby(df['Time'].dt.strftime('%H'))['Invoice ID'].nunique()\n",
        "\n",
        "print(transactions_per_hour)\n",
        "\n",
        "# visualize the transactions per hour\n",
        "transactions_per_hour.plot(kind='bar', title = 'Transactions Per Hour')"
      ]
    },
    {
      "cell_type": "markdown",
      "id": "438f9c5c",
      "metadata": {
        "papermill": {
          "duration": 0.037526,
          "end_time": "2022-12-14T15:57:23.264925",
          "exception": false,
          "start_time": "2022-12-14T15:57:23.227399",
          "status": "completed"
        },
        "tags": [],
        "id": "438f9c5c"
      },
      "source": [
        "**21. What are the most commonly purchased products on weekends, and how does this compare to weekdays?**"
      ]
    },
    {
      "cell_type": "code",
      "execution_count": null,
      "id": "db7e3aa4",
      "metadata": {
        "execution": {
          "iopub.execute_input": "2022-12-14T15:57:23.344346Z",
          "iopub.status.busy": "2022-12-14T15:57:23.343458Z",
          "iopub.status.idle": "2022-12-14T15:57:23.366510Z",
          "shell.execute_reply": "2022-12-14T15:57:23.365470Z"
        },
        "papermill": {
          "duration": 0.065503,
          "end_time": "2022-12-14T15:57:23.369339",
          "exception": false,
          "start_time": "2022-12-14T15:57:23.303836",
          "status": "completed"
        },
        "tags": [],
        "id": "db7e3aa4"
      },
      "outputs": [],
      "source": [
        "# group the data by product line and day of the week and calculate the total quantity sold for each group\n",
        "product_data = df.groupby(['Product line', df['Date'].dt.strftime('%a')])['Quantity'].sum()\n",
        "\n",
        "# select the groups for weekends and weekdays\n",
        "weekend_data = product_data.loc[:, ['Sat', 'Sun']]\n",
        "weekday_data = product_data.loc[:, ['Mon', 'Tue', 'Wed', 'Thu', 'Fri']]\n",
        "\n",
        "# sum the quantities for each product line on weekends and weekdays\n",
        "weekend_data = weekend_data.groupby('Product line').sum()\n",
        "weekday_data = weekday_data.groupby('Product line').sum()\n",
        "\n",
        "# sort the data in descending order\n",
        "weekend_data = weekend_data.sort_values(ascending=False)\n",
        "weekday_data = weekday_data.sort_values(ascending=False)"
      ]
    },
    {
      "cell_type": "markdown",
      "id": "ed63a6fb",
      "metadata": {
        "papermill": {
          "duration": 0.037314,
          "end_time": "2022-12-14T15:57:23.444548",
          "exception": false,
          "start_time": "2022-12-14T15:57:23.407234",
          "status": "completed"
        },
        "tags": [],
        "id": "ed63a6fb"
      },
      "source": [
        "**Top products sold on weekdays**"
      ]
    },
    {
      "cell_type": "code",
      "execution_count": null,
      "id": "4fa0466a",
      "metadata": {
        "execution": {
          "iopub.execute_input": "2022-12-14T15:57:23.522488Z",
          "iopub.status.busy": "2022-12-14T15:57:23.522052Z",
          "iopub.status.idle": "2022-12-14T15:57:23.717100Z",
          "shell.execute_reply": "2022-12-14T15:57:23.715829Z"
        },
        "papermill": {
          "duration": 0.237215,
          "end_time": "2022-12-14T15:57:23.719995",
          "exception": false,
          "start_time": "2022-12-14T15:57:23.482780",
          "status": "completed"
        },
        "tags": [],
        "id": "4fa0466a",
        "outputId": "7ead5f7e-71c2-43da-e5ef-2e03c653831e"
      },
      "outputs": [
        {
          "name": "stdout",
          "output_type": "stream",
          "text": [
            "Top products sold on weekdays:\n",
            "Product line\n",
            "Electronic accessories    678\n",
            "Health and beauty         667\n",
            "Food and beverages        662\n",
            "Fashion accessories       620\n",
            "Sports and travel         611\n",
            "Home and lifestyle        575\n",
            "Name: Quantity, dtype: int64\n"
          ]
        },
        {
          "data": {
            "text/plain": [
              "<AxesSubplot:title={'center':'Top Products Sold on Weekdays'}, xlabel='Product line'>"
            ]
          },
          "execution_count": 40,
          "metadata": {},
          "output_type": "execute_result"
        },
        {
          "data": {
            "image/png": "[encoded data removed]",
            "text/plain": [
              "<Figure size 432x288 with 1 Axes>"
            ]
          },
          "metadata": {
            "needs_background": "light"
          },
          "output_type": "display_data"
        }
      ],
      "source": [
        "print('Top products sold on weekdays:')\n",
        "print(weekday_data.head(10))\n",
        "\n",
        "# visualize the top products sold on weekdays\n",
        "weekday_data.head(10).plot(kind='bar', title = 'Top Products Sold on Weekdays')"
      ]
    },
    {
      "cell_type": "markdown",
      "id": "c2f9ca8c",
      "metadata": {
        "papermill": {
          "duration": 0.039131,
          "end_time": "2022-12-14T15:57:23.798372",
          "exception": false,
          "start_time": "2022-12-14T15:57:23.759241",
          "status": "completed"
        },
        "tags": [],
        "id": "c2f9ca8c"
      },
      "source": [
        "**Top products sold on weekends**"
      ]
    },
    {
      "cell_type": "code",
      "execution_count": null,
      "id": "ac071cb7",
      "metadata": {
        "execution": {
          "iopub.execute_input": "2022-12-14T15:57:23.879860Z",
          "iopub.status.busy": "2022-12-14T15:57:23.878771Z",
          "iopub.status.idle": "2022-12-14T15:57:24.065055Z",
          "shell.execute_reply": "2022-12-14T15:57:24.064017Z"
        },
        "papermill": {
          "duration": 0.230215,
          "end_time": "2022-12-14T15:57:24.067587",
          "exception": false,
          "start_time": "2022-12-14T15:57:23.837372",
          "status": "completed"
        },
        "tags": [],
        "id": "ac071cb7",
        "outputId": "f668402d-e8ea-47e3-c581-a7278fa61e6c"
      },
      "outputs": [
        {
          "name": "stdout",
          "output_type": "stream",
          "text": [
            "Top products sold on weekends:\n",
            "Product line\n",
            "Home and lifestyle        336\n",
            "Sports and travel         309\n",
            "Electronic accessories    293\n",
            "Food and beverages        290\n",
            "Fashion accessories       282\n",
            "Health and beauty         187\n",
            "Name: Quantity, dtype: int64\n"
          ]
        },
        {
          "data": {
            "text/plain": [
              "<AxesSubplot:title={'center':'Top Products Sold on Weekends'}, xlabel='Product line'>"
            ]
          },
          "execution_count": 41,
          "metadata": {},
          "output_type": "execute_result"
        },
        {
          "data": {
            "image/png": "[encoded data removed]",
            "text/plain": [
              "<Figure size 432x288 with 1 Axes>"
            ]
          },
          "metadata": {
            "needs_background": "light"
          },
          "output_type": "display_data"
        }
      ],
      "source": [
        "print('Top products sold on weekends:')\n",
        "print(weekend_data.head(10))\n",
        "\n",
        "# visualize the top products sold on weekends\n",
        "weekend_data.head(10).plot(kind='bar', title = 'Top Products Sold on Weekends')"
      ]
    },
    {
      "cell_type": "markdown",
      "id": "f9fe1900",
      "metadata": {
        "papermill": {
          "duration": 0.039226,
          "end_time": "2022-12-14T15:57:24.148022",
          "exception": false,
          "start_time": "2022-12-14T15:57:24.108796",
          "status": "completed"
        },
        "tags": [],
        "id": "f9fe1900"
      },
      "source": [
        "**22. What is the relationship between the date and time of a transaction and the customer's gender, type, and payment method?**"
      ]
    },
    {
      "cell_type": "code",
      "execution_count": null,
      "id": "9c7df440",
      "metadata": {
        "execution": {
          "iopub.execute_input": "2022-12-14T15:57:24.230472Z",
          "iopub.status.busy": "2022-12-14T15:57:24.229725Z",
          "iopub.status.idle": "2022-12-14T15:57:24.247847Z",
          "shell.execute_reply": "2022-12-14T15:57:24.246071Z"
        },
        "papermill": {
          "duration": 0.062899,
          "end_time": "2022-12-14T15:57:24.250649",
          "exception": false,
          "start_time": "2022-12-14T15:57:24.187750",
          "status": "completed"
        },
        "tags": [],
        "id": "9c7df440",
        "outputId": "c4cbade3-0532-4f2b-e838-7c920be37f2f"
      },
      "outputs": [
        {
          "name": "stdout",
          "output_type": "stream",
          "text": [
            "Top 10 groups with the highest total quantity sold:\n",
            "Gender  Customer type  Payment      Date        Time               \n",
            "Male    Normal         Ewallet      2019-03-29  2022-12-14 10:25:00    10\n",
            "        Member         Credit card  2019-02-14  2022-12-14 11:26:00    10\n",
            "Female  Member         Ewallet      2019-01-30  2022-12-14 20:23:00    10\n",
            "                                    2019-02-10  2022-12-14 12:28:00    10\n",
            "                                    2019-02-22  2022-12-14 12:30:00    10\n",
            "Male    Member         Credit card  2019-03-20  2022-12-14 19:57:00    10\n",
            "Female  Member         Ewallet      2019-03-05  2022-12-14 16:24:00    10\n",
            "                                    2019-03-08  2022-12-14 10:53:00    10\n",
            "Male    Member         Credit card  2019-03-17  2022-12-14 19:06:00    10\n",
            "Female  Member         Ewallet      2019-03-18  2022-12-14 17:38:00    10\n",
            "Name: Quantity, dtype: int64\n"
          ]
        }
      ],
      "source": [
        "# group the data by gender, customer type, payment method, and date and time and calculate the total quantity sold for each group\n",
        "transaction_data = df.groupby(['Gender', 'Customer type', 'Payment', 'Date', 'Time'])['Quantity'].sum()\n",
        "\n",
        "# print the top 10 groups with the highest total quantity sold\n",
        "print('Top 10 groups with the highest total quantity sold:')\n",
        "print(transaction_data.sort_values(ascending=False).head(10))\n"
      ]
    },
    {
      "cell_type": "code",
      "execution_count": null,
      "id": "a11c8c51",
      "metadata": {
        "execution": {
          "iopub.execute_input": "2022-12-14T15:57:24.332420Z",
          "iopub.status.busy": "2022-12-14T15:57:24.331455Z",
          "iopub.status.idle": "2022-12-14T15:57:24.504121Z",
          "shell.execute_reply": "2022-12-14T15:57:24.503228Z"
        },
        "papermill": {
          "duration": 0.216194,
          "end_time": "2022-12-14T15:57:24.506898",
          "exception": false,
          "start_time": "2022-12-14T15:57:24.290704",
          "status": "completed"
        },
        "tags": [],
        "id": "a11c8c51",
        "outputId": "ac680223-1a4b-48a6-ae37-9a59820a8b19"
      },
      "outputs": [
        {
          "data": {
            "image/png": "[encoded data removed]",
            "text/plain": [
              "<Figure size 432x432 with 1 Axes>"
            ]
          },
          "metadata": {
            "needs_background": "light"
          },
          "output_type": "display_data"
        }
      ],
      "source": [
        "from pandas.plotting import scatter_matrix\n",
        "\n",
        "transaction_data = transaction_data.to_frame()\n",
        "\n",
        "# create a scatter matrix plot of the data\n",
        "scatter_matrix(transaction_data, alpha=0.2, figsize=(6, 6), diagonal='kde')\n",
        "\n",
        "# show the plot\n",
        "plt.show()\n"
      ]
    },
    {
      "cell_type": "markdown",
      "id": "7682fcb7",
      "metadata": {
        "papermill": {
          "duration": 0.03947,
          "end_time": "2022-12-14T15:57:24.586141",
          "exception": false,
          "start_time": "2022-12-14T15:57:24.546671",
          "status": "completed"
        },
        "tags": [],
        "id": "7682fcb7"
      },
      "source": [
        "The density estimates on the diagonal of the scatter matrix plot refer to the distribution of values for each variable. These estimates can be useful for understanding the overall distribution of values for each variable in the dataset.\n",
        "\n",
        "Overall, the scatter matrix plot provides a compact and efficient way to visualize the relationships between multiple variables and to identify potential trends or patterns in the data."
      ]
    },
    {
      "cell_type": "markdown",
      "id": "7e4e557b",
      "metadata": {
        "papermill": {
          "duration": 0.038119,
          "end_time": "2022-12-14T15:57:24.663431",
          "exception": false,
          "start_time": "2022-12-14T15:57:24.625312",
          "status": "completed"
        },
        "tags": [],
        "id": "7e4e557b"
      },
      "source": [
        "**23. What is the relationship between the date and time of a transaction and the total amount spent?**"
      ]
    },
    {
      "cell_type": "code",
      "execution_count": null,
      "id": "de491d06",
      "metadata": {
        "execution": {
          "iopub.execute_input": "2022-12-14T15:57:24.743001Z",
          "iopub.status.busy": "2022-12-14T15:57:24.742380Z",
          "iopub.status.idle": "2022-12-14T15:57:25.344331Z",
          "shell.execute_reply": "2022-12-14T15:57:25.343082Z"
        },
        "papermill": {
          "duration": 0.645983,
          "end_time": "2022-12-14T15:57:25.347931",
          "exception": false,
          "start_time": "2022-12-14T15:57:24.701948",
          "status": "completed"
        },
        "tags": [],
        "id": "de491d06",
        "outputId": "a23da7bb-49df-45d6-80ad-386df1b81b9a"
      },
      "outputs": [
        {
          "data": {
            "image/png": "[encoded data removed]",
            "text/plain": [
              "<Figure size 432x432 with 3 Axes>"
            ]
          },
          "metadata": {
            "needs_background": "light"
          },
          "output_type": "display_data"
        }
      ],
      "source": [
        "# import seaborn\n",
        "import seaborn as sns\n",
        "\n",
        "# create the joint plot\n",
        "sns.jointplot(x='Date', y='Time', data=transaction_data, kind='scatter')\n",
        "\n",
        "# add labels and title\n",
        "plt.xlabel('Date')\n",
        "plt.ylabel('Time')\n",
        "plt.title('Transaction Date and Time vs. Total Amount Spent')\n",
        "\n",
        "# show the plot\n",
        "plt.show()\n"
      ]
    },
    {
      "cell_type": "markdown",
      "id": "30b71c38",
      "metadata": {
        "papermill": {
          "duration": 0.039753,
          "end_time": "2022-12-14T15:57:25.431940",
          "exception": false,
          "start_time": "2022-12-14T15:57:25.392187",
          "status": "completed"
        },
        "tags": [],
        "id": "30b71c38"
      },
      "source": [
        "This jointplot can show the relationship between the date and time of a transaction and the total amount spent. This can be useful for identifying trends or patterns in customer spending habits over time.\n",
        "\n",
        "The plot itself consists of two histograms - one for the date and one for the time - as well as a scatter plot showing the relationship between the two variables. The color of the points in the scatter plot indicates the value of the total amount spent, allowing you to see at a glance how the amount spent varies over time.\n",
        "\n",
        "Overall, the jointplot provides a visual representation of the relationship between the date and time of a transaction and the total amount spent, allowing you to quickly identify trends and patterns in the data."
      ]
    },
    {
      "cell_type": "markdown",
      "id": "c66b4ac1",
      "metadata": {
        "papermill": {
          "duration": 0.039982,
          "end_time": "2022-12-14T15:57:25.512349",
          "exception": false,
          "start_time": "2022-12-14T15:57:25.472367",
          "status": "completed"
        },
        "tags": [],
        "id": "c66b4ac1"
      },
      "source": [
        "**24. Are there any patterns in the data that suggest potential fraud or other unusual activity, such as multiple transactions with the same invoice ID or unusually high or low values for certain variables?**"
      ]
    },
    {
      "cell_type": "code",
      "execution_count": null,
      "id": "d549584a",
      "metadata": {
        "execution": {
          "iopub.execute_input": "2022-12-14T15:57:25.597501Z",
          "iopub.status.busy": "2022-12-14T15:57:25.596776Z",
          "iopub.status.idle": "2022-12-14T15:57:25.616477Z",
          "shell.execute_reply": "2022-12-14T15:57:25.615071Z"
        },
        "papermill": {
          "duration": 0.067737,
          "end_time": "2022-12-14T15:57:25.619691",
          "exception": false,
          "start_time": "2022-12-14T15:57:25.551954",
          "status": "completed"
        },
        "tags": [],
        "id": "d549584a",
        "outputId": "b8ecdfd8-d183-49e9-dadc-105cc3fa5b98"
      },
      "outputs": [
        {
          "name": "stdout",
          "output_type": "stream",
          "text": [
            "Empty DataFrame\n",
            "Columns: [Invoice ID, Branch, City, Product line, Unit price, Quantity, Total, Date, Time, Payment]\n",
            "Index: []\n",
            "Empty DataFrame\n",
            "Columns: [Invoice ID, Branch, City, Product line, Unit price, Quantity, Total, Date, Time, Payment]\n",
            "Index: []\n"
          ]
        }
      ],
      "source": [
        "# identify transactions with duplicate invoice IDs\n",
        "duplicate_invoices = df[df.duplicated(['Invoice ID'])]\n",
        "\n",
        "# print the characteristics of transactions with duplicate invoice IDs\n",
        "print(duplicate_invoices[['Invoice ID', 'Branch', 'City', 'Product line', 'Unit price', 'Quantity', 'Total', 'Date', 'Time', 'Payment']])\n",
        "\n",
        "# calculate the z-score of each transaction\n",
        "df['z_score'] = (df['Total'] - df['Total'].mean()) / df['Total'].std()\n",
        "\n",
        "# identify transactions with a z-score greater than 3 or less than -3\n",
        "outliers = df[(df['z_score'] > 3) | (df['z_score'] < -3)]\n",
        "\n",
        "# print the characteristics of transactions with unusually high or low values\n",
        "print(outliers[['Invoice ID', 'Branch', 'City', 'Product line', 'Unit price', 'Quantity', 'Total', 'Date', 'Time', 'Payment']])\n"
      ]
    },
    {
      "cell_type": "markdown",
      "id": "73730f1d",
      "metadata": {
        "papermill": {
          "duration": 0.042702,
          "end_time": "2022-12-14T15:57:25.705032",
          "exception": false,
          "start_time": "2022-12-14T15:57:25.662330",
          "status": "completed"
        },
        "tags": [],
        "id": "73730f1d"
      },
      "source": [
        "Since we got two empty dataframes with no rows, it means that there were no transactions with duplicate invoice IDs or unusually high or low values in the dataset (outliers). This could be because the dataset is small (containing just 3 months worth of transactions) and doesn't contain any transactions with extremely high or low values, or it could be because the input data has already been cleaned and any outlier transactions have been removed"
      ]
    },
    {
      "cell_type": "markdown",
      "id": "ec3811ca",
      "metadata": {
        "papermill": {
          "duration": 0.039628,
          "end_time": "2022-12-14T15:57:25.785049",
          "exception": false,
          "start_time": "2022-12-14T15:57:25.745421",
          "status": "completed"
        },
        "tags": [],
        "id": "ec3811ca"
      },
      "source": [
        "#### **Data Modelling** <a class=\"anchor\" id=\"dm\"></a>"
      ]
    },
    {
      "cell_type": "markdown",
      "id": "6ab9e837",
      "metadata": {
        "papermill": {
          "duration": 0.040474,
          "end_time": "2022-12-14T15:57:25.873854",
          "exception": false,
          "start_time": "2022-12-14T15:57:25.833380",
          "status": "completed"
        },
        "tags": [],
        "id": "6ab9e837"
      },
      "source": [
        "#### **K-Means** <a class=\"anchor\" id=\"km\"></a>"
      ]
    },
    {
      "cell_type": "markdown",
      "id": "ea76ab7b",
      "metadata": {
        "papermill": {
          "duration": 0.039747,
          "end_time": "2022-12-14T15:57:25.953223",
          "exception": false,
          "start_time": "2022-12-14T15:57:25.913476",
          "status": "completed"
        },
        "tags": [],
        "id": "ea76ab7b"
      },
      "source": [
        "Let's apply machine learning algorithms to the dataset. For example, we can use a clustering algorithm to group the customers into different segments based on their spending patterns and preferences. This can help us understand the different types of customers and tailor our marketing and sales strategies accordingly.\n",
        "\n",
        "We will use K-Means clustering algorithm to group the customers into three segments:"
      ]
    },
    {
      "cell_type": "code",
      "execution_count": null,
      "id": "50b918e0",
      "metadata": {
        "execution": {
          "iopub.execute_input": "2022-12-14T15:57:26.035314Z",
          "iopub.status.busy": "2022-12-14T15:57:26.034363Z",
          "iopub.status.idle": "2022-12-14T15:57:26.680489Z",
          "shell.execute_reply": "2022-12-14T15:57:26.676335Z"
        },
        "papermill": {
          "duration": 0.693247,
          "end_time": "2022-12-14T15:57:26.685728",
          "exception": false,
          "start_time": "2022-12-14T15:57:25.992481",
          "status": "completed"
        },
        "tags": [],
        "id": "50b918e0",
        "outputId": "284fda8b-1706-44bf-81d4-0c673aebf33b"
      },
      "outputs": [
        {
          "name": "stdout",
          "output_type": "stream",
          "text": [
            "Segment\n",
            "0    132.628777\n",
            "1    403.044149\n",
            "2    759.660586\n",
            "Name: Total, dtype: float64\n"
          ]
        }
      ],
      "source": [
        "# import necessary libraries\n",
        "from sklearn.cluster import KMeans\n",
        "\n",
        "# create a new DataFrame with only the relevant columns\n",
        "df_clustering = df[['Customer type', 'Gender', 'Total']]\n",
        "\n",
        "# apply one-hot encoding to the categorical columns\n",
        "df_clustering = pd.get_dummies(df_clustering)\n",
        "\n",
        "# initialize the K-Means model with 3 clusters\n",
        "kmeans = KMeans(n_clusters=3)\n",
        "\n",
        "# fit the model to the data\n",
        "kmeans.fit(df_clustering)\n",
        "\n",
        "# predict the clusters for each data point\n",
        "predicted_clusters = kmeans.predict(df_clustering)\n",
        "\n",
        "# add the predicted clusters as a new column to the DataFrame\n",
        "df_clustering['Segment'] = predicted_clusters\n",
        "\n",
        "# group the data by segment and calculate the average total amount spent by each segment\n",
        "df_segment_sales = df_clustering.groupby('Segment')['Total'].mean()\n",
        "print(df_segment_sales)"
      ]
    },
    {
      "cell_type": "markdown",
      "id": "f66b0e30",
      "metadata": {
        "papermill": {
          "duration": 0.042889,
          "end_time": "2022-12-14T15:57:26.793334",
          "exception": false,
          "start_time": "2022-12-14T15:57:26.750445",
          "status": "completed"
        },
        "tags": [],
        "id": "f66b0e30"
      },
      "source": [
        "This code first preprocesses the data by applying one-hot encoding to the categorical columns and then uses the K-Means algorithm to group the customers into three segments. Finally, it calculates the average total amount spent by each segment. We can then analyze the characteristics of each segment and tailor our marketing and sales strategies accordingly."
      ]
    },
    {
      "cell_type": "code",
      "execution_count": null,
      "id": "99acf0e4",
      "metadata": {
        "execution": {
          "iopub.execute_input": "2022-12-14T15:57:26.881227Z",
          "iopub.status.busy": "2022-12-14T15:57:26.880677Z",
          "iopub.status.idle": "2022-12-14T15:57:26.893812Z",
          "shell.execute_reply": "2022-12-14T15:57:26.892448Z"
        },
        "papermill": {
          "duration": 0.061335,
          "end_time": "2022-12-14T15:57:26.897388",
          "exception": false,
          "start_time": "2022-12-14T15:57:26.836053",
          "status": "completed"
        },
        "tags": [],
        "id": "99acf0e4",
        "outputId": "96fa573f-a129-4f94-d53d-19f764c2aed5"
      },
      "outputs": [
        {
          "name": "stdout",
          "output_type": "stream",
          "text": [
            "Segment  Customer type_Member  Customer type_Normal\n",
            "0        0                     1                       267\n",
            "         1                     0                       252\n",
            "1        0                     1                       150\n",
            "         1                     0                       162\n",
            "2        0                     1                        82\n",
            "         1                     0                        87\n",
            "dtype: int64\n"
          ]
        }
      ],
      "source": [
        "# group the data by segment and customer type\n",
        "\n",
        "df_segment_type = df_clustering.groupby(['Segment', 'Customer type_Member', 'Customer type_Normal']).size()\n",
        "print(df_segment_type)"
      ]
    },
    {
      "cell_type": "code",
      "execution_count": null,
      "id": "1d96b813",
      "metadata": {
        "execution": {
          "iopub.execute_input": "2022-12-14T15:57:26.981655Z",
          "iopub.status.busy": "2022-12-14T15:57:26.981107Z",
          "iopub.status.idle": "2022-12-14T15:57:26.993915Z",
          "shell.execute_reply": "2022-12-14T15:57:26.991994Z"
        },
        "papermill": {
          "duration": 0.05914,
          "end_time": "2022-12-14T15:57:26.996789",
          "exception": false,
          "start_time": "2022-12-14T15:57:26.937649",
          "status": "completed"
        },
        "tags": [],
        "id": "1d96b813",
        "outputId": "06494b4e-2452-47d6-b7f9-aecc4d18c510"
      },
      "outputs": [
        {
          "name": "stdout",
          "output_type": "stream",
          "text": [
            "Segment  Gender_Female  Gender_Male\n",
            "0        0              1              272\n",
            "         1              0              247\n",
            "1        0              1              144\n",
            "         1              0              168\n",
            "2        0              1               83\n",
            "         1              0               86\n",
            "dtype: int64\n"
          ]
        }
      ],
      "source": [
        "# group the data by segment and gender\n",
        "\n",
        "df_segment_gender = df_clustering.groupby(['Segment', 'Gender_Female', 'Gender_Male']).size()\n",
        "print(df_segment_gender)"
      ]
    },
    {
      "cell_type": "markdown",
      "id": "1957ccfc",
      "metadata": {
        "papermill": {
          "duration": 0.039845,
          "end_time": "2022-12-14T15:57:27.080292",
          "exception": false,
          "start_time": "2022-12-14T15:57:27.040447",
          "status": "completed"
        },
        "tags": [],
        "id": "1957ccfc"
      },
      "source": [
        "#### **Random Forest Classification** <a class=\"anchor\" id=\"rfc\"></a>"
      ]
    },
    {
      "cell_type": "markdown",
      "id": "c86a1856",
      "metadata": {
        "papermill": {
          "duration": 0.039867,
          "end_time": "2022-12-14T15:57:27.162632",
          "exception": false,
          "start_time": "2022-12-14T15:57:27.122765",
          "status": "completed"
        },
        "tags": [],
        "id": "c86a1856"
      },
      "source": [
        "Let's use classification algorithms to predict the customer ratings based on the other attributes in the dataset. This can help us understand the factors that influence customer ratings and improve our services to increase customer satisfaction.\n",
        "\n",
        "Using Random Forest classification algorithm to predict the customer ratings based on the other attributes in the dataset:"
      ]
    },
    {
      "cell_type": "code",
      "execution_count": null,
      "id": "9425ea89",
      "metadata": {
        "execution": {
          "iopub.execute_input": "2022-12-14T15:57:27.245056Z",
          "iopub.status.busy": "2022-12-14T15:57:27.244612Z",
          "iopub.status.idle": "2022-12-14T15:57:27.921138Z",
          "shell.execute_reply": "2022-12-14T15:57:27.919688Z"
        },
        "papermill": {
          "duration": 0.72158,
          "end_time": "2022-12-14T15:57:27.924591",
          "exception": false,
          "start_time": "2022-12-14T15:57:27.203011",
          "status": "completed"
        },
        "tags": [],
        "id": "9425ea89",
        "outputId": "4c9d6d04-be15-4d7a-fb34-430e6baaf898"
      },
      "outputs": [
        {
          "name": "stdout",
          "output_type": "stream",
          "text": [
            "Accuracy: 0.285\n"
          ]
        }
      ],
      "source": [
        "# import necessary libraries\n",
        "from sklearn.ensemble import RandomForestClassifier\n",
        "from sklearn.model_selection import train_test_split\n",
        "\n",
        "# create a new DataFrame with only the relevant columns\n",
        "df_classification = df[['Customer type', 'Gender', 'Product line', 'Unit price', 'Quantity', 'Tax 5%', 'Total', 'Payment', 'cogs', 'gross margin percentage', 'gross income', 'Rating']]\n",
        "\n",
        "# apply one-hot encoding to the categorical columns\n",
        "df_classification = pd.get_dummies(df_classification)\n",
        "\n",
        "# convert the continuous target variable into a categorical variable by binning the values into 3 bins\n",
        "df_classification['Rating'] = pd.cut(df_classification['Rating'], bins=3, labels=[1, 2, 3])\n",
        "\n",
        "# split the data into training and testing sets\n",
        "X_train, X_test, y_train, y_test = train_test_split(df_classification.drop('Rating', axis=1), df_classification['Rating'], test_size=0.2)\n",
        "\n",
        "# initialize the Random Forest model\n",
        "rf = RandomForestClassifier()\n",
        "\n",
        "# fit the model to the training data\n",
        "rf.fit(X_train, y_train)\n",
        "\n",
        "# predict the ratings for the test data\n",
        "predicted_ratings = rf.predict(X_test)\n",
        "\n",
        "# calculate the accuracy of the predictions\n",
        "accuracy = rf.score(X_test, y_test)\n",
        "print('Accuracy:', accuracy)\n"
      ]
    },
    {
      "cell_type": "markdown",
      "id": "f1564283",
      "metadata": {
        "papermill": {
          "duration": 0.042959,
          "end_time": "2022-12-14T15:57:28.009660",
          "exception": false,
          "start_time": "2022-12-14T15:57:27.966701",
          "status": "completed"
        },
        "tags": [],
        "id": "f1564283"
      },
      "source": [
        "The accuracy of the predictions made by a machine learning model is a measure of how well the model is able to make correct predictions on new data. In general, a higher accuracy indicates that the model is making more accurate predictions, while a lower accuracy indicates that the model is making less accurate predictions.\n",
        "\n",
        "In the case of the Random Forest classification algorithm, an accuracy of **0.3** indicates that the model is making relatively accurate predictions.\n",
        "\n",
        "Let's compare the predicted customer ratings to the actual ratings provided in the dataset and see how well the model is able to predict the ratings. For example, we can calculate the mean absolute error, mean squared error, or root mean squared error between the predicted and actual ratings, and see how close the predicted ratings are to the actual ratings. This can give us a better idea of the quality of the predictions made by the model and help us determine whether the model is making good predictions or not."
      ]
    },
    {
      "cell_type": "markdown",
      "id": "13485202",
      "metadata": {
        "papermill": {
          "duration": 0.041327,
          "end_time": "2022-12-14T15:57:28.093920",
          "exception": false,
          "start_time": "2022-12-14T15:57:28.052593",
          "status": "completed"
        },
        "tags": [],
        "id": "13485202"
      },
      "source": [
        "**Mean Absolute Error**"
      ]
    },
    {
      "cell_type": "code",
      "execution_count": null,
      "id": "bc923030",
      "metadata": {
        "execution": {
          "iopub.execute_input": "2022-12-14T15:57:28.179872Z",
          "iopub.status.busy": "2022-12-14T15:57:28.179416Z",
          "iopub.status.idle": "2022-12-14T15:57:28.187555Z",
          "shell.execute_reply": "2022-12-14T15:57:28.186088Z"
        },
        "papermill": {
          "duration": 0.054722,
          "end_time": "2022-12-14T15:57:28.190889",
          "exception": false,
          "start_time": "2022-12-14T15:57:28.136167",
          "status": "completed"
        },
        "tags": [],
        "id": "bc923030",
        "outputId": "e2500553-f503-4f88-afd6-c0623fbdb496"
      },
      "outputs": [
        {
          "name": "stdout",
          "output_type": "stream",
          "text": [
            "Mean absolute error: 0.94\n"
          ]
        }
      ],
      "source": [
        "from sklearn.metrics import mean_absolute_error\n",
        "\n",
        "# calculate the mean absolute error between the predicted and actual ratings\n",
        "mae = mean_absolute_error(y_test, predicted_ratings)\n",
        "print('Mean absolute error:', mae)\n"
      ]
    },
    {
      "cell_type": "markdown",
      "id": "027193af",
      "metadata": {
        "papermill": {
          "duration": 0.040702,
          "end_time": "2022-12-14T15:57:28.272694",
          "exception": false,
          "start_time": "2022-12-14T15:57:28.231992",
          "status": "completed"
        },
        "tags": [],
        "id": "027193af"
      },
      "source": [
        "In general, a lower mean absolute error indicates that the model is making more accurate predictions, while a higher mean absolute error indicates that the model is making less accurate predictions. Therefore, a mean absolute error of **0.9** indicates that the model is making relatively accurate predictions."
      ]
    },
    {
      "cell_type": "markdown",
      "id": "bb7277f7",
      "metadata": {
        "papermill": {
          "duration": 0.040493,
          "end_time": "2022-12-14T15:57:28.354419",
          "exception": false,
          "start_time": "2022-12-14T15:57:28.313926",
          "status": "completed"
        },
        "tags": [],
        "id": "bb7277f7"
      },
      "source": [
        "**Mean Squared Error**"
      ]
    },
    {
      "cell_type": "code",
      "execution_count": null,
      "id": "2d9d533d",
      "metadata": {
        "execution": {
          "iopub.execute_input": "2022-12-14T15:57:28.436974Z",
          "iopub.status.busy": "2022-12-14T15:57:28.436532Z",
          "iopub.status.idle": "2022-12-14T15:57:28.444767Z",
          "shell.execute_reply": "2022-12-14T15:57:28.443116Z"
        },
        "papermill": {
          "duration": 0.053173,
          "end_time": "2022-12-14T15:57:28.448004",
          "exception": false,
          "start_time": "2022-12-14T15:57:28.394831",
          "status": "completed"
        },
        "tags": [],
        "id": "2d9d533d",
        "outputId": "136f30f5-86c2-4d8f-d57c-fea83cb5dd04"
      },
      "outputs": [
        {
          "name": "stdout",
          "output_type": "stream",
          "text": [
            "Mean squared error: 1.39\n"
          ]
        }
      ],
      "source": [
        "from sklearn.metrics import mean_squared_error\n",
        "\n",
        "# calculate the mean squared error between the predicted and actual ratings\n",
        "mse = mean_squared_error(y_test, predicted_ratings)\n",
        "print('Mean squared error:', mse)\n"
      ]
    },
    {
      "cell_type": "markdown",
      "id": "a5ce84f4",
      "metadata": {
        "papermill": {
          "duration": 0.041087,
          "end_time": "2022-12-14T15:57:28.530798",
          "exception": false,
          "start_time": "2022-12-14T15:57:28.489711",
          "status": "completed"
        },
        "tags": [],
        "id": "a5ce84f4"
      },
      "source": [
        "In general, a lower mean squared error indicates that the model is making more accurate predictions, while a higher mean squared error indicates that the model is making less accurate predictions. Therefore, a mean squared error of **1.3** indicates that the model is making relatively accurate predictions."
      ]
    },
    {
      "cell_type": "markdown",
      "id": "e2b25345",
      "metadata": {
        "papermill": {
          "duration": 0.041444,
          "end_time": "2022-12-14T15:57:28.612942",
          "exception": false,
          "start_time": "2022-12-14T15:57:28.571498",
          "status": "completed"
        },
        "tags": [],
        "id": "e2b25345"
      },
      "source": [
        "**Root Mean Squared Error**"
      ]
    },
    {
      "cell_type": "code",
      "execution_count": null,
      "id": "30232068",
      "metadata": {
        "execution": {
          "iopub.execute_input": "2022-12-14T15:57:28.698061Z",
          "iopub.status.busy": "2022-12-14T15:57:28.697664Z",
          "iopub.status.idle": "2022-12-14T15:57:28.706601Z",
          "shell.execute_reply": "2022-12-14T15:57:28.705321Z"
        },
        "papermill": {
          "duration": 0.053693,
          "end_time": "2022-12-14T15:57:28.708874",
          "exception": false,
          "start_time": "2022-12-14T15:57:28.655181",
          "status": "completed"
        },
        "tags": [],
        "id": "30232068",
        "outputId": "1d427121-d185-4bcf-ac93-3f65d842d9f5"
      },
      "outputs": [
        {
          "name": "stdout",
          "output_type": "stream",
          "text": [
            "Root mean squared error: 0.1698814603501532\n"
          ]
        }
      ],
      "source": [
        "from sklearn.metrics import mean_squared_log_error\n",
        "\n",
        "# calculate the root mean squared error between the predicted and actual ratings\n",
        "rmsle = mean_squared_log_error(y_test, predicted_ratings)\n",
        "print('Root mean squared error:', rmsle)\n"
      ]
    },
    {
      "cell_type": "markdown",
      "id": "902850c1",
      "metadata": {
        "papermill": {
          "duration": 0.041582,
          "end_time": "2022-12-14T15:57:28.791297",
          "exception": false,
          "start_time": "2022-12-14T15:57:28.749715",
          "status": "completed"
        },
        "tags": [],
        "id": "902850c1"
      },
      "source": [
        "In general, a lower root mean squared error indicates that the model is making more accurate predictions, while a higher root mean squared error indicates that the model is making less accurate predictions. Therefore, a root mean squared error of **0.16** indicates that the model is making relatively accurate predictions."
      ]
    },
    {
      "cell_type": "markdown",
      "id": "498f2849",
      "metadata": {
        "papermill": {
          "duration": 0.041803,
          "end_time": "2022-12-14T15:57:28.875528",
          "exception": false,
          "start_time": "2022-12-14T15:57:28.833725",
          "status": "completed"
        },
        "tags": [],
        "id": "498f2849"
      },
      "source": [
        "This code first preprocesses the data by selecting the relevant columns, applying one-hot encoding to the categorical columns, and binning the continuous target variable into a set of discrete values. Then, it splits the data into training and testing sets and uses the Random Forest algorithm to train a model on the training data. Next, it predicts the customer ratings for the test data and calculates the accuracy of the predictions. You can then use this model to predict the customer ratings for new data and improve our services to increase customer satisfaction.\n",
        "\n",
        "To use the trained model to predict the customer ratings for new data, we need to preprocess the new data in the same way as the training data and then use the predict() method of the model to predict the ratings:\n",
        "\n"
      ]
    },
    {
      "cell_type": "code",
      "execution_count": null,
      "id": "7c4e3ba3",
      "metadata": {
        "execution": {
          "iopub.execute_input": "2022-12-14T15:57:28.961399Z",
          "iopub.status.busy": "2022-12-14T15:57:28.959773Z",
          "iopub.status.idle": "2022-12-14T15:57:29.018595Z",
          "shell.execute_reply": "2022-12-14T15:57:29.016547Z"
        },
        "papermill": {
          "duration": 0.106661,
          "end_time": "2022-12-14T15:57:29.023536",
          "exception": false,
          "start_time": "2022-12-14T15:57:28.916875",
          "status": "completed"
        },
        "tags": [],
        "id": "7c4e3ba3",
        "outputId": "4a0b4fa6-2877-4a8d-fb03-512badbf70d3"
      },
      "outputs": [
        {
          "name": "stdout",
          "output_type": "stream",
          "text": [
            "[3 3 2 3 1 1 1 1 2 2 1 2 2 1 1 1 1 2 3 2 1 1 1 2 1 3 1 2 2 2 3 1 1 1 2 2 3\n",
            " 3 2 2 2 2 1 2 2 1 2 1 3 2 3 3 1 2 2 3 2 2 1 3 1 2 3 3 2 1 2 3 2 3 3 1 2 3\n",
            " 3 1 1 1 2 1 1 2 2 3 2 2 1 2 2 2 2 3 1 3 3 2 1 3 3 2 1 2 1 3 2 1 2 1 2 3 1\n",
            " 2 3 3 2 2 1 1 1 1 1 2 1 1 2 1 2 1 3 2 2 1 2 3 1 2 3 3 3 1 1 3 3 3 2 3 3 3\n",
            " 1 1 1 2 2 3 3 3 3 3 3 3 3 1 2 2 1 1 3 3 2 3 1 3 2 3 3 3 3 2 1 3 1 2 2 1 2\n",
            " 2 2 2 3 1 2 1 3 1 3 1 1 2 3 1 1 2 3 3 1 2 3 2 1 2 2 3 1 2 2 3 3 1 3 2 2 1\n",
            " 1 3 2 3 1 3 1 2 2 3 2 2 3 1 1 1 1 3 2 1 1 1 3 1 1 2 3 3 2 3 2 1 3 2 3 3 2\n",
            " 2 2 1 1 1 2 3 2 3 1 2 1 3 3 1 2 2 2 2 1 3 2 2 2 3 3 2 2 3 1 1 2 1 1 2 1 2\n",
            " 3 1 1 2 2 1 1 1 3 1 3 1 1 2 3 3 3 1 1 1 2 1 3 3 1 3 3 2 3 2 1 3 1 2 2 3 1\n",
            " 2 3 3 2 1 3 3 3 3 2 2 2 2 3 1 1 1 2 1 3 2 3 2 3 1 2 1 2 2 2 2 2 2 1 1 1 2\n",
            " 3 1 1 2 3 2 3 3 3 1 2 1 3 1 3 1 1 3 3 2 3 3 2 2 2 1 3 3 3 2 1 2 3 3 1 2 2\n",
            " 1 1 1 1 2 2 2 3 3 3 2 3 3 2 2 1 2 1 2 3 2 2 2 2 1 3 3 2 3 3 2 2 2 3 2 2 3\n",
            " 3 3 3 2 1 3 2 2 1 1 2 2 1 2 2 2 1 3 2 3 3 2 3 2 2 3 1 3 1 1 2 2 1 1 2 2 3\n",
            " 2 1 1 2 2 3 2 1 3 3 2 3 3 2 1 3 2 3 3 1 3 3 2 3 3 3 2 2 1 2 3 3 2 3 3 3 2\n",
            " 3 1 3 2 1 1 2 2 3 2 2 3 3 2 2 1 2 2 1 2 1 2 3 2 1 1 3 3 3 1 1 2 2 3 3 3 2\n",
            " 3 3 1 1 3 2 1 1 1 3 2 3 2 2 1 2 3 3 3 3 2 1 3 2 3 2 3 2 3 2 3 3 2 1 1 1 3\n",
            " 3 1 1 3 3 1 3 3 2 1 1 2 1 3 3 3 1 3 2 2 2 3 1 1 2 1 3 3 3 3 1 2 2 3 3 1 3\n",
            " 3 2 2 2 1 1 1 1 2 3 2 2 1 1 1 1 2 1 1 2 2 2 3 2 1 3 1 2 2 1 1 3 2 1 3 2 2\n",
            " 2 1 3 1 1 1 1 1 1 1 2 1 3 1 2 2 2 2 1 2 3 1 2 2 1 3 3 3 2 2 2 1 2 2 3 1 1\n",
            " 2 2 3 2 1 3 2 3 3 2 1 3 2 1 3 2 2 2 2 2 2 2 2 2 3 2 3 1 2 3 3 2 1 2 3 2 3\n",
            " 3 2 3 3 1 3 1 1 2 3 1 2 2 3 2 2 1 1 1 2 1 1 3 2 2 1 2 2 2 1 1 2 1 2 1 3 3\n",
            " 3 2 2 3 2 1 3 2 3 1 3 2 3 1 3 1 3 2 1 1 3 3 3 2 1 2 2 2 1 3 3 3 1 2 1 2 3\n",
            " 1 1 3 3 3 1 2 2 1 3 1 2 2 3 1 1 2 3 1 3 1 1 1 1 3 2 2 1 1 3 1 1 3 3 1 1 3\n",
            " 3 1 3 3 3 2 3 2 1 2 2 2 2 2 2 2 1 1 3 2 3 2 3 1 2 1 2 2 3 3 3 3 3 2 1 2 3\n",
            " 1 1 2 3 3 3 3 3 1 3 3 1 2 2 1 3 3 1 3 2 2 1 2 2 2 2 2 2 3 2 3 1 1 2 1 2 2\n",
            " 3 1 2 2 2 2 2 1 1 3 1 2 2 1 1 2 2 1 3 1 2 1 1 2 3 3 1 3 2 1 2 1 2 1 3 3 3\n",
            " 2 2 2 1 2 3 3 3 3 2 1 1 3 2 3 1 1 2 1 3 2 2 3 3 1 2 1 3 3 1 3 2 1 2 1 2 1\n",
            " 2]\n"
          ]
        }
      ],
      "source": [
        "# create a new DataFrame with only the relevant columns\n",
        "df_new = df[['Customer type', 'Gender', 'Product line', 'Unit price', 'Quantity', 'Tax 5%', 'Total', 'Payment', 'cogs', 'gross margin percentage', 'gross income']]\n",
        "\n",
        "# apply one-hot encoding to the categorical columns\n",
        "df_new = pd.get_dummies(df_new)\n",
        "\n",
        "# predict the ratings for the new data\n",
        "predicted_ratings = rf.predict(df_new)\n",
        "\n",
        "# print the predicted ratings\n",
        "print(predicted_ratings)\n"
      ]
    },
    {
      "cell_type": "markdown",
      "id": "4a7812dc",
      "metadata": {
        "papermill": {
          "duration": 0.040974,
          "end_time": "2022-12-14T15:57:29.107204",
          "exception": false,
          "start_time": "2022-12-14T15:57:29.066230",
          "status": "completed"
        },
        "tags": [],
        "id": "4a7812dc"
      },
      "source": [
        "This code first preprocesses the new data by selecting the relevant columns and applying one-hot encoding to the categorical columns. Then, it uses the trained model to predict the ratings for the new data and prints the predicted ratings. We can then use these predicted ratings to understand the factors that influence customer ratings and improve our services to increase customer satisfaction."
      ]
    },
    {
      "cell_type": "markdown",
      "id": "d9e59aa3",
      "metadata": {
        "papermill": {
          "duration": 0.041712,
          "end_time": "2022-12-14T15:57:29.192294",
          "exception": false,
          "start_time": "2022-12-14T15:57:29.150582",
          "status": "completed"
        },
        "tags": [],
        "id": "d9e59aa3"
      },
      "source": [
        "#### **Random Forest Regression Algorithm** <a class=\"anchor\" id=\"rfra\"></a>"
      ]
    },
    {
      "cell_type": "markdown",
      "id": "3f2255eb",
      "metadata": {
        "papermill": {
          "duration": 0.041917,
          "end_time": "2022-12-14T15:57:29.275978",
          "exception": false,
          "start_time": "2022-12-14T15:57:29.234061",
          "status": "completed"
        },
        "tags": [],
        "id": "3f2255eb"
      },
      "source": [
        "Let's use Regression algorithms to predict the total sales for each city based on the other attributes in the dataset. This can help us understand the factors that influence sales and improve our marketing and sales strategies to increase revenue.\n",
        "\n",
        "We will use Random Forest regression algorithm to predict the total sales for each city based on the other attributes in the dataset:"
      ]
    },
    {
      "cell_type": "code",
      "execution_count": null,
      "id": "38f16bc5",
      "metadata": {
        "execution": {
          "iopub.execute_input": "2022-12-14T15:57:29.362369Z",
          "iopub.status.busy": "2022-12-14T15:57:29.361893Z",
          "iopub.status.idle": "2022-12-14T15:57:29.884751Z",
          "shell.execute_reply": "2022-12-14T15:57:29.882910Z"
        },
        "papermill": {
          "duration": 0.569274,
          "end_time": "2022-12-14T15:57:29.887895",
          "exception": false,
          "start_time": "2022-12-14T15:57:29.318621",
          "status": "completed"
        },
        "tags": [],
        "id": "38f16bc5",
        "outputId": "d534f85a-8a49-429c-c5d8-56d6ea2f230b"
      },
      "outputs": [
        {
          "name": "stdout",
          "output_type": "stream",
          "text": [
            "Accuracy: 0.9999307378097709\n"
          ]
        }
      ],
      "source": [
        "# import necessary libraries\n",
        "from sklearn.ensemble import RandomForestRegressor\n",
        "from sklearn.model_selection import train_test_split\n",
        "\n",
        "# create a new DataFrame with only the relevant columns\n",
        "df_regression = df[['Branch', 'City', 'Customer type', 'Gender', 'Product line', 'Unit price', 'Quantity', 'Tax 5%', 'Payment', 'cogs', 'gross margin percentage', 'gross income', 'Total']]\n",
        "\n",
        "# apply one-hot encoding to the categorical columns\n",
        "df_regression = pd.get_dummies(df_regression)\n",
        "\n",
        "# split the data into training and testing sets\n",
        "X_train, X_test, y_train, y_test = train_test_split(df_regression.drop('Total', axis=1), df_regression['Total'], test_size=0.2)\n",
        "\n",
        "# initialize the Random Forest model\n",
        "rf = RandomForestRegressor()\n",
        "\n",
        "# fit the model to the training data\n",
        "rf.fit(X_train, y_train)\n",
        "\n",
        "# predict the total sales for the test data\n",
        "predicted_totals = rf.predict(X_test)\n",
        "\n",
        "# calculate the accuracy of the predictions\n",
        "accuracy = rf.score(X_test, y_test)\n",
        "print('Accuracy:', accuracy)\n"
      ]
    },
    {
      "cell_type": "markdown",
      "id": "fe7d2ee4",
      "metadata": {
        "papermill": {
          "duration": 0.04245,
          "end_time": "2022-12-14T15:57:29.971840",
          "exception": false,
          "start_time": "2022-12-14T15:57:29.929390",
          "status": "completed"
        },
        "tags": [],
        "id": "fe7d2ee4"
      },
      "source": [
        "Accuracy value of **0.9999** indicates that the model has made very accurate predictions on the test data.\n",
        "\n",
        "A high accuracy value means that the model has successfully learned the relationship between the input features and the target variable (Total sales in this case) and is able to make accurate predictions on new data. This is a good indication that the model can be used to predict the total sales for new data and improve our marketing and sales strategies to increase revenue.\n",
        "\n",
        "However, it is important to note that the accuracy of a model is not the only measure of its performance. Other metrics such as precision, recall, and F1 score can also be used to evaluate the performance of a regression model. We can use these metrics to evaluate the performance of our model and fine-tune it to improve its accuracy."
      ]
    },
    {
      "cell_type": "markdown",
      "id": "e845622f",
      "metadata": {
        "papermill": {
          "duration": 0.041526,
          "end_time": "2022-12-14T15:57:30.056875",
          "exception": false,
          "start_time": "2022-12-14T15:57:30.015349",
          "status": "completed"
        },
        "tags": [],
        "id": "e845622f"
      },
      "source": [
        "We can then use this model to predict the total sales for new data and improve our marketing and sales strategies to increase revenue.\n",
        "\n",
        "To use the trained model to predict the total sales for new data, we need to preprocess the new data in the same way as the training data and then use the predict() method of the model to predict the total sales:"
      ]
    },
    {
      "cell_type": "code",
      "execution_count": null,
      "id": "70505539",
      "metadata": {
        "execution": {
          "iopub.execute_input": "2022-12-14T15:57:30.143896Z",
          "iopub.status.busy": "2022-12-14T15:57:30.143498Z",
          "iopub.status.idle": "2022-12-14T15:57:30.201502Z",
          "shell.execute_reply": "2022-12-14T15:57:30.200277Z"
        },
        "papermill": {
          "duration": 0.106417,
          "end_time": "2022-12-14T15:57:30.205019",
          "exception": false,
          "start_time": "2022-12-14T15:57:30.098602",
          "status": "completed"
        },
        "tags": [],
        "id": "70505539",
        "outputId": "bc2ee58c-5cbe-48ca-e0be-18e5fb05fb29"
      },
      "outputs": [
        {
          "name": "stdout",
          "output_type": "stream",
          "text": [
            "[ 549.11703    80.483235  340.39698   487.75209   633.695895  628.068\n",
            "  433.704075  770.61747    76.147785  172.31529    61.048995  107.150505\n",
            "  246.694035  453.0183    749.39634   589.28583   507.844785  457.32309\n",
            "  172.31424    84.691005  451.486245  277.289355   69.744675  181.122795\n",
            "  279.08685   441.38703    35.13342   184.106265  463.02816   235.383225\n",
            "  494.35281   736.913205  702.582405  203.023485  417.62637    71.559075\n",
            "  327.993015  574.922355  461.81247   253.256325   90.918555  118.429605\n",
            "  435.04734   829.63776    32.157825  394.218615  535.796205  189.22428\n",
            "  119.52801   866.74623   670.67448   233.248995   74.82132    16.067835\n",
            "   33.45447   721.397145   93.07137   751.821945  760.141725  192.92532\n",
            "   77.881335  351.36528   521.230605  166.163235  318.30981   166.505325\n",
            "   70.002975  614.3886    828.92733    19.147065  939.560475  651.93954\n",
            "  152.775525  477.9096    705.776715  434.666295  463.3671    189.32739\n",
            "  822.00951   107.02188   625.596825  304.780245  161.68467   337.310295\n",
            "  256.57737   609.93891   401.6922    363.05157    44.883825  485.0475\n",
            "  198.63186   471.26016   161.46879   608.074845   94.00377   101.9445\n",
            "  921.81684    78.20106   166.010985  522.227265   50.62638   743.85171\n",
            "  217.854525  367.04577   223.23756   931.37226   172.45515   391.613775\n",
            "  321.255585  861.80766    34.51497   309.393945  535.384815  548.783865\n",
            "  763.156485   85.20939   114.894465   53.872245  115.059945  112.78512\n",
            "  834.87201   420.253155  944.232555  536.26566   474.2535    689.416035\n",
            "  168.95109   299.310375  574.992915  855.49632   291.011175  579.796245\n",
            "  146.36643   550.833045  512.12532   284.12685   138.201105  216.86595\n",
            "  545.094585  608.82276   943.13688   948.666285  719.65509    32.09619\n",
            "  491.053815  291.07785   317.015055  277.769835  604.5648    272.33535\n",
            "  383.99655   253.84023   786.1245    103.81287   680.6226    485.06682\n",
            "   75.68484   264.05316   920.96718   588.24108   362.70129    66.521385\n",
            "  336.377265  161.07546   419.265525  357.378    1005.63435  1021.4904\n",
            "  323.20575   511.20699   367.538955  420.43428   175.122045  333.87123\n",
            "  165.883515  320.13093   186.09675   165.48588   462.819945  273.592095\n",
            "  471.93447   322.84833   162.80586   288.202425   90.813975   56.839755\n",
            "  792.64962   195.22986    77.787885  293.235495  242.47734   154.490175\n",
            "  829.766175  107.178015  172.255335   77.96313    91.515585   26.940795\n",
            "  174.52365   374.71392   120.51837   241.085775  451.12515   272.055315\n",
            "   93.21564   217.62447   629.6976    299.625375   95.817645  942.861885\n",
            "  247.24896   882.8484    485.11533   146.193705  217.637175   19.24986\n",
            "  130.012365  297.507315  794.91531   180.724425  285.100305  456.686475\n",
            "   62.08356    13.59876    90.859755  182.97573   653.890965  155.529675\n",
            "  572.563425  532.588035  171.233475   33.346425  793.10679   309.984045\n",
            "  544.9416    195.64377    91.441035  232.1655     69.37056    94.108455\n",
            "  235.61853   125.97417   195.64881   263.66466   788.727765  399.62475\n",
            "  256.516785   94.14258   326.30052   535.878     440.65665   369.449115\n",
            "   30.26583    99.803235  494.830245  137.13105    69.545595  163.17357\n",
            "  135.5151    277.220895  707.403585   69.195945  160.97466   233.348535\n",
            "   56.96313   722.55393   148.928745  783.73869   296.940315  373.61562\n",
            "  353.68746    44.53869   203.461125   25.207665  628.28808   352.493505\n",
            "  229.3221    401.20605   745.09008   462.02226   588.060585   38.5182\n",
            "   16.295475  629.147715  199.2606    351.528345   78.33735   224.5782\n",
            "  356.65623   697.20924   422.940735  204.436155   65.661855   76.327755\n",
            "  190.2285    272.616645  121.24119   494.509155  252.115815   92.943165\n",
            "  209.5842     41.06193    50.46447   214.60908   126.244755  530.190255\n",
            "  295.67097   745.618755   83.309835  172.07841   502.895505  145.73433\n",
            "   74.69322   146.72112   820.30641   208.59867    66.29343   392.473725\n",
            "  217.883085  185.18073   216.97032    41.55417    96.12099   324.52476\n",
            "  135.577785  410.805465  523.53798   395.55642   214.67607   152.702025\n",
            "  207.993135  103.738215  404.7519     49.34937    76.852965  149.29866\n",
            "  721.747635  365.254785  150.606435  404.927145  151.4541    410.43513\n",
            "  567.00021   509.764185  140.613585  735.907095   75.533745  748.745025\n",
            "  191.034795  141.743385 1025.934     380.43495   401.44692   255.38226\n",
            "   31.925145  374.506965  394.161285 1007.32905    86.580165   78.469965\n",
            "  680.48568   792.454215  209.54325   461.64342   173.056065  343.09758\n",
            "  485.26044   277.2042    150.82998   203.18445   193.02927   128.214975\n",
            "  441.86478   265.054335  352.519335  508.083555  334.550055  702.89352\n",
            "  407.368815   99.52719   343.936425   55.93581   523.090365  314.216385\n",
            "  214.51479    79.930305  294.7833    339.00552   511.05768   133.710045\n",
            "  253.277745  398.45925    80.90754   548.302125   83.44917   407.048775\n",
            "  284.72262   128.57985   258.659415  181.95996   248.040765  194.64165\n",
            "   14.641935  208.662405  720.341685  282.5718     72.339435  288.807645\n",
            "  236.203485  125.660745  358.841595   45.49209   110.50284    81.31368\n",
            "  428.79753   100.77774   190.64283    85.49331   120.32055   185.2893\n",
            "  121.555035  264.91038  1021.66575   213.526215   16.539915  383.50914\n",
            "  391.46226    65.746695  352.984905  949.25145   145.61841    90.86868\n",
            "  147.68439   701.91639    49.47558   938.699685  348.76275   213.872715\n",
            "   71.605905  343.220955   91.455105  743.47392   839.688465   13.554135\n",
            "  140.589645   19.80258   290.03856   143.50833    27.966435   41.23539\n",
            "  470.73159   138.79446   334.181925   26.68008    87.234315  155.090985\n",
            "  731.81367   833.133735  487.41714    37.60806   212.64537   767.920755\n",
            "  310.38987    23.670465  270.02073   572.21199   273.011655  233.12373\n",
            "   22.95846   103.799955  527.93958   168.08526   452.51871   608.667045\n",
            "  338.188515  204.95559   174.58959   352.555245  361.01205    40.81917\n",
            "  554.09802   344.19987   195.14901   633.70608   388.98258   207.89454\n",
            "  431.50107   155.64654    23.91312   734.062245   72.724365  206.558205\n",
            "  212.71719   128.04099   209.70999   637.724115  132.931995  569.83626\n",
            "  103.179615  432.85242    77.672175   33.35661   145.771395  195.86217\n",
            "   92.839005  203.106225  152.72208   529.251975  321.8628    100.26471\n",
            "  667.002     225.229725  398.85153   732.157755  429.083235   53.907945\n",
            "  288.28905   206.899665   72.604665  376.842375  143.45877   523.626705\n",
            "  235.809525  132.058815  514.07685   479.67696   164.771985  125.79378\n",
            "  572.63451   928.072635  160.86231   729.155595  240.936255  154.33614\n",
            "  148.763685  122.08371    77.68047   103.21416   306.55653   550.965765\n",
            "   96.545085   80.11437    84.780675  118.52757    74.75223   163.024785\n",
            "  308.863065  574.885605  270.57135   417.272625  180.790365  513.09783\n",
            "  549.891405  140.014035  141.787905  118.225275  151.45662  1028.8908\n",
            "  263.756115  227.096205  203.868     936.98052   356.439615  469.833\n",
            "  208.496505  854.166705  520.377375  621.537     587.861295  544.923015\n",
            "  431.068365  278.804085   74.51136   151.82013   451.425555  598.31583\n",
            "  252.969465  133.337925  270.37647   146.00775    85.543605  326.21085\n",
            "  195.30693    75.86691   198.3954    217.087605  164.919195  225.36213\n",
            "  625.848405   76.6983    292.963965  177.5445     48.172425  236.58264\n",
            "  305.04159    46.536     164.724735  441.26103   193.11579   147.639555\n",
            "   87.1815     68.516805  814.67694   343.173075  381.402735  133.36827\n",
            "  394.330125  208.87944    32.175045  121.44384    30.48213   935.71128\n",
            "  293.374935   84.864675  706.56684   365.588055  457.448145  461.623365\n",
            "  621.133905  273.419475  225.572655   96.01872   695.945145  871.728795\n",
            "   95.992575  165.910605  128.00298   864.636885  167.63082    13.350435\n",
            "  674.360295  246.978375  175.833105  314.00103   251.633445  698.170935\n",
            "  212.843295   48.649965   92.674785  165.176025  311.032155  744.34437\n",
            "  116.15625   608.948025   63.188055  182.938665  442.064805   35.09499\n",
            "   32.409825  259.18053   397.46343   351.71661   764.91639   352.523535\n",
            "  252.741195   49.44891   104.352675  277.67544   146.49684    58.16118\n",
            "  135.62136   125.96913   369.87783   918.79788   207.530715  204.011325\n",
            "  181.718355   75.5517    300.00201    85.268085  588.33348   195.92958\n",
            "  231.60312   282.462075  477.52257   175.977795  471.204615  308.668815\n",
            "  620.129895  305.25138    41.569605   36.88083   310.236255   45.16092\n",
            "  145.69401   103.272855  136.049235  666.38124   152.91675   211.52901\n",
            "  666.10005   404.91339   510.72378   536.23731   496.29783   458.168445\n",
            "  113.558655  260.001525  655.086285 1019.3904    508.47825   101.70258\n",
            "  207.584685  759.91692   834.508605  528.02841   180.67665    72.341325\n",
            "  131.60028    80.98377   508.222995  317.642745  733.63017   131.26113\n",
            "  829.5903    187.426155  523.17468    37.424625  142.575195  110.062365\n",
            "  187.83198   856.09125   138.80811   270.86493    97.83921   239.377005\n",
            "  174.944385  732.324705  408.02685   383.392275   93.95316   176.228325\n",
            "   19.919865  557.42925    56.316015  861.85722   597.237795  616.44996\n",
            "  767.977665  886.070535  407.74083    89.06121   150.63426    79.24077\n",
            "  266.00994    41.11275   683.72829    54.960675  115.873065  597.964815\n",
            "   93.902655  142.672635  182.962815  383.875065  266.75922   816.66312\n",
            "  300.104385  608.54388   198.09783   232.77618   810.20163   758.96541\n",
            "  535.8024     56.201565  233.100735  802.303425  239.44221    85.79046\n",
            "  401.60148    72.31812   401.559375  630.357525  499.879065   54.920775\n",
            "  137.974725  151.46985   479.89473    97.722765  132.761685  831.047385\n",
            "  183.00513   397.95273    32.333805  369.33183    53.43324   548.411745\n",
            "  604.84683    58.24266   190.570485  432.938205   48.7242    288.350475\n",
            " 1021.0767    680.810655   97.67268    56.909055   63.58611   257.190675\n",
            "   97.49229   455.71701   145.614     253.585815  495.03594   462.4515\n",
            "  715.221465  325.39164   195.67989   210.84273    18.915645  652.72809\n",
            "   90.497715  423.02505   340.760175   99.849225  407.701245  447.20466\n",
            "  334.416705  284.419275  404.86068   247.615725  222.76401   100.085265\n",
            "   13.690845  216.73827   441.291375   92.63457   681.756075  130.020765\n",
            "  681.77298   781.90938    88.38249   263.376225   99.62799    96.04371\n",
            "  299.46504    54.954375  202.620285  281.79333   586.94517   183.983835\n",
            "  163.487625   63.25032    82.91766    31.62684    22.45971   295.632015\n",
            "   76.804245   23.66595   688.353225  624.225105   77.79387   206.801805\n",
            "  391.3434    554.0913    503.600265  344.2425    177.23853   119.017395\n",
            "  362.47827   450.912      90.683355   26.912025  106.75476   375.28365\n",
            "  250.67364   106.691025  759.93456   131.857425   76.61136   271.457655\n",
            "  182.5215     59.001285  224.80668   559.959645   97.783455  548.48346\n",
            "   54.910065   41.62032   758.18358   101.74164   350.16744    85.559565\n",
            "  335.88366   216.879915  174.99153   334.765095   92.40168   769.93602\n",
            "  102.03837   808.37631   441.26964   486.07482   485.66175   148.908375\n",
            "  317.95197   833.14182   446.897115  297.5007    629.279385  329.26551\n",
            "  423.61536   193.06497   145.60098    84.80745   121.88043   328.28082\n",
            "  885.30078   434.91462   167.23497   514.300815   91.578585  235.83021\n",
            "  783.55578   431.390295  313.692435  223.688325   44.99796   397.7484\n",
            "  217.25865    82.85781   338.28291   103.28157    26.96274   609.90678\n",
            "  222.72579    57.922515   92.748285  374.10618   833.52654    53.3358\n",
            "  629.449485  174.91614   783.79539   471.15054   397.87524   271.26519\n",
            "  579.2703    470.02536   290.575005  361.054365  279.075195  943.511415\n",
            "  479.305785  266.296695   74.235105  689.60325   176.833335   56.405685\n",
            "  187.948635  222.358185  125.74212    69.309345  264.02397    88.508805\n",
            "  416.34957   313.28745   477.54924   290.098095  166.04154   931.54782\n",
            "   96.50508    44.371635   16.172415  305.12853    69.904065   80.59674\n",
            "  314.30238   255.10527    49.59654   181.11807   882.26922   271.470045\n",
            "  637.883085  252.04914   180.926655  104.396985  313.659675  167.41935\n",
            "   27.20949    71.343615  250.65012   244.61892   922.180665  734.44917\n",
            "  707.647815  334.35192    30.249765  521.6232    864.64056   633.280935\n",
            "  297.01434   804.17526   121.53225   183.717555   63.599445   42.063105\n",
            " 1022.1267     33.345375   69.23679   650.92902 ]\n"
          ]
        }
      ],
      "source": [
        "# create a new DataFrame with only the relevant columns\n",
        "df_new = df[['Branch', 'City', 'Customer type', 'Gender', 'Product line', 'Unit price', 'Quantity', 'Tax 5%', 'Payment', 'cogs', 'gross margin percentage', 'gross income']]\n",
        "\n",
        "# apply one-hot encoding to the categorical columns\n",
        "df_new = pd.get_dummies(df_new)\n",
        "\n",
        "# predict the total sales for the new data\n",
        "predicted_totals = rf.predict(df_new)\n",
        "\n",
        "# print the predicted total sales\n",
        "print(predicted_totals)\n"
      ]
    },
    {
      "cell_type": "markdown",
      "id": "257cab5b",
      "metadata": {
        "papermill": {
          "duration": 0.039749,
          "end_time": "2022-12-14T15:57:30.285397",
          "exception": false,
          "start_time": "2022-12-14T15:57:30.245648",
          "status": "completed"
        },
        "tags": [],
        "id": "257cab5b"
      },
      "source": [
        "This code first preprocesses the new data by selecting the relevant columns and applying one-hot encoding to the categorical columns. Then, it uses the trained model to predict the total sales for the new data and prints the predicted total sales. "
      ]
    },
    {
      "cell_type": "markdown",
      "id": "022f888c",
      "metadata": {
        "papermill": {
          "duration": 0.039814,
          "end_time": "2022-12-14T15:57:30.366665",
          "exception": false,
          "start_time": "2022-12-14T15:57:30.326851",
          "status": "completed"
        },
        "tags": [],
        "id": "022f888c"
      },
      "source": [
        "#### **Conclusion** <a class=\"anchor\" id=\"c\"></a>\n",
        "\n",
        "<br>\n",
        "\n",
        "Based on the analysis of the supermarket dataset, it is recommended to focus on\n",
        "\n",
        "* Increasing the average unit price and gross margin percentage in order to maximize profits. \n",
        "* Promoting certain product lines that have high quantity sold can also increase revenue.\n",
        "* By targeting specific cities and customer types, the number of transactions can be increased. \n",
        "* Furthermore, improving the rating of the supermarket by gender can lead to increased customer satisfaction and loyalty. \n",
        "* Implementing strategies to minimize the amount of tax paid can also improve overall profitability.\n",
        "* Based on the high performance of the Random Forest regression algorithm in predicting the total sales for each city, it is recommended to utilize this algorithm in future sales forecasting. \n",
        "* By incorporating the other attributes in the dataset, the accuracy of the predictions can be further improved. This can be useful in making informed business decisions and allocating resources effectively.\n",
        "* Based on the relatively low performance of the Random Forest classification algorithm in predicting customer ratings, it is recommended to explore other algorithms and/or incorporate additional relevant data to improve the accuracy of the predictions. This can be useful in understanding customer preferences and implementing strategies to improve customer satisfaction and loyalty."
      ]
    },
    {
      "cell_type": "markdown",
      "id": "4c4b8eef",
      "metadata": {
        "papermill": {
          "duration": 0.039692,
          "end_time": "2022-12-14T15:57:30.447411",
          "exception": false,
          "start_time": "2022-12-14T15:57:30.407719",
          "status": "completed"
        },
        "tags": [],
        "id": "4c4b8eef"
      },
      "source": [
        "**Note: Remember that correlation between some data does not necessarily indicate causality, therefore we need to back up these findings with other evidence.**"
      ]
    }
  ],
  "metadata": {
    "kernelspec": {
      "display_name": "Python 3",
      "language": "python",
      "name": "python3"
    },
    "language_info": {
      "codemirror_mode": {
        "name": "ipython",
        "version": 3
      },
      "file_extension": ".py",
      "mimetype": "text/x-python",
      "name": "python",
      "nbconvert_exporter": "python",
      "pygments_lexer": "ipython3",
      "version": "3.7.12"
    },
    "papermill": {
      "default_parameters": {},
      "duration": 30.723302,
      "end_time": "2022-12-14T15:57:31.511327",
      "environment_variables": {},
      "exception": null,
      "input_path": "__notebook__.ipynb",
      "output_path": "__notebook__.ipynb",
      "parameters": {},
      "start_time": "2022-12-14T15:57:00.788025",
      "version": "2.3.4"
    },
    "colab": {
      "provenance": []
    }
  },
  "nbformat": 4,
  "nbformat_minor": 5
}