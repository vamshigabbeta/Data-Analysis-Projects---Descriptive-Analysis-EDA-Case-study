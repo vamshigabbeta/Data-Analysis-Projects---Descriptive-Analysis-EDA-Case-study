{
  "cells": [
    {
      "cell_type": "code",
      "execution_count": 109,
      "id": "60fb2a05",
      "metadata": {
        "execution": {
          "iopub.execute_input": "2022-09-11T03:14:44.818881Z",
          "iopub.status.busy": "2022-09-11T03:14:44.818084Z",
          "iopub.status.idle": "2022-09-11T03:14:44.839427Z",
          "shell.execute_reply": "2022-09-11T03:14:44.838492Z"
        },
        "papermill": {
          "duration": 0.033066,
          "end_time": "2022-09-11T03:14:44.842348",
          "exception": false,
          "start_time": "2022-09-11T03:14:44.809282",
          "status": "completed"
        },
        "tags": [],
        "id": "60fb2a05"
      },
      "outputs": [],
      "source": [
        "import numpy as np # linear algebra\n",
        "import pandas as pd # data processing\n",
        "\n"
      ]
    },
    {
      "cell_type": "markdown",
      "id": "7b36a3b5",
      "metadata": {
        "papermill": {
          "duration": 0.00631,
          "end_time": "2022-09-11T03:14:44.855579",
          "exception": false,
          "start_time": "2022-09-11T03:14:44.849269",
          "status": "completed"
        },
        "tags": [],
        "id": "7b36a3b5"
      },
      "source": [
        "<h3>Read Salaries.csv as a dataframe called sal.</h3>"
      ]
    },
    {
      "cell_type": "code",
      "execution_count": 110,
      "id": "32e054c0",
      "metadata": {
        "execution": {
          "iopub.execute_input": "2022-09-11T03:14:44.870457Z",
          "iopub.status.busy": "2022-09-11T03:14:44.870044Z",
          "iopub.status.idle": "2022-09-11T03:14:45.438901Z",
          "shell.execute_reply": "2022-09-11T03:14:45.437640Z"
        },
        "jupyter": {
          "outputs_hidden": false
        },
        "papermill": {
          "duration": 0.580409,
          "end_time": "2022-09-11T03:14:45.442499",
          "exception": false,
          "start_time": "2022-09-11T03:14:44.862090",
          "status": "completed"
        },
        "tags": [],
        "colab": {
          "base_uri": "https://localhost:8080/"
        },
        "id": "32e054c0",
        "outputId": "2260ab7e-4e67-4158-95f6-c0697dde0a21"
      },
      "outputs": [
        {
          "output_type": "stream",
          "name": "stderr",
          "text": [
            "/usr/local/lib/python3.8/dist-packages/IPython/core/interactiveshell.py:3326: DtypeWarning: Columns (3,4,5,6,12) have mixed types.Specify dtype option on import or set low_memory=False.\n",
            "  exec(code_obj, self.user_global_ns, self.user_ns)\n"
          ]
        }
      ],
      "source": [
        "sal = pd.read_csv('/content/sample_data/Salaries.csv')"
      ]
    },
    {
      "cell_type": "markdown",
      "id": "3030d6b6",
      "metadata": {
        "papermill": {
          "duration": 0.007097,
          "end_time": "2022-09-11T03:14:45.456875",
          "exception": false,
          "start_time": "2022-09-11T03:14:45.449778",
          "status": "completed"
        },
        "tags": [],
        "id": "3030d6b6"
      },
      "source": [
        "<h3>Check the head of the DataFrame.</h3>"
      ]
    },
    {
      "cell_type": "code",
      "execution_count": 50,
      "id": "375ea6d3",
      "metadata": {
        "execution": {
          "iopub.execute_input": "2022-09-11T03:14:45.472488Z",
          "iopub.status.busy": "2022-09-11T03:14:45.471810Z",
          "iopub.status.idle": "2022-09-11T03:14:45.498138Z",
          "shell.execute_reply": "2022-09-11T03:14:45.496916Z"
        },
        "jupyter": {
          "outputs_hidden": false
        },
        "papermill": {
          "duration": 0.036859,
          "end_time": "2022-09-11T03:14:45.500639",
          "exception": false,
          "start_time": "2022-09-11T03:14:45.463780",
          "status": "completed"
        },
        "tags": [],
        "colab": {
          "base_uri": "https://localhost:8080/",
          "height": 423
        },
        "id": "375ea6d3",
        "outputId": "4ca26dac-91f9-4006-9016-7144f0486908"
      },
      "outputs": [
        {
          "output_type": "execute_result",
          "data": {
            "text/plain": [
              "   Id       EmployeeName                                        JobTitle  \\\n",
              "0   1     NATHANIEL FORD  GENERAL MANAGER-METROPOLITAN TRANSIT AUTHORITY   \n",
              "1   2       GARY JIMENEZ                 CAPTAIN III (POLICE DEPARTMENT)   \n",
              "2   3     ALBERT PARDINI                 CAPTAIN III (POLICE DEPARTMENT)   \n",
              "3   4  CHRISTOPHER CHONG            WIRE ROPE CABLE MAINTENANCE MECHANIC   \n",
              "4   5    PATRICK GARDNER    DEPUTY CHIEF OF DEPARTMENT,(FIRE DEPARTMENT)   \n",
              "\n",
              "     BasePay OvertimePay   OtherPay Benefits   TotalPay  TotalPayBenefits  \\\n",
              "0  167411.18         0.0  400184.25      NaN  567595.43         567595.43   \n",
              "1  155966.02   245131.88  137811.38      NaN  538909.28         538909.28   \n",
              "2  212739.13   106088.18    16452.6      NaN  335279.91         335279.91   \n",
              "3    77916.0    56120.71   198306.9      NaN  332343.61         332343.61   \n",
              "4   134401.6      9737.0  182234.59      NaN  326373.19         326373.19   \n",
              "\n",
              "   Year  Notes         Agency Status  \n",
              "0  2011    NaN  San Francisco    NaN  \n",
              "1  2011    NaN  San Francisco    NaN  \n",
              "2  2011    NaN  San Francisco    NaN  \n",
              "3  2011    NaN  San Francisco    NaN  \n",
              "4  2011    NaN  San Francisco    NaN  "
            ],
            "text/html": [
              "\n",
              "  <div id=\"df-61852c5d-d68e-494d-9842-ff1d242e4133\">\n",
              "    <div class=\"colab-df-container\">\n",
              "      <div>\n",
              "<style scoped>\n",
              "    .dataframe tbody tr th:only-of-type {\n",
              "        vertical-align: middle;\n",
              "    }\n",
              "\n",
              "    .dataframe tbody tr th {\n",
              "        vertical-align: top;\n",
              "    }\n",
              "\n",
              "    .dataframe thead th {\n",
              "        text-align: right;\n",
              "    }\n",
              "</style>\n",
              "<table border=\"1\" class=\"dataframe\">\n",
              "  <thead>\n",
              "    <tr style=\"text-align: right;\">\n",
              "      <th></th>\n",
              "      <th>Id</th>\n",
              "      <th>EmployeeName</th>\n",
              "      <th>JobTitle</th>\n",
              "      <th>BasePay</th>\n",
              "      <th>OvertimePay</th>\n",
              "      <th>OtherPay</th>\n",
              "      <th>Benefits</th>\n",
              "      <th>TotalPay</th>\n",
              "      <th>TotalPayBenefits</th>\n",
              "      <th>Year</th>\n",
              "      <th>Notes</th>\n",
              "      <th>Agency</th>\n",
              "      <th>Status</th>\n",
              "    </tr>\n",
              "  </thead>\n",
              "  <tbody>\n",
              "    <tr>\n",
              "      <th>0</th>\n",
              "      <td>1</td>\n",
              "      <td>NATHANIEL FORD</td>\n",
              "      <td>GENERAL MANAGER-METROPOLITAN TRANSIT AUTHORITY</td>\n",
              "      <td>167411.18</td>\n",
              "      <td>0.0</td>\n",
              "      <td>400184.25</td>\n",
              "      <td>NaN</td>\n",
              "      <td>567595.43</td>\n",
              "      <td>567595.43</td>\n",
              "      <td>2011</td>\n",
              "      <td>NaN</td>\n",
              "      <td>San Francisco</td>\n",
              "      <td>NaN</td>\n",
              "    </tr>\n",
              "    <tr>\n",
              "      <th>1</th>\n",
              "      <td>2</td>\n",
              "      <td>GARY JIMENEZ</td>\n",
              "      <td>CAPTAIN III (POLICE DEPARTMENT)</td>\n",
              "      <td>155966.02</td>\n",
              "      <td>245131.88</td>\n",
              "      <td>137811.38</td>\n",
              "      <td>NaN</td>\n",
              "      <td>538909.28</td>\n",
              "      <td>538909.28</td>\n",
              "      <td>2011</td>\n",
              "      <td>NaN</td>\n",
              "      <td>San Francisco</td>\n",
              "      <td>NaN</td>\n",
              "    </tr>\n",
              "    <tr>\n",
              "      <th>2</th>\n",
              "      <td>3</td>\n",
              "      <td>ALBERT PARDINI</td>\n",
              "      <td>CAPTAIN III (POLICE DEPARTMENT)</td>\n",
              "      <td>212739.13</td>\n",
              "      <td>106088.18</td>\n",
              "      <td>16452.6</td>\n",
              "      <td>NaN</td>\n",
              "      <td>335279.91</td>\n",
              "      <td>335279.91</td>\n",
              "      <td>2011</td>\n",
              "      <td>NaN</td>\n",
              "      <td>San Francisco</td>\n",
              "      <td>NaN</td>\n",
              "    </tr>\n",
              "    <tr>\n",
              "      <th>3</th>\n",
              "      <td>4</td>\n",
              "      <td>CHRISTOPHER CHONG</td>\n",
              "      <td>WIRE ROPE CABLE MAINTENANCE MECHANIC</td>\n",
              "      <td>77916.0</td>\n",
              "      <td>56120.71</td>\n",
              "      <td>198306.9</td>\n",
              "      <td>NaN</td>\n",
              "      <td>332343.61</td>\n",
              "      <td>332343.61</td>\n",
              "      <td>2011</td>\n",
              "      <td>NaN</td>\n",
              "      <td>San Francisco</td>\n",
              "      <td>NaN</td>\n",
              "    </tr>\n",
              "    <tr>\n",
              "      <th>4</th>\n",
              "      <td>5</td>\n",
              "      <td>PATRICK GARDNER</td>\n",
              "      <td>DEPUTY CHIEF OF DEPARTMENT,(FIRE DEPARTMENT)</td>\n",
              "      <td>134401.6</td>\n",
              "      <td>9737.0</td>\n",
              "      <td>182234.59</td>\n",
              "      <td>NaN</td>\n",
              "      <td>326373.19</td>\n",
              "      <td>326373.19</td>\n",
              "      <td>2011</td>\n",
              "      <td>NaN</td>\n",
              "      <td>San Francisco</td>\n",
              "      <td>NaN</td>\n",
              "    </tr>\n",
              "  </tbody>\n",
              "</table>\n",
              "</div>\n",
              "      <button class=\"colab-df-convert\" onclick=\"convertToInteractive('df-61852c5d-d68e-494d-9842-ff1d242e4133')\"\n",
              "              title=\"Convert this dataframe to an interactive table.\"\n",
              "              style=\"display:none;\">\n",
              "        \n",
              "  <svg xmlns=\"http://www.w3.org/2000/svg\" height=\"24px\"viewBox=\"0 0 24 24\"\n",
              "       width=\"24px\">\n",
              "    <path d=\"M0 0h24v24H0V0z\" fill=\"none\"/>\n",
              "    <path d=\"M18.56 5.44l.94 2.06.94-2.06 2.06-.94-2.06-.94-.94-2.06-.94 2.06-2.06.94zm-11 1L8.5 8.5l.94-2.06 2.06-.94-2.06-.94L8.5 2.5l-.94 2.06-2.06.94zm10 10l.94 2.06.94-2.06 2.06-.94-2.06-.94-.94-2.06-.94 2.06-2.06.94z\"/><path d=\"M17.41 7.96l-1.37-1.37c-.4-.4-.92-.59-1.43-.59-.52 0-1.04.2-1.43.59L10.3 9.45l-7.72 7.72c-.78.78-.78 2.05 0 2.83L4 21.41c.39.39.9.59 1.41.59.51 0 1.02-.2 1.41-.59l7.78-7.78 2.81-2.81c.8-.78.8-2.07 0-2.86zM5.41 20L4 18.59l7.72-7.72 1.47 1.35L5.41 20z\"/>\n",
              "  </svg>\n",
              "      </button>\n",
              "      \n",
              "  <style>\n",
              "    .colab-df-container {\n",
              "      display:flex;\n",
              "      flex-wrap:wrap;\n",
              "      gap: 12px;\n",
              "    }\n",
              "\n",
              "    .colab-df-convert {\n",
              "      background-color: #E8F0FE;\n",
              "      border: none;\n",
              "      border-radius: 50%;\n",
              "      cursor: pointer;\n",
              "      display: none;\n",
              "      fill: #1967D2;\n",
              "      height: 32px;\n",
              "      padding: 0 0 0 0;\n",
              "      width: 32px;\n",
              "    }\n",
              "\n",
              "    .colab-df-convert:hover {\n",
              "      background-color: #E2EBFA;\n",
              "      box-shadow: 0px 1px 2px rgba(60, 64, 67, 0.3), 0px 1px 3px 1px rgba(60, 64, 67, 0.15);\n",
              "      fill: #174EA6;\n",
              "    }\n",
              "\n",
              "    [theme=dark] .colab-df-convert {\n",
              "      background-color: #3B4455;\n",
              "      fill: #D2E3FC;\n",
              "    }\n",
              "\n",
              "    [theme=dark] .colab-df-convert:hover {\n",
              "      background-color: #434B5C;\n",
              "      box-shadow: 0px 1px 3px 1px rgba(0, 0, 0, 0.15);\n",
              "      filter: drop-shadow(0px 1px 2px rgba(0, 0, 0, 0.3));\n",
              "      fill: #FFFFFF;\n",
              "    }\n",
              "  </style>\n",
              "\n",
              "      <script>\n",
              "        const buttonEl =\n",
              "          document.querySelector('#df-61852c5d-d68e-494d-9842-ff1d242e4133 button.colab-df-convert');\n",
              "        buttonEl.style.display =\n",
              "          google.colab.kernel.accessAllowed ? 'block' : 'none';\n",
              "\n",
              "        async function convertToInteractive(key) {\n",
              "          const element = document.querySelector('#df-61852c5d-d68e-494d-9842-ff1d242e4133');\n",
              "          const dataTable =\n",
              "            await google.colab.kernel.invokeFunction('convertToInteractive',\n",
              "                                                     [key], {});\n",
              "          if (!dataTable) return;\n",
              "\n",
              "          const docLinkHtml = 'Like what you see? Visit the ' +\n",
              "            '<a target=\"_blank\" href=https://colab.research.google.com/notebooks/data_table.ipynb>data table notebook</a>'\n",
              "            + ' to learn more about interactive tables.';\n",
              "          element.innerHTML = '';\n",
              "          dataTable['output_type'] = 'display_data';\n",
              "          await google.colab.output.renderOutput(dataTable, element);\n",
              "          const docLink = document.createElement('div');\n",
              "          docLink.innerHTML = docLinkHtml;\n",
              "          element.appendChild(docLink);\n",
              "        }\n",
              "      </script>\n",
              "    </div>\n",
              "  </div>\n",
              "  "
            ]
          },
          "metadata": {},
          "execution_count": 50
        }
      ],
      "source": [
        "sal.head()"
      ]
    },
    {
      "cell_type": "markdown",
      "id": "7ad0b5f6",
      "metadata": {
        "papermill": {
          "duration": 0.006681,
          "end_time": "2022-09-11T03:14:45.514298",
          "exception": false,
          "start_time": "2022-09-11T03:14:45.507617",
          "status": "completed"
        },
        "tags": [],
        "id": "7ad0b5f6"
      },
      "source": [
        "<h3>Find out how many entries there are.</h3>"
      ]
    },
    {
      "cell_type": "code",
      "execution_count": 51,
      "id": "2e5001c6",
      "metadata": {
        "execution": {
          "iopub.execute_input": "2022-09-11T03:14:45.530277Z",
          "iopub.status.busy": "2022-09-11T03:14:45.529498Z",
          "iopub.status.idle": "2022-09-11T03:14:45.606396Z",
          "shell.execute_reply": "2022-09-11T03:14:45.604453Z"
        },
        "jupyter": {
          "outputs_hidden": false
        },
        "papermill": {
          "duration": 0.088088,
          "end_time": "2022-09-11T03:14:45.609232",
          "exception": false,
          "start_time": "2022-09-11T03:14:45.521144",
          "status": "completed"
        },
        "tags": [],
        "id": "2e5001c6",
        "outputId": "e6842f3b-3ee0-4c2a-c9b5-834dba53dea0",
        "colab": {
          "base_uri": "https://localhost:8080/"
        }
      },
      "outputs": [
        {
          "output_type": "stream",
          "name": "stdout",
          "text": [
            "<class 'pandas.core.frame.DataFrame'>\n",
            "RangeIndex: 148654 entries, 0 to 148653\n",
            "Data columns (total 13 columns):\n",
            " #   Column            Non-Null Count   Dtype  \n",
            "---  ------            --------------   -----  \n",
            " 0   Id                148654 non-null  int64  \n",
            " 1   EmployeeName      148654 non-null  object \n",
            " 2   JobTitle          148654 non-null  object \n",
            " 3   BasePay           148049 non-null  object \n",
            " 4   OvertimePay       148654 non-null  object \n",
            " 5   OtherPay          148654 non-null  object \n",
            " 6   Benefits          112495 non-null  object \n",
            " 7   TotalPay          148654 non-null  float64\n",
            " 8   TotalPayBenefits  148654 non-null  float64\n",
            " 9   Year              148654 non-null  int64  \n",
            " 10  Notes             0 non-null       float64\n",
            " 11  Agency            148654 non-null  object \n",
            " 12  Status            38119 non-null   object \n",
            "dtypes: float64(3), int64(2), object(8)\n",
            "memory usage: 14.7+ MB\n"
          ]
        }
      ],
      "source": [
        "sal.info() # 148654 Entries"
      ]
    },
    {
      "cell_type": "markdown",
      "source": [
        "# Drop ID, Notes, Agency, and Status Columns"
      ],
      "metadata": {
        "id": "PLjhutBGoQQH"
      },
      "id": "PLjhutBGoQQH"
    },
    {
      "cell_type": "code",
      "source": [
        "sal.columns"
      ],
      "metadata": {
        "colab": {
          "base_uri": "https://localhost:8080/"
        },
        "id": "ZGXYShn5ogFm",
        "outputId": "6efd268c-9624-4386-de71-a7c120107082"
      },
      "id": "ZGXYShn5ogFm",
      "execution_count": 52,
      "outputs": [
        {
          "output_type": "execute_result",
          "data": {
            "text/plain": [
              "Index(['Id', 'EmployeeName', 'JobTitle', 'BasePay', 'OvertimePay', 'OtherPay',\n",
              "       'Benefits', 'TotalPay', 'TotalPayBenefits', 'Year', 'Notes', 'Agency',\n",
              "       'Status'],\n",
              "      dtype='object')"
            ]
          },
          "metadata": {},
          "execution_count": 52
        }
      ]
    },
    {
      "cell_type": "code",
      "source": [
        "sal = sal.drop(['Id','Notes','Agency','Status'], axis = 1)\n"
      ],
      "metadata": {
        "id": "pc6yjSP0oS2y"
      },
      "id": "pc6yjSP0oS2y",
      "execution_count": 53,
      "outputs": []
    },
    {
      "cell_type": "code",
      "source": [
        "sal.columns"
      ],
      "metadata": {
        "colab": {
          "base_uri": "https://localhost:8080/"
        },
        "id": "KbCR1yjcp-ed",
        "outputId": "2ba946be-3b5f-4a48-8945-988cb01e59fd"
      },
      "id": "KbCR1yjcp-ed",
      "execution_count": 54,
      "outputs": [
        {
          "output_type": "execute_result",
          "data": {
            "text/plain": [
              "Index(['EmployeeName', 'JobTitle', 'BasePay', 'OvertimePay', 'OtherPay',\n",
              "       'Benefits', 'TotalPay', 'TotalPayBenefits', 'Year'],\n",
              "      dtype='object')"
            ]
          },
          "metadata": {},
          "execution_count": 54
        }
      ]
    },
    {
      "cell_type": "markdown",
      "source": [
        "# Get Overall Statistics About The Dataframe"
      ],
      "metadata": {
        "id": "E1L3kj2jqYh_"
      },
      "id": "E1L3kj2jqYh_"
    },
    {
      "cell_type": "code",
      "source": [
        "#gives statistical report of all numerical and categorical data\n",
        "sal.describe(include='all')"
      ],
      "metadata": {
        "colab": {
          "base_uri": "https://localhost:8080/",
          "height": 394
        },
        "id": "6zCg_HCDqaXr",
        "outputId": "37611370-bcbf-47ab-acd6-ea48369a6f3a"
      },
      "id": "6zCg_HCDqaXr",
      "execution_count": 55,
      "outputs": [
        {
          "output_type": "execute_result",
          "data": {
            "text/plain": [
              "       EmployeeName          JobTitle   BasePay  OvertimePay  OtherPay  \\\n",
              "count        148654            148654  148049.0     148654.0  148654.0   \n",
              "unique       110811              2159  109900.0      66555.0   84968.0   \n",
              "top       Kevin Lee  Transit Operator       0.0          0.0       0.0   \n",
              "freq             13              7036     875.0      66103.0   35218.0   \n",
              "mean            NaN               NaN       NaN          NaN       NaN   \n",
              "std             NaN               NaN       NaN          NaN       NaN   \n",
              "min             NaN               NaN       NaN          NaN       NaN   \n",
              "25%             NaN               NaN       NaN          NaN       NaN   \n",
              "50%             NaN               NaN       NaN          NaN       NaN   \n",
              "75%             NaN               NaN       NaN          NaN       NaN   \n",
              "max             NaN               NaN       NaN          NaN       NaN   \n",
              "\n",
              "        Benefits       TotalPay  TotalPayBenefits           Year  \n",
              "count   112495.0  148654.000000     148654.000000  148654.000000  \n",
              "unique   99635.0            NaN               NaN            NaN  \n",
              "top          0.0            NaN               NaN            NaN  \n",
              "freq      1053.0            NaN               NaN            NaN  \n",
              "mean         NaN   74768.321972      93692.554811    2012.522643  \n",
              "std          NaN   50517.005274      62793.533483       1.117538  \n",
              "min          NaN    -618.130000       -618.130000    2011.000000  \n",
              "25%          NaN   36168.995000      44065.650000    2012.000000  \n",
              "50%          NaN   71426.610000      92404.090000    2013.000000  \n",
              "75%          NaN  105839.135000     132876.450000    2014.000000  \n",
              "max          NaN  567595.430000     567595.430000    2014.000000  "
            ],
            "text/html": [
              "\n",
              "  <div id=\"df-45f46f60-f7e8-4496-bb66-93128500176e\">\n",
              "    <div class=\"colab-df-container\">\n",
              "      <div>\n",
              "<style scoped>\n",
              "    .dataframe tbody tr th:only-of-type {\n",
              "        vertical-align: middle;\n",
              "    }\n",
              "\n",
              "    .dataframe tbody tr th {\n",
              "        vertical-align: top;\n",
              "    }\n",
              "\n",
              "    .dataframe thead th {\n",
              "        text-align: right;\n",
              "    }\n",
              "</style>\n",
              "<table border=\"1\" class=\"dataframe\">\n",
              "  <thead>\n",
              "    <tr style=\"text-align: right;\">\n",
              "      <th></th>\n",
              "      <th>EmployeeName</th>\n",
              "      <th>JobTitle</th>\n",
              "      <th>BasePay</th>\n",
              "      <th>OvertimePay</th>\n",
              "      <th>OtherPay</th>\n",
              "      <th>Benefits</th>\n",
              "      <th>TotalPay</th>\n",
              "      <th>TotalPayBenefits</th>\n",
              "      <th>Year</th>\n",
              "    </tr>\n",
              "  </thead>\n",
              "  <tbody>\n",
              "    <tr>\n",
              "      <th>count</th>\n",
              "      <td>148654</td>\n",
              "      <td>148654</td>\n",
              "      <td>148049.0</td>\n",
              "      <td>148654.0</td>\n",
              "      <td>148654.0</td>\n",
              "      <td>112495.0</td>\n",
              "      <td>148654.000000</td>\n",
              "      <td>148654.000000</td>\n",
              "      <td>148654.000000</td>\n",
              "    </tr>\n",
              "    <tr>\n",
              "      <th>unique</th>\n",
              "      <td>110811</td>\n",
              "      <td>2159</td>\n",
              "      <td>109900.0</td>\n",
              "      <td>66555.0</td>\n",
              "      <td>84968.0</td>\n",
              "      <td>99635.0</td>\n",
              "      <td>NaN</td>\n",
              "      <td>NaN</td>\n",
              "      <td>NaN</td>\n",
              "    </tr>\n",
              "    <tr>\n",
              "      <th>top</th>\n",
              "      <td>Kevin Lee</td>\n",
              "      <td>Transit Operator</td>\n",
              "      <td>0.0</td>\n",
              "      <td>0.0</td>\n",
              "      <td>0.0</td>\n",
              "      <td>0.0</td>\n",
              "      <td>NaN</td>\n",
              "      <td>NaN</td>\n",
              "      <td>NaN</td>\n",
              "    </tr>\n",
              "    <tr>\n",
              "      <th>freq</th>\n",
              "      <td>13</td>\n",
              "      <td>7036</td>\n",
              "      <td>875.0</td>\n",
              "      <td>66103.0</td>\n",
              "      <td>35218.0</td>\n",
              "      <td>1053.0</td>\n",
              "      <td>NaN</td>\n",
              "      <td>NaN</td>\n",
              "      <td>NaN</td>\n",
              "    </tr>\n",
              "    <tr>\n",
              "      <th>mean</th>\n",
              "      <td>NaN</td>\n",
              "      <td>NaN</td>\n",
              "      <td>NaN</td>\n",
              "      <td>NaN</td>\n",
              "      <td>NaN</td>\n",
              "      <td>NaN</td>\n",
              "      <td>74768.321972</td>\n",
              "      <td>93692.554811</td>\n",
              "      <td>2012.522643</td>\n",
              "    </tr>\n",
              "    <tr>\n",
              "      <th>std</th>\n",
              "      <td>NaN</td>\n",
              "      <td>NaN</td>\n",
              "      <td>NaN</td>\n",
              "      <td>NaN</td>\n",
              "      <td>NaN</td>\n",
              "      <td>NaN</td>\n",
              "      <td>50517.005274</td>\n",
              "      <td>62793.533483</td>\n",
              "      <td>1.117538</td>\n",
              "    </tr>\n",
              "    <tr>\n",
              "      <th>min</th>\n",
              "      <td>NaN</td>\n",
              "      <td>NaN</td>\n",
              "      <td>NaN</td>\n",
              "      <td>NaN</td>\n",
              "      <td>NaN</td>\n",
              "      <td>NaN</td>\n",
              "      <td>-618.130000</td>\n",
              "      <td>-618.130000</td>\n",
              "      <td>2011.000000</td>\n",
              "    </tr>\n",
              "    <tr>\n",
              "      <th>25%</th>\n",
              "      <td>NaN</td>\n",
              "      <td>NaN</td>\n",
              "      <td>NaN</td>\n",
              "      <td>NaN</td>\n",
              "      <td>NaN</td>\n",
              "      <td>NaN</td>\n",
              "      <td>36168.995000</td>\n",
              "      <td>44065.650000</td>\n",
              "      <td>2012.000000</td>\n",
              "    </tr>\n",
              "    <tr>\n",
              "      <th>50%</th>\n",
              "      <td>NaN</td>\n",
              "      <td>NaN</td>\n",
              "      <td>NaN</td>\n",
              "      <td>NaN</td>\n",
              "      <td>NaN</td>\n",
              "      <td>NaN</td>\n",
              "      <td>71426.610000</td>\n",
              "      <td>92404.090000</td>\n",
              "      <td>2013.000000</td>\n",
              "    </tr>\n",
              "    <tr>\n",
              "      <th>75%</th>\n",
              "      <td>NaN</td>\n",
              "      <td>NaN</td>\n",
              "      <td>NaN</td>\n",
              "      <td>NaN</td>\n",
              "      <td>NaN</td>\n",
              "      <td>NaN</td>\n",
              "      <td>105839.135000</td>\n",
              "      <td>132876.450000</td>\n",
              "      <td>2014.000000</td>\n",
              "    </tr>\n",
              "    <tr>\n",
              "      <th>max</th>\n",
              "      <td>NaN</td>\n",
              "      <td>NaN</td>\n",
              "      <td>NaN</td>\n",
              "      <td>NaN</td>\n",
              "      <td>NaN</td>\n",
              "      <td>NaN</td>\n",
              "      <td>567595.430000</td>\n",
              "      <td>567595.430000</td>\n",
              "      <td>2014.000000</td>\n",
              "    </tr>\n",
              "  </tbody>\n",
              "</table>\n",
              "</div>\n",
              "      <button class=\"colab-df-convert\" onclick=\"convertToInteractive('df-45f46f60-f7e8-4496-bb66-93128500176e')\"\n",
              "              title=\"Convert this dataframe to an interactive table.\"\n",
              "              style=\"display:none;\">\n",
              "        \n",
              "  <svg xmlns=\"http://www.w3.org/2000/svg\" height=\"24px\"viewBox=\"0 0 24 24\"\n",
              "       width=\"24px\">\n",
              "    <path d=\"M0 0h24v24H0V0z\" fill=\"none\"/>\n",
              "    <path d=\"M18.56 5.44l.94 2.06.94-2.06 2.06-.94-2.06-.94-.94-2.06-.94 2.06-2.06.94zm-11 1L8.5 8.5l.94-2.06 2.06-.94-2.06-.94L8.5 2.5l-.94 2.06-2.06.94zm10 10l.94 2.06.94-2.06 2.06-.94-2.06-.94-.94-2.06-.94 2.06-2.06.94z\"/><path d=\"M17.41 7.96l-1.37-1.37c-.4-.4-.92-.59-1.43-.59-.52 0-1.04.2-1.43.59L10.3 9.45l-7.72 7.72c-.78.78-.78 2.05 0 2.83L4 21.41c.39.39.9.59 1.41.59.51 0 1.02-.2 1.41-.59l7.78-7.78 2.81-2.81c.8-.78.8-2.07 0-2.86zM5.41 20L4 18.59l7.72-7.72 1.47 1.35L5.41 20z\"/>\n",
              "  </svg>\n",
              "      </button>\n",
              "      \n",
              "  <style>\n",
              "    .colab-df-container {\n",
              "      display:flex;\n",
              "      flex-wrap:wrap;\n",
              "      gap: 12px;\n",
              "    }\n",
              "\n",
              "    .colab-df-convert {\n",
              "      background-color: #E8F0FE;\n",
              "      border: none;\n",
              "      border-radius: 50%;\n",
              "      cursor: pointer;\n",
              "      display: none;\n",
              "      fill: #1967D2;\n",
              "      height: 32px;\n",
              "      padding: 0 0 0 0;\n",
              "      width: 32px;\n",
              "    }\n",
              "\n",
              "    .colab-df-convert:hover {\n",
              "      background-color: #E2EBFA;\n",
              "      box-shadow: 0px 1px 2px rgba(60, 64, 67, 0.3), 0px 1px 3px 1px rgba(60, 64, 67, 0.15);\n",
              "      fill: #174EA6;\n",
              "    }\n",
              "\n",
              "    [theme=dark] .colab-df-convert {\n",
              "      background-color: #3B4455;\n",
              "      fill: #D2E3FC;\n",
              "    }\n",
              "\n",
              "    [theme=dark] .colab-df-convert:hover {\n",
              "      background-color: #434B5C;\n",
              "      box-shadow: 0px 1px 3px 1px rgba(0, 0, 0, 0.15);\n",
              "      filter: drop-shadow(0px 1px 2px rgba(0, 0, 0, 0.3));\n",
              "      fill: #FFFFFF;\n",
              "    }\n",
              "  </style>\n",
              "\n",
              "      <script>\n",
              "        const buttonEl =\n",
              "          document.querySelector('#df-45f46f60-f7e8-4496-bb66-93128500176e button.colab-df-convert');\n",
              "        buttonEl.style.display =\n",
              "          google.colab.kernel.accessAllowed ? 'block' : 'none';\n",
              "\n",
              "        async function convertToInteractive(key) {\n",
              "          const element = document.querySelector('#df-45f46f60-f7e8-4496-bb66-93128500176e');\n",
              "          const dataTable =\n",
              "            await google.colab.kernel.invokeFunction('convertToInteractive',\n",
              "                                                     [key], {});\n",
              "          if (!dataTable) return;\n",
              "\n",
              "          const docLinkHtml = 'Like what you see? Visit the ' +\n",
              "            '<a target=\"_blank\" href=https://colab.research.google.com/notebooks/data_table.ipynb>data table notebook</a>'\n",
              "            + ' to learn more about interactive tables.';\n",
              "          element.innerHTML = '';\n",
              "          dataTable['output_type'] = 'display_data';\n",
              "          await google.colab.output.renderOutput(dataTable, element);\n",
              "          const docLink = document.createElement('div');\n",
              "          docLink.innerHTML = docLinkHtml;\n",
              "          element.appendChild(docLink);\n",
              "        }\n",
              "      </script>\n",
              "    </div>\n",
              "  </div>\n",
              "  "
            ]
          },
          "metadata": {},
          "execution_count": 55
        }
      ]
    },
    {
      "cell_type": "markdown",
      "source": [
        "# Total Number of 'Job Titles' Contain Captain"
      ],
      "metadata": {
        "id": "0xETDPhXq5NI"
      },
      "id": "0xETDPhXq5NI"
    },
    {
      "cell_type": "code",
      "source": [
        "sum(sal['JobTitle'].str.contains('captain', case=False))"
      ],
      "metadata": {
        "colab": {
          "base_uri": "https://localhost:8080/"
        },
        "id": "MBMJFRs5rCtR",
        "outputId": "fc437e2a-23a6-4dc1-ed60-9d75e28a9697"
      },
      "id": "MBMJFRs5rCtR",
      "execution_count": 56,
      "outputs": [
        {
          "output_type": "execute_result",
          "data": {
            "text/plain": [
              "552"
            ]
          },
          "metadata": {},
          "execution_count": 56
        }
      ]
    },
    {
      "cell_type": "code",
      "source": [
        "sal[sal['JobTitle'].str.contains('captain', case=False)].count()"
      ],
      "metadata": {
        "colab": {
          "base_uri": "https://localhost:8080/"
        },
        "id": "4XaiOwEKsCCR",
        "outputId": "28691084-a69b-4d40-8e28-a389e5273555"
      },
      "id": "4XaiOwEKsCCR",
      "execution_count": 57,
      "outputs": [
        {
          "output_type": "execute_result",
          "data": {
            "text/plain": [
              "EmployeeName        552\n",
              "JobTitle            552\n",
              "BasePay             551\n",
              "OvertimePay         552\n",
              "OtherPay            552\n",
              "Benefits            411\n",
              "TotalPay            552\n",
              "TotalPayBenefits    552\n",
              "Year                552\n",
              "dtype: int64"
            ]
          },
          "metadata": {},
          "execution_count": 57
        }
      ]
    },
    {
      "cell_type": "markdown",
      "source": [
        "#  Display All the Employee Names From Fire Department"
      ],
      "metadata": {
        "id": "C5ZSHwa1sYVn"
      },
      "id": "C5ZSHwa1sYVn"
    },
    {
      "cell_type": "code",
      "source": [
        "sal[sal['JobTitle'].str.contains('fire department', case=False)].EmployeeName"
      ],
      "metadata": {
        "colab": {
          "base_uri": "https://localhost:8080/"
        },
        "id": "zH8U23t3se4k",
        "outputId": "5b052a90-3a6c-487b-9826-124d805c7afa"
      },
      "id": "zH8U23t3se4k",
      "execution_count": 58,
      "outputs": [
        {
          "output_type": "execute_result",
          "data": {
            "text/plain": [
              "4              PATRICK GARDNER\n",
              "6                    ALSON LEE\n",
              "8               MICHAEL MORRIS\n",
              "9           JOANNE HAYES-WHITE\n",
              "10               ARTHUR KENNEY\n",
              "                  ...         \n",
              "32623             JAMES BARDEN\n",
              "36162       Joanne Hayes-White\n",
              "72926     Joanne M Hayes-White\n",
              "102303          Robert E Evans\n",
              "110535    Joanne M Hayes-White\n",
              "Name: EmployeeName, Length: 226, dtype: object"
            ]
          },
          "metadata": {},
          "execution_count": 58
        }
      ]
    },
    {
      "cell_type": "markdown",
      "source": [
        "#  Replace 'Not Provided' in EmployeeName' Column to NaN"
      ],
      "metadata": {
        "id": "QTKE2-D8yNii"
      },
      "id": "QTKE2-D8yNii"
    },
    {
      "cell_type": "code",
      "source": [
        "sal.columns\n",
        "sal['EmployeeName'].replace('Not provided' ,np.NaN , inplace = True)"
      ],
      "metadata": {
        "colab": {
          "base_uri": "https://localhost:8080/"
        },
        "id": "o_Myh2kRyQ-e",
        "outputId": "18dfa23e-cfe0-4d04-dfc6-7c3dbb03ec93"
      },
      "id": "o_Myh2kRyQ-e",
      "execution_count": 78,
      "outputs": [
        {
          "output_type": "execute_result",
          "data": {
            "text/plain": [
              "Index(['EmployeeName', 'JobTitle', 'BasePay', 'OvertimePay', 'OtherPay',\n",
              "       'Benefits', 'TotalPay', 'TotalPayBenefits', 'Year', 'title_len'],\n",
              "      dtype='object')"
            ]
          },
          "metadata": {},
          "execution_count": 78
        }
      ]
    },
    {
      "cell_type": "code",
      "source": [
        "sal['EmployeeName'].unique()"
      ],
      "metadata": {
        "colab": {
          "base_uri": "https://localhost:8080/"
        },
        "id": "gl9yCwA6y_r3",
        "outputId": "44ec5fc3-b53e-4ced-d0bb-4cb58da73cdd"
      },
      "id": "gl9yCwA6y_r3",
      "execution_count": 79,
      "outputs": [
        {
          "output_type": "execute_result",
          "data": {
            "text/plain": [
              "array(['NATHANIEL FORD', 'GARY JIMENEZ', 'ALBERT PARDINI', ...,\n",
              "       'Charlene D Mccully', nan, 'Joe Lopez'], dtype=object)"
            ]
          },
          "metadata": {},
          "execution_count": 79
        }
      ]
    },
    {
      "cell_type": "markdown",
      "source": [
        "# What is the highest amount of TotalPay in the dataset ?"
      ],
      "metadata": {
        "id": "6gdfgOLtXy5J"
      },
      "id": "6gdfgOLtXy5J"
    },
    {
      "cell_type": "code",
      "source": [
        "sal['TotalPay'].max()"
      ],
      "metadata": {
        "colab": {
          "base_uri": "https://localhost:8080/"
        },
        "id": "KWMypXdNXyJK",
        "outputId": "5b0e715e-cb93-45e9-80a2-c87b080438c3"
      },
      "id": "KWMypXdNXyJK",
      "execution_count": 59,
      "outputs": [
        {
          "output_type": "execute_result",
          "data": {
            "text/plain": [
              "567595.43"
            ]
          },
          "metadata": {},
          "execution_count": 59
        }
      ]
    },
    {
      "cell_type": "markdown",
      "source": [
        "# What is the lowest amount of TotalPay in the dataset ?"
      ],
      "metadata": {
        "id": "mHF7U4BGYYsk"
      },
      "id": "mHF7U4BGYYsk"
    },
    {
      "cell_type": "code",
      "source": [
        "sal['TotalPay'].min()"
      ],
      "metadata": {
        "colab": {
          "base_uri": "https://localhost:8080/"
        },
        "id": "Q4GyhSBNYQbt",
        "outputId": "10963208-ff75-4997-e36b-c76e5dca7665"
      },
      "id": "Q4GyhSBNYQbt",
      "execution_count": 60,
      "outputs": [
        {
          "output_type": "execute_result",
          "data": {
            "text/plain": [
              "-618.13"
            ]
          },
          "metadata": {},
          "execution_count": 60
        }
      ]
    },
    {
      "cell_type": "markdown",
      "id": "d1742614",
      "metadata": {
        "papermill": {
          "duration": 0.006969,
          "end_time": "2022-09-11T03:14:45.623428",
          "exception": false,
          "start_time": "2022-09-11T03:14:45.616459",
          "status": "completed"
        },
        "tags": [],
        "id": "d1742614"
      },
      "source": [
        "<h3>The job title of  JOSEPH DRISCOLL</h3>"
      ]
    },
    {
      "cell_type": "code",
      "execution_count": 61,
      "id": "cf4ee2e6",
      "metadata": {
        "execution": {
          "iopub.execute_input": "2022-09-11T03:14:45.640659Z",
          "iopub.status.busy": "2022-09-11T03:14:45.640023Z",
          "iopub.status.idle": "2022-09-11T03:14:45.662838Z",
          "shell.execute_reply": "2022-09-11T03:14:45.661474Z"
        },
        "jupyter": {
          "outputs_hidden": false
        },
        "papermill": {
          "duration": 0.034078,
          "end_time": "2022-09-11T03:14:45.665572",
          "exception": false,
          "start_time": "2022-09-11T03:14:45.631494",
          "status": "completed"
        },
        "tags": [],
        "colab": {
          "base_uri": "https://localhost:8080/"
        },
        "id": "cf4ee2e6",
        "outputId": "f709bbc6-a86d-4981-ab87-428e92b680b1"
      },
      "outputs": [
        {
          "output_type": "execute_result",
          "data": {
            "text/plain": [
              "24    CAPTAIN, FIRE SUPPRESSION\n",
              "Name: JobTitle, dtype: object"
            ]
          },
          "metadata": {},
          "execution_count": 61
        }
      ],
      "source": [
        "#filtering\n",
        "sal[sal['EmployeeName']=='JOSEPH DRISCOLL']['JobTitle']"
      ]
    },
    {
      "cell_type": "markdown",
      "id": "e6f4b243",
      "metadata": {
        "papermill": {
          "duration": 0.006847,
          "end_time": "2022-09-11T03:14:45.680055",
          "exception": false,
          "start_time": "2022-09-11T03:14:45.673208",
          "status": "completed"
        },
        "tags": [],
        "id": "e6f4b243"
      },
      "source": [
        "<h3>How much does JOSEPH DRISCOLL make (including benefits)</h3>"
      ]
    },
    {
      "cell_type": "code",
      "execution_count": 62,
      "id": "38e99f36",
      "metadata": {
        "execution": {
          "iopub.execute_input": "2022-09-11T03:14:45.696038Z",
          "iopub.status.busy": "2022-09-11T03:14:45.695573Z",
          "iopub.status.idle": "2022-09-11T03:14:45.717078Z",
          "shell.execute_reply": "2022-09-11T03:14:45.716201Z"
        },
        "jupyter": {
          "outputs_hidden": false
        },
        "papermill": {
          "duration": 0.032029,
          "end_time": "2022-09-11T03:14:45.719267",
          "exception": false,
          "start_time": "2022-09-11T03:14:45.687238",
          "status": "completed"
        },
        "tags": [],
        "colab": {
          "base_uri": "https://localhost:8080/"
        },
        "id": "38e99f36",
        "outputId": "66eb223e-0b63-4bff-f522-19296ca42e27"
      },
      "outputs": [
        {
          "output_type": "execute_result",
          "data": {
            "text/plain": [
              "24    270324.91\n",
              "Name: TotalPayBenefits, dtype: float64"
            ]
          },
          "metadata": {},
          "execution_count": 62
        }
      ],
      "source": [
        "sal[sal['EmployeeName']=='JOSEPH DRISCOLL']['TotalPayBenefits']"
      ]
    },
    {
      "cell_type": "markdown",
      "id": "200856ca",
      "metadata": {
        "papermill": {
          "duration": 0.007107,
          "end_time": "2022-09-11T03:14:45.734919",
          "exception": false,
          "start_time": "2022-09-11T03:14:45.727812",
          "status": "completed"
        },
        "tags": [],
        "id": "200856ca"
      },
      "source": [
        "<h3>The name of highest paid person (including benefits)</h3>"
      ]
    },
    {
      "cell_type": "code",
      "execution_count": 85,
      "id": "369c9cd7",
      "metadata": {
        "execution": {
          "iopub.execute_input": "2022-09-11T03:14:45.751595Z",
          "iopub.status.busy": "2022-09-11T03:14:45.751184Z",
          "iopub.status.idle": "2022-09-11T03:14:45.769905Z",
          "shell.execute_reply": "2022-09-11T03:14:45.768559Z"
        },
        "jupyter": {
          "outputs_hidden": false
        },
        "papermill": {
          "duration": 0.030214,
          "end_time": "2022-09-11T03:14:45.772613",
          "exception": false,
          "start_time": "2022-09-11T03:14:45.742399",
          "status": "completed"
        },
        "tags": [],
        "id": "369c9cd7",
        "outputId": "8341b1bf-199d-4ad3-9113-f6af76a57ef5",
        "colab": {
          "base_uri": "https://localhost:8080/"
        }
      },
      "outputs": [
        {
          "output_type": "execute_result",
          "data": {
            "text/plain": [
              "0    NATHANIEL FORD\n",
              "Name: EmployeeName, dtype: object"
            ]
          },
          "metadata": {},
          "execution_count": 85
        }
      ],
      "source": [
        "sal[sal['TotalPayBenefits']== sal['TotalPayBenefits'].max()] ['EmployeeName']\n",
        "# or\n",
        "# sal.loc[sal['TotalPayBenefits'].idxmax()]"
      ]
    },
    {
      "cell_type": "markdown",
      "id": "d930589b",
      "metadata": {
        "papermill": {
          "duration": 0.007959,
          "end_time": "2022-09-11T03:14:45.788200",
          "exception": false,
          "start_time": "2022-09-11T03:14:45.780241",
          "status": "completed"
        },
        "tags": [],
        "id": "d930589b"
      },
      "source": [
        "<h3>The name of lowest paid person (including benefits)</h3>"
      ]
    },
    {
      "cell_type": "code",
      "execution_count": 64,
      "id": "39b1f709",
      "metadata": {
        "execution": {
          "iopub.execute_input": "2022-09-11T03:14:45.805960Z",
          "iopub.status.busy": "2022-09-11T03:14:45.805230Z",
          "iopub.status.idle": "2022-09-11T03:14:45.822329Z",
          "shell.execute_reply": "2022-09-11T03:14:45.821481Z"
        },
        "jupyter": {
          "outputs_hidden": false
        },
        "papermill": {
          "duration": 0.028575,
          "end_time": "2022-09-11T03:14:45.824790",
          "exception": false,
          "start_time": "2022-09-11T03:14:45.796215",
          "status": "completed"
        },
        "tags": [],
        "id": "39b1f709",
        "outputId": "a9e166c7-c353-4f39-9c0b-c759d4589185",
        "colab": {
          "base_uri": "https://localhost:8080/",
          "height": 81
        }
      },
      "outputs": [
        {
          "output_type": "execute_result",
          "data": {
            "text/plain": [
              "       EmployeeName                    JobTitle BasePay OvertimePay OtherPay  \\\n",
              "148653    Joe Lopez  Counselor, Log Cabin Ranch    0.00        0.00  -618.13   \n",
              "\n",
              "       Benefits  TotalPay  TotalPayBenefits  Year  \n",
              "148653     0.00   -618.13           -618.13  2014  "
            ],
            "text/html": [
              "\n",
              "  <div id=\"df-3671a845-b37c-47d7-9687-bb799cb55a69\">\n",
              "    <div class=\"colab-df-container\">\n",
              "      <div>\n",
              "<style scoped>\n",
              "    .dataframe tbody tr th:only-of-type {\n",
              "        vertical-align: middle;\n",
              "    }\n",
              "\n",
              "    .dataframe tbody tr th {\n",
              "        vertical-align: top;\n",
              "    }\n",
              "\n",
              "    .dataframe thead th {\n",
              "        text-align: right;\n",
              "    }\n",
              "</style>\n",
              "<table border=\"1\" class=\"dataframe\">\n",
              "  <thead>\n",
              "    <tr style=\"text-align: right;\">\n",
              "      <th></th>\n",
              "      <th>EmployeeName</th>\n",
              "      <th>JobTitle</th>\n",
              "      <th>BasePay</th>\n",
              "      <th>OvertimePay</th>\n",
              "      <th>OtherPay</th>\n",
              "      <th>Benefits</th>\n",
              "      <th>TotalPay</th>\n",
              "      <th>TotalPayBenefits</th>\n",
              "      <th>Year</th>\n",
              "    </tr>\n",
              "  </thead>\n",
              "  <tbody>\n",
              "    <tr>\n",
              "      <th>148653</th>\n",
              "      <td>Joe Lopez</td>\n",
              "      <td>Counselor, Log Cabin Ranch</td>\n",
              "      <td>0.00</td>\n",
              "      <td>0.00</td>\n",
              "      <td>-618.13</td>\n",
              "      <td>0.00</td>\n",
              "      <td>-618.13</td>\n",
              "      <td>-618.13</td>\n",
              "      <td>2014</td>\n",
              "    </tr>\n",
              "  </tbody>\n",
              "</table>\n",
              "</div>\n",
              "      <button class=\"colab-df-convert\" onclick=\"convertToInteractive('df-3671a845-b37c-47d7-9687-bb799cb55a69')\"\n",
              "              title=\"Convert this dataframe to an interactive table.\"\n",
              "              style=\"display:none;\">\n",
              "        \n",
              "  <svg xmlns=\"http://www.w3.org/2000/svg\" height=\"24px\"viewBox=\"0 0 24 24\"\n",
              "       width=\"24px\">\n",
              "    <path d=\"M0 0h24v24H0V0z\" fill=\"none\"/>\n",
              "    <path d=\"M18.56 5.44l.94 2.06.94-2.06 2.06-.94-2.06-.94-.94-2.06-.94 2.06-2.06.94zm-11 1L8.5 8.5l.94-2.06 2.06-.94-2.06-.94L8.5 2.5l-.94 2.06-2.06.94zm10 10l.94 2.06.94-2.06 2.06-.94-2.06-.94-.94-2.06-.94 2.06-2.06.94z\"/><path d=\"M17.41 7.96l-1.37-1.37c-.4-.4-.92-.59-1.43-.59-.52 0-1.04.2-1.43.59L10.3 9.45l-7.72 7.72c-.78.78-.78 2.05 0 2.83L4 21.41c.39.39.9.59 1.41.59.51 0 1.02-.2 1.41-.59l7.78-7.78 2.81-2.81c.8-.78.8-2.07 0-2.86zM5.41 20L4 18.59l7.72-7.72 1.47 1.35L5.41 20z\"/>\n",
              "  </svg>\n",
              "      </button>\n",
              "      \n",
              "  <style>\n",
              "    .colab-df-container {\n",
              "      display:flex;\n",
              "      flex-wrap:wrap;\n",
              "      gap: 12px;\n",
              "    }\n",
              "\n",
              "    .colab-df-convert {\n",
              "      background-color: #E8F0FE;\n",
              "      border: none;\n",
              "      border-radius: 50%;\n",
              "      cursor: pointer;\n",
              "      display: none;\n",
              "      fill: #1967D2;\n",
              "      height: 32px;\n",
              "      padding: 0 0 0 0;\n",
              "      width: 32px;\n",
              "    }\n",
              "\n",
              "    .colab-df-convert:hover {\n",
              "      background-color: #E2EBFA;\n",
              "      box-shadow: 0px 1px 2px rgba(60, 64, 67, 0.3), 0px 1px 3px 1px rgba(60, 64, 67, 0.15);\n",
              "      fill: #174EA6;\n",
              "    }\n",
              "\n",
              "    [theme=dark] .colab-df-convert {\n",
              "      background-color: #3B4455;\n",
              "      fill: #D2E3FC;\n",
              "    }\n",
              "\n",
              "    [theme=dark] .colab-df-convert:hover {\n",
              "      background-color: #434B5C;\n",
              "      box-shadow: 0px 1px 3px 1px rgba(0, 0, 0, 0.15);\n",
              "      filter: drop-shadow(0px 1px 2px rgba(0, 0, 0, 0.3));\n",
              "      fill: #FFFFFF;\n",
              "    }\n",
              "  </style>\n",
              "\n",
              "      <script>\n",
              "        const buttonEl =\n",
              "          document.querySelector('#df-3671a845-b37c-47d7-9687-bb799cb55a69 button.colab-df-convert');\n",
              "        buttonEl.style.display =\n",
              "          google.colab.kernel.accessAllowed ? 'block' : 'none';\n",
              "\n",
              "        async function convertToInteractive(key) {\n",
              "          const element = document.querySelector('#df-3671a845-b37c-47d7-9687-bb799cb55a69');\n",
              "          const dataTable =\n",
              "            await google.colab.kernel.invokeFunction('convertToInteractive',\n",
              "                                                     [key], {});\n",
              "          if (!dataTable) return;\n",
              "\n",
              "          const docLinkHtml = 'Like what you see? Visit the ' +\n",
              "            '<a target=\"_blank\" href=https://colab.research.google.com/notebooks/data_table.ipynb>data table notebook</a>'\n",
              "            + ' to learn more about interactive tables.';\n",
              "          element.innerHTML = '';\n",
              "          dataTable['output_type'] = 'display_data';\n",
              "          await google.colab.output.renderOutput(dataTable, element);\n",
              "          const docLink = document.createElement('div');\n",
              "          docLink.innerHTML = docLinkHtml;\n",
              "          element.appendChild(docLink);\n",
              "        }\n",
              "      </script>\n",
              "    </div>\n",
              "  </div>\n",
              "  "
            ]
          },
          "metadata": {},
          "execution_count": 64
        }
      ],
      "source": [
        "sal[sal['TotalPayBenefits']== sal['TotalPayBenefits'].min()] #['EmployeeName']\n",
        "# or\n",
        "# sal.loc[sal['TotalPayBenefits'].idxmax()]['EmployeeName']\n",
        "\n",
        "## ITS NEGATIVE!! VERY STRANGE"
      ]
    },
    {
      "cell_type": "markdown",
      "source": [
        "# What was the average (mean) TotalPay of all employees per year?"
      ],
      "metadata": {
        "id": "PG-7rbLjZVnt"
      },
      "id": "PG-7rbLjZVnt"
    },
    {
      "cell_type": "code",
      "source": [
        "sal.info()   #convert BasePay into int64"
      ],
      "metadata": {
        "colab": {
          "base_uri": "https://localhost:8080/"
        },
        "id": "H9kgOhY693oI",
        "outputId": "f2f61414-5d86-48c3-827e-e7f56887d0a1"
      },
      "id": "H9kgOhY693oI",
      "execution_count": 111,
      "outputs": [
        {
          "output_type": "stream",
          "name": "stdout",
          "text": [
            "<class 'pandas.core.frame.DataFrame'>\n",
            "RangeIndex: 148654 entries, 0 to 148653\n",
            "Data columns (total 13 columns):\n",
            " #   Column            Non-Null Count   Dtype  \n",
            "---  ------            --------------   -----  \n",
            " 0   Id                148654 non-null  int64  \n",
            " 1   EmployeeName      148654 non-null  object \n",
            " 2   JobTitle          148654 non-null  object \n",
            " 3   BasePay           148049 non-null  object \n",
            " 4   OvertimePay       148654 non-null  object \n",
            " 5   OtherPay          148654 non-null  object \n",
            " 6   Benefits          112495 non-null  object \n",
            " 7   TotalPay          148654 non-null  float64\n",
            " 8   TotalPayBenefits  148654 non-null  float64\n",
            " 9   Year              148654 non-null  int64  \n",
            " 10  Notes             0 non-null       float64\n",
            " 11  Agency            148654 non-null  object \n",
            " 12  Status            38119 non-null   object \n",
            "dtypes: float64(3), int64(2), object(8)\n",
            "memory usage: 14.7+ MB\n"
          ]
        }
      ]
    },
    {
      "cell_type": "code",
      "source": [
        "sal['BasePay']. = sal['BasePay'].astype('int64')"
      ],
      "metadata": {
        "colab": {
          "base_uri": "https://localhost:8080/"
        },
        "id": "e3YmyDMg99T6",
        "outputId": "dfc729c2-4a3b-4356-fe9e-3ecab31ea684"
      },
      "id": "e3YmyDMg99T6",
      "execution_count": 114,
      "outputs": [
        {
          "output_type": "execute_result",
          "data": {
            "text/plain": [
              "array([167411.18, 155966.02, 212739.13, ..., '6.04', '15.50',\n",
              "       'Not Provided'], dtype=object)"
            ]
          },
          "metadata": {},
          "execution_count": 114
        }
      ]
    },
    {
      "cell_type": "code",
      "source": [
        "#groupby\n",
        "sal.groupby('Year').mean()['BasePay']"
      ],
      "metadata": {
        "colab": {
          "base_uri": "https://localhost:8080/",
          "height": 206
        },
        "id": "L6DziJClZZVR",
        "outputId": "230e1fa6-9ff1-4f28-9a8e-f2b2e1314fb9"
      },
      "id": "L6DziJClZZVR",
      "execution_count": 99,
      "outputs": [
        {
          "output_type": "execute_result",
          "data": {
            "text/plain": [
              "          TotalPay  TotalPayBenefits  title_len\n",
              "Year                                           \n",
              "2011  71744.103871      71744.103871  20.696231\n",
              "2012  74113.262265     100553.229232  18.514415\n",
              "2013  77611.443142     101440.519714  18.665904\n",
              "2014  75463.918140     100250.918884  18.702752"
            ],
            "text/html": [
              "\n",
              "  <div id=\"df-5df21401-3628-46f8-8997-ddbbf13e0b0b\">\n",
              "    <div class=\"colab-df-container\">\n",
              "      <div>\n",
              "<style scoped>\n",
              "    .dataframe tbody tr th:only-of-type {\n",
              "        vertical-align: middle;\n",
              "    }\n",
              "\n",
              "    .dataframe tbody tr th {\n",
              "        vertical-align: top;\n",
              "    }\n",
              "\n",
              "    .dataframe thead th {\n",
              "        text-align: right;\n",
              "    }\n",
              "</style>\n",
              "<table border=\"1\" class=\"dataframe\">\n",
              "  <thead>\n",
              "    <tr style=\"text-align: right;\">\n",
              "      <th></th>\n",
              "      <th>TotalPay</th>\n",
              "      <th>TotalPayBenefits</th>\n",
              "      <th>title_len</th>\n",
              "    </tr>\n",
              "    <tr>\n",
              "      <th>Year</th>\n",
              "      <th></th>\n",
              "      <th></th>\n",
              "      <th></th>\n",
              "    </tr>\n",
              "  </thead>\n",
              "  <tbody>\n",
              "    <tr>\n",
              "      <th>2011</th>\n",
              "      <td>71744.103871</td>\n",
              "      <td>71744.103871</td>\n",
              "      <td>20.696231</td>\n",
              "    </tr>\n",
              "    <tr>\n",
              "      <th>2012</th>\n",
              "      <td>74113.262265</td>\n",
              "      <td>100553.229232</td>\n",
              "      <td>18.514415</td>\n",
              "    </tr>\n",
              "    <tr>\n",
              "      <th>2013</th>\n",
              "      <td>77611.443142</td>\n",
              "      <td>101440.519714</td>\n",
              "      <td>18.665904</td>\n",
              "    </tr>\n",
              "    <tr>\n",
              "      <th>2014</th>\n",
              "      <td>75463.918140</td>\n",
              "      <td>100250.918884</td>\n",
              "      <td>18.702752</td>\n",
              "    </tr>\n",
              "  </tbody>\n",
              "</table>\n",
              "</div>\n",
              "      <button class=\"colab-df-convert\" onclick=\"convertToInteractive('df-5df21401-3628-46f8-8997-ddbbf13e0b0b')\"\n",
              "              title=\"Convert this dataframe to an interactive table.\"\n",
              "              style=\"display:none;\">\n",
              "        \n",
              "  <svg xmlns=\"http://www.w3.org/2000/svg\" height=\"24px\"viewBox=\"0 0 24 24\"\n",
              "       width=\"24px\">\n",
              "    <path d=\"M0 0h24v24H0V0z\" fill=\"none\"/>\n",
              "    <path d=\"M18.56 5.44l.94 2.06.94-2.06 2.06-.94-2.06-.94-.94-2.06-.94 2.06-2.06.94zm-11 1L8.5 8.5l.94-2.06 2.06-.94-2.06-.94L8.5 2.5l-.94 2.06-2.06.94zm10 10l.94 2.06.94-2.06 2.06-.94-2.06-.94-.94-2.06-.94 2.06-2.06.94z\"/><path d=\"M17.41 7.96l-1.37-1.37c-.4-.4-.92-.59-1.43-.59-.52 0-1.04.2-1.43.59L10.3 9.45l-7.72 7.72c-.78.78-.78 2.05 0 2.83L4 21.41c.39.39.9.59 1.41.59.51 0 1.02-.2 1.41-.59l7.78-7.78 2.81-2.81c.8-.78.8-2.07 0-2.86zM5.41 20L4 18.59l7.72-7.72 1.47 1.35L5.41 20z\"/>\n",
              "  </svg>\n",
              "      </button>\n",
              "      \n",
              "  <style>\n",
              "    .colab-df-container {\n",
              "      display:flex;\n",
              "      flex-wrap:wrap;\n",
              "      gap: 12px;\n",
              "    }\n",
              "\n",
              "    .colab-df-convert {\n",
              "      background-color: #E8F0FE;\n",
              "      border: none;\n",
              "      border-radius: 50%;\n",
              "      cursor: pointer;\n",
              "      display: none;\n",
              "      fill: #1967D2;\n",
              "      height: 32px;\n",
              "      padding: 0 0 0 0;\n",
              "      width: 32px;\n",
              "    }\n",
              "\n",
              "    .colab-df-convert:hover {\n",
              "      background-color: #E2EBFA;\n",
              "      box-shadow: 0px 1px 2px rgba(60, 64, 67, 0.3), 0px 1px 3px 1px rgba(60, 64, 67, 0.15);\n",
              "      fill: #174EA6;\n",
              "    }\n",
              "\n",
              "    [theme=dark] .colab-df-convert {\n",
              "      background-color: #3B4455;\n",
              "      fill: #D2E3FC;\n",
              "    }\n",
              "\n",
              "    [theme=dark] .colab-df-convert:hover {\n",
              "      background-color: #434B5C;\n",
              "      box-shadow: 0px 1px 3px 1px rgba(0, 0, 0, 0.15);\n",
              "      filter: drop-shadow(0px 1px 2px rgba(0, 0, 0, 0.3));\n",
              "      fill: #FFFFFF;\n",
              "    }\n",
              "  </style>\n",
              "\n",
              "      <script>\n",
              "        const buttonEl =\n",
              "          document.querySelector('#df-5df21401-3628-46f8-8997-ddbbf13e0b0b button.colab-df-convert');\n",
              "        buttonEl.style.display =\n",
              "          google.colab.kernel.accessAllowed ? 'block' : 'none';\n",
              "\n",
              "        async function convertToInteractive(key) {\n",
              "          const element = document.querySelector('#df-5df21401-3628-46f8-8997-ddbbf13e0b0b');\n",
              "          const dataTable =\n",
              "            await google.colab.kernel.invokeFunction('convertToInteractive',\n",
              "                                                     [key], {});\n",
              "          if (!dataTable) return;\n",
              "\n",
              "          const docLinkHtml = 'Like what you see? Visit the ' +\n",
              "            '<a target=\"_blank\" href=https://colab.research.google.com/notebooks/data_table.ipynb>data table notebook</a>'\n",
              "            + ' to learn more about interactive tables.';\n",
              "          element.innerHTML = '';\n",
              "          dataTable['output_type'] = 'display_data';\n",
              "          await google.colab.output.renderOutput(dataTable, element);\n",
              "          const docLink = document.createElement('div');\n",
              "          docLink.innerHTML = docLinkHtml;\n",
              "          element.appendChild(docLink);\n",
              "        }\n",
              "      </script>\n",
              "    </div>\n",
              "  </div>\n",
              "  "
            ]
          },
          "metadata": {},
          "execution_count": 99
        }
      ]
    },
    {
      "cell_type": "code",
      "source": [],
      "metadata": {
        "id": "4YRqT0ZJ1MX6"
      },
      "id": "4YRqT0ZJ1MX6",
      "execution_count": 114,
      "outputs": []
    },
    {
      "cell_type": "markdown",
      "source": [
        "# Find Average BasePay of Employee Having Job Title ACCOUNTANT"
      ],
      "metadata": {
        "id": "_8AtsafV7_x-"
      },
      "id": "_8AtsafV7_x-"
    },
    {
      "cell_type": "code",
      "source": [
        "sal.columns"
      ],
      "metadata": {
        "colab": {
          "base_uri": "https://localhost:8080/"
        },
        "id": "fL4LyE8m7_HU",
        "outputId": "d4b4a58e-7eee-44fc-a3a3-9e39e9132aa2"
      },
      "id": "fL4LyE8m7_HU",
      "execution_count": 92,
      "outputs": [
        {
          "output_type": "execute_result",
          "data": {
            "text/plain": [
              "Index(['EmployeeName', 'JobTitle', 'BasePay', 'OvertimePay', 'OtherPay',\n",
              "       'Benefits', 'TotalPay', 'TotalPayBenefits', 'Year', 'title_len'],\n",
              "      dtype='object')"
            ]
          },
          "metadata": {},
          "execution_count": 92
        }
      ]
    },
    {
      "cell_type": "code",
      "source": [
        "sal[sal['JobTitle']=='ACCOUNTANT']['BasePay'].mean()"
      ],
      "metadata": {
        "colab": {
          "base_uri": "https://localhost:8080/"
        },
        "id": "36V1YIp98jle",
        "outputId": "156c59ff-1662-4456-9359-6312e6034ae5"
      },
      "id": "36V1YIp98jle",
      "execution_count": 97,
      "outputs": [
        {
          "output_type": "execute_result",
          "data": {
            "text/plain": [
              "46643.172"
            ]
          },
          "metadata": {},
          "execution_count": 97
        }
      ]
    },
    {
      "cell_type": "markdown",
      "id": "38ab13c1",
      "metadata": {
        "papermill": {
          "duration": 0.007446,
          "end_time": "2022-09-11T03:14:45.840365",
          "exception": false,
          "start_time": "2022-09-11T03:14:45.832919",
          "status": "completed"
        },
        "tags": [],
        "id": "38ab13c1"
      },
      "source": [
        "<h3>Number of unique job titles</h3>"
      ]
    },
    {
      "cell_type": "code",
      "execution_count": 66,
      "id": "3eb8da8b",
      "metadata": {
        "execution": {
          "iopub.execute_input": "2022-09-11T03:14:45.857636Z",
          "iopub.status.busy": "2022-09-11T03:14:45.856951Z",
          "iopub.status.idle": "2022-09-11T03:14:45.878372Z",
          "shell.execute_reply": "2022-09-11T03:14:45.876917Z"
        },
        "jupyter": {
          "outputs_hidden": false
        },
        "papermill": {
          "duration": 0.033217,
          "end_time": "2022-09-11T03:14:45.881194",
          "exception": false,
          "start_time": "2022-09-11T03:14:45.847977",
          "status": "completed"
        },
        "tags": [],
        "id": "3eb8da8b",
        "outputId": "978c02f8-8c76-4639-cccf-5abe228724bb",
        "colab": {
          "base_uri": "https://localhost:8080/"
        }
      },
      "outputs": [
        {
          "output_type": "execute_result",
          "data": {
            "text/plain": [
              "2159"
            ]
          },
          "metadata": {},
          "execution_count": 66
        }
      ],
      "source": [
        "sal['JobTitle'].nunique()"
      ]
    },
    {
      "cell_type": "markdown",
      "id": "e191227f",
      "metadata": {
        "papermill": {
          "duration": 0.00752,
          "end_time": "2022-09-11T03:14:45.896680",
          "exception": false,
          "start_time": "2022-09-11T03:14:45.889160",
          "status": "completed"
        },
        "tags": [],
        "id": "e191227f"
      },
      "source": [
        "<h3>Find the top 5 most common jobs</h3>"
      ]
    },
    {
      "cell_type": "code",
      "execution_count": 67,
      "id": "85950f99",
      "metadata": {
        "execution": {
          "iopub.execute_input": "2022-09-11T03:14:45.915067Z",
          "iopub.status.busy": "2022-09-11T03:14:45.914278Z",
          "iopub.status.idle": "2022-09-11T03:14:45.934015Z",
          "shell.execute_reply": "2022-09-11T03:14:45.932867Z"
        },
        "jupyter": {
          "outputs_hidden": false
        },
        "papermill": {
          "duration": 0.031954,
          "end_time": "2022-09-11T03:14:45.936472",
          "exception": false,
          "start_time": "2022-09-11T03:14:45.904518",
          "status": "completed"
        },
        "tags": [],
        "id": "85950f99",
        "outputId": "153ecbc9-2825-4640-d368-8334373a7c0c",
        "colab": {
          "base_uri": "https://localhost:8080/"
        }
      },
      "outputs": [
        {
          "output_type": "execute_result",
          "data": {
            "text/plain": [
              "Transit Operator                7036\n",
              "Special Nurse                   4389\n",
              "Registered Nurse                3736\n",
              "Public Svc Aide-Public Works    2518\n",
              "Police Officer 3                2421\n",
              "Name: JobTitle, dtype: int64"
            ]
          },
          "metadata": {},
          "execution_count": 67
        }
      ],
      "source": [
        "sal['JobTitle'].value_counts().head(5)"
      ]
    },
    {
      "cell_type": "code",
      "source": [],
      "metadata": {
        "id": "TNDA2uiAZ9kx"
      },
      "id": "TNDA2uiAZ9kx",
      "execution_count": 67,
      "outputs": []
    },
    {
      "cell_type": "markdown",
      "id": "cbc436e8",
      "metadata": {
        "papermill": {
          "duration": 0.007547,
          "end_time": "2022-09-11T03:14:45.951944",
          "exception": false,
          "start_time": "2022-09-11T03:14:45.944397",
          "status": "completed"
        },
        "tags": [],
        "id": "cbc436e8"
      },
      "source": [
        "<h3>How many Job Titles were represented by only one person in 2013?<h3>"
      ]
    },
    {
      "cell_type": "code",
      "execution_count": 68,
      "id": "b2df226f",
      "metadata": {
        "execution": {
          "iopub.execute_input": "2022-09-11T03:14:45.969914Z",
          "iopub.status.busy": "2022-09-11T03:14:45.968949Z",
          "iopub.status.idle": "2022-09-11T03:14:45.987993Z",
          "shell.execute_reply": "2022-09-11T03:14:45.986851Z"
        },
        "jupyter": {
          "outputs_hidden": false
        },
        "papermill": {
          "duration": 0.030933,
          "end_time": "2022-09-11T03:14:45.990615",
          "exception": false,
          "start_time": "2022-09-11T03:14:45.959682",
          "status": "completed"
        },
        "tags": [],
        "id": "b2df226f",
        "outputId": "c5b8b229-99c1-44e2-b57e-b84a7a5e5265",
        "colab": {
          "base_uri": "https://localhost:8080/"
        }
      },
      "outputs": [
        {
          "output_type": "execute_result",
          "data": {
            "text/plain": [
              "202"
            ]
          },
          "metadata": {},
          "execution_count": 68
        }
      ],
      "source": [
        "sum(sal[sal['Year']==2013]['JobTitle'].value_counts() == 1)"
      ]
    },
    {
      "cell_type": "markdown",
      "id": "9aba451e",
      "metadata": {
        "papermill": {
          "duration": 0.007821,
          "end_time": "2022-09-11T03:14:46.006587",
          "exception": false,
          "start_time": "2022-09-11T03:14:45.998766",
          "status": "completed"
        },
        "tags": [],
        "id": "9aba451e"
      },
      "source": [
        "<h3>How many people have the word Chief in their job title?<။h3>"
      ]
    },
    {
      "cell_type": "code",
      "execution_count": 69,
      "id": "1aec5d73",
      "metadata": {
        "execution": {
          "iopub.execute_input": "2022-09-11T03:14:46.024862Z",
          "iopub.status.busy": "2022-09-11T03:14:46.024081Z",
          "iopub.status.idle": "2022-09-11T03:14:46.029541Z",
          "shell.execute_reply": "2022-09-11T03:14:46.028690Z"
        },
        "papermill": {
          "duration": 0.017236,
          "end_time": "2022-09-11T03:14:46.031827",
          "exception": false,
          "start_time": "2022-09-11T03:14:46.014591",
          "status": "completed"
        },
        "tags": [],
        "id": "1aec5d73"
      },
      "outputs": [],
      "source": [
        "def chief_string(title):\n",
        "    if 'chief' in title.lower():\n",
        "        return True\n",
        "    else:\n",
        "        return False"
      ]
    },
    {
      "cell_type": "code",
      "execution_count": 70,
      "id": "000dba63",
      "metadata": {
        "execution": {
          "iopub.execute_input": "2022-09-11T03:14:46.050066Z",
          "iopub.status.busy": "2022-09-11T03:14:46.049175Z",
          "iopub.status.idle": "2022-09-11T03:14:46.135755Z",
          "shell.execute_reply": "2022-09-11T03:14:46.134538Z"
        },
        "jupyter": {
          "outputs_hidden": false
        },
        "papermill": {
          "duration": 0.098452,
          "end_time": "2022-09-11T03:14:46.138299",
          "exception": false,
          "start_time": "2022-09-11T03:14:46.039847",
          "status": "completed"
        },
        "tags": [],
        "id": "000dba63",
        "outputId": "12accf52-c063-423b-af9c-5c5d38491a51",
        "colab": {
          "base_uri": "https://localhost:8080/"
        }
      },
      "outputs": [
        {
          "output_type": "execute_result",
          "data": {
            "text/plain": [
              "627"
            ]
          },
          "metadata": {},
          "execution_count": 70
        }
      ],
      "source": [
        "sum(sal['JobTitle'].apply(lambda x: chief_string(x)))"
      ]
    },
    {
      "cell_type": "code",
      "source": [
        "#method2\n",
        "sum(sal['JobTitle'].str.contains('chief', case=False))"
      ],
      "metadata": {
        "colab": {
          "base_uri": "https://localhost:8080/"
        },
        "id": "fiEwVygM009w",
        "outputId": "69533e51-1174-41f1-94bb-9773574e88d2"
      },
      "id": "fiEwVygM009w",
      "execution_count": 87,
      "outputs": [
        {
          "output_type": "execute_result",
          "data": {
            "text/plain": [
              "627"
            ]
          },
          "metadata": {},
          "execution_count": 87
        }
      ]
    },
    {
      "cell_type": "markdown",
      "id": "df00ea34",
      "metadata": {
        "papermill": {
          "duration": 0.007871,
          "end_time": "2022-09-11T03:14:46.154339",
          "exception": false,
          "start_time": "2022-09-11T03:14:46.146468",
          "status": "completed"
        },
        "tags": [],
        "id": "df00ea34"
      },
      "source": [
        "<h3>Is there a correlation between length of the Job Title string and Salary?</h3>"
      ]
    },
    {
      "cell_type": "code",
      "execution_count": 71,
      "id": "c04f539d",
      "metadata": {
        "execution": {
          "iopub.execute_input": "2022-09-11T03:14:46.172904Z",
          "iopub.status.busy": "2022-09-11T03:14:46.172109Z",
          "iopub.status.idle": "2022-09-11T03:14:46.215767Z",
          "shell.execute_reply": "2022-09-11T03:14:46.214771Z"
        },
        "jupyter": {
          "outputs_hidden": false
        },
        "papermill": {
          "duration": 0.056025,
          "end_time": "2022-09-11T03:14:46.218439",
          "exception": false,
          "start_time": "2022-09-11T03:14:46.162414",
          "status": "completed"
        },
        "tags": [],
        "id": "c04f539d"
      },
      "outputs": [],
      "source": [
        "sal['title_len'] = sal['JobTitle'].apply(len)"
      ]
    },
    {
      "cell_type": "code",
      "execution_count": 72,
      "id": "16cafe36",
      "metadata": {
        "execution": {
          "iopub.execute_input": "2022-09-11T03:14:46.237544Z",
          "iopub.status.busy": "2022-09-11T03:14:46.236777Z",
          "iopub.status.idle": "2022-09-11T03:14:46.256747Z",
          "shell.execute_reply": "2022-09-11T03:14:46.255643Z"
        },
        "jupyter": {
          "outputs_hidden": false
        },
        "papermill": {
          "duration": 0.032853,
          "end_time": "2022-09-11T03:14:46.259484",
          "exception": false,
          "start_time": "2022-09-11T03:14:46.226631",
          "status": "completed"
        },
        "tags": [],
        "id": "16cafe36",
        "outputId": "e34ae3b1-a5b5-41a9-d79e-da9ecb293e62",
        "colab": {
          "base_uri": "https://localhost:8080/",
          "height": 112
        }
      },
      "outputs": [
        {
          "output_type": "execute_result",
          "data": {
            "text/plain": [
              "                  title_len  TotalPayBenefits\n",
              "title_len          1.000000         -0.036878\n",
              "TotalPayBenefits  -0.036878          1.000000"
            ],
            "text/html": [
              "\n",
              "  <div id=\"df-f6cbaec2-236f-4db7-aa17-a6955979be35\">\n",
              "    <div class=\"colab-df-container\">\n",
              "      <div>\n",
              "<style scoped>\n",
              "    .dataframe tbody tr th:only-of-type {\n",
              "        vertical-align: middle;\n",
              "    }\n",
              "\n",
              "    .dataframe tbody tr th {\n",
              "        vertical-align: top;\n",
              "    }\n",
              "\n",
              "    .dataframe thead th {\n",
              "        text-align: right;\n",
              "    }\n",
              "</style>\n",
              "<table border=\"1\" class=\"dataframe\">\n",
              "  <thead>\n",
              "    <tr style=\"text-align: right;\">\n",
              "      <th></th>\n",
              "      <th>title_len</th>\n",
              "      <th>TotalPayBenefits</th>\n",
              "    </tr>\n",
              "  </thead>\n",
              "  <tbody>\n",
              "    <tr>\n",
              "      <th>title_len</th>\n",
              "      <td>1.000000</td>\n",
              "      <td>-0.036878</td>\n",
              "    </tr>\n",
              "    <tr>\n",
              "      <th>TotalPayBenefits</th>\n",
              "      <td>-0.036878</td>\n",
              "      <td>1.000000</td>\n",
              "    </tr>\n",
              "  </tbody>\n",
              "</table>\n",
              "</div>\n",
              "      <button class=\"colab-df-convert\" onclick=\"convertToInteractive('df-f6cbaec2-236f-4db7-aa17-a6955979be35')\"\n",
              "              title=\"Convert this dataframe to an interactive table.\"\n",
              "              style=\"display:none;\">\n",
              "        \n",
              "  <svg xmlns=\"http://www.w3.org/2000/svg\" height=\"24px\"viewBox=\"0 0 24 24\"\n",
              "       width=\"24px\">\n",
              "    <path d=\"M0 0h24v24H0V0z\" fill=\"none\"/>\n",
              "    <path d=\"M18.56 5.44l.94 2.06.94-2.06 2.06-.94-2.06-.94-.94-2.06-.94 2.06-2.06.94zm-11 1L8.5 8.5l.94-2.06 2.06-.94-2.06-.94L8.5 2.5l-.94 2.06-2.06.94zm10 10l.94 2.06.94-2.06 2.06-.94-2.06-.94-.94-2.06-.94 2.06-2.06.94z\"/><path d=\"M17.41 7.96l-1.37-1.37c-.4-.4-.92-.59-1.43-.59-.52 0-1.04.2-1.43.59L10.3 9.45l-7.72 7.72c-.78.78-.78 2.05 0 2.83L4 21.41c.39.39.9.59 1.41.59.51 0 1.02-.2 1.41-.59l7.78-7.78 2.81-2.81c.8-.78.8-2.07 0-2.86zM5.41 20L4 18.59l7.72-7.72 1.47 1.35L5.41 20z\"/>\n",
              "  </svg>\n",
              "      </button>\n",
              "      \n",
              "  <style>\n",
              "    .colab-df-container {\n",
              "      display:flex;\n",
              "      flex-wrap:wrap;\n",
              "      gap: 12px;\n",
              "    }\n",
              "\n",
              "    .colab-df-convert {\n",
              "      background-color: #E8F0FE;\n",
              "      border: none;\n",
              "      border-radius: 50%;\n",
              "      cursor: pointer;\n",
              "      display: none;\n",
              "      fill: #1967D2;\n",
              "      height: 32px;\n",
              "      padding: 0 0 0 0;\n",
              "      width: 32px;\n",
              "    }\n",
              "\n",
              "    .colab-df-convert:hover {\n",
              "      background-color: #E2EBFA;\n",
              "      box-shadow: 0px 1px 2px rgba(60, 64, 67, 0.3), 0px 1px 3px 1px rgba(60, 64, 67, 0.15);\n",
              "      fill: #174EA6;\n",
              "    }\n",
              "\n",
              "    [theme=dark] .colab-df-convert {\n",
              "      background-color: #3B4455;\n",
              "      fill: #D2E3FC;\n",
              "    }\n",
              "\n",
              "    [theme=dark] .colab-df-convert:hover {\n",
              "      background-color: #434B5C;\n",
              "      box-shadow: 0px 1px 3px 1px rgba(0, 0, 0, 0.15);\n",
              "      filter: drop-shadow(0px 1px 2px rgba(0, 0, 0, 0.3));\n",
              "      fill: #FFFFFF;\n",
              "    }\n",
              "  </style>\n",
              "\n",
              "      <script>\n",
              "        const buttonEl =\n",
              "          document.querySelector('#df-f6cbaec2-236f-4db7-aa17-a6955979be35 button.colab-df-convert');\n",
              "        buttonEl.style.display =\n",
              "          google.colab.kernel.accessAllowed ? 'block' : 'none';\n",
              "\n",
              "        async function convertToInteractive(key) {\n",
              "          const element = document.querySelector('#df-f6cbaec2-236f-4db7-aa17-a6955979be35');\n",
              "          const dataTable =\n",
              "            await google.colab.kernel.invokeFunction('convertToInteractive',\n",
              "                                                     [key], {});\n",
              "          if (!dataTable) return;\n",
              "\n",
              "          const docLinkHtml = 'Like what you see? Visit the ' +\n",
              "            '<a target=\"_blank\" href=https://colab.research.google.com/notebooks/data_table.ipynb>data table notebook</a>'\n",
              "            + ' to learn more about interactive tables.';\n",
              "          element.innerHTML = '';\n",
              "          dataTable['output_type'] = 'display_data';\n",
              "          await google.colab.output.renderOutput(dataTable, element);\n",
              "          const docLink = document.createElement('div');\n",
              "          docLink.innerHTML = docLinkHtml;\n",
              "          element.appendChild(docLink);\n",
              "        }\n",
              "      </script>\n",
              "    </div>\n",
              "  </div>\n",
              "  "
            ]
          },
          "metadata": {},
          "execution_count": 72
        }
      ],
      "source": [
        "sal[['title_len','TotalPayBenefits']].corr() # No correlation."
      ]
    },
    {
      "cell_type": "markdown",
      "source": [],
      "metadata": {
        "id": "OKMckUH3nuDc"
      },
      "id": "OKMckUH3nuDc"
    },
    {
      "cell_type": "code",
      "source": [],
      "metadata": {
        "id": "qKgblFMYnvGX"
      },
      "id": "qKgblFMYnvGX",
      "execution_count": 72,
      "outputs": []
    }
  ],
  "metadata": {
    "kernelspec": {
      "display_name": "Python 3",
      "language": "python",
      "name": "python3"
    },
    "language_info": {
      "codemirror_mode": {
        "name": "ipython",
        "version": 3
      },
      "file_extension": ".py",
      "mimetype": "text/x-python",
      "name": "python",
      "nbconvert_exporter": "python",
      "pygments_lexer": "ipython3",
      "version": "3.7.12"
    },
    "papermill": {
      "default_parameters": {},
      "duration": 12.472004,
      "end_time": "2022-09-11T03:14:46.989435",
      "environment_variables": {},
      "exception": null,
      "input_path": "__notebook__.ipynb",
      "output_path": "__notebook__.ipynb",
      "parameters": {},
      "start_time": "2022-09-11T03:14:34.517431",
      "version": "2.3.4"
    },
    "colab": {
      "provenance": []
    }
  },
  "nbformat": 4,
  "nbformat_minor": 5
}