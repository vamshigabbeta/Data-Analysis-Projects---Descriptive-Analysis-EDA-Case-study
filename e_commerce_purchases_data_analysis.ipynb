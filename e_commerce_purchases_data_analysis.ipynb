{
  "metadata": {
    "kernelspec": {
      "language": "python",
      "display_name": "Python 3",
      "name": "python3"
    },
    "language_info": {
      "name": "python",
      "version": "3.7.12",
      "mimetype": "text/x-python",
      "codemirror_mode": {
        "name": "ipython",
        "version": 3
      },
      "pygments_lexer": "ipython3",
      "nbconvert_exporter": "python",
      "file_extension": ".py"
    },
    "colab": {
      "provenance": []
    }
  },
  "nbformat_minor": 0,
  "nbformat": 4,
  "cells": [
    {
      "cell_type": "markdown",
      "source": [
        "### Exploratory Data Analysis using Pandas"
      ],
      "metadata": {
        "id": "E7sge6pRB0BH"
      }
    },
    {
      "cell_type": "code",
      "source": [
        "import numpy as np\n",
        "import pandas as pd"
      ],
      "metadata": {
        "execution": {
          "iopub.status.busy": "2022-07-12T05:02:04.712063Z",
          "iopub.execute_input": "2022-07-12T05:02:04.712478Z",
          "iopub.status.idle": "2022-07-12T05:02:04.717741Z",
          "shell.execute_reply.started": "2022-07-12T05:02:04.712442Z",
          "shell.execute_reply": "2022-07-12T05:02:04.716389Z"
        },
        "trusted": true,
        "id": "v8rBdy5jB0BP"
      },
      "execution_count": 1,
      "outputs": []
    },
    {
      "cell_type": "code",
      "source": [
        "data = pd.read_csv('/content/sample_data/Ecommerce Purchases')\n",
        "data"
      ],
      "metadata": {
        "execution": {
          "iopub.status.busy": "2022-07-12T05:47:07.738809Z",
          "iopub.execute_input": "2022-07-12T05:47:07.740174Z",
          "iopub.status.idle": "2022-07-12T05:47:07.827255Z",
          "shell.execute_reply.started": "2022-07-12T05:47:07.740119Z",
          "shell.execute_reply": "2022-07-12T05:47:07.825996Z"
        },
        "trusted": true,
        "colab": {
          "base_uri": "https://localhost:8080/",
          "height": 1000
        },
        "id": "qJvOg3XhB0BR",
        "outputId": "97c0cbc3-303a-472b-a6a6-cad5d70461df"
      },
      "execution_count": 2,
      "outputs": [
        {
          "output_type": "execute_result",
          "data": {
            "text/plain": [
              "                                                Address    Lot AM or PM  \\\n",
              "0     16629 Pace Camp Apt. 448\\nAlexisborough, NE 77...  46 in       PM   \n",
              "1     9374 Jasmine Spurs Suite 508\\nSouth John, TN 8...  28 rn       PM   \n",
              "2                      Unit 0065 Box 5052\\nDPO AP 27450  94 vE       PM   \n",
              "3                 7780 Julia Fords\\nNew Stacy, WA 45798  36 vm       PM   \n",
              "4     23012 Munoz Drive Suite 337\\nNew Cynthia, TX 5...  20 IE       AM   \n",
              "...                                                 ...    ...      ...   \n",
              "9995      966 Castaneda Locks\\nWest Juliafurt, CO 96415  92 XI       PM   \n",
              "9996  832 Curtis Dam Suite 785\\nNorth Edwardburgh, T...  41 JY       AM   \n",
              "9997              Unit 4434 Box 6343\\nDPO AE 28026-0283  74 Zh       AM   \n",
              "9998               0096 English Rest\\nRoystad, IA 12457  74 cL       PM   \n",
              "9999     40674 Barrett Stravenue\\nGrimesville, WI 79682  64 Hr       AM   \n",
              "\n",
              "                                           Browser Info  \\\n",
              "0     Opera/9.56.(X11; Linux x86_64; sl-SI) Presto/2...   \n",
              "1     Opera/8.93.(Windows 98; Win 9x 4.90; en-US) Pr...   \n",
              "2     Mozilla/5.0 (compatible; MSIE 9.0; Windows NT ...   \n",
              "3     Mozilla/5.0 (Macintosh; Intel Mac OS X 10_8_0 ...   \n",
              "4     Opera/9.58.(X11; Linux x86_64; it-IT) Presto/2...   \n",
              "...                                                 ...   \n",
              "9995  Mozilla/5.0 (Windows NT 5.1) AppleWebKit/5352 ...   \n",
              "9996  Mozilla/5.0 (compatible; MSIE 9.0; Windows NT ...   \n",
              "9997  Mozilla/5.0 (Macintosh; U; Intel Mac OS X 10_7...   \n",
              "9998  Mozilla/5.0 (Macintosh; Intel Mac OS X 10_8_8;...   \n",
              "9999  Mozilla/5.0 (X11; Linux i686; rv:1.9.5.20) Gec...   \n",
              "\n",
              "                              Company       Credit Card CC Exp Date  \\\n",
              "0                     Martinez-Herman  6011929061123406       02/20   \n",
              "1     Fletcher, Richards and Whitaker  3337758169645356       11/18   \n",
              "2          Simpson, Williams and Pham      675957666125       08/19   \n",
              "3     Williams, Marshall and Buchanan  6011578504430710       02/24   \n",
              "4           Brown, Watson and Andrews  6011456623207998       10/25   \n",
              "...                               ...               ...         ...   \n",
              "9995                    Randall-Sloan   342945015358701       03/22   \n",
              "9996         Hale, Collins and Wilson   210033169205009       07/25   \n",
              "9997                     Anderson Ltd  6011539787356311       05/21   \n",
              "9998                         Cook Inc   180003348082930       11/17   \n",
              "9999                       Greene Inc  4139972901927273       02/19   \n",
              "\n",
              "      CC Security Code                  CC Provider  \\\n",
              "0                  900                 JCB 16 digit   \n",
              "1                  561                   Mastercard   \n",
              "2                  699                 JCB 16 digit   \n",
              "3                  384                     Discover   \n",
              "4                  678  Diners Club / Carte Blanche   \n",
              "...                ...                          ...   \n",
              "9995               838                 JCB 15 digit   \n",
              "9996               207                 JCB 16 digit   \n",
              "9997                 1                VISA 16 digit   \n",
              "9998               987             American Express   \n",
              "9999               302                 JCB 15 digit   \n",
              "\n",
              "                               Email                                     Job  \\\n",
              "0                  pdunlap@yahoo.com  Scientist, product/process development   \n",
              "1                 anthony41@reed.com                       Drilling engineer   \n",
              "2     amymiller@morales-harrison.com                Customer service manager   \n",
              "3        brent16@olson-robinson.info                       Drilling engineer   \n",
              "4        christopherwright@gmail.com                             Fine artist   \n",
              "...                              ...                                     ...   \n",
              "9995          iscott@wade-garner.com                              Printmaker   \n",
              "9996              mary85@hotmail.com                         Energy engineer   \n",
              "9997               tyler16@gmail.com                      Veterinary surgeon   \n",
              "9998         elizabethmoore@reid.net                Local government officer   \n",
              "9999           rachelford@vaughn.com                  Embryologist, clinical   \n",
              "\n",
              "           IP Address Language  Purchase Price  \n",
              "0     149.146.147.205       el           98.14  \n",
              "1        15.160.41.51       fr           70.73  \n",
              "2      132.207.160.22       de            0.95  \n",
              "3        30.250.74.19       es           78.04  \n",
              "4        24.140.33.94       es           77.82  \n",
              "...               ...      ...             ...  \n",
              "9995    29.73.197.114       it           82.21  \n",
              "9996   121.133.168.51       pt           25.63  \n",
              "9997    156.210.0.254       el           83.98  \n",
              "9998     55.78.26.143       es           38.84  \n",
              "9999  176.119.198.199       el           67.59  \n",
              "\n",
              "[10000 rows x 14 columns]"
            ],
            "text/html": [
              "\n",
              "  <div id=\"df-bf223d00-961c-4c83-b214-c0be55df6d95\">\n",
              "    <div class=\"colab-df-container\">\n",
              "      <div>\n",
              "<style scoped>\n",
              "    .dataframe tbody tr th:only-of-type {\n",
              "        vertical-align: middle;\n",
              "    }\n",
              "\n",
              "    .dataframe tbody tr th {\n",
              "        vertical-align: top;\n",
              "    }\n",
              "\n",
              "    .dataframe thead th {\n",
              "        text-align: right;\n",
              "    }\n",
              "</style>\n",
              "<table border=\"1\" class=\"dataframe\">\n",
              "  <thead>\n",
              "    <tr style=\"text-align: right;\">\n",
              "      <th></th>\n",
              "      <th>Address</th>\n",
              "      <th>Lot</th>\n",
              "      <th>AM or PM</th>\n",
              "      <th>Browser Info</th>\n",
              "      <th>Company</th>\n",
              "      <th>Credit Card</th>\n",
              "      <th>CC Exp Date</th>\n",
              "      <th>CC Security Code</th>\n",
              "      <th>CC Provider</th>\n",
              "      <th>Email</th>\n",
              "      <th>Job</th>\n",
              "      <th>IP Address</th>\n",
              "      <th>Language</th>\n",
              "      <th>Purchase Price</th>\n",
              "    </tr>\n",
              "  </thead>\n",
              "  <tbody>\n",
              "    <tr>\n",
              "      <th>0</th>\n",
              "      <td>16629 Pace Camp Apt. 448\\nAlexisborough, NE 77...</td>\n",
              "      <td>46 in</td>\n",
              "      <td>PM</td>\n",
              "      <td>Opera/9.56.(X11; Linux x86_64; sl-SI) Presto/2...</td>\n",
              "      <td>Martinez-Herman</td>\n",
              "      <td>6011929061123406</td>\n",
              "      <td>02/20</td>\n",
              "      <td>900</td>\n",
              "      <td>JCB 16 digit</td>\n",
              "      <td>pdunlap@yahoo.com</td>\n",
              "      <td>Scientist, product/process development</td>\n",
              "      <td>149.146.147.205</td>\n",
              "      <td>el</td>\n",
              "      <td>98.14</td>\n",
              "    </tr>\n",
              "    <tr>\n",
              "      <th>1</th>\n",
              "      <td>9374 Jasmine Spurs Suite 508\\nSouth John, TN 8...</td>\n",
              "      <td>28 rn</td>\n",
              "      <td>PM</td>\n",
              "      <td>Opera/8.93.(Windows 98; Win 9x 4.90; en-US) Pr...</td>\n",
              "      <td>Fletcher, Richards and Whitaker</td>\n",
              "      <td>3337758169645356</td>\n",
              "      <td>11/18</td>\n",
              "      <td>561</td>\n",
              "      <td>Mastercard</td>\n",
              "      <td>anthony41@reed.com</td>\n",
              "      <td>Drilling engineer</td>\n",
              "      <td>15.160.41.51</td>\n",
              "      <td>fr</td>\n",
              "      <td>70.73</td>\n",
              "    </tr>\n",
              "    <tr>\n",
              "      <th>2</th>\n",
              "      <td>Unit 0065 Box 5052\\nDPO AP 27450</td>\n",
              "      <td>94 vE</td>\n",
              "      <td>PM</td>\n",
              "      <td>Mozilla/5.0 (compatible; MSIE 9.0; Windows NT ...</td>\n",
              "      <td>Simpson, Williams and Pham</td>\n",
              "      <td>675957666125</td>\n",
              "      <td>08/19</td>\n",
              "      <td>699</td>\n",
              "      <td>JCB 16 digit</td>\n",
              "      <td>amymiller@morales-harrison.com</td>\n",
              "      <td>Customer service manager</td>\n",
              "      <td>132.207.160.22</td>\n",
              "      <td>de</td>\n",
              "      <td>0.95</td>\n",
              "    </tr>\n",
              "    <tr>\n",
              "      <th>3</th>\n",
              "      <td>7780 Julia Fords\\nNew Stacy, WA 45798</td>\n",
              "      <td>36 vm</td>\n",
              "      <td>PM</td>\n",
              "      <td>Mozilla/5.0 (Macintosh; Intel Mac OS X 10_8_0 ...</td>\n",
              "      <td>Williams, Marshall and Buchanan</td>\n",
              "      <td>6011578504430710</td>\n",
              "      <td>02/24</td>\n",
              "      <td>384</td>\n",
              "      <td>Discover</td>\n",
              "      <td>brent16@olson-robinson.info</td>\n",
              "      <td>Drilling engineer</td>\n",
              "      <td>30.250.74.19</td>\n",
              "      <td>es</td>\n",
              "      <td>78.04</td>\n",
              "    </tr>\n",
              "    <tr>\n",
              "      <th>4</th>\n",
              "      <td>23012 Munoz Drive Suite 337\\nNew Cynthia, TX 5...</td>\n",
              "      <td>20 IE</td>\n",
              "      <td>AM</td>\n",
              "      <td>Opera/9.58.(X11; Linux x86_64; it-IT) Presto/2...</td>\n",
              "      <td>Brown, Watson and Andrews</td>\n",
              "      <td>6011456623207998</td>\n",
              "      <td>10/25</td>\n",
              "      <td>678</td>\n",
              "      <td>Diners Club / Carte Blanche</td>\n",
              "      <td>christopherwright@gmail.com</td>\n",
              "      <td>Fine artist</td>\n",
              "      <td>24.140.33.94</td>\n",
              "      <td>es</td>\n",
              "      <td>77.82</td>\n",
              "    </tr>\n",
              "    <tr>\n",
              "      <th>...</th>\n",
              "      <td>...</td>\n",
              "      <td>...</td>\n",
              "      <td>...</td>\n",
              "      <td>...</td>\n",
              "      <td>...</td>\n",
              "      <td>...</td>\n",
              "      <td>...</td>\n",
              "      <td>...</td>\n",
              "      <td>...</td>\n",
              "      <td>...</td>\n",
              "      <td>...</td>\n",
              "      <td>...</td>\n",
              "      <td>...</td>\n",
              "      <td>...</td>\n",
              "    </tr>\n",
              "    <tr>\n",
              "      <th>9995</th>\n",
              "      <td>966 Castaneda Locks\\nWest Juliafurt, CO 96415</td>\n",
              "      <td>92 XI</td>\n",
              "      <td>PM</td>\n",
              "      <td>Mozilla/5.0 (Windows NT 5.1) AppleWebKit/5352 ...</td>\n",
              "      <td>Randall-Sloan</td>\n",
              "      <td>342945015358701</td>\n",
              "      <td>03/22</td>\n",
              "      <td>838</td>\n",
              "      <td>JCB 15 digit</td>\n",
              "      <td>iscott@wade-garner.com</td>\n",
              "      <td>Printmaker</td>\n",
              "      <td>29.73.197.114</td>\n",
              "      <td>it</td>\n",
              "      <td>82.21</td>\n",
              "    </tr>\n",
              "    <tr>\n",
              "      <th>9996</th>\n",
              "      <td>832 Curtis Dam Suite 785\\nNorth Edwardburgh, T...</td>\n",
              "      <td>41 JY</td>\n",
              "      <td>AM</td>\n",
              "      <td>Mozilla/5.0 (compatible; MSIE 9.0; Windows NT ...</td>\n",
              "      <td>Hale, Collins and Wilson</td>\n",
              "      <td>210033169205009</td>\n",
              "      <td>07/25</td>\n",
              "      <td>207</td>\n",
              "      <td>JCB 16 digit</td>\n",
              "      <td>mary85@hotmail.com</td>\n",
              "      <td>Energy engineer</td>\n",
              "      <td>121.133.168.51</td>\n",
              "      <td>pt</td>\n",
              "      <td>25.63</td>\n",
              "    </tr>\n",
              "    <tr>\n",
              "      <th>9997</th>\n",
              "      <td>Unit 4434 Box 6343\\nDPO AE 28026-0283</td>\n",
              "      <td>74 Zh</td>\n",
              "      <td>AM</td>\n",
              "      <td>Mozilla/5.0 (Macintosh; U; Intel Mac OS X 10_7...</td>\n",
              "      <td>Anderson Ltd</td>\n",
              "      <td>6011539787356311</td>\n",
              "      <td>05/21</td>\n",
              "      <td>1</td>\n",
              "      <td>VISA 16 digit</td>\n",
              "      <td>tyler16@gmail.com</td>\n",
              "      <td>Veterinary surgeon</td>\n",
              "      <td>156.210.0.254</td>\n",
              "      <td>el</td>\n",
              "      <td>83.98</td>\n",
              "    </tr>\n",
              "    <tr>\n",
              "      <th>9998</th>\n",
              "      <td>0096 English Rest\\nRoystad, IA 12457</td>\n",
              "      <td>74 cL</td>\n",
              "      <td>PM</td>\n",
              "      <td>Mozilla/5.0 (Macintosh; Intel Mac OS X 10_8_8;...</td>\n",
              "      <td>Cook Inc</td>\n",
              "      <td>180003348082930</td>\n",
              "      <td>11/17</td>\n",
              "      <td>987</td>\n",
              "      <td>American Express</td>\n",
              "      <td>elizabethmoore@reid.net</td>\n",
              "      <td>Local government officer</td>\n",
              "      <td>55.78.26.143</td>\n",
              "      <td>es</td>\n",
              "      <td>38.84</td>\n",
              "    </tr>\n",
              "    <tr>\n",
              "      <th>9999</th>\n",
              "      <td>40674 Barrett Stravenue\\nGrimesville, WI 79682</td>\n",
              "      <td>64 Hr</td>\n",
              "      <td>AM</td>\n",
              "      <td>Mozilla/5.0 (X11; Linux i686; rv:1.9.5.20) Gec...</td>\n",
              "      <td>Greene Inc</td>\n",
              "      <td>4139972901927273</td>\n",
              "      <td>02/19</td>\n",
              "      <td>302</td>\n",
              "      <td>JCB 15 digit</td>\n",
              "      <td>rachelford@vaughn.com</td>\n",
              "      <td>Embryologist, clinical</td>\n",
              "      <td>176.119.198.199</td>\n",
              "      <td>el</td>\n",
              "      <td>67.59</td>\n",
              "    </tr>\n",
              "  </tbody>\n",
              "</table>\n",
              "<p>10000 rows × 14 columns</p>\n",
              "</div>\n",
              "      <button class=\"colab-df-convert\" onclick=\"convertToInteractive('df-bf223d00-961c-4c83-b214-c0be55df6d95')\"\n",
              "              title=\"Convert this dataframe to an interactive table.\"\n",
              "              style=\"display:none;\">\n",
              "        \n",
              "  <svg xmlns=\"http://www.w3.org/2000/svg\" height=\"24px\"viewBox=\"0 0 24 24\"\n",
              "       width=\"24px\">\n",
              "    <path d=\"M0 0h24v24H0V0z\" fill=\"none\"/>\n",
              "    <path d=\"M18.56 5.44l.94 2.06.94-2.06 2.06-.94-2.06-.94-.94-2.06-.94 2.06-2.06.94zm-11 1L8.5 8.5l.94-2.06 2.06-.94-2.06-.94L8.5 2.5l-.94 2.06-2.06.94zm10 10l.94 2.06.94-2.06 2.06-.94-2.06-.94-.94-2.06-.94 2.06-2.06.94z\"/><path d=\"M17.41 7.96l-1.37-1.37c-.4-.4-.92-.59-1.43-.59-.52 0-1.04.2-1.43.59L10.3 9.45l-7.72 7.72c-.78.78-.78 2.05 0 2.83L4 21.41c.39.39.9.59 1.41.59.51 0 1.02-.2 1.41-.59l7.78-7.78 2.81-2.81c.8-.78.8-2.07 0-2.86zM5.41 20L4 18.59l7.72-7.72 1.47 1.35L5.41 20z\"/>\n",
              "  </svg>\n",
              "      </button>\n",
              "      \n",
              "  <style>\n",
              "    .colab-df-container {\n",
              "      display:flex;\n",
              "      flex-wrap:wrap;\n",
              "      gap: 12px;\n",
              "    }\n",
              "\n",
              "    .colab-df-convert {\n",
              "      background-color: #E8F0FE;\n",
              "      border: none;\n",
              "      border-radius: 50%;\n",
              "      cursor: pointer;\n",
              "      display: none;\n",
              "      fill: #1967D2;\n",
              "      height: 32px;\n",
              "      padding: 0 0 0 0;\n",
              "      width: 32px;\n",
              "    }\n",
              "\n",
              "    .colab-df-convert:hover {\n",
              "      background-color: #E2EBFA;\n",
              "      box-shadow: 0px 1px 2px rgba(60, 64, 67, 0.3), 0px 1px 3px 1px rgba(60, 64, 67, 0.15);\n",
              "      fill: #174EA6;\n",
              "    }\n",
              "\n",
              "    [theme=dark] .colab-df-convert {\n",
              "      background-color: #3B4455;\n",
              "      fill: #D2E3FC;\n",
              "    }\n",
              "\n",
              "    [theme=dark] .colab-df-convert:hover {\n",
              "      background-color: #434B5C;\n",
              "      box-shadow: 0px 1px 3px 1px rgba(0, 0, 0, 0.15);\n",
              "      filter: drop-shadow(0px 1px 2px rgba(0, 0, 0, 0.3));\n",
              "      fill: #FFFFFF;\n",
              "    }\n",
              "  </style>\n",
              "\n",
              "      <script>\n",
              "        const buttonEl =\n",
              "          document.querySelector('#df-bf223d00-961c-4c83-b214-c0be55df6d95 button.colab-df-convert');\n",
              "        buttonEl.style.display =\n",
              "          google.colab.kernel.accessAllowed ? 'block' : 'none';\n",
              "\n",
              "        async function convertToInteractive(key) {\n",
              "          const element = document.querySelector('#df-bf223d00-961c-4c83-b214-c0be55df6d95');\n",
              "          const dataTable =\n",
              "            await google.colab.kernel.invokeFunction('convertToInteractive',\n",
              "                                                     [key], {});\n",
              "          if (!dataTable) return;\n",
              "\n",
              "          const docLinkHtml = 'Like what you see? Visit the ' +\n",
              "            '<a target=\"_blank\" href=https://colab.research.google.com/notebooks/data_table.ipynb>data table notebook</a>'\n",
              "            + ' to learn more about interactive tables.';\n",
              "          element.innerHTML = '';\n",
              "          dataTable['output_type'] = 'display_data';\n",
              "          await google.colab.output.renderOutput(dataTable, element);\n",
              "          const docLink = document.createElement('div');\n",
              "          docLink.innerHTML = docLinkHtml;\n",
              "          element.appendChild(docLink);\n",
              "        }\n",
              "      </script>\n",
              "    </div>\n",
              "  </div>\n",
              "  "
            ]
          },
          "metadata": {},
          "execution_count": 2
        }
      ]
    },
    {
      "cell_type": "markdown",
      "source": [
        "#### Q.1 :- Display top 10 rows of the dataset."
      ],
      "metadata": {
        "id": "UOVlRZ8TB0BT"
      }
    },
    {
      "cell_type": "code",
      "source": [
        "data.head(10)"
      ],
      "metadata": {
        "execution": {
          "iopub.status.busy": "2022-07-12T06:09:01.415614Z",
          "iopub.execute_input": "2022-07-12T06:09:01.416010Z",
          "iopub.status.idle": "2022-07-12T06:09:01.437727Z",
          "shell.execute_reply.started": "2022-07-12T06:09:01.415978Z",
          "shell.execute_reply": "2022-07-12T06:09:01.436795Z"
        },
        "trusted": true,
        "id": "zu_m3fLiB0BU",
        "outputId": "ce08b2c4-984d-463e-89e1-d18bbcb98eb0"
      },
      "execution_count": null,
      "outputs": [
        {
          "execution_count": 81,
          "output_type": "execute_result",
          "data": {
            "text/plain": "                                             Address    Lot AM or PM  \\\n0  16629 Pace Camp Apt. 448\\nAlexisborough, NE 77...  46 in       PM   \n1  9374 Jasmine Spurs Suite 508\\nSouth John, TN 8...  28 rn       PM   \n2                   Unit 0065 Box 5052\\nDPO AP 27450  94 vE       PM   \n3              7780 Julia Fords\\nNew Stacy, WA 45798  36 vm       PM   \n4  23012 Munoz Drive Suite 337\\nNew Cynthia, TX 5...  20 IE       AM   \n5  7502 Powell Mission Apt. 768\\nTravisland, VA 3...  21 XT       PM   \n6     93971 Conway Causeway\\nAndersonburgh, AZ 75107  96 Xt       AM   \n7  260 Rachel Plains Suite 366\\nCastroberg, WV 24...  96 pG       PM   \n8            2129 Dylan Burg\\nNew Michelle, ME 28650  45 JN       PM   \n9    3795 Dawson Extensions\\nLake Tinafort, ID 88739  15 Ug       AM   \n\n                                        Browser Info  \\\n0  Opera/9.56.(X11; Linux x86_64; sl-SI) Presto/2...   \n1  Opera/8.93.(Windows 98; Win 9x 4.90; en-US) Pr...   \n2  Mozilla/5.0 (compatible; MSIE 9.0; Windows NT ...   \n3  Mozilla/5.0 (Macintosh; Intel Mac OS X 10_8_0 ...   \n4  Opera/9.58.(X11; Linux x86_64; it-IT) Presto/2...   \n5  Mozilla/5.0 (Macintosh; U; PPC Mac OS X 10_8_5...   \n6  Mozilla/5.0 (compatible; MSIE 7.0; Windows NT ...   \n7  Mozilla/5.0 (X11; Linux i686) AppleWebKit/5350...   \n8  Mozilla/5.0 (Macintosh; U; Intel Mac OS X 10_7...   \n9  Mozilla/5.0 (X11; Linux i686; rv:1.9.7.20) Gec...   \n\n                           Company       Credit Card CC Exp Date  \\\n0                  Martinez-Herman  6011929061123406       02/20   \n1  Fletcher, Richards and Whitaker  3337758169645356       11/18   \n2       Simpson, Williams and Pham      675957666125       08/19   \n3  Williams, Marshall and Buchanan  6011578504430710       02/24   \n4        Brown, Watson and Andrews  6011456623207998       10/25   \n5                   Silva-Anderson    30246185196287       07/25   \n6                  Gibson and Sons  6011398782655569       07/24   \n7                 Marshall-Collins      561252141909       06/25   \n8                Galloway and Sons   180041795790001       04/24   \n9     Rivera, Buchanan and Ramirez     4396283918371       01/17   \n\n   CC Security Code                  CC Provider  \\\n0               900                 JCB 16 digit   \n1               561                   Mastercard   \n2               699                 JCB 16 digit   \n3               384                     Discover   \n4               678  Diners Club / Carte Blanche   \n5              7169                     Discover   \n6               714                VISA 16 digit   \n7               256                VISA 13 digit   \n8               899                 JCB 16 digit   \n9               931             American Express   \n\n                            Email                                     Job  \\\n0               pdunlap@yahoo.com  Scientist, product/process development   \n1              anthony41@reed.com                       Drilling engineer   \n2  amymiller@morales-harrison.com                Customer service manager   \n3     brent16@olson-robinson.info                       Drilling engineer   \n4     christopherwright@gmail.com                             Fine artist   \n5               ynguyen@gmail.com                       Fish farm manager   \n6              olivia04@yahoo.com                                  Dancer   \n7            phillip48@parks.info                         Event organiser   \n8            kdavis@rasmussen.com                       Financial manager   \n9        qcoleman@hunt-huerta.com                      Forensic scientist   \n\n        IP Address Language  Purchase Price  \n0  149.146.147.205       el           98.14  \n1     15.160.41.51       fr           70.73  \n2   132.207.160.22       de            0.95  \n3     30.250.74.19       es           78.04  \n4     24.140.33.94       es           77.82  \n5    55.96.152.147       ru           25.15  \n6   127.252.144.18       de           88.56  \n7   224.247.97.150       pt           44.25  \n8  146.234.201.229       ru           59.54  \n9    236.198.199.8       zh           95.63  ",
            "text/html": "<div>\n<style scoped>\n    .dataframe tbody tr th:only-of-type {\n        vertical-align: middle;\n    }\n\n    .dataframe tbody tr th {\n        vertical-align: top;\n    }\n\n    .dataframe thead th {\n        text-align: right;\n    }\n</style>\n<table border=\"1\" class=\"dataframe\">\n  <thead>\n    <tr style=\"text-align: right;\">\n      <th></th>\n      <th>Address</th>\n      <th>Lot</th>\n      <th>AM or PM</th>\n      <th>Browser Info</th>\n      <th>Company</th>\n      <th>Credit Card</th>\n      <th>CC Exp Date</th>\n      <th>CC Security Code</th>\n      <th>CC Provider</th>\n      <th>Email</th>\n      <th>Job</th>\n      <th>IP Address</th>\n      <th>Language</th>\n      <th>Purchase Price</th>\n    </tr>\n  </thead>\n  <tbody>\n    <tr>\n      <th>0</th>\n      <td>16629 Pace Camp Apt. 448\\nAlexisborough, NE 77...</td>\n      <td>46 in</td>\n      <td>PM</td>\n      <td>Opera/9.56.(X11; Linux x86_64; sl-SI) Presto/2...</td>\n      <td>Martinez-Herman</td>\n      <td>6011929061123406</td>\n      <td>02/20</td>\n      <td>900</td>\n      <td>JCB 16 digit</td>\n      <td>pdunlap@yahoo.com</td>\n      <td>Scientist, product/process development</td>\n      <td>149.146.147.205</td>\n      <td>el</td>\n      <td>98.14</td>\n    </tr>\n    <tr>\n      <th>1</th>\n      <td>9374 Jasmine Spurs Suite 508\\nSouth John, TN 8...</td>\n      <td>28 rn</td>\n      <td>PM</td>\n      <td>Opera/8.93.(Windows 98; Win 9x 4.90; en-US) Pr...</td>\n      <td>Fletcher, Richards and Whitaker</td>\n      <td>3337758169645356</td>\n      <td>11/18</td>\n      <td>561</td>\n      <td>Mastercard</td>\n      <td>anthony41@reed.com</td>\n      <td>Drilling engineer</td>\n      <td>15.160.41.51</td>\n      <td>fr</td>\n      <td>70.73</td>\n    </tr>\n    <tr>\n      <th>2</th>\n      <td>Unit 0065 Box 5052\\nDPO AP 27450</td>\n      <td>94 vE</td>\n      <td>PM</td>\n      <td>Mozilla/5.0 (compatible; MSIE 9.0; Windows NT ...</td>\n      <td>Simpson, Williams and Pham</td>\n      <td>675957666125</td>\n      <td>08/19</td>\n      <td>699</td>\n      <td>JCB 16 digit</td>\n      <td>amymiller@morales-harrison.com</td>\n      <td>Customer service manager</td>\n      <td>132.207.160.22</td>\n      <td>de</td>\n      <td>0.95</td>\n    </tr>\n    <tr>\n      <th>3</th>\n      <td>7780 Julia Fords\\nNew Stacy, WA 45798</td>\n      <td>36 vm</td>\n      <td>PM</td>\n      <td>Mozilla/5.0 (Macintosh; Intel Mac OS X 10_8_0 ...</td>\n      <td>Williams, Marshall and Buchanan</td>\n      <td>6011578504430710</td>\n      <td>02/24</td>\n      <td>384</td>\n      <td>Discover</td>\n      <td>brent16@olson-robinson.info</td>\n      <td>Drilling engineer</td>\n      <td>30.250.74.19</td>\n      <td>es</td>\n      <td>78.04</td>\n    </tr>\n    <tr>\n      <th>4</th>\n      <td>23012 Munoz Drive Suite 337\\nNew Cynthia, TX 5...</td>\n      <td>20 IE</td>\n      <td>AM</td>\n      <td>Opera/9.58.(X11; Linux x86_64; it-IT) Presto/2...</td>\n      <td>Brown, Watson and Andrews</td>\n      <td>6011456623207998</td>\n      <td>10/25</td>\n      <td>678</td>\n      <td>Diners Club / Carte Blanche</td>\n      <td>christopherwright@gmail.com</td>\n      <td>Fine artist</td>\n      <td>24.140.33.94</td>\n      <td>es</td>\n      <td>77.82</td>\n    </tr>\n    <tr>\n      <th>5</th>\n      <td>7502 Powell Mission Apt. 768\\nTravisland, VA 3...</td>\n      <td>21 XT</td>\n      <td>PM</td>\n      <td>Mozilla/5.0 (Macintosh; U; PPC Mac OS X 10_8_5...</td>\n      <td>Silva-Anderson</td>\n      <td>30246185196287</td>\n      <td>07/25</td>\n      <td>7169</td>\n      <td>Discover</td>\n      <td>ynguyen@gmail.com</td>\n      <td>Fish farm manager</td>\n      <td>55.96.152.147</td>\n      <td>ru</td>\n      <td>25.15</td>\n    </tr>\n    <tr>\n      <th>6</th>\n      <td>93971 Conway Causeway\\nAndersonburgh, AZ 75107</td>\n      <td>96 Xt</td>\n      <td>AM</td>\n      <td>Mozilla/5.0 (compatible; MSIE 7.0; Windows NT ...</td>\n      <td>Gibson and Sons</td>\n      <td>6011398782655569</td>\n      <td>07/24</td>\n      <td>714</td>\n      <td>VISA 16 digit</td>\n      <td>olivia04@yahoo.com</td>\n      <td>Dancer</td>\n      <td>127.252.144.18</td>\n      <td>de</td>\n      <td>88.56</td>\n    </tr>\n    <tr>\n      <th>7</th>\n      <td>260 Rachel Plains Suite 366\\nCastroberg, WV 24...</td>\n      <td>96 pG</td>\n      <td>PM</td>\n      <td>Mozilla/5.0 (X11; Linux i686) AppleWebKit/5350...</td>\n      <td>Marshall-Collins</td>\n      <td>561252141909</td>\n      <td>06/25</td>\n      <td>256</td>\n      <td>VISA 13 digit</td>\n      <td>phillip48@parks.info</td>\n      <td>Event organiser</td>\n      <td>224.247.97.150</td>\n      <td>pt</td>\n      <td>44.25</td>\n    </tr>\n    <tr>\n      <th>8</th>\n      <td>2129 Dylan Burg\\nNew Michelle, ME 28650</td>\n      <td>45 JN</td>\n      <td>PM</td>\n      <td>Mozilla/5.0 (Macintosh; U; Intel Mac OS X 10_7...</td>\n      <td>Galloway and Sons</td>\n      <td>180041795790001</td>\n      <td>04/24</td>\n      <td>899</td>\n      <td>JCB 16 digit</td>\n      <td>kdavis@rasmussen.com</td>\n      <td>Financial manager</td>\n      <td>146.234.201.229</td>\n      <td>ru</td>\n      <td>59.54</td>\n    </tr>\n    <tr>\n      <th>9</th>\n      <td>3795 Dawson Extensions\\nLake Tinafort, ID 88739</td>\n      <td>15 Ug</td>\n      <td>AM</td>\n      <td>Mozilla/5.0 (X11; Linux i686; rv:1.9.7.20) Gec...</td>\n      <td>Rivera, Buchanan and Ramirez</td>\n      <td>4396283918371</td>\n      <td>01/17</td>\n      <td>931</td>\n      <td>American Express</td>\n      <td>qcoleman@hunt-huerta.com</td>\n      <td>Forensic scientist</td>\n      <td>236.198.199.8</td>\n      <td>zh</td>\n      <td>95.63</td>\n    </tr>\n  </tbody>\n</table>\n</div>"
          },
          "metadata": {}
        }
      ]
    },
    {
      "cell_type": "markdown",
      "source": [
        "#### Q.2 :- Display last 10 rows of the dataset."
      ],
      "metadata": {
        "id": "_2Xop7z3B0BU"
      }
    },
    {
      "cell_type": "code",
      "source": [
        "data.tail(10)"
      ],
      "metadata": {
        "execution": {
          "iopub.status.busy": "2022-07-12T06:09:39.223076Z",
          "iopub.execute_input": "2022-07-12T06:09:39.223450Z",
          "iopub.status.idle": "2022-07-12T06:09:39.245865Z",
          "shell.execute_reply.started": "2022-07-12T06:09:39.223421Z",
          "shell.execute_reply": "2022-07-12T06:09:39.244654Z"
        },
        "trusted": true,
        "id": "PP0blHUKB0BV",
        "outputId": "80f16073-e940-4887-c332-47f66e68293f"
      },
      "execution_count": null,
      "outputs": [
        {
          "execution_count": 82,
          "output_type": "execute_result",
          "data": {
            "text/plain": "                                                Address    Lot AM or PM  \\\n9990  75731 Molly Springs\\nWest Danielle, VT 96934-5102  93 ty       PM   \n9991              PSC 8165, Box 8498\\nAPO AP 60327-0346  50 dA       AM   \n9992  885 Allen Mountains Apt. 230\\nWallhaven, LA 16995  40 vH       PM   \n9993  7555 Larson Locks Suite 229\\nEllisburgh, MA 34...  72 jg       PM   \n9994       6276 Rojas Hollow\\nLake Louis, WY 56410-7837  93 Ex       PM   \n9995      966 Castaneda Locks\\nWest Juliafurt, CO 96415  92 XI       PM   \n9996  832 Curtis Dam Suite 785\\nNorth Edwardburgh, T...  41 JY       AM   \n9997              Unit 4434 Box 6343\\nDPO AE 28026-0283  74 Zh       AM   \n9998               0096 English Rest\\nRoystad, IA 12457  74 cL       PM   \n9999     40674 Barrett Stravenue\\nGrimesville, WI 79682  64 Hr       AM   \n\n                                           Browser Info  \\\n9990  Mozilla/5.0 (Macintosh; Intel Mac OS X 10_7_4;...   \n9991  Mozilla/5.0 (compatible; MSIE 8.0; Windows NT ...   \n9992  Mozilla/5.0 (Macintosh; PPC Mac OS X 10_6_5) A...   \n9993  Mozilla/5.0 (Macintosh; U; Intel Mac OS X 10_8...   \n9994  Opera/9.68.(X11; Linux x86_64; sl-SI) Presto/2...   \n9995  Mozilla/5.0 (Windows NT 5.1) AppleWebKit/5352 ...   \n9996  Mozilla/5.0 (compatible; MSIE 9.0; Windows NT ...   \n9997  Mozilla/5.0 (Macintosh; U; Intel Mac OS X 10_7...   \n9998  Mozilla/5.0 (Macintosh; Intel Mac OS X 10_8_8;...   \n9999  Mozilla/5.0 (X11; Linux i686; rv:1.9.5.20) Gec...   \n\n                         Company       Credit Card CC Exp Date  \\\n9990  Pace, Vazquez and Richards   869968197049750       04/24   \n9991                  Snyder Inc  4221582137197481       02/24   \n9992                   Wells Ltd  4664825258997302       10/20   \n9993              Colon and Sons    30025560104631       10/25   \n9994                Ritter-Smith  3112186784121077       01/25   \n9995               Randall-Sloan   342945015358701       03/22   \n9996    Hale, Collins and Wilson   210033169205009       07/25   \n9997                Anderson Ltd  6011539787356311       05/21   \n9998                    Cook Inc   180003348082930       11/17   \n9999                  Greene Inc  4139972901927273       02/19   \n\n      CC Security Code       CC Provider                        Email  \\\n9990               877      JCB 15 digit  andersonmichael@sherman.biz   \n9991               969           Voyager           kking@wise-liu.com   \n9992               431          Discover            bberry@wright.net   \n9993               629           Maestro    chelseawilliams@lopez.biz   \n9994              1823           Maestro           iroberts@gmail.com   \n9995               838      JCB 15 digit       iscott@wade-garner.com   \n9996               207      JCB 16 digit           mary85@hotmail.com   \n9997                 1     VISA 16 digit            tyler16@gmail.com   \n9998               987  American Express      elizabethmoore@reid.net   \n9999               302      JCB 15 digit        rachelford@vaughn.com   \n\n                               Job       IP Address Language  Purchase Price  \n9990           Early years teacher     54.170.3.185       ru           18.35  \n9991         IT sales professional    254.25.31.156       el           25.93  \n9992                  Set designer    174.173.51.32       de           67.96  \n9993  Designer, exhibition/display    177.46.82.128       el           65.61  \n9994     Education officer, museum    242.44.112.18       zh           31.85  \n9995                    Printmaker    29.73.197.114       it           82.21  \n9996               Energy engineer   121.133.168.51       pt           25.63  \n9997            Veterinary surgeon    156.210.0.254       el           83.98  \n9998      Local government officer     55.78.26.143       es           38.84  \n9999        Embryologist, clinical  176.119.198.199       el           67.59  ",
            "text/html": "<div>\n<style scoped>\n    .dataframe tbody tr th:only-of-type {\n        vertical-align: middle;\n    }\n\n    .dataframe tbody tr th {\n        vertical-align: top;\n    }\n\n    .dataframe thead th {\n        text-align: right;\n    }\n</style>\n<table border=\"1\" class=\"dataframe\">\n  <thead>\n    <tr style=\"text-align: right;\">\n      <th></th>\n      <th>Address</th>\n      <th>Lot</th>\n      <th>AM or PM</th>\n      <th>Browser Info</th>\n      <th>Company</th>\n      <th>Credit Card</th>\n      <th>CC Exp Date</th>\n      <th>CC Security Code</th>\n      <th>CC Provider</th>\n      <th>Email</th>\n      <th>Job</th>\n      <th>IP Address</th>\n      <th>Language</th>\n      <th>Purchase Price</th>\n    </tr>\n  </thead>\n  <tbody>\n    <tr>\n      <th>9990</th>\n      <td>75731 Molly Springs\\nWest Danielle, VT 96934-5102</td>\n      <td>93 ty</td>\n      <td>PM</td>\n      <td>Mozilla/5.0 (Macintosh; Intel Mac OS X 10_7_4;...</td>\n      <td>Pace, Vazquez and Richards</td>\n      <td>869968197049750</td>\n      <td>04/24</td>\n      <td>877</td>\n      <td>JCB 15 digit</td>\n      <td>andersonmichael@sherman.biz</td>\n      <td>Early years teacher</td>\n      <td>54.170.3.185</td>\n      <td>ru</td>\n      <td>18.35</td>\n    </tr>\n    <tr>\n      <th>9991</th>\n      <td>PSC 8165, Box 8498\\nAPO AP 60327-0346</td>\n      <td>50 dA</td>\n      <td>AM</td>\n      <td>Mozilla/5.0 (compatible; MSIE 8.0; Windows NT ...</td>\n      <td>Snyder Inc</td>\n      <td>4221582137197481</td>\n      <td>02/24</td>\n      <td>969</td>\n      <td>Voyager</td>\n      <td>kking@wise-liu.com</td>\n      <td>IT sales professional</td>\n      <td>254.25.31.156</td>\n      <td>el</td>\n      <td>25.93</td>\n    </tr>\n    <tr>\n      <th>9992</th>\n      <td>885 Allen Mountains Apt. 230\\nWallhaven, LA 16995</td>\n      <td>40 vH</td>\n      <td>PM</td>\n      <td>Mozilla/5.0 (Macintosh; PPC Mac OS X 10_6_5) A...</td>\n      <td>Wells Ltd</td>\n      <td>4664825258997302</td>\n      <td>10/20</td>\n      <td>431</td>\n      <td>Discover</td>\n      <td>bberry@wright.net</td>\n      <td>Set designer</td>\n      <td>174.173.51.32</td>\n      <td>de</td>\n      <td>67.96</td>\n    </tr>\n    <tr>\n      <th>9993</th>\n      <td>7555 Larson Locks Suite 229\\nEllisburgh, MA 34...</td>\n      <td>72 jg</td>\n      <td>PM</td>\n      <td>Mozilla/5.0 (Macintosh; U; Intel Mac OS X 10_8...</td>\n      <td>Colon and Sons</td>\n      <td>30025560104631</td>\n      <td>10/25</td>\n      <td>629</td>\n      <td>Maestro</td>\n      <td>chelseawilliams@lopez.biz</td>\n      <td>Designer, exhibition/display</td>\n      <td>177.46.82.128</td>\n      <td>el</td>\n      <td>65.61</td>\n    </tr>\n    <tr>\n      <th>9994</th>\n      <td>6276 Rojas Hollow\\nLake Louis, WY 56410-7837</td>\n      <td>93 Ex</td>\n      <td>PM</td>\n      <td>Opera/9.68.(X11; Linux x86_64; sl-SI) Presto/2...</td>\n      <td>Ritter-Smith</td>\n      <td>3112186784121077</td>\n      <td>01/25</td>\n      <td>1823</td>\n      <td>Maestro</td>\n      <td>iroberts@gmail.com</td>\n      <td>Education officer, museum</td>\n      <td>242.44.112.18</td>\n      <td>zh</td>\n      <td>31.85</td>\n    </tr>\n    <tr>\n      <th>9995</th>\n      <td>966 Castaneda Locks\\nWest Juliafurt, CO 96415</td>\n      <td>92 XI</td>\n      <td>PM</td>\n      <td>Mozilla/5.0 (Windows NT 5.1) AppleWebKit/5352 ...</td>\n      <td>Randall-Sloan</td>\n      <td>342945015358701</td>\n      <td>03/22</td>\n      <td>838</td>\n      <td>JCB 15 digit</td>\n      <td>iscott@wade-garner.com</td>\n      <td>Printmaker</td>\n      <td>29.73.197.114</td>\n      <td>it</td>\n      <td>82.21</td>\n    </tr>\n    <tr>\n      <th>9996</th>\n      <td>832 Curtis Dam Suite 785\\nNorth Edwardburgh, T...</td>\n      <td>41 JY</td>\n      <td>AM</td>\n      <td>Mozilla/5.0 (compatible; MSIE 9.0; Windows NT ...</td>\n      <td>Hale, Collins and Wilson</td>\n      <td>210033169205009</td>\n      <td>07/25</td>\n      <td>207</td>\n      <td>JCB 16 digit</td>\n      <td>mary85@hotmail.com</td>\n      <td>Energy engineer</td>\n      <td>121.133.168.51</td>\n      <td>pt</td>\n      <td>25.63</td>\n    </tr>\n    <tr>\n      <th>9997</th>\n      <td>Unit 4434 Box 6343\\nDPO AE 28026-0283</td>\n      <td>74 Zh</td>\n      <td>AM</td>\n      <td>Mozilla/5.0 (Macintosh; U; Intel Mac OS X 10_7...</td>\n      <td>Anderson Ltd</td>\n      <td>6011539787356311</td>\n      <td>05/21</td>\n      <td>1</td>\n      <td>VISA 16 digit</td>\n      <td>tyler16@gmail.com</td>\n      <td>Veterinary surgeon</td>\n      <td>156.210.0.254</td>\n      <td>el</td>\n      <td>83.98</td>\n    </tr>\n    <tr>\n      <th>9998</th>\n      <td>0096 English Rest\\nRoystad, IA 12457</td>\n      <td>74 cL</td>\n      <td>PM</td>\n      <td>Mozilla/5.0 (Macintosh; Intel Mac OS X 10_8_8;...</td>\n      <td>Cook Inc</td>\n      <td>180003348082930</td>\n      <td>11/17</td>\n      <td>987</td>\n      <td>American Express</td>\n      <td>elizabethmoore@reid.net</td>\n      <td>Local government officer</td>\n      <td>55.78.26.143</td>\n      <td>es</td>\n      <td>38.84</td>\n    </tr>\n    <tr>\n      <th>9999</th>\n      <td>40674 Barrett Stravenue\\nGrimesville, WI 79682</td>\n      <td>64 Hr</td>\n      <td>AM</td>\n      <td>Mozilla/5.0 (X11; Linux i686; rv:1.9.5.20) Gec...</td>\n      <td>Greene Inc</td>\n      <td>4139972901927273</td>\n      <td>02/19</td>\n      <td>302</td>\n      <td>JCB 15 digit</td>\n      <td>rachelford@vaughn.com</td>\n      <td>Embryologist, clinical</td>\n      <td>176.119.198.199</td>\n      <td>el</td>\n      <td>67.59</td>\n    </tr>\n  </tbody>\n</table>\n</div>"
          },
          "metadata": {}
        }
      ]
    },
    {
      "cell_type": "markdown",
      "source": [
        "#### Q.3 :- Check datatype of each column."
      ],
      "metadata": {
        "id": "FtT5KpSBB0BW"
      }
    },
    {
      "cell_type": "code",
      "source": [
        "data.dtypes"
      ],
      "metadata": {
        "execution": {
          "iopub.status.busy": "2022-07-12T05:03:05.335821Z",
          "iopub.execute_input": "2022-07-12T05:03:05.336203Z",
          "iopub.status.idle": "2022-07-12T05:03:05.344687Z",
          "shell.execute_reply.started": "2022-07-12T05:03:05.336171Z",
          "shell.execute_reply": "2022-07-12T05:03:05.343699Z"
        },
        "trusted": true,
        "id": "HZZYS5r4B0BW",
        "outputId": "a428ac04-239d-4493-9580-fcecb918c00e"
      },
      "execution_count": null,
      "outputs": [
        {
          "execution_count": 7,
          "output_type": "execute_result",
          "data": {
            "text/plain": "Address              object\nLot                  object\nAM or PM             object\nBrowser Info         object\nCompany              object\nCredit Card           int64\nCC Exp Date          object\nCC Security Code      int64\nCC Provider          object\nEmail                object\nJob                  object\nIP Address           object\nLanguage             object\nPurchase Price      float64\ndtype: object"
          },
          "metadata": {}
        }
      ]
    },
    {
      "cell_type": "markdown",
      "source": [
        "#### Q.4 :- Check Null values in the dataset."
      ],
      "metadata": {
        "id": "j-3M_OSBB0BX"
      }
    },
    {
      "cell_type": "code",
      "source": [
        "data.isnull().sum()"
      ],
      "metadata": {
        "execution": {
          "iopub.status.busy": "2022-07-12T06:09:56.153889Z",
          "iopub.execute_input": "2022-07-12T06:09:56.154356Z",
          "iopub.status.idle": "2022-07-12T06:09:56.176692Z",
          "shell.execute_reply.started": "2022-07-12T06:09:56.154318Z",
          "shell.execute_reply": "2022-07-12T06:09:56.175393Z"
        },
        "trusted": true,
        "colab": {
          "base_uri": "https://localhost:8080/"
        },
        "id": "r6SSH6jlB0BY",
        "outputId": "428ebae0-aa1a-4f5f-e530-c2078f4ffed9"
      },
      "execution_count": 3,
      "outputs": [
        {
          "output_type": "execute_result",
          "data": {
            "text/plain": [
              "Address             0\n",
              "Lot                 0\n",
              "AM or PM            0\n",
              "Browser Info        0\n",
              "Company             0\n",
              "Credit Card         0\n",
              "CC Exp Date         0\n",
              "CC Security Code    0\n",
              "CC Provider         0\n",
              "Email               0\n",
              "Job                 0\n",
              "IP Address          0\n",
              "Language            0\n",
              "Purchase Price      0\n",
              "dtype: int64"
            ]
          },
          "metadata": {},
          "execution_count": 3
        }
      ]
    },
    {
      "cell_type": "code",
      "source": [
        "data.isna().sum()"
      ],
      "metadata": {
        "colab": {
          "base_uri": "https://localhost:8080/"
        },
        "id": "FcuUMKvuDLsf",
        "outputId": "254a1f4a-5a91-4c9c-fe36-fd870fe5f96d"
      },
      "execution_count": 4,
      "outputs": [
        {
          "output_type": "execute_result",
          "data": {
            "text/plain": [
              "Address             0\n",
              "Lot                 0\n",
              "AM or PM            0\n",
              "Browser Info        0\n",
              "Company             0\n",
              "Credit Card         0\n",
              "CC Exp Date         0\n",
              "CC Security Code    0\n",
              "CC Provider         0\n",
              "Email               0\n",
              "Job                 0\n",
              "IP Address          0\n",
              "Language            0\n",
              "Purchase Price      0\n",
              "dtype: int64"
            ]
          },
          "metadata": {},
          "execution_count": 4
        }
      ]
    },
    {
      "cell_type": "markdown",
      "source": [
        "* There are no Null values in the given dataset."
      ],
      "metadata": {
        "id": "FkbXA2rXB0BY"
      }
    },
    {
      "cell_type": "markdown",
      "source": [
        "#### Q.5 :- How many rows and columns are there in the given dataset?"
      ],
      "metadata": {
        "id": "eikCQrulB0BZ"
      }
    },
    {
      "cell_type": "code",
      "source": [
        "print('Number of rows in given dataset =', data.shape[0])\n",
        "print('Number of columns in given dataset =', data.shape[1])\n"
      ],
      "metadata": {
        "execution": {
          "iopub.status.busy": "2022-07-12T05:56:18.274400Z",
          "iopub.execute_input": "2022-07-12T05:56:18.274880Z",
          "iopub.status.idle": "2022-07-12T05:56:18.282237Z",
          "shell.execute_reply.started": "2022-07-12T05:56:18.274826Z",
          "shell.execute_reply": "2022-07-12T05:56:18.280926Z"
        },
        "trusted": true,
        "id": "Y96T9f9TB0BZ",
        "outputId": "bfc62826-5052-4bdd-dc02-64a3792593f9"
      },
      "execution_count": null,
      "outputs": [
        {
          "name": "stdout",
          "text": "Number of rows in given dataset = 10000\nNumber of columns in given dataset = 14\n",
          "output_type": "stream"
        }
      ]
    },
    {
      "cell_type": "code",
      "source": [
        "data.info()  #gives basic info like rows,columns,dtype, non-null count"
      ],
      "metadata": {
        "colab": {
          "base_uri": "https://localhost:8080/"
        },
        "id": "ac_ETyprDXXQ",
        "outputId": "e5cce8ef-370c-4896-d17d-6535f39a7dd7"
      },
      "execution_count": 5,
      "outputs": [
        {
          "output_type": "stream",
          "name": "stdout",
          "text": [
            "<class 'pandas.core.frame.DataFrame'>\n",
            "RangeIndex: 10000 entries, 0 to 9999\n",
            "Data columns (total 14 columns):\n",
            " #   Column            Non-Null Count  Dtype  \n",
            "---  ------            --------------  -----  \n",
            " 0   Address           10000 non-null  object \n",
            " 1   Lot               10000 non-null  object \n",
            " 2   AM or PM          10000 non-null  object \n",
            " 3   Browser Info      10000 non-null  object \n",
            " 4   Company           10000 non-null  object \n",
            " 5   Credit Card       10000 non-null  int64  \n",
            " 6   CC Exp Date       10000 non-null  object \n",
            " 7   CC Security Code  10000 non-null  int64  \n",
            " 8   CC Provider       10000 non-null  object \n",
            " 9   Email             10000 non-null  object \n",
            " 10  Job               10000 non-null  object \n",
            " 11  IP Address        10000 non-null  object \n",
            " 12  Language          10000 non-null  object \n",
            " 13  Purchase Price    10000 non-null  float64\n",
            "dtypes: float64(1), int64(2), object(11)\n",
            "memory usage: 1.1+ MB\n"
          ]
        }
      ]
    },
    {
      "cell_type": "markdown",
      "source": [
        "#### Q.6 :- Display the names of all the columns present in the dataset."
      ],
      "metadata": {
        "execution": {
          "iopub.status.busy": "2022-07-12T06:00:28.487830Z",
          "iopub.execute_input": "2022-07-12T06:00:28.488241Z",
          "iopub.status.idle": "2022-07-12T06:00:28.493157Z",
          "shell.execute_reply.started": "2022-07-12T06:00:28.488208Z",
          "shell.execute_reply": "2022-07-12T06:00:28.492086Z"
        },
        "id": "uXKl12RaB0Ba"
      }
    },
    {
      "cell_type": "code",
      "source": [
        "data.columns"
      ],
      "metadata": {
        "execution": {
          "iopub.status.busy": "2022-07-12T06:00:55.273775Z",
          "iopub.execute_input": "2022-07-12T06:00:55.274277Z",
          "iopub.status.idle": "2022-07-12T06:00:55.283356Z",
          "shell.execute_reply.started": "2022-07-12T06:00:55.274233Z",
          "shell.execute_reply": "2022-07-12T06:00:55.282297Z"
        },
        "trusted": true,
        "id": "CZpAEfLrB0Ba",
        "outputId": "b8f880cd-75ab-44be-e23a-613c6d0f47aa"
      },
      "execution_count": null,
      "outputs": [
        {
          "execution_count": 75,
          "output_type": "execute_result",
          "data": {
            "text/plain": "Index(['Address', 'Lot', 'AM or PM', 'Browser Info', 'Company', 'Credit Card',\n       'CC Exp Date', 'CC Security Code', 'CC Provider', 'Email', 'Job',\n       'IP Address', 'Language', 'Purchase Price'],\n      dtype='object')"
          },
          "metadata": {}
        }
      ]
    },
    {
      "cell_type": "markdown",
      "source": [
        "#### Q.7 :- Print a concise summary of the DataFrame."
      ],
      "metadata": {
        "id": "GKeuXOHjB0Bb"
      }
    },
    {
      "cell_type": "code",
      "source": [
        "data.info()"
      ],
      "metadata": {
        "execution": {
          "iopub.status.busy": "2022-07-12T06:02:33.692916Z",
          "iopub.execute_input": "2022-07-12T06:02:33.693477Z",
          "iopub.status.idle": "2022-07-12T06:02:33.729302Z",
          "shell.execute_reply.started": "2022-07-12T06:02:33.693431Z",
          "shell.execute_reply": "2022-07-12T06:02:33.728130Z"
        },
        "trusted": true,
        "id": "ut8jThiWB0Bb",
        "outputId": "d299cfb8-9c2f-43f9-9adb-34e839c2144c"
      },
      "execution_count": null,
      "outputs": [
        {
          "name": "stdout",
          "text": "<class 'pandas.core.frame.DataFrame'>\nRangeIndex: 10000 entries, 0 to 9999\nData columns (total 14 columns):\n #   Column            Non-Null Count  Dtype  \n---  ------            --------------  -----  \n 0   Address           10000 non-null  object \n 1   Lot               10000 non-null  object \n 2   AM or PM          10000 non-null  object \n 3   Browser Info      10000 non-null  object \n 4   Company           10000 non-null  object \n 5   Credit Card       10000 non-null  int64  \n 6   CC Exp Date       10000 non-null  object \n 7   CC Security Code  10000 non-null  int64  \n 8   CC Provider       10000 non-null  object \n 9   Email             10000 non-null  object \n 10  Job               10000 non-null  object \n 11  IP Address        10000 non-null  object \n 12  Language          10000 non-null  object \n 13  Purchase Price    10000 non-null  float64\ndtypes: float64(1), int64(2), object(11)\nmemory usage: 1.1+ MB\n",
          "output_type": "stream"
        }
      ]
    },
    {
      "cell_type": "markdown",
      "source": [
        "#### Q.8 :- Find highest and lowest purchase prices."
      ],
      "metadata": {
        "id": "p0Hp6LNnB0Bb"
      }
    },
    {
      "cell_type": "code",
      "source": [
        "data.columns"
      ],
      "metadata": {
        "execution": {
          "iopub.status.busy": "2022-07-12T06:03:04.313756Z",
          "iopub.execute_input": "2022-07-12T06:03:04.314153Z",
          "iopub.status.idle": "2022-07-12T06:03:04.320677Z",
          "shell.execute_reply.started": "2022-07-12T06:03:04.314120Z",
          "shell.execute_reply": "2022-07-12T06:03:04.319800Z"
        },
        "trusted": true,
        "id": "VHIHnk7hB0Bc",
        "outputId": "e3b1c754-34fb-4ca5-e8d6-213fecdf50c3"
      },
      "execution_count": null,
      "outputs": [
        {
          "execution_count": 77,
          "output_type": "execute_result",
          "data": {
            "text/plain": "Index(['Address', 'Lot', 'AM or PM', 'Browser Info', 'Company', 'Credit Card',\n       'CC Exp Date', 'CC Security Code', 'CC Provider', 'Email', 'Job',\n       'IP Address', 'Language', 'Purchase Price'],\n      dtype='object')"
          },
          "metadata": {}
        }
      ]
    },
    {
      "cell_type": "code",
      "source": [
        "# Highest purchase price :-\n",
        "print('Highest purchase price =', data['Purchase Price'].max())\n"
      ],
      "metadata": {
        "execution": {
          "iopub.status.busy": "2022-07-12T06:11:19.022641Z",
          "iopub.execute_input": "2022-07-12T06:11:19.023004Z",
          "iopub.status.idle": "2022-07-12T06:11:19.029593Z",
          "shell.execute_reply.started": "2022-07-12T06:11:19.022976Z",
          "shell.execute_reply": "2022-07-12T06:11:19.028425Z"
        },
        "trusted": true,
        "id": "HzO51lITB0Bc",
        "outputId": "16ef844e-9c28-4a5a-daf5-21841a40cf18"
      },
      "execution_count": null,
      "outputs": [
        {
          "name": "stdout",
          "text": "Highest purchase price = 99.99\n",
          "output_type": "stream"
        }
      ]
    },
    {
      "cell_type": "code",
      "source": [
        "# Lowest purchase price :-\n",
        "print('Lowest purchase price =', data['Purchase Price'].min())"
      ],
      "metadata": {
        "execution": {
          "iopub.status.busy": "2022-07-12T06:11:49.476774Z",
          "iopub.execute_input": "2022-07-12T06:11:49.477182Z",
          "iopub.status.idle": "2022-07-12T06:11:49.483334Z",
          "shell.execute_reply.started": "2022-07-12T06:11:49.477149Z",
          "shell.execute_reply": "2022-07-12T06:11:49.482273Z"
        },
        "trusted": true,
        "id": "3gGP1-esB0Bd",
        "outputId": "6137667d-b2ae-4372-dac9-f5571c1a65be"
      },
      "execution_count": null,
      "outputs": [
        {
          "name": "stdout",
          "text": "Lowest purchase price = 0.0\n",
          "output_type": "stream"
        }
      ]
    },
    {
      "cell_type": "markdown",
      "source": [
        "#### Q.9 :- Find the average Purchase Price."
      ],
      "metadata": {
        "id": "-RYj5QhWB0Bd"
      }
    },
    {
      "cell_type": "code",
      "source": [
        "print('Average purchase price =', data['Purchase Price'].mean())"
      ],
      "metadata": {
        "execution": {
          "iopub.status.busy": "2022-07-12T06:12:25.957141Z",
          "iopub.execute_input": "2022-07-12T06:12:25.957854Z",
          "iopub.status.idle": "2022-07-12T06:12:25.963349Z",
          "shell.execute_reply.started": "2022-07-12T06:12:25.957819Z",
          "shell.execute_reply": "2022-07-12T06:12:25.962485Z"
        },
        "trusted": true,
        "id": "cNO6wAfqB0Be",
        "outputId": "fa80ef28-46c6-44fa-8c02-72c1a2ea465e"
      },
      "execution_count": null,
      "outputs": [
        {
          "name": "stdout",
          "text": "Average purchase price = 50.347302\n",
          "output_type": "stream"
        }
      ]
    },
    {
      "cell_type": "markdown",
      "source": [
        "#### Q.10 :- How many people have French 'fr' as their Language?"
      ],
      "metadata": {
        "id": "vRcTywhdB0Be"
      }
    },
    {
      "cell_type": "code",
      "source": [
        "data[data.Language == 'fr']"
      ],
      "metadata": {
        "execution": {
          "iopub.status.busy": "2022-07-12T06:06:58.927833Z",
          "iopub.execute_input": "2022-07-12T06:06:58.928260Z",
          "iopub.status.idle": "2022-07-12T06:06:58.958299Z",
          "shell.execute_reply.started": "2022-07-12T06:06:58.928229Z",
          "shell.execute_reply": "2022-07-12T06:06:58.957016Z"
        },
        "trusted": true,
        "id": "AGDBa0rfB0Be",
        "outputId": "28d34ad7-cdbb-4bd0-d836-d3e9c22022f0"
      },
      "execution_count": null,
      "outputs": [
        {
          "execution_count": 78,
          "output_type": "execute_result",
          "data": {
            "text/plain": "                                                Address    Lot AM or PM  \\\n1     9374 Jasmine Spurs Suite 508\\nSouth John, TN 8...  28 rn       PM   \n19                  125 Hall Summit\\nBoothton, IL 41721  99 CU       PM   \n53                PSC 9431, Box 7059\\nAPO AA 29285-1363  14 qD       AM   \n76    49206 Campbell Port\\nNorth Cliffordshire, HI 3...  71 iu       PM   \n82    493 Smith Valleys Suite 004\\nNew Madelineville...  35 ls       PM   \n...                                                 ...    ...      ...   \n9941           43757 Brown Lodge\\nValerieberg, PR 88518  68 DG       AM   \n9947      32827 Carl Inlet\\nSouth Nicole, NY 38081-6636  40 Dp       PM   \n9951                518 Brown Dam\\nGarciaside, IN 33057  71 wq       AM   \n9977  02182 Keith Expressway\\nEast Shannon, CT 20578...  34 RL       AM   \n9980           6061 Dave Lights\\nPhillipsview, UT 40500  25 Mv       AM   \n\n                                           Browser Info  \\\n1     Opera/8.93.(Windows 98; Win 9x 4.90; en-US) Pr...   \n19    Mozilla/5.0 (compatible; MSIE 7.0; Windows NT ...   \n53    Opera/9.34.(X11; Linux x86_64; it-IT) Presto/2...   \n76    Mozilla/5.0 (Macintosh; U; PPC Mac OS X 10_5_9...   \n82    Mozilla/5.0 (iPod; U; CPU iPhone OS 4_0 like M...   \n...                                                 ...   \n9941  Mozilla/5.0 (compatible; MSIE 5.0; Windows NT ...   \n9947  Mozilla/5.0 (Windows; U; Windows 95) AppleWebK...   \n9951  Mozilla/5.0 (compatible; MSIE 8.0; Windows NT ...   \n9977  Mozilla/5.0 (compatible; MSIE 9.0; Windows NT ...   \n9980  Opera/8.58.(Windows NT 5.0; it-IT) Presto/2.9....   \n\n                              Company       Credit Card CC Exp Date  \\\n1     Fletcher, Richards and Whitaker  3337758169645356       11/18   \n19                    Turner-Mckinney      676343504830       02/20   \n53      Higgins, Cardenas and Kennedy   869972604798355       08/17   \n76                      Jacobs-Tucker  6011343518820988       01/17   \n82      Robinson, Johnston and Valdez  4351359627548412       06/17   \n...                               ...               ...         ...   \n9941         Jones, Williams and Dunn  6011508474487291       04/26   \n9947                    Pruitt-Flores  3158564208754951       03/17   \n9951      Crosby, Vasquez and Ballard  5256758441931287       12/17   \n9977      Deleon, Jacobson and Benton  4186094003664688       06/21   \n9980                      Cortez-Frye  6011944199756993       12/24   \n\n      CC Security Code    CC Provider                     Email  \\\n1                  561     Mastercard        anthony41@reed.com   \n19                 440  VISA 16 digit      ruiznicole@gmail.com   \n53                 157   JCB 16 digit        amorales@yahoo.com   \n76                 806        Voyager        eperez@hotmail.com   \n82                 937  VISA 13 digit         amendez@yahoo.com   \n...                ...            ...                       ...   \n9941               906     Mastercard     christian55@gmail.com   \n9947               386     Mastercard     josephsmith@gmail.com   \n9951               146  VISA 16 digit       cjennings@yahoo.com   \n9977               397   JCB 16 digit    daltoncarter@yahoo.com   \n9980               755   JCB 15 digit  mark74@kirby-stewart.org   \n\n                                               Job       IP Address Language  \\\n1                                Drilling engineer     15.160.41.51       fr   \n19                      Designer, interior/spatial   25.105.209.214       fr   \n53                                Technical author   44.108.117.122       fr   \n76                                       Paramedic   210.207.58.168       fr   \n82                             Engineer, materials  163.129.163.100       fr   \n...                                            ...              ...      ...   \n9941                      Secondary school teacher  216.118.235.145       fr   \n9947                              Textile designer     198.68.38.23       fr   \n9951  Lighting technician, broadcasting/film/video       58.12.83.1       fr   \n9977                           Biomedical engineer    146.238.118.2       fr   \n9980                              Textile designer   110.103.77.195       fr   \n\n      Purchase Price  \n1              70.73  \n19             58.39  \n53             10.41  \n76             57.34  \n82             49.04  \n...              ...  \n9941           60.03  \n9947           49.61  \n9951           57.59  \n9977           94.93  \n9980           16.05  \n\n[1097 rows x 14 columns]",
            "text/html": "<div>\n<style scoped>\n    .dataframe tbody tr th:only-of-type {\n        vertical-align: middle;\n    }\n\n    .dataframe tbody tr th {\n        vertical-align: top;\n    }\n\n    .dataframe thead th {\n        text-align: right;\n    }\n</style>\n<table border=\"1\" class=\"dataframe\">\n  <thead>\n    <tr style=\"text-align: right;\">\n      <th></th>\n      <th>Address</th>\n      <th>Lot</th>\n      <th>AM or PM</th>\n      <th>Browser Info</th>\n      <th>Company</th>\n      <th>Credit Card</th>\n      <th>CC Exp Date</th>\n      <th>CC Security Code</th>\n      <th>CC Provider</th>\n      <th>Email</th>\n      <th>Job</th>\n      <th>IP Address</th>\n      <th>Language</th>\n      <th>Purchase Price</th>\n    </tr>\n  </thead>\n  <tbody>\n    <tr>\n      <th>1</th>\n      <td>9374 Jasmine Spurs Suite 508\\nSouth John, TN 8...</td>\n      <td>28 rn</td>\n      <td>PM</td>\n      <td>Opera/8.93.(Windows 98; Win 9x 4.90; en-US) Pr...</td>\n      <td>Fletcher, Richards and Whitaker</td>\n      <td>3337758169645356</td>\n      <td>11/18</td>\n      <td>561</td>\n      <td>Mastercard</td>\n      <td>anthony41@reed.com</td>\n      <td>Drilling engineer</td>\n      <td>15.160.41.51</td>\n      <td>fr</td>\n      <td>70.73</td>\n    </tr>\n    <tr>\n      <th>19</th>\n      <td>125 Hall Summit\\nBoothton, IL 41721</td>\n      <td>99 CU</td>\n      <td>PM</td>\n      <td>Mozilla/5.0 (compatible; MSIE 7.0; Windows NT ...</td>\n      <td>Turner-Mckinney</td>\n      <td>676343504830</td>\n      <td>02/20</td>\n      <td>440</td>\n      <td>VISA 16 digit</td>\n      <td>ruiznicole@gmail.com</td>\n      <td>Designer, interior/spatial</td>\n      <td>25.105.209.214</td>\n      <td>fr</td>\n      <td>58.39</td>\n    </tr>\n    <tr>\n      <th>53</th>\n      <td>PSC 9431, Box 7059\\nAPO AA 29285-1363</td>\n      <td>14 qD</td>\n      <td>AM</td>\n      <td>Opera/9.34.(X11; Linux x86_64; it-IT) Presto/2...</td>\n      <td>Higgins, Cardenas and Kennedy</td>\n      <td>869972604798355</td>\n      <td>08/17</td>\n      <td>157</td>\n      <td>JCB 16 digit</td>\n      <td>amorales@yahoo.com</td>\n      <td>Technical author</td>\n      <td>44.108.117.122</td>\n      <td>fr</td>\n      <td>10.41</td>\n    </tr>\n    <tr>\n      <th>76</th>\n      <td>49206 Campbell Port\\nNorth Cliffordshire, HI 3...</td>\n      <td>71 iu</td>\n      <td>PM</td>\n      <td>Mozilla/5.0 (Macintosh; U; PPC Mac OS X 10_5_9...</td>\n      <td>Jacobs-Tucker</td>\n      <td>6011343518820988</td>\n      <td>01/17</td>\n      <td>806</td>\n      <td>Voyager</td>\n      <td>eperez@hotmail.com</td>\n      <td>Paramedic</td>\n      <td>210.207.58.168</td>\n      <td>fr</td>\n      <td>57.34</td>\n    </tr>\n    <tr>\n      <th>82</th>\n      <td>493 Smith Valleys Suite 004\\nNew Madelineville...</td>\n      <td>35 ls</td>\n      <td>PM</td>\n      <td>Mozilla/5.0 (iPod; U; CPU iPhone OS 4_0 like M...</td>\n      <td>Robinson, Johnston and Valdez</td>\n      <td>4351359627548412</td>\n      <td>06/17</td>\n      <td>937</td>\n      <td>VISA 13 digit</td>\n      <td>amendez@yahoo.com</td>\n      <td>Engineer, materials</td>\n      <td>163.129.163.100</td>\n      <td>fr</td>\n      <td>49.04</td>\n    </tr>\n    <tr>\n      <th>...</th>\n      <td>...</td>\n      <td>...</td>\n      <td>...</td>\n      <td>...</td>\n      <td>...</td>\n      <td>...</td>\n      <td>...</td>\n      <td>...</td>\n      <td>...</td>\n      <td>...</td>\n      <td>...</td>\n      <td>...</td>\n      <td>...</td>\n      <td>...</td>\n    </tr>\n    <tr>\n      <th>9941</th>\n      <td>43757 Brown Lodge\\nValerieberg, PR 88518</td>\n      <td>68 DG</td>\n      <td>AM</td>\n      <td>Mozilla/5.0 (compatible; MSIE 5.0; Windows NT ...</td>\n      <td>Jones, Williams and Dunn</td>\n      <td>6011508474487291</td>\n      <td>04/26</td>\n      <td>906</td>\n      <td>Mastercard</td>\n      <td>christian55@gmail.com</td>\n      <td>Secondary school teacher</td>\n      <td>216.118.235.145</td>\n      <td>fr</td>\n      <td>60.03</td>\n    </tr>\n    <tr>\n      <th>9947</th>\n      <td>32827 Carl Inlet\\nSouth Nicole, NY 38081-6636</td>\n      <td>40 Dp</td>\n      <td>PM</td>\n      <td>Mozilla/5.0 (Windows; U; Windows 95) AppleWebK...</td>\n      <td>Pruitt-Flores</td>\n      <td>3158564208754951</td>\n      <td>03/17</td>\n      <td>386</td>\n      <td>Mastercard</td>\n      <td>josephsmith@gmail.com</td>\n      <td>Textile designer</td>\n      <td>198.68.38.23</td>\n      <td>fr</td>\n      <td>49.61</td>\n    </tr>\n    <tr>\n      <th>9951</th>\n      <td>518 Brown Dam\\nGarciaside, IN 33057</td>\n      <td>71 wq</td>\n      <td>AM</td>\n      <td>Mozilla/5.0 (compatible; MSIE 8.0; Windows NT ...</td>\n      <td>Crosby, Vasquez and Ballard</td>\n      <td>5256758441931287</td>\n      <td>12/17</td>\n      <td>146</td>\n      <td>VISA 16 digit</td>\n      <td>cjennings@yahoo.com</td>\n      <td>Lighting technician, broadcasting/film/video</td>\n      <td>58.12.83.1</td>\n      <td>fr</td>\n      <td>57.59</td>\n    </tr>\n    <tr>\n      <th>9977</th>\n      <td>02182 Keith Expressway\\nEast Shannon, CT 20578...</td>\n      <td>34 RL</td>\n      <td>AM</td>\n      <td>Mozilla/5.0 (compatible; MSIE 9.0; Windows NT ...</td>\n      <td>Deleon, Jacobson and Benton</td>\n      <td>4186094003664688</td>\n      <td>06/21</td>\n      <td>397</td>\n      <td>JCB 16 digit</td>\n      <td>daltoncarter@yahoo.com</td>\n      <td>Biomedical engineer</td>\n      <td>146.238.118.2</td>\n      <td>fr</td>\n      <td>94.93</td>\n    </tr>\n    <tr>\n      <th>9980</th>\n      <td>6061 Dave Lights\\nPhillipsview, UT 40500</td>\n      <td>25 Mv</td>\n      <td>AM</td>\n      <td>Opera/8.58.(Windows NT 5.0; it-IT) Presto/2.9....</td>\n      <td>Cortez-Frye</td>\n      <td>6011944199756993</td>\n      <td>12/24</td>\n      <td>755</td>\n      <td>JCB 15 digit</td>\n      <td>mark74@kirby-stewart.org</td>\n      <td>Textile designer</td>\n      <td>110.103.77.195</td>\n      <td>fr</td>\n      <td>16.05</td>\n    </tr>\n  </tbody>\n</table>\n<p>1097 rows × 14 columns</p>\n</div>"
          },
          "metadata": {}
        }
      ]
    },
    {
      "cell_type": "code",
      "source": [
        "print(len(data[data.Language == 'fr']), 'people has French as their language.')"
      ],
      "metadata": {
        "execution": {
          "iopub.status.busy": "2022-07-12T06:08:42.124198Z",
          "iopub.execute_input": "2022-07-12T06:08:42.124612Z",
          "iopub.status.idle": "2022-07-12T06:08:42.133654Z",
          "shell.execute_reply.started": "2022-07-12T06:08:42.124580Z",
          "shell.execute_reply": "2022-07-12T06:08:42.132728Z"
        },
        "trusted": true,
        "id": "_uQtAZqmB0Bf",
        "outputId": "de38bc35-feeb-4dcd-9953-43abaf2a103c"
      },
      "execution_count": null,
      "outputs": [
        {
          "name": "stdout",
          "text": "1097 people has French as their language.\n",
          "output_type": "stream"
        }
      ]
    },
    {
      "cell_type": "markdown",
      "source": [
        "#### Q.11 :- Find the job title that contains engineer."
      ],
      "metadata": {
        "id": "GHVrUsDaB0Bf"
      }
    },
    {
      "cell_type": "code",
      "source": [
        "data[data['Job'].str.contains('Engineer', case = False)]"
      ],
      "metadata": {
        "execution": {
          "iopub.status.busy": "2022-07-12T06:12:40.824285Z",
          "iopub.execute_input": "2022-07-12T06:12:40.824665Z",
          "iopub.status.idle": "2022-07-12T06:12:40.862499Z",
          "shell.execute_reply.started": "2022-07-12T06:12:40.824636Z",
          "shell.execute_reply": "2022-07-12T06:12:40.861452Z"
        },
        "trusted": true,
        "colab": {
          "base_uri": "https://localhost:8080/",
          "height": 1000
        },
        "id": "PirEQXmMB0Bf",
        "outputId": "457d92b0-8640-4825-837b-96a1be33bd18"
      },
      "execution_count": 6,
      "outputs": [
        {
          "output_type": "execute_result",
          "data": {
            "text/plain": [
              "                                                Address    Lot AM or PM  \\\n",
              "1     9374 Jasmine Spurs Suite 508\\nSouth John, TN 8...  28 rn       PM   \n",
              "3                 7780 Julia Fords\\nNew Stacy, WA 45798  36 vm       PM   \n",
              "50      41159 Michael Centers\\nAdamsfort, RI 37108-6674  46 Ce       PM   \n",
              "55    27635 Maureen Bypass Apt. 883\\nSandraview, SD ...  59 LJ       AM   \n",
              "60    7126 Katherine Squares\\nPerkinsview, CO 97299-...  63 qu       AM   \n",
              "...                                                 ...    ...      ...   \n",
              "9948  95544 Johnson Isle Suite 939\\nMichaelberg, RI ...  91 bW       AM   \n",
              "9952            9991 Vaughn Hills\\nRacheltown, PA 55409  36 KC       PM   \n",
              "9970              0060 Keith Stream\\nWestport, CO 47097  11 nt       PM   \n",
              "9977  02182 Keith Expressway\\nEast Shannon, CT 20578...  34 RL       AM   \n",
              "9996  832 Curtis Dam Suite 785\\nNorth Edwardburgh, T...  41 JY       AM   \n",
              "\n",
              "                                           Browser Info  \\\n",
              "1     Opera/8.93.(Windows 98; Win 9x 4.90; en-US) Pr...   \n",
              "3     Mozilla/5.0 (Macintosh; Intel Mac OS X 10_8_0 ...   \n",
              "50    Mozilla/5.0 (Windows 98; Win 9x 4.90; sl-SI; r...   \n",
              "55    Mozilla/5.0 (iPod; U; CPU iPhone OS 3_3 like M...   \n",
              "60    Opera/8.68.(X11; Linux x86_64; en-US) Presto/2...   \n",
              "...                                                 ...   \n",
              "9948  Opera/8.36.(X11; Linux x86_64; sl-SI) Presto/2...   \n",
              "9952  Mozilla/5.0 (X11; Linux i686; rv:1.9.5.20) Gec...   \n",
              "9970  Mozilla/5.0 (Macintosh; U; Intel Mac OS X 10_8...   \n",
              "9977  Mozilla/5.0 (compatible; MSIE 9.0; Windows NT ...   \n",
              "9996  Mozilla/5.0 (compatible; MSIE 9.0; Windows NT ...   \n",
              "\n",
              "                              Company       Credit Card CC Exp Date  \\\n",
              "1     Fletcher, Richards and Whitaker  3337758169645356       11/18   \n",
              "3     Williams, Marshall and Buchanan  6011578504430710       02/24   \n",
              "50        Wright, Williams and Mendez  4008586485908075       05/19   \n",
              "55                         Sims-Lyons  3158113629128344       09/19   \n",
              "60                 Marshall-Fernandez   349767747049645       05/20   \n",
              "...                               ...               ...         ...   \n",
              "9948                     Fox-Peterson     4762924304307       03/17   \n",
              "9952         Ward, Smith and Castillo  6011679271321726       09/19   \n",
              "9970         Carpenter, Good and Hart  6011485664704662       07/19   \n",
              "9977      Deleon, Jacobson and Benton  4186094003664688       06/21   \n",
              "9996         Hale, Collins and Wilson   210033169205009       07/25   \n",
              "\n",
              "      CC Security Code    CC Provider                        Email  \\\n",
              "1                  561     Mastercard           anthony41@reed.com   \n",
              "3                  384       Discover  brent16@olson-robinson.info   \n",
              "50                 945   JCB 16 digit    susanvalentine@obrien.org   \n",
              "55                 857  VISA 16 digit       adkinsarthur@yahoo.com   \n",
              "60                 672   JCB 15 digit      sweeneyhannah@jones.biz   \n",
              "...                ...            ...                          ...   \n",
              "9948               567     Mastercard      haleybenjamin@gmail.com   \n",
              "9952               964        Voyager      jonesjennifer@olson.com   \n",
              "9970               543       Discover      rangelbrian@hotmail.com   \n",
              "9977               397   JCB 16 digit       daltoncarter@yahoo.com   \n",
              "9996               207   JCB 16 digit           mary85@hotmail.com   \n",
              "\n",
              "                                      Job       IP Address Language  \\\n",
              "1                       Drilling engineer     15.160.41.51       fr   \n",
              "3                       Drilling engineer     30.250.74.19       es   \n",
              "50                    Mechanical engineer  213.203.143.215       de   \n",
              "55    Engineer, broadcasting (operations)   227.235.89.210       pt   \n",
              "60                 Engineer, agricultural  197.144.142.102       de   \n",
              "...                                   ...              ...      ...   \n",
              "9948                  Structural engineer    120.36.140.58       en   \n",
              "9952                     Engineer, energy    116.228.12.42       es   \n",
              "9970                  Electrical engineer     242.8.85.205       en   \n",
              "9977                  Biomedical engineer    146.238.118.2       fr   \n",
              "9996                      Energy engineer   121.133.168.51       pt   \n",
              "\n",
              "      Purchase Price  \n",
              "1              70.73  \n",
              "3              78.04  \n",
              "50             36.85  \n",
              "55             48.74  \n",
              "60             20.43  \n",
              "...              ...  \n",
              "9948           71.89  \n",
              "9952           39.63  \n",
              "9970           17.76  \n",
              "9977           94.93  \n",
              "9996           25.63  \n",
              "\n",
              "[984 rows x 14 columns]"
            ],
            "text/html": [
              "\n",
              "  <div id=\"df-253541a1-9049-4afa-bb05-22755690001c\">\n",
              "    <div class=\"colab-df-container\">\n",
              "      <div>\n",
              "<style scoped>\n",
              "    .dataframe tbody tr th:only-of-type {\n",
              "        vertical-align: middle;\n",
              "    }\n",
              "\n",
              "    .dataframe tbody tr th {\n",
              "        vertical-align: top;\n",
              "    }\n",
              "\n",
              "    .dataframe thead th {\n",
              "        text-align: right;\n",
              "    }\n",
              "</style>\n",
              "<table border=\"1\" class=\"dataframe\">\n",
              "  <thead>\n",
              "    <tr style=\"text-align: right;\">\n",
              "      <th></th>\n",
              "      <th>Address</th>\n",
              "      <th>Lot</th>\n",
              "      <th>AM or PM</th>\n",
              "      <th>Browser Info</th>\n",
              "      <th>Company</th>\n",
              "      <th>Credit Card</th>\n",
              "      <th>CC Exp Date</th>\n",
              "      <th>CC Security Code</th>\n",
              "      <th>CC Provider</th>\n",
              "      <th>Email</th>\n",
              "      <th>Job</th>\n",
              "      <th>IP Address</th>\n",
              "      <th>Language</th>\n",
              "      <th>Purchase Price</th>\n",
              "    </tr>\n",
              "  </thead>\n",
              "  <tbody>\n",
              "    <tr>\n",
              "      <th>1</th>\n",
              "      <td>9374 Jasmine Spurs Suite 508\\nSouth John, TN 8...</td>\n",
              "      <td>28 rn</td>\n",
              "      <td>PM</td>\n",
              "      <td>Opera/8.93.(Windows 98; Win 9x 4.90; en-US) Pr...</td>\n",
              "      <td>Fletcher, Richards and Whitaker</td>\n",
              "      <td>3337758169645356</td>\n",
              "      <td>11/18</td>\n",
              "      <td>561</td>\n",
              "      <td>Mastercard</td>\n",
              "      <td>anthony41@reed.com</td>\n",
              "      <td>Drilling engineer</td>\n",
              "      <td>15.160.41.51</td>\n",
              "      <td>fr</td>\n",
              "      <td>70.73</td>\n",
              "    </tr>\n",
              "    <tr>\n",
              "      <th>3</th>\n",
              "      <td>7780 Julia Fords\\nNew Stacy, WA 45798</td>\n",
              "      <td>36 vm</td>\n",
              "      <td>PM</td>\n",
              "      <td>Mozilla/5.0 (Macintosh; Intel Mac OS X 10_8_0 ...</td>\n",
              "      <td>Williams, Marshall and Buchanan</td>\n",
              "      <td>6011578504430710</td>\n",
              "      <td>02/24</td>\n",
              "      <td>384</td>\n",
              "      <td>Discover</td>\n",
              "      <td>brent16@olson-robinson.info</td>\n",
              "      <td>Drilling engineer</td>\n",
              "      <td>30.250.74.19</td>\n",
              "      <td>es</td>\n",
              "      <td>78.04</td>\n",
              "    </tr>\n",
              "    <tr>\n",
              "      <th>50</th>\n",
              "      <td>41159 Michael Centers\\nAdamsfort, RI 37108-6674</td>\n",
              "      <td>46 Ce</td>\n",
              "      <td>PM</td>\n",
              "      <td>Mozilla/5.0 (Windows 98; Win 9x 4.90; sl-SI; r...</td>\n",
              "      <td>Wright, Williams and Mendez</td>\n",
              "      <td>4008586485908075</td>\n",
              "      <td>05/19</td>\n",
              "      <td>945</td>\n",
              "      <td>JCB 16 digit</td>\n",
              "      <td>susanvalentine@obrien.org</td>\n",
              "      <td>Mechanical engineer</td>\n",
              "      <td>213.203.143.215</td>\n",
              "      <td>de</td>\n",
              "      <td>36.85</td>\n",
              "    </tr>\n",
              "    <tr>\n",
              "      <th>55</th>\n",
              "      <td>27635 Maureen Bypass Apt. 883\\nSandraview, SD ...</td>\n",
              "      <td>59 LJ</td>\n",
              "      <td>AM</td>\n",
              "      <td>Mozilla/5.0 (iPod; U; CPU iPhone OS 3_3 like M...</td>\n",
              "      <td>Sims-Lyons</td>\n",
              "      <td>3158113629128344</td>\n",
              "      <td>09/19</td>\n",
              "      <td>857</td>\n",
              "      <td>VISA 16 digit</td>\n",
              "      <td>adkinsarthur@yahoo.com</td>\n",
              "      <td>Engineer, broadcasting (operations)</td>\n",
              "      <td>227.235.89.210</td>\n",
              "      <td>pt</td>\n",
              "      <td>48.74</td>\n",
              "    </tr>\n",
              "    <tr>\n",
              "      <th>60</th>\n",
              "      <td>7126 Katherine Squares\\nPerkinsview, CO 97299-...</td>\n",
              "      <td>63 qu</td>\n",
              "      <td>AM</td>\n",
              "      <td>Opera/8.68.(X11; Linux x86_64; en-US) Presto/2...</td>\n",
              "      <td>Marshall-Fernandez</td>\n",
              "      <td>349767747049645</td>\n",
              "      <td>05/20</td>\n",
              "      <td>672</td>\n",
              "      <td>JCB 15 digit</td>\n",
              "      <td>sweeneyhannah@jones.biz</td>\n",
              "      <td>Engineer, agricultural</td>\n",
              "      <td>197.144.142.102</td>\n",
              "      <td>de</td>\n",
              "      <td>20.43</td>\n",
              "    </tr>\n",
              "    <tr>\n",
              "      <th>...</th>\n",
              "      <td>...</td>\n",
              "      <td>...</td>\n",
              "      <td>...</td>\n",
              "      <td>...</td>\n",
              "      <td>...</td>\n",
              "      <td>...</td>\n",
              "      <td>...</td>\n",
              "      <td>...</td>\n",
              "      <td>...</td>\n",
              "      <td>...</td>\n",
              "      <td>...</td>\n",
              "      <td>...</td>\n",
              "      <td>...</td>\n",
              "      <td>...</td>\n",
              "    </tr>\n",
              "    <tr>\n",
              "      <th>9948</th>\n",
              "      <td>95544 Johnson Isle Suite 939\\nMichaelberg, RI ...</td>\n",
              "      <td>91 bW</td>\n",
              "      <td>AM</td>\n",
              "      <td>Opera/8.36.(X11; Linux x86_64; sl-SI) Presto/2...</td>\n",
              "      <td>Fox-Peterson</td>\n",
              "      <td>4762924304307</td>\n",
              "      <td>03/17</td>\n",
              "      <td>567</td>\n",
              "      <td>Mastercard</td>\n",
              "      <td>haleybenjamin@gmail.com</td>\n",
              "      <td>Structural engineer</td>\n",
              "      <td>120.36.140.58</td>\n",
              "      <td>en</td>\n",
              "      <td>71.89</td>\n",
              "    </tr>\n",
              "    <tr>\n",
              "      <th>9952</th>\n",
              "      <td>9991 Vaughn Hills\\nRacheltown, PA 55409</td>\n",
              "      <td>36 KC</td>\n",
              "      <td>PM</td>\n",
              "      <td>Mozilla/5.0 (X11; Linux i686; rv:1.9.5.20) Gec...</td>\n",
              "      <td>Ward, Smith and Castillo</td>\n",
              "      <td>6011679271321726</td>\n",
              "      <td>09/19</td>\n",
              "      <td>964</td>\n",
              "      <td>Voyager</td>\n",
              "      <td>jonesjennifer@olson.com</td>\n",
              "      <td>Engineer, energy</td>\n",
              "      <td>116.228.12.42</td>\n",
              "      <td>es</td>\n",
              "      <td>39.63</td>\n",
              "    </tr>\n",
              "    <tr>\n",
              "      <th>9970</th>\n",
              "      <td>0060 Keith Stream\\nWestport, CO 47097</td>\n",
              "      <td>11 nt</td>\n",
              "      <td>PM</td>\n",
              "      <td>Mozilla/5.0 (Macintosh; U; Intel Mac OS X 10_8...</td>\n",
              "      <td>Carpenter, Good and Hart</td>\n",
              "      <td>6011485664704662</td>\n",
              "      <td>07/19</td>\n",
              "      <td>543</td>\n",
              "      <td>Discover</td>\n",
              "      <td>rangelbrian@hotmail.com</td>\n",
              "      <td>Electrical engineer</td>\n",
              "      <td>242.8.85.205</td>\n",
              "      <td>en</td>\n",
              "      <td>17.76</td>\n",
              "    </tr>\n",
              "    <tr>\n",
              "      <th>9977</th>\n",
              "      <td>02182 Keith Expressway\\nEast Shannon, CT 20578...</td>\n",
              "      <td>34 RL</td>\n",
              "      <td>AM</td>\n",
              "      <td>Mozilla/5.0 (compatible; MSIE 9.0; Windows NT ...</td>\n",
              "      <td>Deleon, Jacobson and Benton</td>\n",
              "      <td>4186094003664688</td>\n",
              "      <td>06/21</td>\n",
              "      <td>397</td>\n",
              "      <td>JCB 16 digit</td>\n",
              "      <td>daltoncarter@yahoo.com</td>\n",
              "      <td>Biomedical engineer</td>\n",
              "      <td>146.238.118.2</td>\n",
              "      <td>fr</td>\n",
              "      <td>94.93</td>\n",
              "    </tr>\n",
              "    <tr>\n",
              "      <th>9996</th>\n",
              "      <td>832 Curtis Dam Suite 785\\nNorth Edwardburgh, T...</td>\n",
              "      <td>41 JY</td>\n",
              "      <td>AM</td>\n",
              "      <td>Mozilla/5.0 (compatible; MSIE 9.0; Windows NT ...</td>\n",
              "      <td>Hale, Collins and Wilson</td>\n",
              "      <td>210033169205009</td>\n",
              "      <td>07/25</td>\n",
              "      <td>207</td>\n",
              "      <td>JCB 16 digit</td>\n",
              "      <td>mary85@hotmail.com</td>\n",
              "      <td>Energy engineer</td>\n",
              "      <td>121.133.168.51</td>\n",
              "      <td>pt</td>\n",
              "      <td>25.63</td>\n",
              "    </tr>\n",
              "  </tbody>\n",
              "</table>\n",
              "<p>984 rows × 14 columns</p>\n",
              "</div>\n",
              "      <button class=\"colab-df-convert\" onclick=\"convertToInteractive('df-253541a1-9049-4afa-bb05-22755690001c')\"\n",
              "              title=\"Convert this dataframe to an interactive table.\"\n",
              "              style=\"display:none;\">\n",
              "        \n",
              "  <svg xmlns=\"http://www.w3.org/2000/svg\" height=\"24px\"viewBox=\"0 0 24 24\"\n",
              "       width=\"24px\">\n",
              "    <path d=\"M0 0h24v24H0V0z\" fill=\"none\"/>\n",
              "    <path d=\"M18.56 5.44l.94 2.06.94-2.06 2.06-.94-2.06-.94-.94-2.06-.94 2.06-2.06.94zm-11 1L8.5 8.5l.94-2.06 2.06-.94-2.06-.94L8.5 2.5l-.94 2.06-2.06.94zm10 10l.94 2.06.94-2.06 2.06-.94-2.06-.94-.94-2.06-.94 2.06-2.06.94z\"/><path d=\"M17.41 7.96l-1.37-1.37c-.4-.4-.92-.59-1.43-.59-.52 0-1.04.2-1.43.59L10.3 9.45l-7.72 7.72c-.78.78-.78 2.05 0 2.83L4 21.41c.39.39.9.59 1.41.59.51 0 1.02-.2 1.41-.59l7.78-7.78 2.81-2.81c.8-.78.8-2.07 0-2.86zM5.41 20L4 18.59l7.72-7.72 1.47 1.35L5.41 20z\"/>\n",
              "  </svg>\n",
              "      </button>\n",
              "      \n",
              "  <style>\n",
              "    .colab-df-container {\n",
              "      display:flex;\n",
              "      flex-wrap:wrap;\n",
              "      gap: 12px;\n",
              "    }\n",
              "\n",
              "    .colab-df-convert {\n",
              "      background-color: #E8F0FE;\n",
              "      border: none;\n",
              "      border-radius: 50%;\n",
              "      cursor: pointer;\n",
              "      display: none;\n",
              "      fill: #1967D2;\n",
              "      height: 32px;\n",
              "      padding: 0 0 0 0;\n",
              "      width: 32px;\n",
              "    }\n",
              "\n",
              "    .colab-df-convert:hover {\n",
              "      background-color: #E2EBFA;\n",
              "      box-shadow: 0px 1px 2px rgba(60, 64, 67, 0.3), 0px 1px 3px 1px rgba(60, 64, 67, 0.15);\n",
              "      fill: #174EA6;\n",
              "    }\n",
              "\n",
              "    [theme=dark] .colab-df-convert {\n",
              "      background-color: #3B4455;\n",
              "      fill: #D2E3FC;\n",
              "    }\n",
              "\n",
              "    [theme=dark] .colab-df-convert:hover {\n",
              "      background-color: #434B5C;\n",
              "      box-shadow: 0px 1px 3px 1px rgba(0, 0, 0, 0.15);\n",
              "      filter: drop-shadow(0px 1px 2px rgba(0, 0, 0, 0.3));\n",
              "      fill: #FFFFFF;\n",
              "    }\n",
              "  </style>\n",
              "\n",
              "      <script>\n",
              "        const buttonEl =\n",
              "          document.querySelector('#df-253541a1-9049-4afa-bb05-22755690001c button.colab-df-convert');\n",
              "        buttonEl.style.display =\n",
              "          google.colab.kernel.accessAllowed ? 'block' : 'none';\n",
              "\n",
              "        async function convertToInteractive(key) {\n",
              "          const element = document.querySelector('#df-253541a1-9049-4afa-bb05-22755690001c');\n",
              "          const dataTable =\n",
              "            await google.colab.kernel.invokeFunction('convertToInteractive',\n",
              "                                                     [key], {});\n",
              "          if (!dataTable) return;\n",
              "\n",
              "          const docLinkHtml = 'Like what you see? Visit the ' +\n",
              "            '<a target=\"_blank\" href=https://colab.research.google.com/notebooks/data_table.ipynb>data table notebook</a>'\n",
              "            + ' to learn more about interactive tables.';\n",
              "          element.innerHTML = '';\n",
              "          dataTable['output_type'] = 'display_data';\n",
              "          await google.colab.output.renderOutput(dataTable, element);\n",
              "          const docLink = document.createElement('div');\n",
              "          docLink.innerHTML = docLinkHtml;\n",
              "          element.appendChild(docLink);\n",
              "        }\n",
              "      </script>\n",
              "    </div>\n",
              "  </div>\n",
              "  "
            ]
          },
          "metadata": {},
          "execution_count": 6
        }
      ]
    },
    {
      "cell_type": "markdown",
      "source": [
        "#### Q.12 :- Find the email of the person with the following IP address :- 132.207.160.22"
      ],
      "metadata": {
        "id": "ZrBVdm9BB0Bg"
      }
    },
    {
      "cell_type": "code",
      "source": [
        "data.columns"
      ],
      "metadata": {
        "execution": {
          "iopub.status.busy": "2022-07-12T06:12:48.918117Z",
          "iopub.execute_input": "2022-07-12T06:12:48.918521Z",
          "iopub.status.idle": "2022-07-12T06:12:48.925795Z",
          "shell.execute_reply.started": "2022-07-12T06:12:48.918490Z",
          "shell.execute_reply": "2022-07-12T06:12:48.924639Z"
        },
        "trusted": true,
        "id": "v-G3KztBB0Bg",
        "outputId": "1015845c-39b9-4c59-e406-ba77715c1595"
      },
      "execution_count": null,
      "outputs": [
        {
          "execution_count": 93,
          "output_type": "execute_result",
          "data": {
            "text/plain": "Index(['Address', 'Lot', 'AM or PM', 'Browser Info', 'Company', 'Credit Card',\n       'CC Exp Date', 'CC Security Code', 'CC Provider', 'Email', 'Job',\n       'IP Address', 'Language', 'Purchase Price'],\n      dtype='object')"
          },
          "metadata": {}
        }
      ]
    },
    {
      "cell_type": "code",
      "source": [
        "data[data['IP Address'] == '132.207.160.22'].Email"
      ],
      "metadata": {
        "execution": {
          "iopub.status.busy": "2022-07-12T06:12:51.375038Z",
          "iopub.execute_input": "2022-07-12T06:12:51.375416Z",
          "iopub.status.idle": "2022-07-12T06:12:51.387191Z",
          "shell.execute_reply.started": "2022-07-12T06:12:51.375379Z",
          "shell.execute_reply": "2022-07-12T06:12:51.385744Z"
        },
        "trusted": true,
        "id": "59GpmRzdB0Bh",
        "outputId": "bedd920c-5541-499b-ee47-7d69084c1253"
      },
      "execution_count": null,
      "outputs": [
        {
          "execution_count": 94,
          "output_type": "execute_result",
          "data": {
            "text/plain": "2    amymiller@morales-harrison.com\nName: Email, dtype: object"
          },
          "metadata": {}
        }
      ]
    },
    {
      "cell_type": "markdown",
      "source": [
        "#### Q.13 :- How many people have Mastercard as their credit card provider and made a purchase above 50?"
      ],
      "metadata": {
        "id": "9IXd44CnB0Bh"
      }
    },
    {
      "cell_type": "code",
      "source": [
        "data[(data['CC Provider'] == 'Mastercard') & (data['Purchase Price'] > 50)]"
      ],
      "metadata": {
        "execution": {
          "iopub.status.busy": "2022-07-12T05:36:13.742093Z",
          "iopub.execute_input": "2022-07-12T05:36:13.742576Z",
          "iopub.status.idle": "2022-07-12T05:36:13.782828Z",
          "shell.execute_reply.started": "2022-07-12T05:36:13.742537Z",
          "shell.execute_reply": "2022-07-12T05:36:13.781457Z"
        },
        "trusted": true,
        "id": "HQmr56r3B0Bh",
        "outputId": "f53d0551-ec70-4b11-a968-49ddb38ad2ec"
      },
      "execution_count": null,
      "outputs": [
        {
          "execution_count": 44,
          "output_type": "execute_result",
          "data": {
            "text/plain": "                                                Address    Lot AM or PM  \\\n1     9374 Jasmine Spurs Suite 508\\nSouth John, TN 8...  28 rn       PM   \n18    461 Christopher Square\\nWest Michaelchester, C...  17 SB       PM   \n31                     USNS Alvarado\\nFPO AA 27052-1231  26 Lh       PM   \n35    93392 Webb Gardens Apt. 220\\nLaurabury, AR 999...  37 om       AM   \n90          431 Bowen Lights\\nFergusonborough, MH 01362  31 tG       AM   \n...                                                 ...    ...      ...   \n9941           43757 Brown Lodge\\nValerieberg, PR 88518  68 DG       AM   \n9948  95544 Johnson Isle Suite 939\\nMichaelberg, RI ...  91 bW       AM   \n9954  051 Samantha Wells Apt. 328\\nScottborough, OR ...  11 vG       AM   \n9981  087 Larson Roads Apt. 587\\nRicestad, WI 98077-...  95 Kw       AM   \n9987     2754 Klein Mission\\nJohnsonview, PA 64925-9624  65 Fg       PM   \n\n                                           Browser Info  \\\n1     Opera/8.93.(Windows 98; Win 9x 4.90; en-US) Pr...   \n18    Mozilla/5.0 (X11; Linux i686; rv:1.9.6.20) Gec...   \n31    Opera/8.84.(X11; Linux i686; sl-SI) Presto/2.9...   \n35    Mozilla/5.0 (Macintosh; U; Intel Mac OS X 10_7...   \n90    Mozilla/5.0 (Windows NT 5.2; it-IT; rv:1.9.1.2...   \n...                                                 ...   \n9941  Mozilla/5.0 (compatible; MSIE 5.0; Windows NT ...   \n9948  Opera/8.36.(X11; Linux x86_64; sl-SI) Presto/2...   \n9954  Mozilla/5.0 (Macintosh; U; PPC Mac OS X 10_8_2...   \n9981  Opera/9.63.(Windows NT 5.01; en-US) Presto/2.9...   \n9987  Opera/9.26.(Windows CE; sl-SI) Presto/2.9.188 ...   \n\n                              Company       Credit Card CC Exp Date  \\\n1     Fletcher, Richards and Whitaker  3337758169645356       11/18   \n18             Beard, Abbott and Pena  6011350184276270       12/22   \n31                    Nicholson Group     4614997834548       03/22   \n35                           Mora Ltd  6011049630969815       09/16   \n90                       Copeland-Lee      639032576097       06/18   \n...                               ...               ...         ...   \n9941         Jones, Williams and Dunn  6011508474487291       04/26   \n9948                     Fox-Peterson     4762924304307       03/17   \n9954    Mendoza, Zimmerman and Reilly    30232295374907       05/21   \n9981         Ortiz, Schultz and Adams     4690863684605       01/19   \n9987                       Curtis LLC   180027305702263       12/24   \n\n      CC Security Code CC Provider                       Email  \\\n1                  561  Mastercard          anthony41@reed.com   \n18                 767  Mastercard          hannah63@yahoo.com   \n31                 909  Mastercard        ashley12@hotmail.com   \n35                 367  Mastercard      hgonzalez@mcdowell.com   \n90                 868  Mastercard           nrogers@brown.com   \n...                ...         ...                         ...   \n9941               906  Mastercard       christian55@gmail.com   \n9948               567  Mastercard     haleybenjamin@gmail.com   \n9954               762  Mastercard        brownamy@perkins.com   \n9981               695  Mastercard  laurenbennett@richards.com   \n9987               865  Mastercard    denisehamilton@novak.biz   \n\n                                         Job       IP Address Language  \\\n1                          Drilling engineer     15.160.41.51       fr   \n18                              Photographer   73.250.176.201       el   \n31                           Sales executive   94.176.142.201       en   \n35               Lecturer, further education     216.23.95.40       zh   \n90    Teacher, English as a foreign language   153.188.13.203       es   \n...                                      ...              ...      ...   \n9941                Secondary school teacher  216.118.235.145       fr   \n9948                     Structural engineer    120.36.140.58       en   \n9954                 Presenter, broadcasting     61.97.84.101       it   \n9981         Environmental education officer    106.21.237.73       pt   \n9987                  Primary school teacher   164.39.190.217       es   \n\n      Purchase Price       New_Col  \n1              70.73      reed.com  \n18             70.15     yahoo.com  \n31             94.14   hotmail.com  \n35             97.46  mcdowell.com  \n90             78.86     brown.com  \n...              ...           ...  \n9941           60.03     gmail.com  \n9948           71.89     gmail.com  \n9954           87.15   perkins.com  \n9981           63.61  richards.com  \n9987           60.83     novak.biz  \n\n[405 rows x 15 columns]",
            "text/html": "<div>\n<style scoped>\n    .dataframe tbody tr th:only-of-type {\n        vertical-align: middle;\n    }\n\n    .dataframe tbody tr th {\n        vertical-align: top;\n    }\n\n    .dataframe thead th {\n        text-align: right;\n    }\n</style>\n<table border=\"1\" class=\"dataframe\">\n  <thead>\n    <tr style=\"text-align: right;\">\n      <th></th>\n      <th>Address</th>\n      <th>Lot</th>\n      <th>AM or PM</th>\n      <th>Browser Info</th>\n      <th>Company</th>\n      <th>Credit Card</th>\n      <th>CC Exp Date</th>\n      <th>CC Security Code</th>\n      <th>CC Provider</th>\n      <th>Email</th>\n      <th>Job</th>\n      <th>IP Address</th>\n      <th>Language</th>\n      <th>Purchase Price</th>\n      <th>New_Col</th>\n    </tr>\n  </thead>\n  <tbody>\n    <tr>\n      <th>1</th>\n      <td>9374 Jasmine Spurs Suite 508\\nSouth John, TN 8...</td>\n      <td>28 rn</td>\n      <td>PM</td>\n      <td>Opera/8.93.(Windows 98; Win 9x 4.90; en-US) Pr...</td>\n      <td>Fletcher, Richards and Whitaker</td>\n      <td>3337758169645356</td>\n      <td>11/18</td>\n      <td>561</td>\n      <td>Mastercard</td>\n      <td>anthony41@reed.com</td>\n      <td>Drilling engineer</td>\n      <td>15.160.41.51</td>\n      <td>fr</td>\n      <td>70.73</td>\n      <td>reed.com</td>\n    </tr>\n    <tr>\n      <th>18</th>\n      <td>461 Christopher Square\\nWest Michaelchester, C...</td>\n      <td>17 SB</td>\n      <td>PM</td>\n      <td>Mozilla/5.0 (X11; Linux i686; rv:1.9.6.20) Gec...</td>\n      <td>Beard, Abbott and Pena</td>\n      <td>6011350184276270</td>\n      <td>12/22</td>\n      <td>767</td>\n      <td>Mastercard</td>\n      <td>hannah63@yahoo.com</td>\n      <td>Photographer</td>\n      <td>73.250.176.201</td>\n      <td>el</td>\n      <td>70.15</td>\n      <td>yahoo.com</td>\n    </tr>\n    <tr>\n      <th>31</th>\n      <td>USNS Alvarado\\nFPO AA 27052-1231</td>\n      <td>26 Lh</td>\n      <td>PM</td>\n      <td>Opera/8.84.(X11; Linux i686; sl-SI) Presto/2.9...</td>\n      <td>Nicholson Group</td>\n      <td>4614997834548</td>\n      <td>03/22</td>\n      <td>909</td>\n      <td>Mastercard</td>\n      <td>ashley12@hotmail.com</td>\n      <td>Sales executive</td>\n      <td>94.176.142.201</td>\n      <td>en</td>\n      <td>94.14</td>\n      <td>hotmail.com</td>\n    </tr>\n    <tr>\n      <th>35</th>\n      <td>93392 Webb Gardens Apt. 220\\nLaurabury, AR 999...</td>\n      <td>37 om</td>\n      <td>AM</td>\n      <td>Mozilla/5.0 (Macintosh; U; Intel Mac OS X 10_7...</td>\n      <td>Mora Ltd</td>\n      <td>6011049630969815</td>\n      <td>09/16</td>\n      <td>367</td>\n      <td>Mastercard</td>\n      <td>hgonzalez@mcdowell.com</td>\n      <td>Lecturer, further education</td>\n      <td>216.23.95.40</td>\n      <td>zh</td>\n      <td>97.46</td>\n      <td>mcdowell.com</td>\n    </tr>\n    <tr>\n      <th>90</th>\n      <td>431 Bowen Lights\\nFergusonborough, MH 01362</td>\n      <td>31 tG</td>\n      <td>AM</td>\n      <td>Mozilla/5.0 (Windows NT 5.2; it-IT; rv:1.9.1.2...</td>\n      <td>Copeland-Lee</td>\n      <td>639032576097</td>\n      <td>06/18</td>\n      <td>868</td>\n      <td>Mastercard</td>\n      <td>nrogers@brown.com</td>\n      <td>Teacher, English as a foreign language</td>\n      <td>153.188.13.203</td>\n      <td>es</td>\n      <td>78.86</td>\n      <td>brown.com</td>\n    </tr>\n    <tr>\n      <th>...</th>\n      <td>...</td>\n      <td>...</td>\n      <td>...</td>\n      <td>...</td>\n      <td>...</td>\n      <td>...</td>\n      <td>...</td>\n      <td>...</td>\n      <td>...</td>\n      <td>...</td>\n      <td>...</td>\n      <td>...</td>\n      <td>...</td>\n      <td>...</td>\n      <td>...</td>\n    </tr>\n    <tr>\n      <th>9941</th>\n      <td>43757 Brown Lodge\\nValerieberg, PR 88518</td>\n      <td>68 DG</td>\n      <td>AM</td>\n      <td>Mozilla/5.0 (compatible; MSIE 5.0; Windows NT ...</td>\n      <td>Jones, Williams and Dunn</td>\n      <td>6011508474487291</td>\n      <td>04/26</td>\n      <td>906</td>\n      <td>Mastercard</td>\n      <td>christian55@gmail.com</td>\n      <td>Secondary school teacher</td>\n      <td>216.118.235.145</td>\n      <td>fr</td>\n      <td>60.03</td>\n      <td>gmail.com</td>\n    </tr>\n    <tr>\n      <th>9948</th>\n      <td>95544 Johnson Isle Suite 939\\nMichaelberg, RI ...</td>\n      <td>91 bW</td>\n      <td>AM</td>\n      <td>Opera/8.36.(X11; Linux x86_64; sl-SI) Presto/2...</td>\n      <td>Fox-Peterson</td>\n      <td>4762924304307</td>\n      <td>03/17</td>\n      <td>567</td>\n      <td>Mastercard</td>\n      <td>haleybenjamin@gmail.com</td>\n      <td>Structural engineer</td>\n      <td>120.36.140.58</td>\n      <td>en</td>\n      <td>71.89</td>\n      <td>gmail.com</td>\n    </tr>\n    <tr>\n      <th>9954</th>\n      <td>051 Samantha Wells Apt. 328\\nScottborough, OR ...</td>\n      <td>11 vG</td>\n      <td>AM</td>\n      <td>Mozilla/5.0 (Macintosh; U; PPC Mac OS X 10_8_2...</td>\n      <td>Mendoza, Zimmerman and Reilly</td>\n      <td>30232295374907</td>\n      <td>05/21</td>\n      <td>762</td>\n      <td>Mastercard</td>\n      <td>brownamy@perkins.com</td>\n      <td>Presenter, broadcasting</td>\n      <td>61.97.84.101</td>\n      <td>it</td>\n      <td>87.15</td>\n      <td>perkins.com</td>\n    </tr>\n    <tr>\n      <th>9981</th>\n      <td>087 Larson Roads Apt. 587\\nRicestad, WI 98077-...</td>\n      <td>95 Kw</td>\n      <td>AM</td>\n      <td>Opera/9.63.(Windows NT 5.01; en-US) Presto/2.9...</td>\n      <td>Ortiz, Schultz and Adams</td>\n      <td>4690863684605</td>\n      <td>01/19</td>\n      <td>695</td>\n      <td>Mastercard</td>\n      <td>laurenbennett@richards.com</td>\n      <td>Environmental education officer</td>\n      <td>106.21.237.73</td>\n      <td>pt</td>\n      <td>63.61</td>\n      <td>richards.com</td>\n    </tr>\n    <tr>\n      <th>9987</th>\n      <td>2754 Klein Mission\\nJohnsonview, PA 64925-9624</td>\n      <td>65 Fg</td>\n      <td>PM</td>\n      <td>Opera/9.26.(Windows CE; sl-SI) Presto/2.9.188 ...</td>\n      <td>Curtis LLC</td>\n      <td>180027305702263</td>\n      <td>12/24</td>\n      <td>865</td>\n      <td>Mastercard</td>\n      <td>denisehamilton@novak.biz</td>\n      <td>Primary school teacher</td>\n      <td>164.39.190.217</td>\n      <td>es</td>\n      <td>60.83</td>\n      <td>novak.biz</td>\n    </tr>\n  </tbody>\n</table>\n<p>405 rows × 15 columns</p>\n</div>"
          },
          "metadata": {}
        }
      ]
    },
    {
      "cell_type": "code",
      "source": [
        "print(len(data[(data['CC Provider'] == 'Mastercard') & (data['Purchase Price'] > 50)]), 'has Mastercard as their credit card provider and made a purchase above 50.')"
      ],
      "metadata": {
        "execution": {
          "iopub.status.busy": "2022-07-12T06:14:32.129275Z",
          "iopub.execute_input": "2022-07-12T06:14:32.129686Z",
          "iopub.status.idle": "2022-07-12T06:14:32.139350Z",
          "shell.execute_reply.started": "2022-07-12T06:14:32.129657Z",
          "shell.execute_reply": "2022-07-12T06:14:32.138109Z"
        },
        "trusted": true,
        "id": "uNqRm2YkB0Bi",
        "outputId": "d89fa2ef-37c2-407a-d318-78bea3c633fb"
      },
      "execution_count": null,
      "outputs": [
        {
          "name": "stdout",
          "text": "405 has Mastercard as their credit card provider and made a purchase above 50.\n",
          "output_type": "stream"
        }
      ]
    },
    {
      "cell_type": "code",
      "source": [
        "data[(data['CC Provider'] == 'Mastercard') & (data['Purchase Price'] > 50)].count()"
      ],
      "metadata": {
        "colab": {
          "base_uri": "https://localhost:8080/"
        },
        "id": "Kcm8WG14FCkr",
        "outputId": "3a5f30da-91a2-48e0-b557-0c0dc97ccd55"
      },
      "execution_count": 7,
      "outputs": [
        {
          "output_type": "execute_result",
          "data": {
            "text/plain": [
              "Address             405\n",
              "Lot                 405\n",
              "AM or PM            405\n",
              "Browser Info        405\n",
              "Company             405\n",
              "Credit Card         405\n",
              "CC Exp Date         405\n",
              "CC Security Code    405\n",
              "CC Provider         405\n",
              "Email               405\n",
              "Job                 405\n",
              "IP Address          405\n",
              "Language            405\n",
              "Purchase Price      405\n",
              "dtype: int64"
            ]
          },
          "metadata": {},
          "execution_count": 7
        }
      ]
    },
    {
      "cell_type": "markdown",
      "source": [
        "#### Q.14 :- Find the email of the person having credit card no :- 4664825258997302"
      ],
      "metadata": {
        "id": "ALb1SuUTB0Bi"
      }
    },
    {
      "cell_type": "code",
      "source": [
        "data[data['Credit Card'] == 4664825258997302].Email"
      ],
      "metadata": {
        "execution": {
          "iopub.status.busy": "2022-07-12T05:02:27.805630Z",
          "iopub.execute_input": "2022-07-12T05:02:27.805979Z",
          "iopub.status.idle": "2022-07-12T05:02:27.815503Z",
          "shell.execute_reply.started": "2022-07-12T05:02:27.805949Z",
          "shell.execute_reply": "2022-07-12T05:02:27.814440Z"
        },
        "trusted": true,
        "id": "5m7q5nljB0Bj",
        "outputId": "9c7306b6-522d-4124-c683-365a8d6edb4e"
      },
      "execution_count": null,
      "outputs": [
        {
          "execution_count": 6,
          "output_type": "execute_result",
          "data": {
            "text/plain": "9992    bberry@wright.net\nName: Email, dtype: object"
          },
          "metadata": {}
        }
      ]
    },
    {
      "cell_type": "markdown",
      "source": [
        "#### Q.15 :- How many people purchase during morning and how many people purchase during night?"
      ],
      "metadata": {
        "id": "f2EcpjkmB0Bj"
      }
    },
    {
      "cell_type": "code",
      "source": [
        "# Method 1 :-\n",
        "data[data['AM or PM'] == 'AM'].count()"
      ],
      "metadata": {
        "execution": {
          "iopub.status.busy": "2022-07-12T05:07:18.392676Z",
          "iopub.execute_input": "2022-07-12T05:07:18.393176Z",
          "iopub.status.idle": "2022-07-12T05:07:18.416196Z",
          "shell.execute_reply.started": "2022-07-12T05:07:18.393131Z",
          "shell.execute_reply": "2022-07-12T05:07:18.414851Z"
        },
        "trusted": true,
        "id": "XanmZRbLB0Bj",
        "outputId": "f5f677af-a2ba-46d9-cbfd-0845c225c81f"
      },
      "execution_count": null,
      "outputs": [
        {
          "execution_count": 17,
          "output_type": "execute_result",
          "data": {
            "text/plain": "Address             4932\nLot                 4932\nAM or PM            4932\nBrowser Info        4932\nCompany             4932\nCredit Card         4932\nCC Exp Date         4932\nCC Security Code    4932\nCC Provider         4932\nEmail               4932\nJob                 4932\nIP Address          4932\nLanguage            4932\nPurchase Price      4932\ndtype: int64"
          },
          "metadata": {}
        }
      ]
    },
    {
      "cell_type": "code",
      "source": [
        "data[data['AM or PM'] == 'PM'].count()"
      ],
      "metadata": {
        "execution": {
          "iopub.status.busy": "2022-07-12T05:07:55.753167Z",
          "iopub.execute_input": "2022-07-12T05:07:55.753604Z",
          "iopub.status.idle": "2022-07-12T05:07:55.777077Z",
          "shell.execute_reply.started": "2022-07-12T05:07:55.753562Z",
          "shell.execute_reply": "2022-07-12T05:07:55.775764Z"
        },
        "trusted": true,
        "id": "An9zQZkXB0Bk",
        "outputId": "9fff0f9c-e064-4378-e341-ac9278d611e4"
      },
      "execution_count": null,
      "outputs": [
        {
          "execution_count": 18,
          "output_type": "execute_result",
          "data": {
            "text/plain": "Address             5068\nLot                 5068\nAM or PM            5068\nBrowser Info        5068\nCompany             5068\nCredit Card         5068\nCC Exp Date         5068\nCC Security Code    5068\nCC Provider         5068\nEmail               5068\nJob                 5068\nIP Address          5068\nLanguage            5068\nPurchase Price      5068\ndtype: int64"
          },
          "metadata": {}
        }
      ]
    },
    {
      "cell_type": "code",
      "source": [
        "#Method 2 :-\n",
        "data['AM or PM'].value_counts()"
      ],
      "metadata": {
        "execution": {
          "iopub.status.busy": "2022-07-12T05:10:04.042886Z",
          "iopub.execute_input": "2022-07-12T05:10:04.043266Z",
          "iopub.status.idle": "2022-07-12T05:10:04.058952Z",
          "shell.execute_reply.started": "2022-07-12T05:10:04.043230Z",
          "shell.execute_reply": "2022-07-12T05:10:04.057584Z"
        },
        "trusted": true,
        "id": "naSjsAQVB0Bk",
        "outputId": "ddbe50e5-217e-4000-b616-87249a0ad73c"
      },
      "execution_count": null,
      "outputs": [
        {
          "execution_count": 22,
          "output_type": "execute_result",
          "data": {
            "text/plain": "PM    5068\nAM    4932\nName: AM or PM, dtype: int64"
          },
          "metadata": {}
        }
      ]
    },
    {
      "cell_type": "code",
      "source": [
        "data['AM or PM'].unique()"
      ],
      "metadata": {
        "colab": {
          "base_uri": "https://localhost:8080/"
        },
        "id": "rrWR_hC_F8UX",
        "outputId": "f66997b6-0c00-4cb5-dd49-2ef2db4c79c4"
      },
      "execution_count": 8,
      "outputs": [
        {
          "output_type": "execute_result",
          "data": {
            "text/plain": [
              "array(['PM', 'AM'], dtype=object)"
            ]
          },
          "metadata": {},
          "execution_count": 8
        }
      ]
    },
    {
      "cell_type": "markdown",
      "source": [
        "#### Q.16 How many people have credit cards that expire in 2020."
      ],
      "metadata": {
        "id": "L_pzqt4QB0Bl"
      }
    },
    {
      "cell_type": "markdown",
      "source": [
        "##### This question can be done in three ways :-\n",
        "##### (i) By using *Lambda Function*\n",
        "##### (ii) By using *User Defined Function*\n",
        "##### (iii) Using str.contains()"
      ],
      "metadata": {
        "execution": {
          "iopub.status.busy": "2022-07-12T05:39:31.354834Z",
          "iopub.execute_input": "2022-07-12T05:39:31.355377Z",
          "iopub.status.idle": "2022-07-12T05:39:31.361826Z",
          "shell.execute_reply.started": "2022-07-12T05:39:31.355327Z",
          "shell.execute_reply": "2022-07-12T05:39:31.360287Z"
        },
        "id": "Ik5oWmT4B0Bl"
      }
    },
    {
      "cell_type": "code",
      "source": [
        "# Method 1 :-\n",
        "len(data[data['CC Exp Date'].apply(lambda x:x[3:] == '20')])"
      ],
      "metadata": {
        "execution": {
          "iopub.status.busy": "2022-07-12T05:54:47.304182Z",
          "iopub.execute_input": "2022-07-12T05:54:47.304649Z",
          "iopub.status.idle": "2022-07-12T05:54:47.319640Z",
          "shell.execute_reply.started": "2022-07-12T05:54:47.304615Z",
          "shell.execute_reply": "2022-07-12T05:54:47.318600Z"
        },
        "trusted": true,
        "id": "CdrcXlhtB0Bl",
        "outputId": "6c25e014-ead5-4bbe-c32c-89052caf239d"
      },
      "execution_count": null,
      "outputs": [
        {
          "execution_count": 66,
          "output_type": "execute_result",
          "data": {
            "text/plain": "988"
          },
          "metadata": {}
        }
      ]
    },
    {
      "cell_type": "code",
      "source": [
        "# Method 2 :-\n",
        "def cred():\n",
        "    count = 0\n",
        "    for date in data['CC Exp Date']:\n",
        "        if date.split('/')[1] == '20':\n",
        "            count = count+1\n",
        "    print(count)"
      ],
      "metadata": {
        "execution": {
          "iopub.status.busy": "2022-07-12T05:49:12.632572Z",
          "iopub.execute_input": "2022-07-12T05:49:12.632991Z",
          "iopub.status.idle": "2022-07-12T05:49:12.640197Z",
          "shell.execute_reply.started": "2022-07-12T05:49:12.632950Z",
          "shell.execute_reply": "2022-07-12T05:49:12.638841Z"
        },
        "trusted": true,
        "id": "PaU465lLB0Bm"
      },
      "execution_count": null,
      "outputs": []
    },
    {
      "cell_type": "code",
      "source": [
        "cred()"
      ],
      "metadata": {
        "execution": {
          "iopub.status.busy": "2022-07-12T05:48:46.686596Z",
          "iopub.execute_input": "2022-07-12T05:48:46.686995Z",
          "iopub.status.idle": "2022-07-12T05:48:46.696926Z",
          "shell.execute_reply.started": "2022-07-12T05:48:46.686963Z",
          "shell.execute_reply": "2022-07-12T05:48:46.695734Z"
        },
        "trusted": true,
        "id": "gqCUFf-eB0Bm",
        "outputId": "60326136-8ba4-4e12-aed5-916f1196ae32"
      },
      "execution_count": null,
      "outputs": [
        {
          "name": "stdout",
          "text": "988\n",
          "output_type": "stream"
        }
      ]
    },
    {
      "cell_type": "code",
      "source": [
        "# Method 3 :-\n",
        "data[data['CC Exp Date'].str.contains('/20')]"
      ],
      "metadata": {
        "execution": {
          "iopub.status.busy": "2022-07-12T05:49:35.445383Z",
          "iopub.execute_input": "2022-07-12T05:49:35.445805Z",
          "iopub.status.idle": "2022-07-12T05:49:35.481868Z",
          "shell.execute_reply.started": "2022-07-12T05:49:35.445773Z",
          "shell.execute_reply": "2022-07-12T05:49:35.481035Z"
        },
        "trusted": true,
        "id": "B4wlhUicB0Bm",
        "outputId": "b59acb4e-3710-47bb-9541-da4420354aa5"
      },
      "execution_count": null,
      "outputs": [
        {
          "execution_count": 63,
          "output_type": "execute_result",
          "data": {
            "text/plain": "                                                Address    Lot AM or PM  \\\n0     16629 Pace Camp Apt. 448\\nAlexisborough, NE 77...  46 in       PM   \n19                  125 Hall Summit\\nBoothton, IL 41721  99 CU       PM   \n32                     Unit 3628 Box 6778\\nDPO AE 72362  39 Qm       PM   \n36    9374 Skinner Common Apt. 254\\nChristopherfort,...  80 Fq       PM   \n38    9671 Riley Drives Apt. 746\\nPort Davidtown, TN...  15 vj       AM   \n...                                                 ...    ...      ...   \n9883        751 Petersen Groves\\nLake Rebecca, NM 55875  61 tE       PM   \n9901      908 Norman Burgs\\nPhillipsberg, VT 92023-9956  90 Ng       PM   \n9911  44320 Gray Centers Suite 325\\nJenniferfurt, OK...  19 Bf       PM   \n9957             73556 Chase Pine\\nBrucemouth, MP 73473  25 rU       PM   \n9992  885 Allen Mountains Apt. 230\\nWallhaven, LA 16995  40 vH       PM   \n\n                                           Browser Info  \\\n0     Opera/9.56.(X11; Linux x86_64; sl-SI) Presto/2...   \n19    Mozilla/5.0 (compatible; MSIE 7.0; Windows NT ...   \n32    Mozilla/5.0 (Windows 98; Win 9x 4.90) AppleWeb...   \n36    Mozilla/5.0 (compatible; MSIE 9.0; Windows NT ...   \n38    Mozilla/5.0 (X11; Linux i686; rv:1.9.6.20) Gec...   \n...                                                 ...   \n9883  Mozilla/5.0 (Macintosh; U; PPC Mac OS X 10_8_7...   \n9901  Mozilla/5.0 (compatible; MSIE 9.0; Windows NT ...   \n9911  Mozilla/5.0 (X11; Linux i686; rv:1.9.7.20) Gec...   \n9957  Opera/9.49.(Windows 95; en-US) Presto/2.9.189 ...   \n9992  Mozilla/5.0 (Macintosh; PPC Mac OS X 10_6_5) A...   \n\n                           Company       Credit Card CC Exp Date  \\\n0                  Martinez-Herman  6011929061123406       02/20   \n19                 Turner-Mckinney      676343504830       02/20   \n32                 Martinez-Wilson  4942281854569455       01/20   \n36                     Hanna-Grant   180042289507877       09/20   \n38    Bryant, Hubbard and Gonzales   210094965373094       12/20   \n...                            ...               ...         ...   \n9883                Perez and Sons  4939814860063025       05/20   \n9901                    Hughes Inc    30148833294789       09/20   \n9911                    Jones-Gray     4058074716188       12/20   \n9957    Martin, Clayton and Jarvis  3337737293232646       05/20   \n9992                     Wells Ltd  4664825258997302       10/20   \n\n      CC Security Code                  CC Provider  \\\n0                  900                 JCB 16 digit   \n19                 440                VISA 16 digit   \n32                8360                 JCB 16 digit   \n36                 912                VISA 16 digit   \n38                 248                      Voyager   \n...                ...                          ...   \n9883               238                   Mastercard   \n9901               483                      Voyager   \n9911               921  Diners Club / Carte Blanche   \n9957               798                VISA 13 digit   \n9992               431                     Discover   \n\n                             Email                                     Job  \\\n0                pdunlap@yahoo.com  Scientist, product/process development   \n19            ruiznicole@gmail.com              Designer, interior/spatial   \n32            shane21@atkinson.com             Civil Service fast streamer   \n36        saundersernest@walsh.com                     Animal technologist   \n38      djennings@boyd-english.org                         Music therapist   \n...                            ...                                     ...   \n9883            lisa25@hotmail.com                Therapeutic radiographer   \n9901             james32@gmail.com                           Meteorologist   \n9911  hensonlindsay@graves-fox.com                    Optician, dispensing   \n9957        latashaochoa@gmail.com                Therapeutic radiographer   \n9992             bberry@wright.net                            Set designer   \n\n           IP Address Language  Purchase Price  \n0     149.146.147.205       el           98.14  \n19     25.105.209.214       fr           58.39  \n32     196.37.134.217       pt           56.63  \n36      85.134.58.250       zh            9.77  \n38     143.138.65.219       en           30.07  \n...               ...      ...             ...  \n9883    215.85.159.70       pt           67.47  \n9901     250.66.85.29       en           57.25  \n9911     84.118.30.56       en           20.63  \n9957  239.219.241.162       ru           71.85  \n9992    174.173.51.32       de           67.96  \n\n[988 rows x 14 columns]",
            "text/html": "<div>\n<style scoped>\n    .dataframe tbody tr th:only-of-type {\n        vertical-align: middle;\n    }\n\n    .dataframe tbody tr th {\n        vertical-align: top;\n    }\n\n    .dataframe thead th {\n        text-align: right;\n    }\n</style>\n<table border=\"1\" class=\"dataframe\">\n  <thead>\n    <tr style=\"text-align: right;\">\n      <th></th>\n      <th>Address</th>\n      <th>Lot</th>\n      <th>AM or PM</th>\n      <th>Browser Info</th>\n      <th>Company</th>\n      <th>Credit Card</th>\n      <th>CC Exp Date</th>\n      <th>CC Security Code</th>\n      <th>CC Provider</th>\n      <th>Email</th>\n      <th>Job</th>\n      <th>IP Address</th>\n      <th>Language</th>\n      <th>Purchase Price</th>\n    </tr>\n  </thead>\n  <tbody>\n    <tr>\n      <th>0</th>\n      <td>16629 Pace Camp Apt. 448\\nAlexisborough, NE 77...</td>\n      <td>46 in</td>\n      <td>PM</td>\n      <td>Opera/9.56.(X11; Linux x86_64; sl-SI) Presto/2...</td>\n      <td>Martinez-Herman</td>\n      <td>6011929061123406</td>\n      <td>02/20</td>\n      <td>900</td>\n      <td>JCB 16 digit</td>\n      <td>pdunlap@yahoo.com</td>\n      <td>Scientist, product/process development</td>\n      <td>149.146.147.205</td>\n      <td>el</td>\n      <td>98.14</td>\n    </tr>\n    <tr>\n      <th>19</th>\n      <td>125 Hall Summit\\nBoothton, IL 41721</td>\n      <td>99 CU</td>\n      <td>PM</td>\n      <td>Mozilla/5.0 (compatible; MSIE 7.0; Windows NT ...</td>\n      <td>Turner-Mckinney</td>\n      <td>676343504830</td>\n      <td>02/20</td>\n      <td>440</td>\n      <td>VISA 16 digit</td>\n      <td>ruiznicole@gmail.com</td>\n      <td>Designer, interior/spatial</td>\n      <td>25.105.209.214</td>\n      <td>fr</td>\n      <td>58.39</td>\n    </tr>\n    <tr>\n      <th>32</th>\n      <td>Unit 3628 Box 6778\\nDPO AE 72362</td>\n      <td>39 Qm</td>\n      <td>PM</td>\n      <td>Mozilla/5.0 (Windows 98; Win 9x 4.90) AppleWeb...</td>\n      <td>Martinez-Wilson</td>\n      <td>4942281854569455</td>\n      <td>01/20</td>\n      <td>8360</td>\n      <td>JCB 16 digit</td>\n      <td>shane21@atkinson.com</td>\n      <td>Civil Service fast streamer</td>\n      <td>196.37.134.217</td>\n      <td>pt</td>\n      <td>56.63</td>\n    </tr>\n    <tr>\n      <th>36</th>\n      <td>9374 Skinner Common Apt. 254\\nChristopherfort,...</td>\n      <td>80 Fq</td>\n      <td>PM</td>\n      <td>Mozilla/5.0 (compatible; MSIE 9.0; Windows NT ...</td>\n      <td>Hanna-Grant</td>\n      <td>180042289507877</td>\n      <td>09/20</td>\n      <td>912</td>\n      <td>VISA 16 digit</td>\n      <td>saundersernest@walsh.com</td>\n      <td>Animal technologist</td>\n      <td>85.134.58.250</td>\n      <td>zh</td>\n      <td>9.77</td>\n    </tr>\n    <tr>\n      <th>38</th>\n      <td>9671 Riley Drives Apt. 746\\nPort Davidtown, TN...</td>\n      <td>15 vj</td>\n      <td>AM</td>\n      <td>Mozilla/5.0 (X11; Linux i686; rv:1.9.6.20) Gec...</td>\n      <td>Bryant, Hubbard and Gonzales</td>\n      <td>210094965373094</td>\n      <td>12/20</td>\n      <td>248</td>\n      <td>Voyager</td>\n      <td>djennings@boyd-english.org</td>\n      <td>Music therapist</td>\n      <td>143.138.65.219</td>\n      <td>en</td>\n      <td>30.07</td>\n    </tr>\n    <tr>\n      <th>...</th>\n      <td>...</td>\n      <td>...</td>\n      <td>...</td>\n      <td>...</td>\n      <td>...</td>\n      <td>...</td>\n      <td>...</td>\n      <td>...</td>\n      <td>...</td>\n      <td>...</td>\n      <td>...</td>\n      <td>...</td>\n      <td>...</td>\n      <td>...</td>\n    </tr>\n    <tr>\n      <th>9883</th>\n      <td>751 Petersen Groves\\nLake Rebecca, NM 55875</td>\n      <td>61 tE</td>\n      <td>PM</td>\n      <td>Mozilla/5.0 (Macintosh; U; PPC Mac OS X 10_8_7...</td>\n      <td>Perez and Sons</td>\n      <td>4939814860063025</td>\n      <td>05/20</td>\n      <td>238</td>\n      <td>Mastercard</td>\n      <td>lisa25@hotmail.com</td>\n      <td>Therapeutic radiographer</td>\n      <td>215.85.159.70</td>\n      <td>pt</td>\n      <td>67.47</td>\n    </tr>\n    <tr>\n      <th>9901</th>\n      <td>908 Norman Burgs\\nPhillipsberg, VT 92023-9956</td>\n      <td>90 Ng</td>\n      <td>PM</td>\n      <td>Mozilla/5.0 (compatible; MSIE 9.0; Windows NT ...</td>\n      <td>Hughes Inc</td>\n      <td>30148833294789</td>\n      <td>09/20</td>\n      <td>483</td>\n      <td>Voyager</td>\n      <td>james32@gmail.com</td>\n      <td>Meteorologist</td>\n      <td>250.66.85.29</td>\n      <td>en</td>\n      <td>57.25</td>\n    </tr>\n    <tr>\n      <th>9911</th>\n      <td>44320 Gray Centers Suite 325\\nJenniferfurt, OK...</td>\n      <td>19 Bf</td>\n      <td>PM</td>\n      <td>Mozilla/5.0 (X11; Linux i686; rv:1.9.7.20) Gec...</td>\n      <td>Jones-Gray</td>\n      <td>4058074716188</td>\n      <td>12/20</td>\n      <td>921</td>\n      <td>Diners Club / Carte Blanche</td>\n      <td>hensonlindsay@graves-fox.com</td>\n      <td>Optician, dispensing</td>\n      <td>84.118.30.56</td>\n      <td>en</td>\n      <td>20.63</td>\n    </tr>\n    <tr>\n      <th>9957</th>\n      <td>73556 Chase Pine\\nBrucemouth, MP 73473</td>\n      <td>25 rU</td>\n      <td>PM</td>\n      <td>Opera/9.49.(Windows 95; en-US) Presto/2.9.189 ...</td>\n      <td>Martin, Clayton and Jarvis</td>\n      <td>3337737293232646</td>\n      <td>05/20</td>\n      <td>798</td>\n      <td>VISA 13 digit</td>\n      <td>latashaochoa@gmail.com</td>\n      <td>Therapeutic radiographer</td>\n      <td>239.219.241.162</td>\n      <td>ru</td>\n      <td>71.85</td>\n    </tr>\n    <tr>\n      <th>9992</th>\n      <td>885 Allen Mountains Apt. 230\\nWallhaven, LA 16995</td>\n      <td>40 vH</td>\n      <td>PM</td>\n      <td>Mozilla/5.0 (Macintosh; PPC Mac OS X 10_6_5) A...</td>\n      <td>Wells Ltd</td>\n      <td>4664825258997302</td>\n      <td>10/20</td>\n      <td>431</td>\n      <td>Discover</td>\n      <td>bberry@wright.net</td>\n      <td>Set designer</td>\n      <td>174.173.51.32</td>\n      <td>de</td>\n      <td>67.96</td>\n    </tr>\n  </tbody>\n</table>\n<p>988 rows × 14 columns</p>\n</div>"
          },
          "metadata": {}
        }
      ]
    },
    {
      "cell_type": "markdown",
      "source": [
        "**If we specifically want to display only the number of people, then we can using len() or count()**"
      ],
      "metadata": {
        "id": "7H8BZoNaB0Bn"
      }
    },
    {
      "cell_type": "code",
      "source": [
        "# Using len() :-\n",
        "len(data[data['CC Exp Date'].str.contains('/20')])"
      ],
      "metadata": {
        "execution": {
          "iopub.status.busy": "2022-07-12T05:19:46.195910Z",
          "iopub.execute_input": "2022-07-12T05:19:46.196289Z",
          "iopub.status.idle": "2022-07-12T05:19:46.211487Z",
          "shell.execute_reply.started": "2022-07-12T05:19:46.196260Z",
          "shell.execute_reply": "2022-07-12T05:19:46.210061Z"
        },
        "trusted": true,
        "id": "PXukeIm4B0Bn",
        "outputId": "0e6798aa-930f-44dd-c38d-3fc57495c172"
      },
      "execution_count": null,
      "outputs": [
        {
          "execution_count": 28,
          "output_type": "execute_result",
          "data": {
            "text/plain": "988"
          },
          "metadata": {}
        }
      ]
    },
    {
      "cell_type": "code",
      "source": [
        "# Using count()\n",
        "data[data['CC Exp Date'].str.contains('/20')].count()"
      ],
      "metadata": {
        "execution": {
          "iopub.status.busy": "2022-07-12T05:21:09.082247Z",
          "iopub.execute_input": "2022-07-12T05:21:09.083638Z",
          "iopub.status.idle": "2022-07-12T05:21:09.110046Z",
          "shell.execute_reply.started": "2022-07-12T05:21:09.083589Z",
          "shell.execute_reply": "2022-07-12T05:21:09.108946Z"
        },
        "trusted": true,
        "id": "k49E-9SHB0Bn",
        "outputId": "4021d118-a1f3-42f7-c8e4-8211c7db824e"
      },
      "execution_count": null,
      "outputs": [
        {
          "execution_count": 29,
          "output_type": "execute_result",
          "data": {
            "text/plain": "Address             988\nLot                 988\nAM or PM            988\nBrowser Info        988\nCompany             988\nCredit Card         988\nCC Exp Date         988\nCC Security Code    988\nCC Provider         988\nEmail               988\nJob                 988\nIP Address          988\nLanguage            988\nPurchase Price      988\ndtype: int64"
          },
          "metadata": {}
        }
      ]
    },
    {
      "cell_type": "markdown",
      "source": [
        "#### Q.17 Top 5 most popular email providers."
      ],
      "metadata": {
        "id": "OZGveAV_B0Bn"
      }
    },
    {
      "cell_type": "code",
      "source": [
        "list1 = []\n",
        "for email in data['Email']:\n",
        "    list1.append(email.split('@') [1])\n"
      ],
      "metadata": {
        "execution": {
          "iopub.status.busy": "2022-07-12T05:23:05.816999Z",
          "iopub.execute_input": "2022-07-12T05:23:05.817394Z",
          "iopub.status.idle": "2022-07-12T05:23:05.829205Z",
          "shell.execute_reply.started": "2022-07-12T05:23:05.817342Z",
          "shell.execute_reply": "2022-07-12T05:23:05.828444Z"
        },
        "trusted": true,
        "id": "RreifZo-B0Bo"
      },
      "execution_count": null,
      "outputs": []
    },
    {
      "cell_type": "code",
      "source": [
        "data['New_Col'] = list1\n",
        "data"
      ],
      "metadata": {
        "execution": {
          "iopub.status.busy": "2022-07-12T05:31:18.009653Z",
          "iopub.execute_input": "2022-07-12T05:31:18.010115Z",
          "iopub.status.idle": "2022-07-12T05:31:18.039570Z",
          "shell.execute_reply.started": "2022-07-12T05:31:18.010082Z",
          "shell.execute_reply": "2022-07-12T05:31:18.038767Z"
        },
        "trusted": true,
        "id": "kGAwhAZcB0Bo",
        "outputId": "6af87743-520d-47ac-9684-aa8afc338450"
      },
      "execution_count": null,
      "outputs": [
        {
          "execution_count": 39,
          "output_type": "execute_result",
          "data": {
            "text/plain": "                                                Address    Lot AM or PM  \\\n0     16629 Pace Camp Apt. 448\\nAlexisborough, NE 77...  46 in       PM   \n1     9374 Jasmine Spurs Suite 508\\nSouth John, TN 8...  28 rn       PM   \n2                      Unit 0065 Box 5052\\nDPO AP 27450  94 vE       PM   \n3                 7780 Julia Fords\\nNew Stacy, WA 45798  36 vm       PM   \n4     23012 Munoz Drive Suite 337\\nNew Cynthia, TX 5...  20 IE       AM   \n...                                                 ...    ...      ...   \n9995      966 Castaneda Locks\\nWest Juliafurt, CO 96415  92 XI       PM   \n9996  832 Curtis Dam Suite 785\\nNorth Edwardburgh, T...  41 JY       AM   \n9997              Unit 4434 Box 6343\\nDPO AE 28026-0283  74 Zh       AM   \n9998               0096 English Rest\\nRoystad, IA 12457  74 cL       PM   \n9999     40674 Barrett Stravenue\\nGrimesville, WI 79682  64 Hr       AM   \n\n                                           Browser Info  \\\n0     Opera/9.56.(X11; Linux x86_64; sl-SI) Presto/2...   \n1     Opera/8.93.(Windows 98; Win 9x 4.90; en-US) Pr...   \n2     Mozilla/5.0 (compatible; MSIE 9.0; Windows NT ...   \n3     Mozilla/5.0 (Macintosh; Intel Mac OS X 10_8_0 ...   \n4     Opera/9.58.(X11; Linux x86_64; it-IT) Presto/2...   \n...                                                 ...   \n9995  Mozilla/5.0 (Windows NT 5.1) AppleWebKit/5352 ...   \n9996  Mozilla/5.0 (compatible; MSIE 9.0; Windows NT ...   \n9997  Mozilla/5.0 (Macintosh; U; Intel Mac OS X 10_7...   \n9998  Mozilla/5.0 (Macintosh; Intel Mac OS X 10_8_8;...   \n9999  Mozilla/5.0 (X11; Linux i686; rv:1.9.5.20) Gec...   \n\n                              Company       Credit Card CC Exp Date  \\\n0                     Martinez-Herman  6011929061123406       02/20   \n1     Fletcher, Richards and Whitaker  3337758169645356       11/18   \n2          Simpson, Williams and Pham      675957666125       08/19   \n3     Williams, Marshall and Buchanan  6011578504430710       02/24   \n4           Brown, Watson and Andrews  6011456623207998       10/25   \n...                               ...               ...         ...   \n9995                    Randall-Sloan   342945015358701       03/22   \n9996         Hale, Collins and Wilson   210033169205009       07/25   \n9997                     Anderson Ltd  6011539787356311       05/21   \n9998                         Cook Inc   180003348082930       11/17   \n9999                       Greene Inc  4139972901927273       02/19   \n\n      CC Security Code                  CC Provider  \\\n0                  900                 JCB 16 digit   \n1                  561                   Mastercard   \n2                  699                 JCB 16 digit   \n3                  384                     Discover   \n4                  678  Diners Club / Carte Blanche   \n...                ...                          ...   \n9995               838                 JCB 15 digit   \n9996               207                 JCB 16 digit   \n9997                 1                VISA 16 digit   \n9998               987             American Express   \n9999               302                 JCB 15 digit   \n\n                               Email                                     Job  \\\n0                  pdunlap@yahoo.com  Scientist, product/process development   \n1                 anthony41@reed.com                       Drilling engineer   \n2     amymiller@morales-harrison.com                Customer service manager   \n3        brent16@olson-robinson.info                       Drilling engineer   \n4        christopherwright@gmail.com                             Fine artist   \n...                              ...                                     ...   \n9995          iscott@wade-garner.com                              Printmaker   \n9996              mary85@hotmail.com                         Energy engineer   \n9997               tyler16@gmail.com                      Veterinary surgeon   \n9998         elizabethmoore@reid.net                Local government officer   \n9999           rachelford@vaughn.com                  Embryologist, clinical   \n\n           IP Address Language  Purchase Price               New_Col  \n0     149.146.147.205       el           98.14             yahoo.com  \n1        15.160.41.51       fr           70.73              reed.com  \n2      132.207.160.22       de            0.95  morales-harrison.com  \n3        30.250.74.19       es           78.04   olson-robinson.info  \n4        24.140.33.94       es           77.82             gmail.com  \n...               ...      ...             ...                   ...  \n9995    29.73.197.114       it           82.21       wade-garner.com  \n9996   121.133.168.51       pt           25.63           hotmail.com  \n9997    156.210.0.254       el           83.98             gmail.com  \n9998     55.78.26.143       es           38.84              reid.net  \n9999  176.119.198.199       el           67.59            vaughn.com  \n\n[10000 rows x 15 columns]",
            "text/html": "<div>\n<style scoped>\n    .dataframe tbody tr th:only-of-type {\n        vertical-align: middle;\n    }\n\n    .dataframe tbody tr th {\n        vertical-align: top;\n    }\n\n    .dataframe thead th {\n        text-align: right;\n    }\n</style>\n<table border=\"1\" class=\"dataframe\">\n  <thead>\n    <tr style=\"text-align: right;\">\n      <th></th>\n      <th>Address</th>\n      <th>Lot</th>\n      <th>AM or PM</th>\n      <th>Browser Info</th>\n      <th>Company</th>\n      <th>Credit Card</th>\n      <th>CC Exp Date</th>\n      <th>CC Security Code</th>\n      <th>CC Provider</th>\n      <th>Email</th>\n      <th>Job</th>\n      <th>IP Address</th>\n      <th>Language</th>\n      <th>Purchase Price</th>\n      <th>New_Col</th>\n    </tr>\n  </thead>\n  <tbody>\n    <tr>\n      <th>0</th>\n      <td>16629 Pace Camp Apt. 448\\nAlexisborough, NE 77...</td>\n      <td>46 in</td>\n      <td>PM</td>\n      <td>Opera/9.56.(X11; Linux x86_64; sl-SI) Presto/2...</td>\n      <td>Martinez-Herman</td>\n      <td>6011929061123406</td>\n      <td>02/20</td>\n      <td>900</td>\n      <td>JCB 16 digit</td>\n      <td>pdunlap@yahoo.com</td>\n      <td>Scientist, product/process development</td>\n      <td>149.146.147.205</td>\n      <td>el</td>\n      <td>98.14</td>\n      <td>yahoo.com</td>\n    </tr>\n    <tr>\n      <th>1</th>\n      <td>9374 Jasmine Spurs Suite 508\\nSouth John, TN 8...</td>\n      <td>28 rn</td>\n      <td>PM</td>\n      <td>Opera/8.93.(Windows 98; Win 9x 4.90; en-US) Pr...</td>\n      <td>Fletcher, Richards and Whitaker</td>\n      <td>3337758169645356</td>\n      <td>11/18</td>\n      <td>561</td>\n      <td>Mastercard</td>\n      <td>anthony41@reed.com</td>\n      <td>Drilling engineer</td>\n      <td>15.160.41.51</td>\n      <td>fr</td>\n      <td>70.73</td>\n      <td>reed.com</td>\n    </tr>\n    <tr>\n      <th>2</th>\n      <td>Unit 0065 Box 5052\\nDPO AP 27450</td>\n      <td>94 vE</td>\n      <td>PM</td>\n      <td>Mozilla/5.0 (compatible; MSIE 9.0; Windows NT ...</td>\n      <td>Simpson, Williams and Pham</td>\n      <td>675957666125</td>\n      <td>08/19</td>\n      <td>699</td>\n      <td>JCB 16 digit</td>\n      <td>amymiller@morales-harrison.com</td>\n      <td>Customer service manager</td>\n      <td>132.207.160.22</td>\n      <td>de</td>\n      <td>0.95</td>\n      <td>morales-harrison.com</td>\n    </tr>\n    <tr>\n      <th>3</th>\n      <td>7780 Julia Fords\\nNew Stacy, WA 45798</td>\n      <td>36 vm</td>\n      <td>PM</td>\n      <td>Mozilla/5.0 (Macintosh; Intel Mac OS X 10_8_0 ...</td>\n      <td>Williams, Marshall and Buchanan</td>\n      <td>6011578504430710</td>\n      <td>02/24</td>\n      <td>384</td>\n      <td>Discover</td>\n      <td>brent16@olson-robinson.info</td>\n      <td>Drilling engineer</td>\n      <td>30.250.74.19</td>\n      <td>es</td>\n      <td>78.04</td>\n      <td>olson-robinson.info</td>\n    </tr>\n    <tr>\n      <th>4</th>\n      <td>23012 Munoz Drive Suite 337\\nNew Cynthia, TX 5...</td>\n      <td>20 IE</td>\n      <td>AM</td>\n      <td>Opera/9.58.(X11; Linux x86_64; it-IT) Presto/2...</td>\n      <td>Brown, Watson and Andrews</td>\n      <td>6011456623207998</td>\n      <td>10/25</td>\n      <td>678</td>\n      <td>Diners Club / Carte Blanche</td>\n      <td>christopherwright@gmail.com</td>\n      <td>Fine artist</td>\n      <td>24.140.33.94</td>\n      <td>es</td>\n      <td>77.82</td>\n      <td>gmail.com</td>\n    </tr>\n    <tr>\n      <th>...</th>\n      <td>...</td>\n      <td>...</td>\n      <td>...</td>\n      <td>...</td>\n      <td>...</td>\n      <td>...</td>\n      <td>...</td>\n      <td>...</td>\n      <td>...</td>\n      <td>...</td>\n      <td>...</td>\n      <td>...</td>\n      <td>...</td>\n      <td>...</td>\n      <td>...</td>\n    </tr>\n    <tr>\n      <th>9995</th>\n      <td>966 Castaneda Locks\\nWest Juliafurt, CO 96415</td>\n      <td>92 XI</td>\n      <td>PM</td>\n      <td>Mozilla/5.0 (Windows NT 5.1) AppleWebKit/5352 ...</td>\n      <td>Randall-Sloan</td>\n      <td>342945015358701</td>\n      <td>03/22</td>\n      <td>838</td>\n      <td>JCB 15 digit</td>\n      <td>iscott@wade-garner.com</td>\n      <td>Printmaker</td>\n      <td>29.73.197.114</td>\n      <td>it</td>\n      <td>82.21</td>\n      <td>wade-garner.com</td>\n    </tr>\n    <tr>\n      <th>9996</th>\n      <td>832 Curtis Dam Suite 785\\nNorth Edwardburgh, T...</td>\n      <td>41 JY</td>\n      <td>AM</td>\n      <td>Mozilla/5.0 (compatible; MSIE 9.0; Windows NT ...</td>\n      <td>Hale, Collins and Wilson</td>\n      <td>210033169205009</td>\n      <td>07/25</td>\n      <td>207</td>\n      <td>JCB 16 digit</td>\n      <td>mary85@hotmail.com</td>\n      <td>Energy engineer</td>\n      <td>121.133.168.51</td>\n      <td>pt</td>\n      <td>25.63</td>\n      <td>hotmail.com</td>\n    </tr>\n    <tr>\n      <th>9997</th>\n      <td>Unit 4434 Box 6343\\nDPO AE 28026-0283</td>\n      <td>74 Zh</td>\n      <td>AM</td>\n      <td>Mozilla/5.0 (Macintosh; U; Intel Mac OS X 10_7...</td>\n      <td>Anderson Ltd</td>\n      <td>6011539787356311</td>\n      <td>05/21</td>\n      <td>1</td>\n      <td>VISA 16 digit</td>\n      <td>tyler16@gmail.com</td>\n      <td>Veterinary surgeon</td>\n      <td>156.210.0.254</td>\n      <td>el</td>\n      <td>83.98</td>\n      <td>gmail.com</td>\n    </tr>\n    <tr>\n      <th>9998</th>\n      <td>0096 English Rest\\nRoystad, IA 12457</td>\n      <td>74 cL</td>\n      <td>PM</td>\n      <td>Mozilla/5.0 (Macintosh; Intel Mac OS X 10_8_8;...</td>\n      <td>Cook Inc</td>\n      <td>180003348082930</td>\n      <td>11/17</td>\n      <td>987</td>\n      <td>American Express</td>\n      <td>elizabethmoore@reid.net</td>\n      <td>Local government officer</td>\n      <td>55.78.26.143</td>\n      <td>es</td>\n      <td>38.84</td>\n      <td>reid.net</td>\n    </tr>\n    <tr>\n      <th>9999</th>\n      <td>40674 Barrett Stravenue\\nGrimesville, WI 79682</td>\n      <td>64 Hr</td>\n      <td>AM</td>\n      <td>Mozilla/5.0 (X11; Linux i686; rv:1.9.5.20) Gec...</td>\n      <td>Greene Inc</td>\n      <td>4139972901927273</td>\n      <td>02/19</td>\n      <td>302</td>\n      <td>JCB 15 digit</td>\n      <td>rachelford@vaughn.com</td>\n      <td>Embryologist, clinical</td>\n      <td>176.119.198.199</td>\n      <td>el</td>\n      <td>67.59</td>\n      <td>vaughn.com</td>\n    </tr>\n  </tbody>\n</table>\n<p>10000 rows × 15 columns</p>\n</div>"
          },
          "metadata": {}
        }
      ]
    },
    {
      "cell_type": "code",
      "source": [
        "data['New_Col'].value_counts().head(5)"
      ],
      "metadata": {
        "execution": {
          "iopub.status.busy": "2022-07-12T05:32:38.011693Z",
          "iopub.execute_input": "2022-07-12T05:32:38.012260Z",
          "iopub.status.idle": "2022-07-12T05:32:38.025718Z",
          "shell.execute_reply.started": "2022-07-12T05:32:38.012203Z",
          "shell.execute_reply": "2022-07-12T05:32:38.024586Z"
        },
        "trusted": true,
        "id": "xkOrlWPqB0Bo",
        "outputId": "d48456d2-e660-441e-fee5-222c0ec1cb2f"
      },
      "execution_count": null,
      "outputs": [
        {
          "execution_count": 43,
          "output_type": "execute_result",
          "data": {
            "text/plain": "hotmail.com     1638\nyahoo.com       1616\ngmail.com       1605\nsmith.com         42\nwilliams.com      37\nName: New_Col, dtype: int64"
          },
          "metadata": {}
        }
      ]
    },
    {
      "cell_type": "code",
      "source": [
        "#method 2\n",
        "data['Email'].apply(lambda x:x.split('@')[1]).value_counts().head(5)"
      ],
      "metadata": {
        "colab": {
          "base_uri": "https://localhost:8080/"
        },
        "id": "J4LuXm3EB0Bp",
        "outputId": "e75e9402-b799-4c7d-cffb-0f43c706b878"
      },
      "execution_count": 10,
      "outputs": [
        {
          "output_type": "execute_result",
          "data": {
            "text/plain": [
              "hotmail.com     1638\n",
              "yahoo.com       1616\n",
              "gmail.com       1605\n",
              "smith.com         42\n",
              "williams.com      37\n",
              "Name: Email, dtype: int64"
            ]
          },
          "metadata": {},
          "execution_count": 10
        }
      ]
    },
    {
      "cell_type": "code",
      "source": [],
      "metadata": {
        "id": "blR-ibOGI1Hn"
      },
      "execution_count": null,
      "outputs": []
    }
  ]
}