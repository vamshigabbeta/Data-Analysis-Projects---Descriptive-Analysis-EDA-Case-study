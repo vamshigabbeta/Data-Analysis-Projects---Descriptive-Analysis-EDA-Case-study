{
  "cells": [
    {
      "cell_type": "markdown",
      "source": [
        "Important Concepts covered: \n",
        "How to fetch random samples from the Dataset?\n",
        "isin\n",
        "between\n",
        "unique\n",
        "dropna\n",
        "replace\n",
        "duplicated\n",
        "drop_duplicates\n",
        "astype\n",
        "apply\n",
        "What is Univariate analysis?\n",
        "What is Bivariate analysis?\n",
        "Memory Optimization\n",
        "\n",
        "\n",
        "\n",
        "\n"
      ],
      "metadata": {
        "id": "qifrklcKLLxM"
      },
      "id": "qifrklcKLLxM"
    },
    {
      "cell_type": "markdown",
      "source": [
        "**The dataset contains 16 columns\n",
        "\n",
        "Target filed: Income (<=50K and >50K)    \n",
        "Number of attributes: 14 (These are the demographics and other features to describe a person)\n",
        "**"
      ],
      "metadata": {
        "id": "okl3--VdOlKr"
      },
      "id": "okl3--VdOlKr"
    },
    {
      "cell_type": "markdown",
      "id": "a1000978",
      "metadata": {
        "papermill": {
          "duration": 0.056037,
          "end_time": "2022-03-08T14:29:19.167732",
          "exception": false,
          "start_time": "2022-03-08T14:29:19.111695",
          "status": "completed"
        },
        "tags": [],
        "id": "a1000978"
      },
      "source": [
        "#### *Import libraries*"
      ]
    },
    {
      "cell_type": "code",
      "execution_count": 2,
      "id": "1049f4bc",
      "metadata": {
        "_cell_guid": "b1076dfc-b9ad-4769-8c92-a6c4dae69d19",
        "_uuid": "8f2839f25d086af736a60e9eeb907d3b93b6e0e5",
        "execution": {
          "iopub.execute_input": "2022-03-08T14:29:19.273518Z",
          "iopub.status.busy": "2022-03-08T14:29:19.272065Z",
          "iopub.status.idle": "2022-03-08T14:29:20.427427Z",
          "shell.execute_reply": "2022-03-08T14:29:20.426491Z",
          "shell.execute_reply.started": "2022-03-08T14:18:42.425516Z"
        },
        "papermill": {
          "duration": 1.211607,
          "end_time": "2022-03-08T14:29:20.427719",
          "exception": false,
          "start_time": "2022-03-08T14:29:19.216112",
          "status": "completed"
        },
        "tags": [],
        "id": "1049f4bc"
      },
      "outputs": [],
      "source": [
        "import numpy as np # linear algebra\n",
        "import pandas as pd # data processing, CSV file I/O (e.g. pd.read_csv)\n",
        "import seaborn as sns # data visualization\n",
        "import matplotlib.pyplot as plt # data visualization\n"
      ]
    },
    {
      "cell_type": "markdown",
      "id": "b87f9a92",
      "metadata": {
        "papermill": {
          "duration": 0.055313,
          "end_time": "2022-03-08T14:29:20.533478",
          "exception": false,
          "start_time": "2022-03-08T14:29:20.478165",
          "status": "completed"
        },
        "tags": [],
        "id": "b87f9a92"
      },
      "source": [
        "#### *Upload and Read the data*"
      ]
    },
    {
      "cell_type": "code",
      "execution_count": 3,
      "id": "f4c07947",
      "metadata": {
        "execution": {
          "iopub.execute_input": "2022-03-08T14:29:20.643223Z",
          "iopub.status.busy": "2022-03-08T14:29:20.642499Z",
          "iopub.status.idle": "2022-03-08T14:29:20.868070Z",
          "shell.execute_reply": "2022-03-08T14:29:20.868575Z",
          "shell.execute_reply.started": "2022-03-08T14:18:42.926913Z"
        },
        "papermill": {
          "duration": 0.283329,
          "end_time": "2022-03-08T14:29:20.868794",
          "exception": false,
          "start_time": "2022-03-08T14:29:20.585465",
          "status": "completed"
        },
        "tags": [],
        "id": "f4c07947"
      },
      "outputs": [],
      "source": [
        "df = pd.read_csv(\"/content/sample_data/adult.csv\")"
      ]
    },
    {
      "cell_type": "code",
      "source": [],
      "metadata": {
        "id": "6x7tehvuL3JU"
      },
      "id": "6x7tehvuL3JU",
      "execution_count": null,
      "outputs": []
    },
    {
      "cell_type": "markdown",
      "id": "4dbb8cc1",
      "metadata": {
        "papermill": {
          "duration": 0.055199,
          "end_time": "2022-03-08T14:29:20.977660",
          "exception": false,
          "start_time": "2022-03-08T14:29:20.922461",
          "status": "completed"
        },
        "tags": [],
        "id": "4dbb8cc1"
      },
      "source": [
        "#### *First 10 records*"
      ]
    },
    {
      "cell_type": "code",
      "execution_count": 4,
      "id": "975b7a65",
      "metadata": {
        "execution": {
          "iopub.execute_input": "2022-03-08T14:29:21.086490Z",
          "iopub.status.busy": "2022-03-08T14:29:21.085457Z",
          "iopub.status.idle": "2022-03-08T14:29:21.114712Z",
          "shell.execute_reply": "2022-03-08T14:29:21.113834Z",
          "shell.execute_reply.started": "2022-03-08T14:18:43.040274Z"
        },
        "papermill": {
          "duration": 0.084862,
          "end_time": "2022-03-08T14:29:21.114919",
          "exception": false,
          "start_time": "2022-03-08T14:29:21.030057",
          "status": "completed"
        },
        "tags": [],
        "colab": {
          "base_uri": "https://localhost:8080/",
          "height": 722
        },
        "id": "975b7a65",
        "outputId": "8b7e21a5-8bb9-4ed9-92ba-28a2ff30244f"
      },
      "outputs": [
        {
          "output_type": "execute_result",
          "data": {
            "text/plain": [
              "   age         workclass  fnlwgt     education  educational-num  \\\n",
              "0   25           Private  226802          11th                7   \n",
              "1   38           Private   89814       HS-grad                9   \n",
              "2   28         Local-gov  336951    Assoc-acdm               12   \n",
              "3   44           Private  160323  Some-college               10   \n",
              "4   18                 ?  103497  Some-college               10   \n",
              "5   34           Private  198693          10th                6   \n",
              "6   29                 ?  227026       HS-grad                9   \n",
              "7   63  Self-emp-not-inc  104626   Prof-school               15   \n",
              "8   24           Private  369667  Some-college               10   \n",
              "9   55           Private  104996       7th-8th                4   \n",
              "\n",
              "       marital-status         occupation   relationship   race  gender  \\\n",
              "0       Never-married  Machine-op-inspct      Own-child  Black    Male   \n",
              "1  Married-civ-spouse    Farming-fishing        Husband  White    Male   \n",
              "2  Married-civ-spouse    Protective-serv        Husband  White    Male   \n",
              "3  Married-civ-spouse  Machine-op-inspct        Husband  Black    Male   \n",
              "4       Never-married                  ?      Own-child  White  Female   \n",
              "5       Never-married      Other-service  Not-in-family  White    Male   \n",
              "6       Never-married                  ?      Unmarried  Black    Male   \n",
              "7  Married-civ-spouse     Prof-specialty        Husband  White    Male   \n",
              "8       Never-married      Other-service      Unmarried  White  Female   \n",
              "9  Married-civ-spouse       Craft-repair        Husband  White    Male   \n",
              "\n",
              "   capital-gain  capital-loss  hours-per-week native-country income  \n",
              "0             0             0              40  United-States  <=50K  \n",
              "1             0             0              50  United-States  <=50K  \n",
              "2             0             0              40  United-States   >50K  \n",
              "3          7688             0              40  United-States   >50K  \n",
              "4             0             0              30  United-States  <=50K  \n",
              "5             0             0              30  United-States  <=50K  \n",
              "6             0             0              40  United-States  <=50K  \n",
              "7          3103             0              32  United-States   >50K  \n",
              "8             0             0              40  United-States  <=50K  \n",
              "9             0             0              10  United-States  <=50K  "
            ],
            "text/html": [
              "\n",
              "  <div id=\"df-bb8febed-cdc9-4a18-bb52-85340840945a\">\n",
              "    <div class=\"colab-df-container\">\n",
              "      <div>\n",
              "<style scoped>\n",
              "    .dataframe tbody tr th:only-of-type {\n",
              "        vertical-align: middle;\n",
              "    }\n",
              "\n",
              "    .dataframe tbody tr th {\n",
              "        vertical-align: top;\n",
              "    }\n",
              "\n",
              "    .dataframe thead th {\n",
              "        text-align: right;\n",
              "    }\n",
              "</style>\n",
              "<table border=\"1\" class=\"dataframe\">\n",
              "  <thead>\n",
              "    <tr style=\"text-align: right;\">\n",
              "      <th></th>\n",
              "      <th>age</th>\n",
              "      <th>workclass</th>\n",
              "      <th>fnlwgt</th>\n",
              "      <th>education</th>\n",
              "      <th>educational-num</th>\n",
              "      <th>marital-status</th>\n",
              "      <th>occupation</th>\n",
              "      <th>relationship</th>\n",
              "      <th>race</th>\n",
              "      <th>gender</th>\n",
              "      <th>capital-gain</th>\n",
              "      <th>capital-loss</th>\n",
              "      <th>hours-per-week</th>\n",
              "      <th>native-country</th>\n",
              "      <th>income</th>\n",
              "    </tr>\n",
              "  </thead>\n",
              "  <tbody>\n",
              "    <tr>\n",
              "      <th>0</th>\n",
              "      <td>25</td>\n",
              "      <td>Private</td>\n",
              "      <td>226802</td>\n",
              "      <td>11th</td>\n",
              "      <td>7</td>\n",
              "      <td>Never-married</td>\n",
              "      <td>Machine-op-inspct</td>\n",
              "      <td>Own-child</td>\n",
              "      <td>Black</td>\n",
              "      <td>Male</td>\n",
              "      <td>0</td>\n",
              "      <td>0</td>\n",
              "      <td>40</td>\n",
              "      <td>United-States</td>\n",
              "      <td>&lt;=50K</td>\n",
              "    </tr>\n",
              "    <tr>\n",
              "      <th>1</th>\n",
              "      <td>38</td>\n",
              "      <td>Private</td>\n",
              "      <td>89814</td>\n",
              "      <td>HS-grad</td>\n",
              "      <td>9</td>\n",
              "      <td>Married-civ-spouse</td>\n",
              "      <td>Farming-fishing</td>\n",
              "      <td>Husband</td>\n",
              "      <td>White</td>\n",
              "      <td>Male</td>\n",
              "      <td>0</td>\n",
              "      <td>0</td>\n",
              "      <td>50</td>\n",
              "      <td>United-States</td>\n",
              "      <td>&lt;=50K</td>\n",
              "    </tr>\n",
              "    <tr>\n",
              "      <th>2</th>\n",
              "      <td>28</td>\n",
              "      <td>Local-gov</td>\n",
              "      <td>336951</td>\n",
              "      <td>Assoc-acdm</td>\n",
              "      <td>12</td>\n",
              "      <td>Married-civ-spouse</td>\n",
              "      <td>Protective-serv</td>\n",
              "      <td>Husband</td>\n",
              "      <td>White</td>\n",
              "      <td>Male</td>\n",
              "      <td>0</td>\n",
              "      <td>0</td>\n",
              "      <td>40</td>\n",
              "      <td>United-States</td>\n",
              "      <td>&gt;50K</td>\n",
              "    </tr>\n",
              "    <tr>\n",
              "      <th>3</th>\n",
              "      <td>44</td>\n",
              "      <td>Private</td>\n",
              "      <td>160323</td>\n",
              "      <td>Some-college</td>\n",
              "      <td>10</td>\n",
              "      <td>Married-civ-spouse</td>\n",
              "      <td>Machine-op-inspct</td>\n",
              "      <td>Husband</td>\n",
              "      <td>Black</td>\n",
              "      <td>Male</td>\n",
              "      <td>7688</td>\n",
              "      <td>0</td>\n",
              "      <td>40</td>\n",
              "      <td>United-States</td>\n",
              "      <td>&gt;50K</td>\n",
              "    </tr>\n",
              "    <tr>\n",
              "      <th>4</th>\n",
              "      <td>18</td>\n",
              "      <td>?</td>\n",
              "      <td>103497</td>\n",
              "      <td>Some-college</td>\n",
              "      <td>10</td>\n",
              "      <td>Never-married</td>\n",
              "      <td>?</td>\n",
              "      <td>Own-child</td>\n",
              "      <td>White</td>\n",
              "      <td>Female</td>\n",
              "      <td>0</td>\n",
              "      <td>0</td>\n",
              "      <td>30</td>\n",
              "      <td>United-States</td>\n",
              "      <td>&lt;=50K</td>\n",
              "    </tr>\n",
              "    <tr>\n",
              "      <th>5</th>\n",
              "      <td>34</td>\n",
              "      <td>Private</td>\n",
              "      <td>198693</td>\n",
              "      <td>10th</td>\n",
              "      <td>6</td>\n",
              "      <td>Never-married</td>\n",
              "      <td>Other-service</td>\n",
              "      <td>Not-in-family</td>\n",
              "      <td>White</td>\n",
              "      <td>Male</td>\n",
              "      <td>0</td>\n",
              "      <td>0</td>\n",
              "      <td>30</td>\n",
              "      <td>United-States</td>\n",
              "      <td>&lt;=50K</td>\n",
              "    </tr>\n",
              "    <tr>\n",
              "      <th>6</th>\n",
              "      <td>29</td>\n",
              "      <td>?</td>\n",
              "      <td>227026</td>\n",
              "      <td>HS-grad</td>\n",
              "      <td>9</td>\n",
              "      <td>Never-married</td>\n",
              "      <td>?</td>\n",
              "      <td>Unmarried</td>\n",
              "      <td>Black</td>\n",
              "      <td>Male</td>\n",
              "      <td>0</td>\n",
              "      <td>0</td>\n",
              "      <td>40</td>\n",
              "      <td>United-States</td>\n",
              "      <td>&lt;=50K</td>\n",
              "    </tr>\n",
              "    <tr>\n",
              "      <th>7</th>\n",
              "      <td>63</td>\n",
              "      <td>Self-emp-not-inc</td>\n",
              "      <td>104626</td>\n",
              "      <td>Prof-school</td>\n",
              "      <td>15</td>\n",
              "      <td>Married-civ-spouse</td>\n",
              "      <td>Prof-specialty</td>\n",
              "      <td>Husband</td>\n",
              "      <td>White</td>\n",
              "      <td>Male</td>\n",
              "      <td>3103</td>\n",
              "      <td>0</td>\n",
              "      <td>32</td>\n",
              "      <td>United-States</td>\n",
              "      <td>&gt;50K</td>\n",
              "    </tr>\n",
              "    <tr>\n",
              "      <th>8</th>\n",
              "      <td>24</td>\n",
              "      <td>Private</td>\n",
              "      <td>369667</td>\n",
              "      <td>Some-college</td>\n",
              "      <td>10</td>\n",
              "      <td>Never-married</td>\n",
              "      <td>Other-service</td>\n",
              "      <td>Unmarried</td>\n",
              "      <td>White</td>\n",
              "      <td>Female</td>\n",
              "      <td>0</td>\n",
              "      <td>0</td>\n",
              "      <td>40</td>\n",
              "      <td>United-States</td>\n",
              "      <td>&lt;=50K</td>\n",
              "    </tr>\n",
              "    <tr>\n",
              "      <th>9</th>\n",
              "      <td>55</td>\n",
              "      <td>Private</td>\n",
              "      <td>104996</td>\n",
              "      <td>7th-8th</td>\n",
              "      <td>4</td>\n",
              "      <td>Married-civ-spouse</td>\n",
              "      <td>Craft-repair</td>\n",
              "      <td>Husband</td>\n",
              "      <td>White</td>\n",
              "      <td>Male</td>\n",
              "      <td>0</td>\n",
              "      <td>0</td>\n",
              "      <td>10</td>\n",
              "      <td>United-States</td>\n",
              "      <td>&lt;=50K</td>\n",
              "    </tr>\n",
              "  </tbody>\n",
              "</table>\n",
              "</div>\n",
              "      <button class=\"colab-df-convert\" onclick=\"convertToInteractive('df-bb8febed-cdc9-4a18-bb52-85340840945a')\"\n",
              "              title=\"Convert this dataframe to an interactive table.\"\n",
              "              style=\"display:none;\">\n",
              "        \n",
              "  <svg xmlns=\"http://www.w3.org/2000/svg\" height=\"24px\"viewBox=\"0 0 24 24\"\n",
              "       width=\"24px\">\n",
              "    <path d=\"M0 0h24v24H0V0z\" fill=\"none\"/>\n",
              "    <path d=\"M18.56 5.44l.94 2.06.94-2.06 2.06-.94-2.06-.94-.94-2.06-.94 2.06-2.06.94zm-11 1L8.5 8.5l.94-2.06 2.06-.94-2.06-.94L8.5 2.5l-.94 2.06-2.06.94zm10 10l.94 2.06.94-2.06 2.06-.94-2.06-.94-.94-2.06-.94 2.06-2.06.94z\"/><path d=\"M17.41 7.96l-1.37-1.37c-.4-.4-.92-.59-1.43-.59-.52 0-1.04.2-1.43.59L10.3 9.45l-7.72 7.72c-.78.78-.78 2.05 0 2.83L4 21.41c.39.39.9.59 1.41.59.51 0 1.02-.2 1.41-.59l7.78-7.78 2.81-2.81c.8-.78.8-2.07 0-2.86zM5.41 20L4 18.59l7.72-7.72 1.47 1.35L5.41 20z\"/>\n",
              "  </svg>\n",
              "      </button>\n",
              "      \n",
              "  <style>\n",
              "    .colab-df-container {\n",
              "      display:flex;\n",
              "      flex-wrap:wrap;\n",
              "      gap: 12px;\n",
              "    }\n",
              "\n",
              "    .colab-df-convert {\n",
              "      background-color: #E8F0FE;\n",
              "      border: none;\n",
              "      border-radius: 50%;\n",
              "      cursor: pointer;\n",
              "      display: none;\n",
              "      fill: #1967D2;\n",
              "      height: 32px;\n",
              "      padding: 0 0 0 0;\n",
              "      width: 32px;\n",
              "    }\n",
              "\n",
              "    .colab-df-convert:hover {\n",
              "      background-color: #E2EBFA;\n",
              "      box-shadow: 0px 1px 2px rgba(60, 64, 67, 0.3), 0px 1px 3px 1px rgba(60, 64, 67, 0.15);\n",
              "      fill: #174EA6;\n",
              "    }\n",
              "\n",
              "    [theme=dark] .colab-df-convert {\n",
              "      background-color: #3B4455;\n",
              "      fill: #D2E3FC;\n",
              "    }\n",
              "\n",
              "    [theme=dark] .colab-df-convert:hover {\n",
              "      background-color: #434B5C;\n",
              "      box-shadow: 0px 1px 3px 1px rgba(0, 0, 0, 0.15);\n",
              "      filter: drop-shadow(0px 1px 2px rgba(0, 0, 0, 0.3));\n",
              "      fill: #FFFFFF;\n",
              "    }\n",
              "  </style>\n",
              "\n",
              "      <script>\n",
              "        const buttonEl =\n",
              "          document.querySelector('#df-bb8febed-cdc9-4a18-bb52-85340840945a button.colab-df-convert');\n",
              "        buttonEl.style.display =\n",
              "          google.colab.kernel.accessAllowed ? 'block' : 'none';\n",
              "\n",
              "        async function convertToInteractive(key) {\n",
              "          const element = document.querySelector('#df-bb8febed-cdc9-4a18-bb52-85340840945a');\n",
              "          const dataTable =\n",
              "            await google.colab.kernel.invokeFunction('convertToInteractive',\n",
              "                                                     [key], {});\n",
              "          if (!dataTable) return;\n",
              "\n",
              "          const docLinkHtml = 'Like what you see? Visit the ' +\n",
              "            '<a target=\"_blank\" href=https://colab.research.google.com/notebooks/data_table.ipynb>data table notebook</a>'\n",
              "            + ' to learn more about interactive tables.';\n",
              "          element.innerHTML = '';\n",
              "          dataTable['output_type'] = 'display_data';\n",
              "          await google.colab.output.renderOutput(dataTable, element);\n",
              "          const docLink = document.createElement('div');\n",
              "          docLink.innerHTML = docLinkHtml;\n",
              "          element.appendChild(docLink);\n",
              "        }\n",
              "      </script>\n",
              "    </div>\n",
              "  </div>\n",
              "  "
            ]
          },
          "metadata": {},
          "execution_count": 4
        }
      ],
      "source": [
        "df.head(10)"
      ]
    },
    {
      "cell_type": "markdown",
      "id": "bbfb6e00",
      "metadata": {
        "papermill": {
          "duration": 0.055083,
          "end_time": "2022-03-08T14:29:21.223203",
          "exception": false,
          "start_time": "2022-03-08T14:29:21.168120",
          "status": "completed"
        },
        "tags": [],
        "id": "bbfb6e00"
      },
      "source": [
        "#### *Last 10 records*"
      ]
    },
    {
      "cell_type": "code",
      "execution_count": null,
      "id": "1ca3c4b8",
      "metadata": {
        "execution": {
          "iopub.execute_input": "2022-03-08T14:29:21.344002Z",
          "iopub.status.busy": "2022-03-08T14:29:21.343297Z",
          "iopub.status.idle": "2022-03-08T14:29:21.347381Z",
          "shell.execute_reply": "2022-03-08T14:29:21.347823Z",
          "shell.execute_reply.started": "2022-03-08T14:18:43.067061Z"
        },
        "papermill": {
          "duration": 0.07399,
          "end_time": "2022-03-08T14:29:21.348044",
          "exception": false,
          "start_time": "2022-03-08T14:29:21.274054",
          "status": "completed"
        },
        "tags": [],
        "id": "1ca3c4b8",
        "outputId": "529a257b-e2e1-4ef6-e583-3a5732181d6c"
      },
      "outputs": [
        {
          "data": {
            "text/html": [
              "<div>\n",
              "<style scoped>\n",
              "    .dataframe tbody tr th:only-of-type {\n",
              "        vertical-align: middle;\n",
              "    }\n",
              "\n",
              "    .dataframe tbody tr th {\n",
              "        vertical-align: top;\n",
              "    }\n",
              "\n",
              "    .dataframe thead th {\n",
              "        text-align: right;\n",
              "    }\n",
              "</style>\n",
              "<table border=\"1\" class=\"dataframe\">\n",
              "  <thead>\n",
              "    <tr style=\"text-align: right;\">\n",
              "      <th></th>\n",
              "      <th>age</th>\n",
              "      <th>workclass</th>\n",
              "      <th>fnlwgt</th>\n",
              "      <th>education</th>\n",
              "      <th>educational-num</th>\n",
              "      <th>marital-status</th>\n",
              "      <th>occupation</th>\n",
              "      <th>relationship</th>\n",
              "      <th>race</th>\n",
              "      <th>gender</th>\n",
              "      <th>capital-gain</th>\n",
              "      <th>capital-loss</th>\n",
              "      <th>hours-per-week</th>\n",
              "      <th>native-country</th>\n",
              "      <th>income</th>\n",
              "    </tr>\n",
              "  </thead>\n",
              "  <tbody>\n",
              "    <tr>\n",
              "      <th>48832</th>\n",
              "      <td>32</td>\n",
              "      <td>Private</td>\n",
              "      <td>34066</td>\n",
              "      <td>10th</td>\n",
              "      <td>6</td>\n",
              "      <td>Married-civ-spouse</td>\n",
              "      <td>Handlers-cleaners</td>\n",
              "      <td>Husband</td>\n",
              "      <td>Amer-Indian-Eskimo</td>\n",
              "      <td>Male</td>\n",
              "      <td>0</td>\n",
              "      <td>0</td>\n",
              "      <td>40</td>\n",
              "      <td>United-States</td>\n",
              "      <td>&lt;=50K</td>\n",
              "    </tr>\n",
              "    <tr>\n",
              "      <th>48833</th>\n",
              "      <td>43</td>\n",
              "      <td>Private</td>\n",
              "      <td>84661</td>\n",
              "      <td>Assoc-voc</td>\n",
              "      <td>11</td>\n",
              "      <td>Married-civ-spouse</td>\n",
              "      <td>Sales</td>\n",
              "      <td>Husband</td>\n",
              "      <td>White</td>\n",
              "      <td>Male</td>\n",
              "      <td>0</td>\n",
              "      <td>0</td>\n",
              "      <td>45</td>\n",
              "      <td>United-States</td>\n",
              "      <td>&lt;=50K</td>\n",
              "    </tr>\n",
              "    <tr>\n",
              "      <th>48834</th>\n",
              "      <td>32</td>\n",
              "      <td>Private</td>\n",
              "      <td>116138</td>\n",
              "      <td>Masters</td>\n",
              "      <td>14</td>\n",
              "      <td>Never-married</td>\n",
              "      <td>Tech-support</td>\n",
              "      <td>Not-in-family</td>\n",
              "      <td>Asian-Pac-Islander</td>\n",
              "      <td>Male</td>\n",
              "      <td>0</td>\n",
              "      <td>0</td>\n",
              "      <td>11</td>\n",
              "      <td>Taiwan</td>\n",
              "      <td>&lt;=50K</td>\n",
              "    </tr>\n",
              "    <tr>\n",
              "      <th>48835</th>\n",
              "      <td>53</td>\n",
              "      <td>Private</td>\n",
              "      <td>321865</td>\n",
              "      <td>Masters</td>\n",
              "      <td>14</td>\n",
              "      <td>Married-civ-spouse</td>\n",
              "      <td>Exec-managerial</td>\n",
              "      <td>Husband</td>\n",
              "      <td>White</td>\n",
              "      <td>Male</td>\n",
              "      <td>0</td>\n",
              "      <td>0</td>\n",
              "      <td>40</td>\n",
              "      <td>United-States</td>\n",
              "      <td>&gt;50K</td>\n",
              "    </tr>\n",
              "    <tr>\n",
              "      <th>48836</th>\n",
              "      <td>22</td>\n",
              "      <td>Private</td>\n",
              "      <td>310152</td>\n",
              "      <td>Some-college</td>\n",
              "      <td>10</td>\n",
              "      <td>Never-married</td>\n",
              "      <td>Protective-serv</td>\n",
              "      <td>Not-in-family</td>\n",
              "      <td>White</td>\n",
              "      <td>Male</td>\n",
              "      <td>0</td>\n",
              "      <td>0</td>\n",
              "      <td>40</td>\n",
              "      <td>United-States</td>\n",
              "      <td>&lt;=50K</td>\n",
              "    </tr>\n",
              "    <tr>\n",
              "      <th>48837</th>\n",
              "      <td>27</td>\n",
              "      <td>Private</td>\n",
              "      <td>257302</td>\n",
              "      <td>Assoc-acdm</td>\n",
              "      <td>12</td>\n",
              "      <td>Married-civ-spouse</td>\n",
              "      <td>Tech-support</td>\n",
              "      <td>Wife</td>\n",
              "      <td>White</td>\n",
              "      <td>Female</td>\n",
              "      <td>0</td>\n",
              "      <td>0</td>\n",
              "      <td>38</td>\n",
              "      <td>United-States</td>\n",
              "      <td>&lt;=50K</td>\n",
              "    </tr>\n",
              "    <tr>\n",
              "      <th>48838</th>\n",
              "      <td>40</td>\n",
              "      <td>Private</td>\n",
              "      <td>154374</td>\n",
              "      <td>HS-grad</td>\n",
              "      <td>9</td>\n",
              "      <td>Married-civ-spouse</td>\n",
              "      <td>Machine-op-inspct</td>\n",
              "      <td>Husband</td>\n",
              "      <td>White</td>\n",
              "      <td>Male</td>\n",
              "      <td>0</td>\n",
              "      <td>0</td>\n",
              "      <td>40</td>\n",
              "      <td>United-States</td>\n",
              "      <td>&gt;50K</td>\n",
              "    </tr>\n",
              "    <tr>\n",
              "      <th>48839</th>\n",
              "      <td>58</td>\n",
              "      <td>Private</td>\n",
              "      <td>151910</td>\n",
              "      <td>HS-grad</td>\n",
              "      <td>9</td>\n",
              "      <td>Widowed</td>\n",
              "      <td>Adm-clerical</td>\n",
              "      <td>Unmarried</td>\n",
              "      <td>White</td>\n",
              "      <td>Female</td>\n",
              "      <td>0</td>\n",
              "      <td>0</td>\n",
              "      <td>40</td>\n",
              "      <td>United-States</td>\n",
              "      <td>&lt;=50K</td>\n",
              "    </tr>\n",
              "    <tr>\n",
              "      <th>48840</th>\n",
              "      <td>22</td>\n",
              "      <td>Private</td>\n",
              "      <td>201490</td>\n",
              "      <td>HS-grad</td>\n",
              "      <td>9</td>\n",
              "      <td>Never-married</td>\n",
              "      <td>Adm-clerical</td>\n",
              "      <td>Own-child</td>\n",
              "      <td>White</td>\n",
              "      <td>Male</td>\n",
              "      <td>0</td>\n",
              "      <td>0</td>\n",
              "      <td>20</td>\n",
              "      <td>United-States</td>\n",
              "      <td>&lt;=50K</td>\n",
              "    </tr>\n",
              "    <tr>\n",
              "      <th>48841</th>\n",
              "      <td>52</td>\n",
              "      <td>Self-emp-inc</td>\n",
              "      <td>287927</td>\n",
              "      <td>HS-grad</td>\n",
              "      <td>9</td>\n",
              "      <td>Married-civ-spouse</td>\n",
              "      <td>Exec-managerial</td>\n",
              "      <td>Wife</td>\n",
              "      <td>White</td>\n",
              "      <td>Female</td>\n",
              "      <td>15024</td>\n",
              "      <td>0</td>\n",
              "      <td>40</td>\n",
              "      <td>United-States</td>\n",
              "      <td>&gt;50K</td>\n",
              "    </tr>\n",
              "  </tbody>\n",
              "</table>\n",
              "</div>"
            ],
            "text/plain": [
              "       age     workclass  fnlwgt     education  educational-num  \\\n",
              "48832   32       Private   34066          10th                6   \n",
              "48833   43       Private   84661     Assoc-voc               11   \n",
              "48834   32       Private  116138       Masters               14   \n",
              "48835   53       Private  321865       Masters               14   \n",
              "48836   22       Private  310152  Some-college               10   \n",
              "48837   27       Private  257302    Assoc-acdm               12   \n",
              "48838   40       Private  154374       HS-grad                9   \n",
              "48839   58       Private  151910       HS-grad                9   \n",
              "48840   22       Private  201490       HS-grad                9   \n",
              "48841   52  Self-emp-inc  287927       HS-grad                9   \n",
              "\n",
              "           marital-status         occupation   relationship  \\\n",
              "48832  Married-civ-spouse  Handlers-cleaners        Husband   \n",
              "48833  Married-civ-spouse              Sales        Husband   \n",
              "48834       Never-married       Tech-support  Not-in-family   \n",
              "48835  Married-civ-spouse    Exec-managerial        Husband   \n",
              "48836       Never-married    Protective-serv  Not-in-family   \n",
              "48837  Married-civ-spouse       Tech-support           Wife   \n",
              "48838  Married-civ-spouse  Machine-op-inspct        Husband   \n",
              "48839             Widowed       Adm-clerical      Unmarried   \n",
              "48840       Never-married       Adm-clerical      Own-child   \n",
              "48841  Married-civ-spouse    Exec-managerial           Wife   \n",
              "\n",
              "                     race  gender  capital-gain  capital-loss  hours-per-week  \\\n",
              "48832  Amer-Indian-Eskimo    Male             0             0              40   \n",
              "48833               White    Male             0             0              45   \n",
              "48834  Asian-Pac-Islander    Male             0             0              11   \n",
              "48835               White    Male             0             0              40   \n",
              "48836               White    Male             0             0              40   \n",
              "48837               White  Female             0             0              38   \n",
              "48838               White    Male             0             0              40   \n",
              "48839               White  Female             0             0              40   \n",
              "48840               White    Male             0             0              20   \n",
              "48841               White  Female         15024             0              40   \n",
              "\n",
              "      native-country income  \n",
              "48832  United-States  <=50K  \n",
              "48833  United-States  <=50K  \n",
              "48834         Taiwan  <=50K  \n",
              "48835  United-States   >50K  \n",
              "48836  United-States  <=50K  \n",
              "48837  United-States  <=50K  \n",
              "48838  United-States   >50K  \n",
              "48839  United-States  <=50K  \n",
              "48840  United-States  <=50K  \n",
              "48841  United-States   >50K  "
            ]
          },
          "execution_count": 4,
          "metadata": {},
          "output_type": "execute_result"
        }
      ],
      "source": [
        "df.tail(10)"
      ]
    },
    {
      "cell_type": "markdown",
      "id": "fcb4eded",
      "metadata": {
        "papermill": {
          "duration": 0.049697,
          "end_time": "2022-03-08T14:29:21.450093",
          "exception": false,
          "start_time": "2022-03-08T14:29:21.400396",
          "status": "completed"
        },
        "tags": [],
        "id": "fcb4eded"
      },
      "source": [
        "#### *Number of rows and number of columns*"
      ]
    },
    {
      "cell_type": "code",
      "execution_count": 5,
      "id": "ce733db7",
      "metadata": {
        "execution": {
          "iopub.execute_input": "2022-03-08T14:29:21.553284Z",
          "iopub.status.busy": "2022-03-08T14:29:21.552612Z",
          "iopub.status.idle": "2022-03-08T14:29:21.558595Z",
          "shell.execute_reply": "2022-03-08T14:29:21.557989Z",
          "shell.execute_reply.started": "2022-03-08T14:18:43.088045Z"
        },
        "papermill": {
          "duration": 0.058753,
          "end_time": "2022-03-08T14:29:21.558773",
          "exception": false,
          "start_time": "2022-03-08T14:29:21.500020",
          "status": "completed"
        },
        "tags": [],
        "colab": {
          "base_uri": "https://localhost:8080/"
        },
        "id": "ce733db7",
        "outputId": "c62fe894-cec8-45fa-b7bc-370525608551"
      },
      "outputs": [
        {
          "output_type": "stream",
          "name": "stdout",
          "text": [
            "Number of rows : 48842\n",
            "Number of columns : 15\n"
          ]
        }
      ],
      "source": [
        "print(f\"Number of rows : {df.shape[0]}\")\n",
        "print(f\"Number of columns : {df.shape[1]}\")"
      ]
    },
    {
      "cell_type": "markdown",
      "id": "d8136477",
      "metadata": {
        "papermill": {
          "duration": 0.050219,
          "end_time": "2022-03-08T14:29:21.661044",
          "exception": false,
          "start_time": "2022-03-08T14:29:21.610825",
          "status": "completed"
        },
        "tags": [],
        "id": "d8136477"
      },
      "source": [
        "#### *Check info summary*"
      ]
    },
    {
      "cell_type": "code",
      "execution_count": null,
      "id": "f91fa15f",
      "metadata": {
        "execution": {
          "iopub.execute_input": "2022-03-08T14:29:21.790173Z",
          "iopub.status.busy": "2022-03-08T14:29:21.789109Z",
          "iopub.status.idle": "2022-03-08T14:29:21.813627Z",
          "shell.execute_reply": "2022-03-08T14:29:21.814123Z",
          "shell.execute_reply.started": "2022-03-08T14:18:43.098124Z"
        },
        "papermill": {
          "duration": 0.100944,
          "end_time": "2022-03-08T14:29:21.814325",
          "exception": false,
          "start_time": "2022-03-08T14:29:21.713381",
          "status": "completed"
        },
        "tags": [],
        "id": "f91fa15f",
        "outputId": "ea88d397-6af0-4927-bb1b-1b6865000133"
      },
      "outputs": [
        {
          "name": "stdout",
          "output_type": "stream",
          "text": [
            "<class 'pandas.core.frame.DataFrame'>\n",
            "RangeIndex: 48842 entries, 0 to 48841\n",
            "Data columns (total 15 columns):\n",
            " #   Column           Non-Null Count  Dtype \n",
            "---  ------           --------------  ----- \n",
            " 0   age              48842 non-null  int64 \n",
            " 1   workclass        48842 non-null  object\n",
            " 2   fnlwgt           48842 non-null  int64 \n",
            " 3   education        48842 non-null  object\n",
            " 4   educational-num  48842 non-null  int64 \n",
            " 5   marital-status   48842 non-null  object\n",
            " 6   occupation       48842 non-null  object\n",
            " 7   relationship     48842 non-null  object\n",
            " 8   race             48842 non-null  object\n",
            " 9   gender           48842 non-null  object\n",
            " 10  capital-gain     48842 non-null  int64 \n",
            " 11  capital-loss     48842 non-null  int64 \n",
            " 12  hours-per-week   48842 non-null  int64 \n",
            " 13  native-country   48842 non-null  object\n",
            " 14  income           48842 non-null  object\n",
            "dtypes: int64(6), object(9)\n",
            "memory usage: 5.6+ MB\n"
          ]
        }
      ],
      "source": [
        "df.info()"
      ]
    },
    {
      "cell_type": "markdown",
      "id": "e572acc6",
      "metadata": {
        "papermill": {
          "duration": 0.050702,
          "end_time": "2022-03-08T14:29:21.916170",
          "exception": false,
          "start_time": "2022-03-08T14:29:21.865468",
          "status": "completed"
        },
        "tags": [],
        "id": "e572acc6"
      },
      "source": [
        "* DataFrame has 15 columns \n",
        "* 6 columns are (int64 Dtype) and 9 columns are (object Dtype)"
      ]
    },
    {
      "cell_type": "markdown",
      "id": "57626670",
      "metadata": {
        "papermill": {
          "duration": 0.055539,
          "end_time": "2022-03-08T14:29:22.023749",
          "exception": false,
          "start_time": "2022-03-08T14:29:21.968210",
          "status": "completed"
        },
        "tags": [],
        "id": "57626670"
      },
      "source": [
        "* Some columns have value as  '?'\n",
        "* Let's find out how many columns have  '?'"
      ]
    },
    {
      "cell_type": "code",
      "execution_count": 6,
      "id": "d8327f0c",
      "metadata": {
        "execution": {
          "iopub.execute_input": "2022-03-08T14:29:22.165839Z",
          "iopub.status.busy": "2022-03-08T14:29:22.149667Z",
          "iopub.status.idle": "2022-03-08T14:29:22.193352Z",
          "shell.execute_reply": "2022-03-08T14:29:22.192802Z",
          "shell.execute_reply.started": "2022-03-08T14:18:43.167012Z"
        },
        "papermill": {
          "duration": 0.115968,
          "end_time": "2022-03-08T14:29:22.193489",
          "exception": false,
          "start_time": "2022-03-08T14:29:22.077521",
          "status": "completed"
        },
        "tags": [],
        "colab": {
          "base_uri": "https://localhost:8080/"
        },
        "id": "d8327f0c",
        "outputId": "82af7368-23b7-4d64-caf4-02c58b8c95f7"
      },
      "outputs": [
        {
          "output_type": "execute_result",
          "data": {
            "text/plain": [
              "age                   0\n",
              "workclass          2799\n",
              "fnlwgt                0\n",
              "education             0\n",
              "educational-num       0\n",
              "marital-status        0\n",
              "occupation         2809\n",
              "relationship          0\n",
              "race                  0\n",
              "gender                0\n",
              "capital-gain          0\n",
              "capital-loss          0\n",
              "hours-per-week        0\n",
              "native-country      857\n",
              "income                0\n",
              "dtype: int64"
            ]
          },
          "metadata": {},
          "execution_count": 6
        }
      ],
      "source": [
        "df.isin(['?']).sum()"
      ]
    },
    {
      "cell_type": "markdown",
      "id": "3b469299",
      "metadata": {
        "papermill": {
          "duration": 0.050053,
          "end_time": "2022-03-08T14:29:22.294642",
          "exception": false,
          "start_time": "2022-03-08T14:29:22.244589",
          "status": "completed"
        },
        "tags": [],
        "id": "3b469299"
      },
      "source": [
        "* 'workclass' column has 2799  '?'\n",
        "* 'occupation' column has 2809  '?'\n",
        "* 'native-country' column has 857  '?'\n",
        "  * We will convert  '?'  into NaN "
      ]
    },
    {
      "cell_type": "code",
      "execution_count": 7,
      "id": "7d942de1",
      "metadata": {
        "execution": {
          "iopub.execute_input": "2022-03-08T14:29:22.401268Z",
          "iopub.status.busy": "2022-03-08T14:29:22.400626Z",
          "iopub.status.idle": "2022-03-08T14:29:22.409136Z",
          "shell.execute_reply": "2022-03-08T14:29:22.409635Z",
          "shell.execute_reply.started": "2022-03-08T14:18:43.241579Z"
        },
        "papermill": {
          "duration": 0.064858,
          "end_time": "2022-03-08T14:29:22.409809",
          "exception": false,
          "start_time": "2022-03-08T14:29:22.344951",
          "status": "completed"
        },
        "tags": [],
        "id": "7d942de1"
      },
      "outputs": [],
      "source": [
        "df['workclass'] = df['workclass'].replace('?', np.nan)\n",
        "df['occupation'] = df['occupation'].replace('?', np.nan)\n",
        "df['native-country'] = df['native-country'].replace('?', np.nan)"
      ]
    },
    {
      "cell_type": "markdown",
      "id": "899a2477",
      "metadata": {
        "papermill": {
          "duration": 0.049968,
          "end_time": "2022-03-08T14:29:22.511120",
          "exception": false,
          "start_time": "2022-03-08T14:29:22.461152",
          "status": "completed"
        },
        "tags": [],
        "id": "899a2477"
      },
      "source": [
        "* Let's check check again for '?'"
      ]
    },
    {
      "cell_type": "code",
      "execution_count": 8,
      "id": "2e8ad203",
      "metadata": {
        "execution": {
          "iopub.execute_input": "2022-03-08T14:29:22.615175Z",
          "iopub.status.busy": "2022-03-08T14:29:22.614527Z",
          "iopub.status.idle": "2022-03-08T14:29:22.665375Z",
          "shell.execute_reply": "2022-03-08T14:29:22.664877Z",
          "shell.execute_reply.started": "2022-03-08T14:18:43.257659Z"
        },
        "papermill": {
          "duration": 0.103868,
          "end_time": "2022-03-08T14:29:22.665518",
          "exception": false,
          "start_time": "2022-03-08T14:29:22.561650",
          "status": "completed"
        },
        "tags": [],
        "colab": {
          "base_uri": "https://localhost:8080/"
        },
        "id": "2e8ad203",
        "outputId": "cf85e458-7287-40df-deab-5f942e62c236"
      },
      "outputs": [
        {
          "output_type": "execute_result",
          "data": {
            "text/plain": [
              "age                0\n",
              "workclass          0\n",
              "fnlwgt             0\n",
              "education          0\n",
              "educational-num    0\n",
              "marital-status     0\n",
              "occupation         0\n",
              "relationship       0\n",
              "race               0\n",
              "gender             0\n",
              "capital-gain       0\n",
              "capital-loss       0\n",
              "hours-per-week     0\n",
              "native-country     0\n",
              "income             0\n",
              "dtype: int64"
            ]
          },
          "metadata": {},
          "execution_count": 8
        }
      ],
      "source": [
        "df.isin(['?']).sum()"
      ]
    },
    {
      "cell_type": "markdown",
      "id": "57e6f447",
      "metadata": {
        "papermill": {
          "duration": 0.052395,
          "end_time": "2022-03-08T14:29:22.769986",
          "exception": false,
          "start_time": "2022-03-08T14:29:22.717591",
          "status": "completed"
        },
        "tags": [],
        "id": "57e6f447"
      },
      "source": [
        "* we have successfully converted \"?\" into NaN."
      ]
    },
    {
      "cell_type": "markdown",
      "id": "4fa9a15c",
      "metadata": {
        "papermill": {
          "duration": 0.05118,
          "end_time": "2022-03-08T14:29:22.872163",
          "exception": false,
          "start_time": "2022-03-08T14:29:22.820983",
          "status": "completed"
        },
        "tags": [],
        "id": "4fa9a15c"
      },
      "source": [
        "#### *Check null values*"
      ]
    },
    {
      "cell_type": "code",
      "execution_count": null,
      "id": "5b4d8544",
      "metadata": {
        "execution": {
          "iopub.execute_input": "2022-03-08T14:29:22.981503Z",
          "iopub.status.busy": "2022-03-08T14:29:22.980549Z",
          "iopub.status.idle": "2022-03-08T14:29:23.005782Z",
          "shell.execute_reply": "2022-03-08T14:29:23.006314Z",
          "shell.execute_reply.started": "2022-03-08T14:18:43.327967Z"
        },
        "papermill": {
          "duration": 0.08197,
          "end_time": "2022-03-08T14:29:23.006506",
          "exception": false,
          "start_time": "2022-03-08T14:29:22.924536",
          "status": "completed"
        },
        "tags": [],
        "id": "5b4d8544",
        "outputId": "1fce7a2b-e66d-4195-9f02-41a1ef525bcc"
      },
      "outputs": [
        {
          "data": {
            "text/plain": [
              "age                   0\n",
              "workclass          2799\n",
              "fnlwgt                0\n",
              "education             0\n",
              "educational-num       0\n",
              "marital-status        0\n",
              "occupation         2809\n",
              "relationship          0\n",
              "race                  0\n",
              "gender                0\n",
              "capital-gain          0\n",
              "capital-loss          0\n",
              "hours-per-week        0\n",
              "native-country      857\n",
              "income                0\n",
              "dtype: int64"
            ]
          },
          "execution_count": 10,
          "metadata": {},
          "output_type": "execute_result"
        }
      ],
      "source": [
        "df.isnull().sum()"
      ]
    },
    {
      "cell_type": "code",
      "execution_count": null,
      "id": "f2cbf6bb",
      "metadata": {
        "execution": {
          "iopub.execute_input": "2022-03-08T14:29:23.138858Z",
          "iopub.status.busy": "2022-03-08T14:29:23.121043Z",
          "iopub.status.idle": "2022-03-08T14:29:23.148811Z",
          "shell.execute_reply": "2022-03-08T14:29:23.149348Z",
          "shell.execute_reply.started": "2022-03-08T14:18:43.384923Z"
        },
        "papermill": {
          "duration": 0.089297,
          "end_time": "2022-03-08T14:29:23.149544",
          "exception": false,
          "start_time": "2022-03-08T14:29:23.060247",
          "status": "completed"
        },
        "tags": [],
        "id": "f2cbf6bb",
        "outputId": "0d763c86-8d52-4cb8-f39a-eff6ac904aa9"
      },
      "outputs": [
        {
          "data": {
            "text/plain": [
              "age                0.000000\n",
              "workclass          5.730724\n",
              "fnlwgt             0.000000\n",
              "education          0.000000\n",
              "educational-num    0.000000\n",
              "marital-status     0.000000\n",
              "occupation         5.751198\n",
              "relationship       0.000000\n",
              "race               0.000000\n",
              "gender             0.000000\n",
              "capital-gain       0.000000\n",
              "capital-loss       0.000000\n",
              "hours-per-week     0.000000\n",
              "native-country     1.754637\n",
              "income             0.000000\n",
              "dtype: float64"
            ]
          },
          "execution_count": 11,
          "metadata": {},
          "output_type": "execute_result"
        }
      ],
      "source": [
        "percent_missing = df.isnull().sum() * 100 / len(df)\n",
        "percent_missing"
      ]
    },
    {
      "cell_type": "code",
      "execution_count": null,
      "id": "8df967d8",
      "metadata": {
        "execution": {
          "iopub.execute_input": "2022-03-08T14:29:23.257572Z",
          "iopub.status.busy": "2022-03-08T14:29:23.256559Z",
          "iopub.status.idle": "2022-03-08T14:29:24.371700Z",
          "shell.execute_reply": "2022-03-08T14:29:24.372189Z",
          "shell.execute_reply.started": "2022-03-08T14:18:43.443270Z"
        },
        "papermill": {
          "duration": 1.170434,
          "end_time": "2022-03-08T14:29:24.372367",
          "exception": false,
          "start_time": "2022-03-08T14:29:23.201933",
          "status": "completed"
        },
        "tags": [],
        "id": "8df967d8",
        "outputId": "6f67e469-dcd6-46ad-e798-110d2b6f58fd"
      },
      "outputs": [
        {
          "data": {
            "image/png": "[encoded data removed]",
            "text/plain": [
              "<Figure size 1080x360 with 2 Axes>"
            ]
          },
          "metadata": {
            "needs_background": "light"
          },
          "output_type": "display_data"
        }
      ],
      "source": [
        "plt.figure(figsize=(15,5))\n",
        "sns.heatmap(df.isna())\n",
        "plt.title('Null Values')\n",
        "plt.show()"
      ]
    },
    {
      "cell_type": "markdown",
      "id": "919e8710",
      "metadata": {
        "papermill": {
          "duration": 0.055924,
          "end_time": "2022-03-08T14:29:24.481381",
          "exception": false,
          "start_time": "2022-03-08T14:29:24.425457",
          "status": "completed"
        },
        "tags": [],
        "id": "919e8710"
      },
      "source": [
        "* Now we have,\n",
        "  * 2799 -  5.73 % null values in 'workclass' column\n",
        "  * 2809 - 5.75 %null values in 'occupation' column\n",
        "  * 457 - 1.75 % null values in 'native-country' column\n",
        "    * We can drop all those null values"
      ]
    },
    {
      "cell_type": "markdown",
      "id": "63a71f68",
      "metadata": {
        "papermill": {
          "duration": 0.056583,
          "end_time": "2022-03-08T14:29:24.593758",
          "exception": false,
          "start_time": "2022-03-08T14:29:24.537175",
          "status": "completed"
        },
        "tags": [],
        "id": "63a71f68"
      },
      "source": [
        "#### *Drop all The Missing Values*"
      ]
    },
    {
      "cell_type": "code",
      "execution_count": null,
      "id": "7ca39e0f",
      "metadata": {
        "execution": {
          "iopub.execute_input": "2022-03-08T14:29:24.728668Z",
          "iopub.status.busy": "2022-03-08T14:29:24.727291Z",
          "iopub.status.idle": "2022-03-08T14:29:24.737894Z",
          "shell.execute_reply": "2022-03-08T14:29:24.738407Z",
          "shell.execute_reply.started": "2022-03-08T14:18:44.588622Z"
        },
        "papermill": {
          "duration": 0.090135,
          "end_time": "2022-03-08T14:29:24.738580",
          "exception": false,
          "start_time": "2022-03-08T14:29:24.648445",
          "status": "completed"
        },
        "tags": [],
        "id": "7ca39e0f"
      },
      "outputs": [],
      "source": [
        "df.dropna(how='any', inplace=True)"
      ]
    },
    {
      "cell_type": "markdown",
      "id": "837174e8",
      "metadata": {
        "papermill": {
          "duration": 0.061864,
          "end_time": "2022-03-08T14:29:24.854123",
          "exception": false,
          "start_time": "2022-03-08T14:29:24.792259",
          "status": "completed"
        },
        "tags": [],
        "id": "837174e8"
      },
      "source": [
        "* Check for null values"
      ]
    },
    {
      "cell_type": "code",
      "execution_count": null,
      "id": "6d790d25",
      "metadata": {
        "execution": {
          "iopub.execute_input": "2022-03-08T14:29:24.988077Z",
          "iopub.status.busy": "2022-03-08T14:29:24.987423Z",
          "iopub.status.idle": "2022-03-08T14:29:24.994327Z",
          "shell.execute_reply": "2022-03-08T14:29:24.994752Z",
          "shell.execute_reply.started": "2022-03-08T14:18:44.650869Z"
        },
        "papermill": {
          "duration": 0.083571,
          "end_time": "2022-03-08T14:29:24.994946",
          "exception": false,
          "start_time": "2022-03-08T14:29:24.911375",
          "status": "completed"
        },
        "tags": [],
        "id": "6d790d25",
        "outputId": "23901c84-61de-469d-dc26-8844f13df9d6"
      },
      "outputs": [
        {
          "data": {
            "text/plain": [
              "age                0\n",
              "workclass          0\n",
              "fnlwgt             0\n",
              "education          0\n",
              "educational-num    0\n",
              "marital-status     0\n",
              "occupation         0\n",
              "relationship       0\n",
              "race               0\n",
              "gender             0\n",
              "capital-gain       0\n",
              "capital-loss       0\n",
              "hours-per-week     0\n",
              "native-country     0\n",
              "income             0\n",
              "dtype: int64"
            ]
          },
          "execution_count": 14,
          "metadata": {},
          "output_type": "execute_result"
        }
      ],
      "source": [
        "df.isnull().sum()"
      ]
    },
    {
      "cell_type": "markdown",
      "id": "05d4695b",
      "metadata": {
        "papermill": {
          "duration": 0.057266,
          "end_time": "2022-03-08T14:29:25.108293",
          "exception": false,
          "start_time": "2022-03-08T14:29:25.051027",
          "status": "completed"
        },
        "tags": [],
        "id": "05d4695b"
      },
      "source": [
        "* Now we have successfully dropped all the null values"
      ]
    },
    {
      "cell_type": "markdown",
      "id": "d37b67eb",
      "metadata": {
        "papermill": {
          "duration": 0.056439,
          "end_time": "2022-03-08T14:29:25.225886",
          "exception": false,
          "start_time": "2022-03-08T14:29:25.169447",
          "status": "completed"
        },
        "tags": [],
        "id": "d37b67eb"
      },
      "source": [
        "#### *Check for duplicate values*"
      ]
    },
    {
      "cell_type": "code",
      "execution_count": null,
      "id": "da79ee5d",
      "metadata": {
        "execution": {
          "iopub.execute_input": "2022-03-08T14:29:25.342116Z",
          "iopub.status.busy": "2022-03-08T14:29:25.341410Z",
          "iopub.status.idle": "2022-03-08T14:29:25.394746Z",
          "shell.execute_reply": "2022-03-08T14:29:25.394171Z",
          "shell.execute_reply.started": "2022-03-08T14:18:44.705106Z"
        },
        "papermill": {
          "duration": 0.11216,
          "end_time": "2022-03-08T14:29:25.394895",
          "exception": false,
          "start_time": "2022-03-08T14:29:25.282735",
          "status": "completed"
        },
        "tags": [],
        "id": "da79ee5d",
        "outputId": "9a091c6c-1ee5-47e0-c6fe-25c67dc63fef"
      },
      "outputs": [
        {
          "name": "stdout",
          "output_type": "stream",
          "text": [
            "We have 47 duplicate values\n"
          ]
        }
      ],
      "source": [
        "print(f\"We have {df.duplicated().sum()} duplicate values\")"
      ]
    },
    {
      "cell_type": "markdown",
      "id": "cd567229",
      "metadata": {
        "papermill": {
          "duration": 0.054718,
          "end_time": "2022-03-08T14:29:25.509424",
          "exception": false,
          "start_time": "2022-03-08T14:29:25.454706",
          "status": "completed"
        },
        "tags": [],
        "id": "cd567229"
      },
      "source": [
        "#### *Drop duplicate values*"
      ]
    },
    {
      "cell_type": "code",
      "execution_count": null,
      "id": "be045df8",
      "metadata": {
        "execution": {
          "iopub.execute_input": "2022-03-08T14:29:25.625460Z",
          "iopub.status.busy": "2022-03-08T14:29:25.624813Z",
          "iopub.status.idle": "2022-03-08T14:29:25.712927Z",
          "shell.execute_reply": "2022-03-08T14:29:25.712272Z",
          "shell.execute_reply.started": "2022-03-08T14:18:44.757959Z"
        },
        "papermill": {
          "duration": 0.146199,
          "end_time": "2022-03-08T14:29:25.713071",
          "exception": false,
          "start_time": "2022-03-08T14:29:25.566872",
          "status": "completed"
        },
        "tags": [],
        "id": "be045df8",
        "outputId": "1df58d5c-ab21-4758-904e-560afde3c49f"
      },
      "outputs": [
        {
          "name": "stdout",
          "output_type": "stream",
          "text": [
            "After dropping duplicate values, now we have 0 duplicate values\n"
          ]
        }
      ],
      "source": [
        "df = df.drop_duplicates()\n",
        "\n",
        "print(f\"After dropping duplicate values, now we have {df.duplicated().sum()} duplicate values\")"
      ]
    },
    {
      "cell_type": "markdown",
      "id": "28da9946",
      "metadata": {
        "papermill": {
          "duration": 0.053425,
          "end_time": "2022-03-08T14:29:25.821638",
          "exception": false,
          "start_time": "2022-03-08T14:29:25.768213",
          "status": "completed"
        },
        "tags": [],
        "id": "28da9946"
      },
      "source": [
        "#### *Check descriptive statistics - Numerical columns*"
      ]
    },
    {
      "cell_type": "code",
      "execution_count": null,
      "id": "f3150639",
      "metadata": {
        "execution": {
          "iopub.execute_input": "2022-03-08T14:29:25.942183Z",
          "iopub.status.busy": "2022-03-08T14:29:25.941267Z",
          "iopub.status.idle": "2022-03-08T14:29:25.978024Z",
          "shell.execute_reply": "2022-03-08T14:29:25.977498Z",
          "shell.execute_reply.started": "2022-03-08T14:18:44.859087Z"
        },
        "papermill": {
          "duration": 0.102177,
          "end_time": "2022-03-08T14:29:25.978179",
          "exception": false,
          "start_time": "2022-03-08T14:29:25.876002",
          "status": "completed"
        },
        "tags": [],
        "id": "f3150639",
        "outputId": "ba4a1ce8-9565-47aa-d5a0-d79500af20f0"
      },
      "outputs": [
        {
          "data": {
            "text/html": [
              "<div>\n",
              "<style scoped>\n",
              "    .dataframe tbody tr th:only-of-type {\n",
              "        vertical-align: middle;\n",
              "    }\n",
              "\n",
              "    .dataframe tbody tr th {\n",
              "        vertical-align: top;\n",
              "    }\n",
              "\n",
              "    .dataframe thead th {\n",
              "        text-align: right;\n",
              "    }\n",
              "</style>\n",
              "<table border=\"1\" class=\"dataframe\">\n",
              "  <thead>\n",
              "    <tr style=\"text-align: right;\">\n",
              "      <th></th>\n",
              "      <th>age</th>\n",
              "      <th>fnlwgt</th>\n",
              "      <th>educational-num</th>\n",
              "      <th>capital-gain</th>\n",
              "      <th>capital-loss</th>\n",
              "      <th>hours-per-week</th>\n",
              "    </tr>\n",
              "  </thead>\n",
              "  <tbody>\n",
              "    <tr>\n",
              "      <th>count</th>\n",
              "      <td>45175.000000</td>\n",
              "      <td>4.517500e+04</td>\n",
              "      <td>45175.000000</td>\n",
              "      <td>45175.000000</td>\n",
              "      <td>45175.000000</td>\n",
              "      <td>45175.000000</td>\n",
              "    </tr>\n",
              "    <tr>\n",
              "      <th>mean</th>\n",
              "      <td>38.556170</td>\n",
              "      <td>1.897388e+05</td>\n",
              "      <td>10.119314</td>\n",
              "      <td>1102.576270</td>\n",
              "      <td>88.687593</td>\n",
              "      <td>40.942512</td>\n",
              "    </tr>\n",
              "    <tr>\n",
              "      <th>std</th>\n",
              "      <td>13.215349</td>\n",
              "      <td>1.056524e+05</td>\n",
              "      <td>2.551740</td>\n",
              "      <td>7510.249876</td>\n",
              "      <td>405.156611</td>\n",
              "      <td>12.007730</td>\n",
              "    </tr>\n",
              "    <tr>\n",
              "      <th>min</th>\n",
              "      <td>17.000000</td>\n",
              "      <td>1.349200e+04</td>\n",
              "      <td>1.000000</td>\n",
              "      <td>0.000000</td>\n",
              "      <td>0.000000</td>\n",
              "      <td>1.000000</td>\n",
              "    </tr>\n",
              "    <tr>\n",
              "      <th>25%</th>\n",
              "      <td>28.000000</td>\n",
              "      <td>1.173925e+05</td>\n",
              "      <td>9.000000</td>\n",
              "      <td>0.000000</td>\n",
              "      <td>0.000000</td>\n",
              "      <td>40.000000</td>\n",
              "    </tr>\n",
              "    <tr>\n",
              "      <th>50%</th>\n",
              "      <td>37.000000</td>\n",
              "      <td>1.783120e+05</td>\n",
              "      <td>10.000000</td>\n",
              "      <td>0.000000</td>\n",
              "      <td>0.000000</td>\n",
              "      <td>40.000000</td>\n",
              "    </tr>\n",
              "    <tr>\n",
              "      <th>75%</th>\n",
              "      <td>47.000000</td>\n",
              "      <td>2.379030e+05</td>\n",
              "      <td>13.000000</td>\n",
              "      <td>0.000000</td>\n",
              "      <td>0.000000</td>\n",
              "      <td>45.000000</td>\n",
              "    </tr>\n",
              "    <tr>\n",
              "      <th>max</th>\n",
              "      <td>90.000000</td>\n",
              "      <td>1.490400e+06</td>\n",
              "      <td>16.000000</td>\n",
              "      <td>99999.000000</td>\n",
              "      <td>4356.000000</td>\n",
              "      <td>99.000000</td>\n",
              "    </tr>\n",
              "  </tbody>\n",
              "</table>\n",
              "</div>"
            ],
            "text/plain": [
              "                age        fnlwgt  educational-num  capital-gain  \\\n",
              "count  45175.000000  4.517500e+04     45175.000000  45175.000000   \n",
              "mean      38.556170  1.897388e+05        10.119314   1102.576270   \n",
              "std       13.215349  1.056524e+05         2.551740   7510.249876   \n",
              "min       17.000000  1.349200e+04         1.000000      0.000000   \n",
              "25%       28.000000  1.173925e+05         9.000000      0.000000   \n",
              "50%       37.000000  1.783120e+05        10.000000      0.000000   \n",
              "75%       47.000000  2.379030e+05        13.000000      0.000000   \n",
              "max       90.000000  1.490400e+06        16.000000  99999.000000   \n",
              "\n",
              "       capital-loss  hours-per-week  \n",
              "count  45175.000000    45175.000000  \n",
              "mean      88.687593       40.942512  \n",
              "std      405.156611       12.007730  \n",
              "min        0.000000        1.000000  \n",
              "25%        0.000000       40.000000  \n",
              "50%        0.000000       40.000000  \n",
              "75%        0.000000       45.000000  \n",
              "max     4356.000000       99.000000  "
            ]
          },
          "execution_count": 17,
          "metadata": {},
          "output_type": "execute_result"
        }
      ],
      "source": [
        "df.describe()"
      ]
    },
    {
      "cell_type": "markdown",
      "id": "837fd21d",
      "metadata": {
        "papermill": {
          "duration": 0.054391,
          "end_time": "2022-03-08T14:29:26.092525",
          "exception": false,
          "start_time": "2022-03-08T14:29:26.038134",
          "status": "completed"
        },
        "tags": [],
        "id": "837fd21d"
      },
      "source": [
        "#### *Check descriptive statistics - Categorical columns*"
      ]
    },
    {
      "cell_type": "code",
      "execution_count": null,
      "id": "41c3b56b",
      "metadata": {
        "execution": {
          "iopub.execute_input": "2022-03-08T14:29:26.214994Z",
          "iopub.status.busy": "2022-03-08T14:29:26.213922Z",
          "iopub.status.idle": "2022-03-08T14:29:26.283725Z",
          "shell.execute_reply": "2022-03-08T14:29:26.282926Z",
          "shell.execute_reply.started": "2022-03-08T14:18:44.893513Z"
        },
        "papermill": {
          "duration": 0.132803,
          "end_time": "2022-03-08T14:29:26.283940",
          "exception": false,
          "start_time": "2022-03-08T14:29:26.151137",
          "status": "completed"
        },
        "tags": [],
        "id": "41c3b56b",
        "outputId": "8f0ffabc-6718-42bf-9bc5-3615415701c8"
      },
      "outputs": [
        {
          "data": {
            "text/html": [
              "<div>\n",
              "<style scoped>\n",
              "    .dataframe tbody tr th:only-of-type {\n",
              "        vertical-align: middle;\n",
              "    }\n",
              "\n",
              "    .dataframe tbody tr th {\n",
              "        vertical-align: top;\n",
              "    }\n",
              "\n",
              "    .dataframe thead th {\n",
              "        text-align: right;\n",
              "    }\n",
              "</style>\n",
              "<table border=\"1\" class=\"dataframe\">\n",
              "  <thead>\n",
              "    <tr style=\"text-align: right;\">\n",
              "      <th></th>\n",
              "      <th>workclass</th>\n",
              "      <th>education</th>\n",
              "      <th>marital-status</th>\n",
              "      <th>occupation</th>\n",
              "      <th>relationship</th>\n",
              "      <th>race</th>\n",
              "      <th>gender</th>\n",
              "      <th>native-country</th>\n",
              "      <th>income</th>\n",
              "    </tr>\n",
              "  </thead>\n",
              "  <tbody>\n",
              "    <tr>\n",
              "      <th>count</th>\n",
              "      <td>45175</td>\n",
              "      <td>45175</td>\n",
              "      <td>45175</td>\n",
              "      <td>45175</td>\n",
              "      <td>45175</td>\n",
              "      <td>45175</td>\n",
              "      <td>45175</td>\n",
              "      <td>45175</td>\n",
              "      <td>45175</td>\n",
              "    </tr>\n",
              "    <tr>\n",
              "      <th>unique</th>\n",
              "      <td>7</td>\n",
              "      <td>16</td>\n",
              "      <td>7</td>\n",
              "      <td>14</td>\n",
              "      <td>6</td>\n",
              "      <td>5</td>\n",
              "      <td>2</td>\n",
              "      <td>41</td>\n",
              "      <td>2</td>\n",
              "    </tr>\n",
              "    <tr>\n",
              "      <th>top</th>\n",
              "      <td>Private</td>\n",
              "      <td>HS-grad</td>\n",
              "      <td>Married-civ-spouse</td>\n",
              "      <td>Craft-repair</td>\n",
              "      <td>Husband</td>\n",
              "      <td>White</td>\n",
              "      <td>Male</td>\n",
              "      <td>United-States</td>\n",
              "      <td>&lt;=50K</td>\n",
              "    </tr>\n",
              "    <tr>\n",
              "      <th>freq</th>\n",
              "      <td>33262</td>\n",
              "      <td>14770</td>\n",
              "      <td>21042</td>\n",
              "      <td>6010</td>\n",
              "      <td>18653</td>\n",
              "      <td>38859</td>\n",
              "      <td>30495</td>\n",
              "      <td>41256</td>\n",
              "      <td>33973</td>\n",
              "    </tr>\n",
              "  </tbody>\n",
              "</table>\n",
              "</div>"
            ],
            "text/plain": [
              "       workclass education      marital-status    occupation relationship  \\\n",
              "count      45175     45175               45175         45175        45175   \n",
              "unique         7        16                   7            14            6   \n",
              "top      Private   HS-grad  Married-civ-spouse  Craft-repair      Husband   \n",
              "freq       33262     14770               21042          6010        18653   \n",
              "\n",
              "         race gender native-country income  \n",
              "count   45175  45175          45175  45175  \n",
              "unique      5      2             41      2  \n",
              "top     White   Male  United-States  <=50K  \n",
              "freq    38859  30495          41256  33973  "
            ]
          },
          "execution_count": 18,
          "metadata": {},
          "output_type": "execute_result"
        }
      ],
      "source": [
        "df.describe(exclude='number')"
      ]
    },
    {
      "cell_type": "markdown",
      "id": "72b9b50e",
      "metadata": {
        "papermill": {
          "duration": 0.057019,
          "end_time": "2022-03-08T14:29:26.400429",
          "exception": false,
          "start_time": "2022-03-08T14:29:26.343410",
          "status": "completed"
        },
        "tags": [],
        "id": "72b9b50e"
      },
      "source": [
        "#### *Check 'education' & 'educational-num' columns*"
      ]
    },
    {
      "cell_type": "code",
      "execution_count": null,
      "id": "32829466",
      "metadata": {
        "execution": {
          "iopub.execute_input": "2022-03-08T14:29:26.518126Z",
          "iopub.status.busy": "2022-03-08T14:29:26.517494Z",
          "iopub.status.idle": "2022-03-08T14:29:26.526157Z",
          "shell.execute_reply": "2022-03-08T14:29:26.526644Z",
          "shell.execute_reply.started": "2022-03-08T14:18:45.012521Z"
        },
        "papermill": {
          "duration": 0.071534,
          "end_time": "2022-03-08T14:29:26.526821",
          "exception": false,
          "start_time": "2022-03-08T14:29:26.455287",
          "status": "completed"
        },
        "tags": [],
        "id": "32829466",
        "outputId": "db741768-0721-447b-def0-3859d0a411d9"
      },
      "outputs": [
        {
          "data": {
            "text/plain": [
              "array(['11th', 'HS-grad', 'Assoc-acdm', 'Some-college', '10th',\n",
              "       'Prof-school', '7th-8th', 'Bachelors', 'Masters', '5th-6th',\n",
              "       'Assoc-voc', '9th', 'Doctorate', '12th', '1st-4th', 'Preschool'],\n",
              "      dtype=object)"
            ]
          },
          "execution_count": 19,
          "metadata": {},
          "output_type": "execute_result"
        }
      ],
      "source": [
        "df['education'].unique()"
      ]
    },
    {
      "cell_type": "code",
      "execution_count": null,
      "id": "0edade9f",
      "metadata": {
        "execution": {
          "iopub.execute_input": "2022-03-08T14:29:26.644259Z",
          "iopub.status.busy": "2022-03-08T14:29:26.643626Z",
          "iopub.status.idle": "2022-03-08T14:29:26.648290Z",
          "shell.execute_reply": "2022-03-08T14:29:26.647816Z",
          "shell.execute_reply.started": "2022-03-08T14:18:45.023523Z"
        },
        "papermill": {
          "duration": 0.064903,
          "end_time": "2022-03-08T14:29:26.648431",
          "exception": false,
          "start_time": "2022-03-08T14:29:26.583528",
          "status": "completed"
        },
        "tags": [],
        "id": "0edade9f",
        "outputId": "de4d04ac-44e3-4f33-a7d8-8f8e925da7b5"
      },
      "outputs": [
        {
          "data": {
            "text/plain": [
              "array([ 7,  9, 12, 10,  6, 15,  4, 13, 14,  3, 11,  5, 16,  8,  2,  1])"
            ]
          },
          "execution_count": 20,
          "metadata": {},
          "output_type": "execute_result"
        }
      ],
      "source": [
        "df['educational-num'].unique()"
      ]
    },
    {
      "cell_type": "markdown",
      "id": "4c3ba532",
      "metadata": {
        "papermill": {
          "duration": 0.055411,
          "end_time": "2022-03-08T14:29:26.760875",
          "exception": false,
          "start_time": "2022-03-08T14:29:26.705464",
          "status": "completed"
        },
        "tags": [],
        "id": "4c3ba532"
      },
      "source": [
        "* As we can see, 'education' & 'educational-num' both columns have similer values\n",
        "  * 'education' has string values \n",
        "  * 'educational-num' has numerical values \n",
        "    * all HS-grad from education represents 9 in education-num \n",
        "    * all Masters from education represents 14 in education-num and likewise.\n",
        "      * Both columns conveying same information\n",
        "        * So, we can remove 'education-num' column"
      ]
    },
    {
      "cell_type": "markdown",
      "id": "2f40b98b",
      "metadata": {
        "papermill": {
          "duration": 0.056148,
          "end_time": "2022-03-08T14:29:26.873261",
          "exception": false,
          "start_time": "2022-03-08T14:29:26.817113",
          "status": "completed"
        },
        "tags": [],
        "id": "2f40b98b"
      },
      "source": [
        "#### *Drop education-num column* "
      ]
    },
    {
      "cell_type": "code",
      "execution_count": null,
      "id": "6a1a8308",
      "metadata": {
        "execution": {
          "iopub.execute_input": "2022-03-08T14:29:26.990007Z",
          "iopub.status.busy": "2022-03-08T14:29:26.989427Z",
          "iopub.status.idle": "2022-03-08T14:29:27.011779Z",
          "shell.execute_reply": "2022-03-08T14:29:27.012192Z",
          "shell.execute_reply.started": "2022-03-08T14:18:45.033884Z"
        },
        "papermill": {
          "duration": 0.081192,
          "end_time": "2022-03-08T14:29:27.012371",
          "exception": false,
          "start_time": "2022-03-08T14:29:26.931179",
          "status": "completed"
        },
        "tags": [],
        "id": "6a1a8308",
        "outputId": "9e2034ce-cd04-4885-83d2-c6a607508a69"
      },
      "outputs": [
        {
          "data": {
            "text/html": [
              "<div>\n",
              "<style scoped>\n",
              "    .dataframe tbody tr th:only-of-type {\n",
              "        vertical-align: middle;\n",
              "    }\n",
              "\n",
              "    .dataframe tbody tr th {\n",
              "        vertical-align: top;\n",
              "    }\n",
              "\n",
              "    .dataframe thead th {\n",
              "        text-align: right;\n",
              "    }\n",
              "</style>\n",
              "<table border=\"1\" class=\"dataframe\">\n",
              "  <thead>\n",
              "    <tr style=\"text-align: right;\">\n",
              "      <th></th>\n",
              "      <th>age</th>\n",
              "      <th>workclass</th>\n",
              "      <th>fnlwgt</th>\n",
              "      <th>education</th>\n",
              "      <th>marital-status</th>\n",
              "      <th>occupation</th>\n",
              "      <th>relationship</th>\n",
              "      <th>race</th>\n",
              "      <th>gender</th>\n",
              "      <th>capital-gain</th>\n",
              "      <th>capital-loss</th>\n",
              "      <th>hours-per-week</th>\n",
              "      <th>native-country</th>\n",
              "      <th>income</th>\n",
              "    </tr>\n",
              "  </thead>\n",
              "  <tbody>\n",
              "    <tr>\n",
              "      <th>0</th>\n",
              "      <td>25</td>\n",
              "      <td>Private</td>\n",
              "      <td>226802</td>\n",
              "      <td>11th</td>\n",
              "      <td>Never-married</td>\n",
              "      <td>Machine-op-inspct</td>\n",
              "      <td>Own-child</td>\n",
              "      <td>Black</td>\n",
              "      <td>Male</td>\n",
              "      <td>0</td>\n",
              "      <td>0</td>\n",
              "      <td>40</td>\n",
              "      <td>United-States</td>\n",
              "      <td>&lt;=50K</td>\n",
              "    </tr>\n",
              "    <tr>\n",
              "      <th>1</th>\n",
              "      <td>38</td>\n",
              "      <td>Private</td>\n",
              "      <td>89814</td>\n",
              "      <td>HS-grad</td>\n",
              "      <td>Married-civ-spouse</td>\n",
              "      <td>Farming-fishing</td>\n",
              "      <td>Husband</td>\n",
              "      <td>White</td>\n",
              "      <td>Male</td>\n",
              "      <td>0</td>\n",
              "      <td>0</td>\n",
              "      <td>50</td>\n",
              "      <td>United-States</td>\n",
              "      <td>&lt;=50K</td>\n",
              "    </tr>\n",
              "    <tr>\n",
              "      <th>2</th>\n",
              "      <td>28</td>\n",
              "      <td>Local-gov</td>\n",
              "      <td>336951</td>\n",
              "      <td>Assoc-acdm</td>\n",
              "      <td>Married-civ-spouse</td>\n",
              "      <td>Protective-serv</td>\n",
              "      <td>Husband</td>\n",
              "      <td>White</td>\n",
              "      <td>Male</td>\n",
              "      <td>0</td>\n",
              "      <td>0</td>\n",
              "      <td>40</td>\n",
              "      <td>United-States</td>\n",
              "      <td>&gt;50K</td>\n",
              "    </tr>\n",
              "    <tr>\n",
              "      <th>3</th>\n",
              "      <td>44</td>\n",
              "      <td>Private</td>\n",
              "      <td>160323</td>\n",
              "      <td>Some-college</td>\n",
              "      <td>Married-civ-spouse</td>\n",
              "      <td>Machine-op-inspct</td>\n",
              "      <td>Husband</td>\n",
              "      <td>Black</td>\n",
              "      <td>Male</td>\n",
              "      <td>7688</td>\n",
              "      <td>0</td>\n",
              "      <td>40</td>\n",
              "      <td>United-States</td>\n",
              "      <td>&gt;50K</td>\n",
              "    </tr>\n",
              "    <tr>\n",
              "      <th>5</th>\n",
              "      <td>34</td>\n",
              "      <td>Private</td>\n",
              "      <td>198693</td>\n",
              "      <td>10th</td>\n",
              "      <td>Never-married</td>\n",
              "      <td>Other-service</td>\n",
              "      <td>Not-in-family</td>\n",
              "      <td>White</td>\n",
              "      <td>Male</td>\n",
              "      <td>0</td>\n",
              "      <td>0</td>\n",
              "      <td>30</td>\n",
              "      <td>United-States</td>\n",
              "      <td>&lt;=50K</td>\n",
              "    </tr>\n",
              "    <tr>\n",
              "      <th>...</th>\n",
              "      <td>...</td>\n",
              "      <td>...</td>\n",
              "      <td>...</td>\n",
              "      <td>...</td>\n",
              "      <td>...</td>\n",
              "      <td>...</td>\n",
              "      <td>...</td>\n",
              "      <td>...</td>\n",
              "      <td>...</td>\n",
              "      <td>...</td>\n",
              "      <td>...</td>\n",
              "      <td>...</td>\n",
              "      <td>...</td>\n",
              "      <td>...</td>\n",
              "    </tr>\n",
              "    <tr>\n",
              "      <th>48837</th>\n",
              "      <td>27</td>\n",
              "      <td>Private</td>\n",
              "      <td>257302</td>\n",
              "      <td>Assoc-acdm</td>\n",
              "      <td>Married-civ-spouse</td>\n",
              "      <td>Tech-support</td>\n",
              "      <td>Wife</td>\n",
              "      <td>White</td>\n",
              "      <td>Female</td>\n",
              "      <td>0</td>\n",
              "      <td>0</td>\n",
              "      <td>38</td>\n",
              "      <td>United-States</td>\n",
              "      <td>&lt;=50K</td>\n",
              "    </tr>\n",
              "    <tr>\n",
              "      <th>48838</th>\n",
              "      <td>40</td>\n",
              "      <td>Private</td>\n",
              "      <td>154374</td>\n",
              "      <td>HS-grad</td>\n",
              "      <td>Married-civ-spouse</td>\n",
              "      <td>Machine-op-inspct</td>\n",
              "      <td>Husband</td>\n",
              "      <td>White</td>\n",
              "      <td>Male</td>\n",
              "      <td>0</td>\n",
              "      <td>0</td>\n",
              "      <td>40</td>\n",
              "      <td>United-States</td>\n",
              "      <td>&gt;50K</td>\n",
              "    </tr>\n",
              "    <tr>\n",
              "      <th>48839</th>\n",
              "      <td>58</td>\n",
              "      <td>Private</td>\n",
              "      <td>151910</td>\n",
              "      <td>HS-grad</td>\n",
              "      <td>Widowed</td>\n",
              "      <td>Adm-clerical</td>\n",
              "      <td>Unmarried</td>\n",
              "      <td>White</td>\n",
              "      <td>Female</td>\n",
              "      <td>0</td>\n",
              "      <td>0</td>\n",
              "      <td>40</td>\n",
              "      <td>United-States</td>\n",
              "      <td>&lt;=50K</td>\n",
              "    </tr>\n",
              "    <tr>\n",
              "      <th>48840</th>\n",
              "      <td>22</td>\n",
              "      <td>Private</td>\n",
              "      <td>201490</td>\n",
              "      <td>HS-grad</td>\n",
              "      <td>Never-married</td>\n",
              "      <td>Adm-clerical</td>\n",
              "      <td>Own-child</td>\n",
              "      <td>White</td>\n",
              "      <td>Male</td>\n",
              "      <td>0</td>\n",
              "      <td>0</td>\n",
              "      <td>20</td>\n",
              "      <td>United-States</td>\n",
              "      <td>&lt;=50K</td>\n",
              "    </tr>\n",
              "    <tr>\n",
              "      <th>48841</th>\n",
              "      <td>52</td>\n",
              "      <td>Self-emp-inc</td>\n",
              "      <td>287927</td>\n",
              "      <td>HS-grad</td>\n",
              "      <td>Married-civ-spouse</td>\n",
              "      <td>Exec-managerial</td>\n",
              "      <td>Wife</td>\n",
              "      <td>White</td>\n",
              "      <td>Female</td>\n",
              "      <td>15024</td>\n",
              "      <td>0</td>\n",
              "      <td>40</td>\n",
              "      <td>United-States</td>\n",
              "      <td>&gt;50K</td>\n",
              "    </tr>\n",
              "  </tbody>\n",
              "</table>\n",
              "<p>45175 rows × 14 columns</p>\n",
              "</div>"
            ],
            "text/plain": [
              "       age     workclass  fnlwgt     education      marital-status  \\\n",
              "0       25       Private  226802          11th       Never-married   \n",
              "1       38       Private   89814       HS-grad  Married-civ-spouse   \n",
              "2       28     Local-gov  336951    Assoc-acdm  Married-civ-spouse   \n",
              "3       44       Private  160323  Some-college  Married-civ-spouse   \n",
              "5       34       Private  198693          10th       Never-married   \n",
              "...    ...           ...     ...           ...                 ...   \n",
              "48837   27       Private  257302    Assoc-acdm  Married-civ-spouse   \n",
              "48838   40       Private  154374       HS-grad  Married-civ-spouse   \n",
              "48839   58       Private  151910       HS-grad             Widowed   \n",
              "48840   22       Private  201490       HS-grad       Never-married   \n",
              "48841   52  Self-emp-inc  287927       HS-grad  Married-civ-spouse   \n",
              "\n",
              "              occupation   relationship   race  gender  capital-gain  \\\n",
              "0      Machine-op-inspct      Own-child  Black    Male             0   \n",
              "1        Farming-fishing        Husband  White    Male             0   \n",
              "2        Protective-serv        Husband  White    Male             0   \n",
              "3      Machine-op-inspct        Husband  Black    Male          7688   \n",
              "5          Other-service  Not-in-family  White    Male             0   \n",
              "...                  ...            ...    ...     ...           ...   \n",
              "48837       Tech-support           Wife  White  Female             0   \n",
              "48838  Machine-op-inspct        Husband  White    Male             0   \n",
              "48839       Adm-clerical      Unmarried  White  Female             0   \n",
              "48840       Adm-clerical      Own-child  White    Male             0   \n",
              "48841    Exec-managerial           Wife  White  Female         15024   \n",
              "\n",
              "       capital-loss  hours-per-week native-country income  \n",
              "0                 0              40  United-States  <=50K  \n",
              "1                 0              50  United-States  <=50K  \n",
              "2                 0              40  United-States   >50K  \n",
              "3                 0              40  United-States   >50K  \n",
              "5                 0              30  United-States  <=50K  \n",
              "...             ...             ...            ...    ...  \n",
              "48837             0              38  United-States  <=50K  \n",
              "48838             0              40  United-States   >50K  \n",
              "48839             0              40  United-States  <=50K  \n",
              "48840             0              20  United-States  <=50K  \n",
              "48841             0              40  United-States   >50K  \n",
              "\n",
              "[45175 rows x 14 columns]"
            ]
          },
          "execution_count": 21,
          "metadata": {},
          "output_type": "execute_result"
        }
      ],
      "source": [
        "df.drop(['educational-num'], axis=1)"
      ]
    },
    {
      "cell_type": "markdown",
      "id": "f1739462",
      "metadata": {
        "papermill": {
          "duration": 0.057087,
          "end_time": "2022-03-08T14:29:27.125513",
          "exception": false,
          "start_time": "2022-03-08T14:29:27.068426",
          "status": "completed"
        },
        "tags": [],
        "id": "f1739462"
      },
      "source": [
        "* We have successfully dropped [ 'education-num' ] column."
      ]
    },
    {
      "cell_type": "markdown",
      "id": "ab460441",
      "metadata": {
        "papermill": {
          "duration": 0.059449,
          "end_time": "2022-03-08T14:29:27.242997",
          "exception": false,
          "start_time": "2022-03-08T14:29:27.183548",
          "status": "completed"
        },
        "tags": [],
        "id": "ab460441"
      },
      "source": [
        "#### *Drop capital-gain, and capital-loss columns*"
      ]
    },
    {
      "cell_type": "markdown",
      "id": "712c9aeb",
      "metadata": {
        "papermill": {
          "duration": 0.060288,
          "end_time": "2022-03-08T14:29:27.362112",
          "exception": false,
          "start_time": "2022-03-08T14:29:27.301824",
          "status": "completed"
        },
        "tags": [],
        "id": "712c9aeb"
      },
      "source": [
        "* As we can see in 'descriptive statistics - Numerical columns', \n",
        "  * [ 'capital-gain' ] & [ 'capital-loss' ] both columns have 75% data as 0.00\n",
        "    * So, we can drop [ 'capital-gain' ] & [ 'capital-loss' ] both columns"
      ]
    },
    {
      "cell_type": "code",
      "execution_count": null,
      "id": "2bdac562",
      "metadata": {
        "execution": {
          "iopub.execute_input": "2022-03-08T14:29:27.486148Z",
          "iopub.status.busy": "2022-03-08T14:29:27.485394Z",
          "iopub.status.idle": "2022-03-08T14:29:27.513467Z",
          "shell.execute_reply": "2022-03-08T14:29:27.512890Z",
          "shell.execute_reply.started": "2022-03-08T14:18:45.066829Z"
        },
        "papermill": {
          "duration": 0.088177,
          "end_time": "2022-03-08T14:29:27.513633",
          "exception": false,
          "start_time": "2022-03-08T14:29:27.425456",
          "status": "completed"
        },
        "tags": [],
        "id": "2bdac562",
        "outputId": "9ed13d09-5455-421f-aeb5-81dd0c0840a1"
      },
      "outputs": [
        {
          "data": {
            "text/html": [
              "<div>\n",
              "<style scoped>\n",
              "    .dataframe tbody tr th:only-of-type {\n",
              "        vertical-align: middle;\n",
              "    }\n",
              "\n",
              "    .dataframe tbody tr th {\n",
              "        vertical-align: top;\n",
              "    }\n",
              "\n",
              "    .dataframe thead th {\n",
              "        text-align: right;\n",
              "    }\n",
              "</style>\n",
              "<table border=\"1\" class=\"dataframe\">\n",
              "  <thead>\n",
              "    <tr style=\"text-align: right;\">\n",
              "      <th></th>\n",
              "      <th>age</th>\n",
              "      <th>workclass</th>\n",
              "      <th>fnlwgt</th>\n",
              "      <th>education</th>\n",
              "      <th>educational-num</th>\n",
              "      <th>marital-status</th>\n",
              "      <th>occupation</th>\n",
              "      <th>relationship</th>\n",
              "      <th>race</th>\n",
              "      <th>gender</th>\n",
              "      <th>hours-per-week</th>\n",
              "      <th>native-country</th>\n",
              "      <th>income</th>\n",
              "    </tr>\n",
              "  </thead>\n",
              "  <tbody>\n",
              "    <tr>\n",
              "      <th>0</th>\n",
              "      <td>25</td>\n",
              "      <td>Private</td>\n",
              "      <td>226802</td>\n",
              "      <td>11th</td>\n",
              "      <td>7</td>\n",
              "      <td>Never-married</td>\n",
              "      <td>Machine-op-inspct</td>\n",
              "      <td>Own-child</td>\n",
              "      <td>Black</td>\n",
              "      <td>Male</td>\n",
              "      <td>40</td>\n",
              "      <td>United-States</td>\n",
              "      <td>&lt;=50K</td>\n",
              "    </tr>\n",
              "    <tr>\n",
              "      <th>1</th>\n",
              "      <td>38</td>\n",
              "      <td>Private</td>\n",
              "      <td>89814</td>\n",
              "      <td>HS-grad</td>\n",
              "      <td>9</td>\n",
              "      <td>Married-civ-spouse</td>\n",
              "      <td>Farming-fishing</td>\n",
              "      <td>Husband</td>\n",
              "      <td>White</td>\n",
              "      <td>Male</td>\n",
              "      <td>50</td>\n",
              "      <td>United-States</td>\n",
              "      <td>&lt;=50K</td>\n",
              "    </tr>\n",
              "    <tr>\n",
              "      <th>2</th>\n",
              "      <td>28</td>\n",
              "      <td>Local-gov</td>\n",
              "      <td>336951</td>\n",
              "      <td>Assoc-acdm</td>\n",
              "      <td>12</td>\n",
              "      <td>Married-civ-spouse</td>\n",
              "      <td>Protective-serv</td>\n",
              "      <td>Husband</td>\n",
              "      <td>White</td>\n",
              "      <td>Male</td>\n",
              "      <td>40</td>\n",
              "      <td>United-States</td>\n",
              "      <td>&gt;50K</td>\n",
              "    </tr>\n",
              "    <tr>\n",
              "      <th>3</th>\n",
              "      <td>44</td>\n",
              "      <td>Private</td>\n",
              "      <td>160323</td>\n",
              "      <td>Some-college</td>\n",
              "      <td>10</td>\n",
              "      <td>Married-civ-spouse</td>\n",
              "      <td>Machine-op-inspct</td>\n",
              "      <td>Husband</td>\n",
              "      <td>Black</td>\n",
              "      <td>Male</td>\n",
              "      <td>40</td>\n",
              "      <td>United-States</td>\n",
              "      <td>&gt;50K</td>\n",
              "    </tr>\n",
              "    <tr>\n",
              "      <th>5</th>\n",
              "      <td>34</td>\n",
              "      <td>Private</td>\n",
              "      <td>198693</td>\n",
              "      <td>10th</td>\n",
              "      <td>6</td>\n",
              "      <td>Never-married</td>\n",
              "      <td>Other-service</td>\n",
              "      <td>Not-in-family</td>\n",
              "      <td>White</td>\n",
              "      <td>Male</td>\n",
              "      <td>30</td>\n",
              "      <td>United-States</td>\n",
              "      <td>&lt;=50K</td>\n",
              "    </tr>\n",
              "    <tr>\n",
              "      <th>...</th>\n",
              "      <td>...</td>\n",
              "      <td>...</td>\n",
              "      <td>...</td>\n",
              "      <td>...</td>\n",
              "      <td>...</td>\n",
              "      <td>...</td>\n",
              "      <td>...</td>\n",
              "      <td>...</td>\n",
              "      <td>...</td>\n",
              "      <td>...</td>\n",
              "      <td>...</td>\n",
              "      <td>...</td>\n",
              "      <td>...</td>\n",
              "    </tr>\n",
              "    <tr>\n",
              "      <th>48837</th>\n",
              "      <td>27</td>\n",
              "      <td>Private</td>\n",
              "      <td>257302</td>\n",
              "      <td>Assoc-acdm</td>\n",
              "      <td>12</td>\n",
              "      <td>Married-civ-spouse</td>\n",
              "      <td>Tech-support</td>\n",
              "      <td>Wife</td>\n",
              "      <td>White</td>\n",
              "      <td>Female</td>\n",
              "      <td>38</td>\n",
              "      <td>United-States</td>\n",
              "      <td>&lt;=50K</td>\n",
              "    </tr>\n",
              "    <tr>\n",
              "      <th>48838</th>\n",
              "      <td>40</td>\n",
              "      <td>Private</td>\n",
              "      <td>154374</td>\n",
              "      <td>HS-grad</td>\n",
              "      <td>9</td>\n",
              "      <td>Married-civ-spouse</td>\n",
              "      <td>Machine-op-inspct</td>\n",
              "      <td>Husband</td>\n",
              "      <td>White</td>\n",
              "      <td>Male</td>\n",
              "      <td>40</td>\n",
              "      <td>United-States</td>\n",
              "      <td>&gt;50K</td>\n",
              "    </tr>\n",
              "    <tr>\n",
              "      <th>48839</th>\n",
              "      <td>58</td>\n",
              "      <td>Private</td>\n",
              "      <td>151910</td>\n",
              "      <td>HS-grad</td>\n",
              "      <td>9</td>\n",
              "      <td>Widowed</td>\n",
              "      <td>Adm-clerical</td>\n",
              "      <td>Unmarried</td>\n",
              "      <td>White</td>\n",
              "      <td>Female</td>\n",
              "      <td>40</td>\n",
              "      <td>United-States</td>\n",
              "      <td>&lt;=50K</td>\n",
              "    </tr>\n",
              "    <tr>\n",
              "      <th>48840</th>\n",
              "      <td>22</td>\n",
              "      <td>Private</td>\n",
              "      <td>201490</td>\n",
              "      <td>HS-grad</td>\n",
              "      <td>9</td>\n",
              "      <td>Never-married</td>\n",
              "      <td>Adm-clerical</td>\n",
              "      <td>Own-child</td>\n",
              "      <td>White</td>\n",
              "      <td>Male</td>\n",
              "      <td>20</td>\n",
              "      <td>United-States</td>\n",
              "      <td>&lt;=50K</td>\n",
              "    </tr>\n",
              "    <tr>\n",
              "      <th>48841</th>\n",
              "      <td>52</td>\n",
              "      <td>Self-emp-inc</td>\n",
              "      <td>287927</td>\n",
              "      <td>HS-grad</td>\n",
              "      <td>9</td>\n",
              "      <td>Married-civ-spouse</td>\n",
              "      <td>Exec-managerial</td>\n",
              "      <td>Wife</td>\n",
              "      <td>White</td>\n",
              "      <td>Female</td>\n",
              "      <td>40</td>\n",
              "      <td>United-States</td>\n",
              "      <td>&gt;50K</td>\n",
              "    </tr>\n",
              "  </tbody>\n",
              "</table>\n",
              "<p>45175 rows × 13 columns</p>\n",
              "</div>"
            ],
            "text/plain": [
              "       age     workclass  fnlwgt     education  educational-num  \\\n",
              "0       25       Private  226802          11th                7   \n",
              "1       38       Private   89814       HS-grad                9   \n",
              "2       28     Local-gov  336951    Assoc-acdm               12   \n",
              "3       44       Private  160323  Some-college               10   \n",
              "5       34       Private  198693          10th                6   \n",
              "...    ...           ...     ...           ...              ...   \n",
              "48837   27       Private  257302    Assoc-acdm               12   \n",
              "48838   40       Private  154374       HS-grad                9   \n",
              "48839   58       Private  151910       HS-grad                9   \n",
              "48840   22       Private  201490       HS-grad                9   \n",
              "48841   52  Self-emp-inc  287927       HS-grad                9   \n",
              "\n",
              "           marital-status         occupation   relationship   race  gender  \\\n",
              "0           Never-married  Machine-op-inspct      Own-child  Black    Male   \n",
              "1      Married-civ-spouse    Farming-fishing        Husband  White    Male   \n",
              "2      Married-civ-spouse    Protective-serv        Husband  White    Male   \n",
              "3      Married-civ-spouse  Machine-op-inspct        Husband  Black    Male   \n",
              "5           Never-married      Other-service  Not-in-family  White    Male   \n",
              "...                   ...                ...            ...    ...     ...   \n",
              "48837  Married-civ-spouse       Tech-support           Wife  White  Female   \n",
              "48838  Married-civ-spouse  Machine-op-inspct        Husband  White    Male   \n",
              "48839             Widowed       Adm-clerical      Unmarried  White  Female   \n",
              "48840       Never-married       Adm-clerical      Own-child  White    Male   \n",
              "48841  Married-civ-spouse    Exec-managerial           Wife  White  Female   \n",
              "\n",
              "       hours-per-week native-country income  \n",
              "0                  40  United-States  <=50K  \n",
              "1                  50  United-States  <=50K  \n",
              "2                  40  United-States   >50K  \n",
              "3                  40  United-States   >50K  \n",
              "5                  30  United-States  <=50K  \n",
              "...               ...            ...    ...  \n",
              "48837              38  United-States  <=50K  \n",
              "48838              40  United-States   >50K  \n",
              "48839              40  United-States  <=50K  \n",
              "48840              20  United-States  <=50K  \n",
              "48841              40  United-States   >50K  \n",
              "\n",
              "[45175 rows x 13 columns]"
            ]
          },
          "execution_count": 22,
          "metadata": {},
          "output_type": "execute_result"
        }
      ],
      "source": [
        "df.drop(['capital-gain', 'capital-loss'], axis=1)"
      ]
    },
    {
      "cell_type": "markdown",
      "id": "38b3b537",
      "metadata": {
        "papermill": {
          "duration": 0.057943,
          "end_time": "2022-03-08T14:29:27.637174",
          "exception": false,
          "start_time": "2022-03-08T14:29:27.579231",
          "status": "completed"
        },
        "tags": [],
        "id": "38b3b537"
      },
      "source": [
        "* We have successfully dropped [ 'capital-gain' ] & [ 'capital-loss' ] both columns."
      ]
    },
    {
      "cell_type": "markdown",
      "id": "13953c6a",
      "metadata": {
        "papermill": {
          "duration": 0.062099,
          "end_time": "2022-03-08T14:29:27.757045",
          "exception": false,
          "start_time": "2022-03-08T14:29:27.694946",
          "status": "completed"
        },
        "tags": [],
        "id": "13953c6a"
      },
      "source": [
        "### *Univariate Analysis :*"
      ]
    },
    {
      "cell_type": "markdown",
      "id": "19068a7a",
      "metadata": {
        "papermill": {
          "duration": 0.057733,
          "end_time": "2022-03-08T14:29:27.874998",
          "exception": false,
          "start_time": "2022-03-08T14:29:27.817265",
          "status": "completed"
        },
        "tags": [],
        "id": "19068a7a"
      },
      "source": [
        "#### *What Is The Distribution of Age Column?*"
      ]
    },
    {
      "cell_type": "code",
      "execution_count": null,
      "id": "ed48cf46",
      "metadata": {
        "execution": {
          "iopub.execute_input": "2022-03-08T14:29:28.001153Z",
          "iopub.status.busy": "2022-03-08T14:29:28.000453Z",
          "iopub.status.idle": "2022-03-08T14:29:28.008922Z",
          "shell.execute_reply": "2022-03-08T14:29:28.009348Z",
          "shell.execute_reply.started": "2022-03-08T14:18:45.097059Z"
        },
        "papermill": {
          "duration": 0.07295,
          "end_time": "2022-03-08T14:29:28.009524",
          "exception": false,
          "start_time": "2022-03-08T14:29:27.936574",
          "status": "completed"
        },
        "tags": [],
        "id": "ed48cf46",
        "outputId": "259fda5c-b6c7-4e29-f081-be19187884a7"
      },
      "outputs": [
        {
          "data": {
            "text/plain": [
              "count    45175.000000\n",
              "mean        38.556170\n",
              "std         13.215349\n",
              "min         17.000000\n",
              "25%         28.000000\n",
              "50%         37.000000\n",
              "75%         47.000000\n",
              "max         90.000000\n",
              "Name: age, dtype: float64"
            ]
          },
          "execution_count": 23,
          "metadata": {},
          "output_type": "execute_result"
        }
      ],
      "source": [
        "df['age'].describe()"
      ]
    },
    {
      "cell_type": "code",
      "execution_count": null,
      "id": "0fa4f15c",
      "metadata": {
        "execution": {
          "iopub.execute_input": "2022-03-08T14:29:28.135752Z",
          "iopub.status.busy": "2022-03-08T14:29:28.135066Z",
          "iopub.status.idle": "2022-03-08T14:29:28.347685Z",
          "shell.execute_reply": "2022-03-08T14:29:28.347139Z",
          "shell.execute_reply.started": "2022-03-08T14:18:45.109875Z"
        },
        "papermill": {
          "duration": 0.276847,
          "end_time": "2022-03-08T14:29:28.347828",
          "exception": false,
          "start_time": "2022-03-08T14:29:28.070981",
          "status": "completed"
        },
        "tags": [],
        "id": "0fa4f15c",
        "outputId": "7e0376c5-29cd-46d9-ead4-86f4ed426386"
      },
      "outputs": [
        {
          "data": {
            "text/plain": [
              "<AxesSubplot:>"
            ]
          },
          "execution_count": 24,
          "metadata": {},
          "output_type": "execute_result"
        },
        {
          "data": {
            "image/png": "[encoded data removed]",
            "text/plain": [
              "<Figure size 432x288 with 1 Axes>"
            ]
          },
          "metadata": {
            "needs_background": "light"
          },
          "output_type": "display_data"
        }
      ],
      "source": [
        "df['age'].hist(bins=15)"
      ]
    },
    {
      "cell_type": "markdown",
      "id": "5dcbe3d0",
      "metadata": {
        "papermill": {
          "duration": 0.060547,
          "end_time": "2022-03-08T14:29:28.466937",
          "exception": false,
          "start_time": "2022-03-08T14:29:28.406390",
          "status": "completed"
        },
        "tags": [],
        "id": "5dcbe3d0"
      },
      "source": [
        "* As per above histogram .describe method, \n",
        "  * [ 'age' ] column has 25 % below age 28\n",
        "  * [ 'age' ] column has 50 % below age 37\n",
        "  * [ 'age' ] column has 75 % below age 47\n",
        "    * Most of the age values are between 17 to 50"
      ]
    },
    {
      "cell_type": "markdown",
      "id": "a397eb60",
      "metadata": {
        "papermill": {
          "duration": 0.060117,
          "end_time": "2022-03-08T14:29:28.586616",
          "exception": false,
          "start_time": "2022-03-08T14:29:28.526499",
          "status": "completed"
        },
        "tags": [],
        "id": "a397eb60"
      },
      "source": [
        "#### *Find Total number of people having age between 17 To 50 (Inclusive)*"
      ]
    },
    {
      "cell_type": "code",
      "execution_count": null,
      "id": "89877bb8",
      "metadata": {
        "execution": {
          "iopub.execute_input": "2022-03-08T14:29:28.710352Z",
          "iopub.status.busy": "2022-03-08T14:29:28.709676Z",
          "iopub.status.idle": "2022-03-08T14:29:28.718345Z",
          "shell.execute_reply": "2022-03-08T14:29:28.718989Z",
          "shell.execute_reply.started": "2022-03-08T14:18:45.364049Z"
        },
        "papermill": {
          "duration": 0.073612,
          "end_time": "2022-03-08T14:29:28.719172",
          "exception": false,
          "start_time": "2022-03-08T14:29:28.645560",
          "status": "completed"
        },
        "tags": [],
        "id": "89877bb8",
        "outputId": "7a57a9b5-5aa5-431c-d72c-ce19470715e8"
      },
      "outputs": [
        {
          "name": "stdout",
          "output_type": "stream",
          "text": [
            "Total number of people having age between 17 To 50 : 36495\n"
          ]
        }
      ],
      "source": [
        "print(f\"Total number of people having age between 17 To 50 : {len(df[df['age'].between(17,50)])}\")"
      ]
    },
    {
      "cell_type": "markdown",
      "id": "34ef8fda",
      "metadata": {
        "papermill": {
          "duration": 0.063898,
          "end_time": "2022-03-08T14:29:28.845679",
          "exception": false,
          "start_time": "2022-03-08T14:29:28.781781",
          "status": "completed"
        },
        "tags": [],
        "id": "34ef8fda"
      },
      "source": [
        "#### *What is the distribution of workclass column?*"
      ]
    },
    {
      "cell_type": "code",
      "execution_count": null,
      "id": "10364320",
      "metadata": {
        "execution": {
          "iopub.execute_input": "2022-03-08T14:29:28.977956Z",
          "iopub.status.busy": "2022-03-08T14:29:28.976807Z",
          "iopub.status.idle": "2022-03-08T14:29:28.989460Z",
          "shell.execute_reply": "2022-03-08T14:29:28.990010Z",
          "shell.execute_reply.started": "2022-03-08T14:18:45.380229Z"
        },
        "papermill": {
          "duration": 0.078409,
          "end_time": "2022-03-08T14:29:28.990206",
          "exception": false,
          "start_time": "2022-03-08T14:29:28.911797",
          "status": "completed"
        },
        "tags": [],
        "id": "10364320",
        "outputId": "ff805199-f326-4993-d173-d2a2d49d3ee4"
      },
      "outputs": [
        {
          "data": {
            "text/plain": [
              "count       45175\n",
              "unique          7\n",
              "top       Private\n",
              "freq        33262\n",
              "Name: workclass, dtype: object"
            ]
          },
          "execution_count": 26,
          "metadata": {},
          "output_type": "execute_result"
        }
      ],
      "source": [
        "df['workclass'].describe()"
      ]
    },
    {
      "cell_type": "code",
      "execution_count": null,
      "id": "ed77f355",
      "metadata": {
        "execution": {
          "iopub.execute_input": "2022-03-08T14:29:29.120324Z",
          "iopub.status.busy": "2022-03-08T14:29:29.119340Z",
          "iopub.status.idle": "2022-03-08T14:29:29.349291Z",
          "shell.execute_reply": "2022-03-08T14:29:29.350095Z",
          "shell.execute_reply.started": "2022-03-08T14:18:45.404554Z"
        },
        "papermill": {
          "duration": 0.29866,
          "end_time": "2022-03-08T14:29:29.350397",
          "exception": false,
          "start_time": "2022-03-08T14:29:29.051737",
          "status": "completed"
        },
        "tags": [],
        "id": "ed77f355",
        "outputId": "84be2b7d-0fb3-4967-c71b-3403776b62ff"
      },
      "outputs": [
        {
          "data": {
            "text/plain": [
              "<AxesSubplot:>"
            ]
          },
          "execution_count": 27,
          "metadata": {},
          "output_type": "execute_result"
        },
        {
          "data": {
            "image/png": "[encoded data removed]",
            "text/plain": [
              "<Figure size 720x504 with 1 Axes>"
            ]
          },
          "metadata": {
            "needs_background": "light"
          },
          "output_type": "display_data"
        }
      ],
      "source": [
        "plt.figure(figsize=(10,7))\n",
        "df['workclass'].hist()"
      ]
    },
    {
      "cell_type": "markdown",
      "id": "c02c2b45",
      "metadata": {
        "papermill": {
          "duration": 0.062559,
          "end_time": "2022-03-08T14:29:29.486065",
          "exception": false,
          "start_time": "2022-03-08T14:29:29.423506",
          "status": "completed"
        },
        "tags": [],
        "id": "c02c2b45"
      },
      "source": [
        "* Most of the employees are from 'Private' sector"
      ]
    },
    {
      "cell_type": "markdown",
      "id": "e0bb11ad",
      "metadata": {
        "papermill": {
          "duration": 0.062737,
          "end_time": "2022-03-08T14:29:29.612586",
          "exception": false,
          "start_time": "2022-03-08T14:29:29.549849",
          "status": "completed"
        },
        "tags": [],
        "id": "e0bb11ad"
      },
      "source": [
        "#### *How many people have bachelors and masters degree?*"
      ]
    },
    {
      "cell_type": "code",
      "execution_count": null,
      "id": "af80cf28",
      "metadata": {
        "execution": {
          "iopub.execute_input": "2022-03-08T14:29:29.746447Z",
          "iopub.status.busy": "2022-03-08T14:29:29.745747Z",
          "iopub.status.idle": "2022-03-08T14:29:29.752566Z",
          "shell.execute_reply": "2022-03-08T14:29:29.752081Z",
          "shell.execute_reply.started": "2022-03-08T14:18:45.657063Z"
        },
        "papermill": {
          "duration": 0.075663,
          "end_time": "2022-03-08T14:29:29.752711",
          "exception": false,
          "start_time": "2022-03-08T14:29:29.677048",
          "status": "completed"
        },
        "tags": [],
        "id": "af80cf28",
        "outputId": "141e9afd-b990-4ff5-fe8e-2ed92ac81758"
      },
      "outputs": [
        {
          "name": "stdout",
          "output_type": "stream",
          "text": [
            "10072 : people have bachelors and masters degree\n"
          ]
        }
      ],
      "source": [
        "print(f\"{len(df[df['education'].isin(['Bachelors', 'Masters'])])} : people have bachelors and masters degree\")"
      ]
    },
    {
      "cell_type": "code",
      "execution_count": null,
      "id": "336c0fc6",
      "metadata": {
        "execution": {
          "iopub.execute_input": "2022-03-08T14:29:29.883566Z",
          "iopub.status.busy": "2022-03-08T14:29:29.882933Z",
          "iopub.status.idle": "2022-03-08T14:29:30.280745Z",
          "shell.execute_reply": "2022-03-08T14:29:30.280265Z",
          "shell.execute_reply.started": "2022-03-08T14:18:45.670162Z"
        },
        "papermill": {
          "duration": 0.4659,
          "end_time": "2022-03-08T14:29:30.280895",
          "exception": false,
          "start_time": "2022-03-08T14:29:29.814995",
          "status": "completed"
        },
        "tags": [],
        "id": "336c0fc6",
        "outputId": "1e0f0070-cbc1-40c2-cfd2-62c6b3aa73cf"
      },
      "outputs": [
        {
          "data": {
            "image/png": "[encoded data removed]",
            "text/plain": [
              "<Figure size 1440x360 with 1 Axes>"
            ]
          },
          "metadata": {
            "needs_background": "light"
          },
          "output_type": "display_data"
        }
      ],
      "source": [
        "sns.displot(x=df['education'], aspect=4)\n",
        "plt.title('Education Level & Number of People')\n",
        "plt.show()"
      ]
    },
    {
      "cell_type": "markdown",
      "id": "b034e467",
      "metadata": {
        "papermill": {
          "duration": 0.063853,
          "end_time": "2022-03-08T14:29:30.411042",
          "exception": false,
          "start_time": "2022-03-08T14:29:30.347189",
          "status": "completed"
        },
        "tags": [],
        "id": "b034e467"
      },
      "source": [
        "### *Bivariate Analysis*"
      ]
    },
    {
      "cell_type": "markdown",
      "id": "36291fe7",
      "metadata": {
        "papermill": {
          "duration": 0.062257,
          "end_time": "2022-03-08T14:29:30.536767",
          "exception": false,
          "start_time": "2022-03-08T14:29:30.474510",
          "status": "completed"
        },
        "tags": [],
        "id": "36291fe7"
      },
      "source": [
        "#### *Relationship between Income and Age*"
      ]
    },
    {
      "cell_type": "code",
      "execution_count": null,
      "id": "7541de01",
      "metadata": {
        "execution": {
          "iopub.execute_input": "2022-03-08T14:29:30.674026Z",
          "iopub.status.busy": "2022-03-08T14:29:30.673392Z",
          "iopub.status.idle": "2022-03-08T14:29:30.993151Z",
          "shell.execute_reply": "2022-03-08T14:29:30.992085Z",
          "shell.execute_reply.started": "2022-03-08T14:18:46.084733Z"
        },
        "papermill": {
          "duration": 0.39464,
          "end_time": "2022-03-08T14:29:30.993347",
          "exception": false,
          "start_time": "2022-03-08T14:29:30.598707",
          "status": "completed"
        },
        "tags": [],
        "id": "7541de01",
        "outputId": "49177dc4-1832-4675-a1f0-29503ca53cc7"
      },
      "outputs": [
        {
          "data": {
            "image/png": "[encoded data removed]",
            "text/plain": [
              "<Figure size 720x360 with 1 Axes>"
            ]
          },
          "metadata": {
            "needs_background": "light"
          },
          "output_type": "display_data"
        }
      ],
      "source": [
        "sns.catplot(data=df, x='income', y='age', kind= 'box', aspect=2)\n",
        "plt.title('Relationship between Income and Age')\n",
        "plt.show()"
      ]
    },
    {
      "cell_type": "markdown",
      "id": "53edfb1e",
      "metadata": {
        "papermill": {
          "duration": 0.065132,
          "end_time": "2022-03-08T14:29:31.122642",
          "exception": false,
          "start_time": "2022-03-08T14:29:31.057510",
          "status": "completed"
        },
        "tags": [],
        "id": "53edfb1e"
      },
      "source": [
        "* Most of the people having income less than or equal to 50K are between age 25-45\n",
        "* Most of the people having income more than 50K are between age 37-50"
      ]
    },
    {
      "cell_type": "markdown",
      "id": "a57f3523",
      "metadata": {
        "papermill": {
          "duration": 0.063648,
          "end_time": "2022-03-08T14:29:31.257191",
          "exception": false,
          "start_time": "2022-03-08T14:29:31.193543",
          "status": "completed"
        },
        "tags": [],
        "id": "a57f3523"
      },
      "source": [
        "#### *Replace salary values [<=50K, >50K] with 0 and 1*"
      ]
    },
    {
      "cell_type": "code",
      "execution_count": null,
      "id": "8526437f",
      "metadata": {
        "execution": {
          "iopub.execute_input": "2022-03-08T14:29:31.385722Z",
          "iopub.status.busy": "2022-03-08T14:29:31.384746Z",
          "iopub.status.idle": "2022-03-08T14:29:31.699176Z",
          "shell.execute_reply": "2022-03-08T14:29:31.699582Z",
          "shell.execute_reply.started": "2022-03-08T14:18:46.436564Z"
        },
        "papermill": {
          "duration": 0.381029,
          "end_time": "2022-03-08T14:29:31.699749",
          "exception": false,
          "start_time": "2022-03-08T14:29:31.318720",
          "status": "completed"
        },
        "tags": [],
        "id": "8526437f",
        "outputId": "6f6bba39-3719-4b2d-c156-e4c938bc724e"
      },
      "outputs": [
        {
          "data": {
            "text/plain": [
              "<seaborn.axisgrid.FacetGrid at 0x7fa724643210>"
            ]
          },
          "execution_count": 31,
          "metadata": {},
          "output_type": "execute_result"
        },
        {
          "data": {
            "image/png": "[encoded data removed]",
            "text/plain": [
              "<Figure size 720x360 with 1 Axes>"
            ]
          },
          "metadata": {
            "needs_background": "light"
          },
          "output_type": "display_data"
        }
      ],
      "source": [
        "sns.catplot(data=df, x='income', kind= 'count', aspect=2)"
      ]
    },
    {
      "cell_type": "markdown",
      "id": "2bba6a7a",
      "metadata": {
        "papermill": {
          "duration": 0.064361,
          "end_time": "2022-03-08T14:29:31.827781",
          "exception": false,
          "start_time": "2022-03-08T14:29:31.763420",
          "status": "completed"
        },
        "tags": [],
        "id": "2bba6a7a"
      },
      "source": [
        "* Method 1\n",
        "  * Creating a function to convert salary values [<=50K, >50K] with 0 and 1"
      ]
    },
    {
      "cell_type": "code",
      "execution_count": null,
      "id": "fe1f8d74",
      "metadata": {
        "execution": {
          "iopub.execute_input": "2022-03-08T14:29:31.958128Z",
          "iopub.status.busy": "2022-03-08T14:29:31.957064Z",
          "iopub.status.idle": "2022-03-08T14:29:31.961407Z",
          "shell.execute_reply": "2022-03-08T14:29:31.961929Z",
          "shell.execute_reply.started": "2022-03-08T14:18:46.787807Z"
        },
        "papermill": {
          "duration": 0.071837,
          "end_time": "2022-03-08T14:29:31.962101",
          "exception": false,
          "start_time": "2022-03-08T14:29:31.890264",
          "status": "completed"
        },
        "tags": [],
        "id": "fe1f8d74"
      },
      "outputs": [],
      "source": [
        "def income_data(income):\n",
        "    if income == '<=50K':\n",
        "        return 0\n",
        "    else:\n",
        "        return 1"
      ]
    },
    {
      "cell_type": "markdown",
      "id": "1082a24a",
      "metadata": {
        "papermill": {
          "duration": 0.062155,
          "end_time": "2022-03-08T14:29:32.088358",
          "exception": false,
          "start_time": "2022-03-08T14:29:32.026203",
          "status": "completed"
        },
        "tags": [],
        "id": "1082a24a"
      },
      "source": [
        "* Creating a separate column --> ['encoded_income']"
      ]
    },
    {
      "cell_type": "code",
      "execution_count": null,
      "id": "63633778",
      "metadata": {
        "execution": {
          "iopub.execute_input": "2022-03-08T14:29:32.221026Z",
          "iopub.status.busy": "2022-03-08T14:29:32.220104Z",
          "iopub.status.idle": "2022-03-08T14:29:32.249976Z",
          "shell.execute_reply": "2022-03-08T14:29:32.250452Z",
          "shell.execute_reply.started": "2022-03-08T14:18:46.792909Z"
        },
        "papermill": {
          "duration": 0.097943,
          "end_time": "2022-03-08T14:29:32.250618",
          "exception": false,
          "start_time": "2022-03-08T14:29:32.152675",
          "status": "completed"
        },
        "tags": [],
        "id": "63633778",
        "outputId": "941eee2a-d3f1-41cf-e18a-5904f3dd1d9c"
      },
      "outputs": [
        {
          "data": {
            "text/html": [
              "<div>\n",
              "<style scoped>\n",
              "    .dataframe tbody tr th:only-of-type {\n",
              "        vertical-align: middle;\n",
              "    }\n",
              "\n",
              "    .dataframe tbody tr th {\n",
              "        vertical-align: top;\n",
              "    }\n",
              "\n",
              "    .dataframe thead th {\n",
              "        text-align: right;\n",
              "    }\n",
              "</style>\n",
              "<table border=\"1\" class=\"dataframe\">\n",
              "  <thead>\n",
              "    <tr style=\"text-align: right;\">\n",
              "      <th></th>\n",
              "      <th>age</th>\n",
              "      <th>workclass</th>\n",
              "      <th>fnlwgt</th>\n",
              "      <th>education</th>\n",
              "      <th>educational-num</th>\n",
              "      <th>marital-status</th>\n",
              "      <th>occupation</th>\n",
              "      <th>relationship</th>\n",
              "      <th>race</th>\n",
              "      <th>gender</th>\n",
              "      <th>capital-gain</th>\n",
              "      <th>capital-loss</th>\n",
              "      <th>hours-per-week</th>\n",
              "      <th>native-country</th>\n",
              "      <th>income</th>\n",
              "      <th>encoded_income</th>\n",
              "    </tr>\n",
              "  </thead>\n",
              "  <tbody>\n",
              "    <tr>\n",
              "      <th>0</th>\n",
              "      <td>25</td>\n",
              "      <td>Private</td>\n",
              "      <td>226802</td>\n",
              "      <td>11th</td>\n",
              "      <td>7</td>\n",
              "      <td>Never-married</td>\n",
              "      <td>Machine-op-inspct</td>\n",
              "      <td>Own-child</td>\n",
              "      <td>Black</td>\n",
              "      <td>Male</td>\n",
              "      <td>0</td>\n",
              "      <td>0</td>\n",
              "      <td>40</td>\n",
              "      <td>United-States</td>\n",
              "      <td>&lt;=50K</td>\n",
              "      <td>0</td>\n",
              "    </tr>\n",
              "  </tbody>\n",
              "</table>\n",
              "</div>"
            ],
            "text/plain": [
              "   age workclass  fnlwgt education  educational-num marital-status  \\\n",
              "0   25   Private  226802      11th                7  Never-married   \n",
              "\n",
              "          occupation relationship   race gender  capital-gain  capital-loss  \\\n",
              "0  Machine-op-inspct    Own-child  Black   Male             0             0   \n",
              "\n",
              "   hours-per-week native-country income  encoded_income  \n",
              "0              40  United-States  <=50K               0  "
            ]
          },
          "execution_count": 33,
          "metadata": {},
          "output_type": "execute_result"
        }
      ],
      "source": [
        "df['encoded_income'] = df['income'].apply(income_data)\n",
        "df.head(1)"
      ]
    },
    {
      "cell_type": "markdown",
      "id": "71fba33b",
      "metadata": {
        "papermill": {
          "duration": 0.06312,
          "end_time": "2022-03-08T14:29:32.376693",
          "exception": false,
          "start_time": "2022-03-08T14:29:32.313573",
          "status": "completed"
        },
        "tags": [],
        "id": "71fba33b"
      },
      "source": [
        "* We have successfully added new column  ['encoded_income'] with values 0 and 1"
      ]
    },
    {
      "cell_type": "markdown",
      "id": "9e5148da",
      "metadata": {
        "papermill": {
          "duration": 0.063365,
          "end_time": "2022-03-08T14:29:32.503626",
          "exception": false,
          "start_time": "2022-03-08T14:29:32.440261",
          "status": "completed"
        },
        "tags": [],
        "id": "9e5148da"
      },
      "source": [
        "* Method 2\n",
        "  * Using replece method"
      ]
    },
    {
      "cell_type": "code",
      "execution_count": null,
      "id": "b9d2863e",
      "metadata": {
        "execution": {
          "iopub.execute_input": "2022-03-08T14:29:32.636737Z",
          "iopub.status.busy": "2022-03-08T14:29:32.636165Z",
          "iopub.status.idle": "2022-03-08T14:29:32.690274Z",
          "shell.execute_reply": "2022-03-08T14:29:32.690754Z",
          "shell.execute_reply.started": "2022-03-08T14:18:46.846468Z"
        },
        "papermill": {
          "duration": 0.120834,
          "end_time": "2022-03-08T14:29:32.690950",
          "exception": false,
          "start_time": "2022-03-08T14:29:32.570116",
          "status": "completed"
        },
        "tags": [],
        "id": "b9d2863e"
      },
      "outputs": [],
      "source": [
        "df.replace(to_replace=['<=50K', '>50K'], value=[0, 1], inplace=True)"
      ]
    },
    {
      "cell_type": "code",
      "execution_count": null,
      "id": "bec0e3d7",
      "metadata": {
        "execution": {
          "iopub.execute_input": "2022-03-08T14:29:32.832738Z",
          "iopub.status.busy": "2022-03-08T14:29:32.821573Z",
          "iopub.status.idle": "2022-03-08T14:29:32.836106Z",
          "shell.execute_reply": "2022-03-08T14:29:32.835622Z",
          "shell.execute_reply.started": "2022-03-08T14:18:46.953280Z"
        },
        "papermill": {
          "duration": 0.081416,
          "end_time": "2022-03-08T14:29:32.836262",
          "exception": false,
          "start_time": "2022-03-08T14:29:32.754846",
          "status": "completed"
        },
        "tags": [],
        "id": "bec0e3d7",
        "outputId": "1f116856-fefa-47df-8a03-9b4b78951174"
      },
      "outputs": [
        {
          "data": {
            "text/html": [
              "<div>\n",
              "<style scoped>\n",
              "    .dataframe tbody tr th:only-of-type {\n",
              "        vertical-align: middle;\n",
              "    }\n",
              "\n",
              "    .dataframe tbody tr th {\n",
              "        vertical-align: top;\n",
              "    }\n",
              "\n",
              "    .dataframe thead th {\n",
              "        text-align: right;\n",
              "    }\n",
              "</style>\n",
              "<table border=\"1\" class=\"dataframe\">\n",
              "  <thead>\n",
              "    <tr style=\"text-align: right;\">\n",
              "      <th></th>\n",
              "      <th>age</th>\n",
              "      <th>workclass</th>\n",
              "      <th>fnlwgt</th>\n",
              "      <th>education</th>\n",
              "      <th>educational-num</th>\n",
              "      <th>marital-status</th>\n",
              "      <th>occupation</th>\n",
              "      <th>relationship</th>\n",
              "      <th>race</th>\n",
              "      <th>gender</th>\n",
              "      <th>capital-gain</th>\n",
              "      <th>capital-loss</th>\n",
              "      <th>hours-per-week</th>\n",
              "      <th>native-country</th>\n",
              "      <th>income</th>\n",
              "      <th>encoded_income</th>\n",
              "    </tr>\n",
              "  </thead>\n",
              "  <tbody>\n",
              "    <tr>\n",
              "      <th>0</th>\n",
              "      <td>25</td>\n",
              "      <td>Private</td>\n",
              "      <td>226802</td>\n",
              "      <td>11th</td>\n",
              "      <td>7</td>\n",
              "      <td>Never-married</td>\n",
              "      <td>Machine-op-inspct</td>\n",
              "      <td>Own-child</td>\n",
              "      <td>Black</td>\n",
              "      <td>Male</td>\n",
              "      <td>0</td>\n",
              "      <td>0</td>\n",
              "      <td>40</td>\n",
              "      <td>United-States</td>\n",
              "      <td>0</td>\n",
              "      <td>0</td>\n",
              "    </tr>\n",
              "  </tbody>\n",
              "</table>\n",
              "</div>"
            ],
            "text/plain": [
              "   age workclass  fnlwgt education  educational-num marital-status  \\\n",
              "0   25   Private  226802      11th                7  Never-married   \n",
              "\n",
              "          occupation relationship   race gender  capital-gain  capital-loss  \\\n",
              "0  Machine-op-inspct    Own-child  Black   Male             0             0   \n",
              "\n",
              "   hours-per-week native-country  income  encoded_income  \n",
              "0              40  United-States       0               0  "
            ]
          },
          "execution_count": 35,
          "metadata": {},
          "output_type": "execute_result"
        }
      ],
      "source": [
        "df.head(1)"
      ]
    },
    {
      "cell_type": "markdown",
      "id": "187213ab",
      "metadata": {
        "papermill": {
          "duration": 0.064283,
          "end_time": "2022-03-08T14:29:32.965075",
          "exception": false,
          "start_time": "2022-03-08T14:29:32.900792",
          "status": "completed"
        },
        "tags": [],
        "id": "187213ab"
      },
      "source": [
        "* We have successfully replaced incom values [<=50K, >50K] with 0 and 1 in the same column\n",
        "  * Now we can drop 'encoded_income' column"
      ]
    },
    {
      "cell_type": "code",
      "execution_count": null,
      "id": "0ce2d564",
      "metadata": {
        "execution": {
          "iopub.execute_input": "2022-03-08T14:29:33.126498Z",
          "iopub.status.busy": "2022-03-08T14:29:33.100528Z",
          "iopub.status.idle": "2022-03-08T14:29:33.128707Z",
          "shell.execute_reply": "2022-03-08T14:29:33.129271Z",
          "shell.execute_reply.started": "2022-03-08T14:18:46.969255Z"
        },
        "papermill": {
          "duration": 0.099741,
          "end_time": "2022-03-08T14:29:33.129438",
          "exception": false,
          "start_time": "2022-03-08T14:29:33.029697",
          "status": "completed"
        },
        "tags": [],
        "id": "0ce2d564",
        "outputId": "f38ac3dc-6e11-4251-838d-094e856eaeb7"
      },
      "outputs": [
        {
          "data": {
            "text/html": [
              "<div>\n",
              "<style scoped>\n",
              "    .dataframe tbody tr th:only-of-type {\n",
              "        vertical-align: middle;\n",
              "    }\n",
              "\n",
              "    .dataframe tbody tr th {\n",
              "        vertical-align: top;\n",
              "    }\n",
              "\n",
              "    .dataframe thead th {\n",
              "        text-align: right;\n",
              "    }\n",
              "</style>\n",
              "<table border=\"1\" class=\"dataframe\">\n",
              "  <thead>\n",
              "    <tr style=\"text-align: right;\">\n",
              "      <th></th>\n",
              "      <th>age</th>\n",
              "      <th>workclass</th>\n",
              "      <th>fnlwgt</th>\n",
              "      <th>education</th>\n",
              "      <th>educational-num</th>\n",
              "      <th>marital-status</th>\n",
              "      <th>occupation</th>\n",
              "      <th>relationship</th>\n",
              "      <th>race</th>\n",
              "      <th>gender</th>\n",
              "      <th>capital-gain</th>\n",
              "      <th>capital-loss</th>\n",
              "      <th>hours-per-week</th>\n",
              "      <th>native-country</th>\n",
              "      <th>income</th>\n",
              "    </tr>\n",
              "  </thead>\n",
              "  <tbody>\n",
              "    <tr>\n",
              "      <th>0</th>\n",
              "      <td>25</td>\n",
              "      <td>Private</td>\n",
              "      <td>226802</td>\n",
              "      <td>11th</td>\n",
              "      <td>7</td>\n",
              "      <td>Never-married</td>\n",
              "      <td>Machine-op-inspct</td>\n",
              "      <td>Own-child</td>\n",
              "      <td>Black</td>\n",
              "      <td>Male</td>\n",
              "      <td>0</td>\n",
              "      <td>0</td>\n",
              "      <td>40</td>\n",
              "      <td>United-States</td>\n",
              "      <td>0</td>\n",
              "    </tr>\n",
              "    <tr>\n",
              "      <th>1</th>\n",
              "      <td>38</td>\n",
              "      <td>Private</td>\n",
              "      <td>89814</td>\n",
              "      <td>HS-grad</td>\n",
              "      <td>9</td>\n",
              "      <td>Married-civ-spouse</td>\n",
              "      <td>Farming-fishing</td>\n",
              "      <td>Husband</td>\n",
              "      <td>White</td>\n",
              "      <td>Male</td>\n",
              "      <td>0</td>\n",
              "      <td>0</td>\n",
              "      <td>50</td>\n",
              "      <td>United-States</td>\n",
              "      <td>0</td>\n",
              "    </tr>\n",
              "    <tr>\n",
              "      <th>2</th>\n",
              "      <td>28</td>\n",
              "      <td>Local-gov</td>\n",
              "      <td>336951</td>\n",
              "      <td>Assoc-acdm</td>\n",
              "      <td>12</td>\n",
              "      <td>Married-civ-spouse</td>\n",
              "      <td>Protective-serv</td>\n",
              "      <td>Husband</td>\n",
              "      <td>White</td>\n",
              "      <td>Male</td>\n",
              "      <td>0</td>\n",
              "      <td>0</td>\n",
              "      <td>40</td>\n",
              "      <td>United-States</td>\n",
              "      <td>1</td>\n",
              "    </tr>\n",
              "    <tr>\n",
              "      <th>3</th>\n",
              "      <td>44</td>\n",
              "      <td>Private</td>\n",
              "      <td>160323</td>\n",
              "      <td>Some-college</td>\n",
              "      <td>10</td>\n",
              "      <td>Married-civ-spouse</td>\n",
              "      <td>Machine-op-inspct</td>\n",
              "      <td>Husband</td>\n",
              "      <td>Black</td>\n",
              "      <td>Male</td>\n",
              "      <td>7688</td>\n",
              "      <td>0</td>\n",
              "      <td>40</td>\n",
              "      <td>United-States</td>\n",
              "      <td>1</td>\n",
              "    </tr>\n",
              "    <tr>\n",
              "      <th>5</th>\n",
              "      <td>34</td>\n",
              "      <td>Private</td>\n",
              "      <td>198693</td>\n",
              "      <td>10th</td>\n",
              "      <td>6</td>\n",
              "      <td>Never-married</td>\n",
              "      <td>Other-service</td>\n",
              "      <td>Not-in-family</td>\n",
              "      <td>White</td>\n",
              "      <td>Male</td>\n",
              "      <td>0</td>\n",
              "      <td>0</td>\n",
              "      <td>30</td>\n",
              "      <td>United-States</td>\n",
              "      <td>0</td>\n",
              "    </tr>\n",
              "    <tr>\n",
              "      <th>...</th>\n",
              "      <td>...</td>\n",
              "      <td>...</td>\n",
              "      <td>...</td>\n",
              "      <td>...</td>\n",
              "      <td>...</td>\n",
              "      <td>...</td>\n",
              "      <td>...</td>\n",
              "      <td>...</td>\n",
              "      <td>...</td>\n",
              "      <td>...</td>\n",
              "      <td>...</td>\n",
              "      <td>...</td>\n",
              "      <td>...</td>\n",
              "      <td>...</td>\n",
              "      <td>...</td>\n",
              "    </tr>\n",
              "    <tr>\n",
              "      <th>48837</th>\n",
              "      <td>27</td>\n",
              "      <td>Private</td>\n",
              "      <td>257302</td>\n",
              "      <td>Assoc-acdm</td>\n",
              "      <td>12</td>\n",
              "      <td>Married-civ-spouse</td>\n",
              "      <td>Tech-support</td>\n",
              "      <td>Wife</td>\n",
              "      <td>White</td>\n",
              "      <td>Female</td>\n",
              "      <td>0</td>\n",
              "      <td>0</td>\n",
              "      <td>38</td>\n",
              "      <td>United-States</td>\n",
              "      <td>0</td>\n",
              "    </tr>\n",
              "    <tr>\n",
              "      <th>48838</th>\n",
              "      <td>40</td>\n",
              "      <td>Private</td>\n",
              "      <td>154374</td>\n",
              "      <td>HS-grad</td>\n",
              "      <td>9</td>\n",
              "      <td>Married-civ-spouse</td>\n",
              "      <td>Machine-op-inspct</td>\n",
              "      <td>Husband</td>\n",
              "      <td>White</td>\n",
              "      <td>Male</td>\n",
              "      <td>0</td>\n",
              "      <td>0</td>\n",
              "      <td>40</td>\n",
              "      <td>United-States</td>\n",
              "      <td>1</td>\n",
              "    </tr>\n",
              "    <tr>\n",
              "      <th>48839</th>\n",
              "      <td>58</td>\n",
              "      <td>Private</td>\n",
              "      <td>151910</td>\n",
              "      <td>HS-grad</td>\n",
              "      <td>9</td>\n",
              "      <td>Widowed</td>\n",
              "      <td>Adm-clerical</td>\n",
              "      <td>Unmarried</td>\n",
              "      <td>White</td>\n",
              "      <td>Female</td>\n",
              "      <td>0</td>\n",
              "      <td>0</td>\n",
              "      <td>40</td>\n",
              "      <td>United-States</td>\n",
              "      <td>0</td>\n",
              "    </tr>\n",
              "    <tr>\n",
              "      <th>48840</th>\n",
              "      <td>22</td>\n",
              "      <td>Private</td>\n",
              "      <td>201490</td>\n",
              "      <td>HS-grad</td>\n",
              "      <td>9</td>\n",
              "      <td>Never-married</td>\n",
              "      <td>Adm-clerical</td>\n",
              "      <td>Own-child</td>\n",
              "      <td>White</td>\n",
              "      <td>Male</td>\n",
              "      <td>0</td>\n",
              "      <td>0</td>\n",
              "      <td>20</td>\n",
              "      <td>United-States</td>\n",
              "      <td>0</td>\n",
              "    </tr>\n",
              "    <tr>\n",
              "      <th>48841</th>\n",
              "      <td>52</td>\n",
              "      <td>Self-emp-inc</td>\n",
              "      <td>287927</td>\n",
              "      <td>HS-grad</td>\n",
              "      <td>9</td>\n",
              "      <td>Married-civ-spouse</td>\n",
              "      <td>Exec-managerial</td>\n",
              "      <td>Wife</td>\n",
              "      <td>White</td>\n",
              "      <td>Female</td>\n",
              "      <td>15024</td>\n",
              "      <td>0</td>\n",
              "      <td>40</td>\n",
              "      <td>United-States</td>\n",
              "      <td>1</td>\n",
              "    </tr>\n",
              "  </tbody>\n",
              "</table>\n",
              "<p>45175 rows × 15 columns</p>\n",
              "</div>"
            ],
            "text/plain": [
              "       age     workclass  fnlwgt     education  educational-num  \\\n",
              "0       25       Private  226802          11th                7   \n",
              "1       38       Private   89814       HS-grad                9   \n",
              "2       28     Local-gov  336951    Assoc-acdm               12   \n",
              "3       44       Private  160323  Some-college               10   \n",
              "5       34       Private  198693          10th                6   \n",
              "...    ...           ...     ...           ...              ...   \n",
              "48837   27       Private  257302    Assoc-acdm               12   \n",
              "48838   40       Private  154374       HS-grad                9   \n",
              "48839   58       Private  151910       HS-grad                9   \n",
              "48840   22       Private  201490       HS-grad                9   \n",
              "48841   52  Self-emp-inc  287927       HS-grad                9   \n",
              "\n",
              "           marital-status         occupation   relationship   race  gender  \\\n",
              "0           Never-married  Machine-op-inspct      Own-child  Black    Male   \n",
              "1      Married-civ-spouse    Farming-fishing        Husband  White    Male   \n",
              "2      Married-civ-spouse    Protective-serv        Husband  White    Male   \n",
              "3      Married-civ-spouse  Machine-op-inspct        Husband  Black    Male   \n",
              "5           Never-married      Other-service  Not-in-family  White    Male   \n",
              "...                   ...                ...            ...    ...     ...   \n",
              "48837  Married-civ-spouse       Tech-support           Wife  White  Female   \n",
              "48838  Married-civ-spouse  Machine-op-inspct        Husband  White    Male   \n",
              "48839             Widowed       Adm-clerical      Unmarried  White  Female   \n",
              "48840       Never-married       Adm-clerical      Own-child  White    Male   \n",
              "48841  Married-civ-spouse    Exec-managerial           Wife  White  Female   \n",
              "\n",
              "       capital-gain  capital-loss  hours-per-week native-country  income  \n",
              "0                 0             0              40  United-States       0  \n",
              "1                 0             0              50  United-States       0  \n",
              "2                 0             0              40  United-States       1  \n",
              "3              7688             0              40  United-States       1  \n",
              "5                 0             0              30  United-States       0  \n",
              "...             ...           ...             ...            ...     ...  \n",
              "48837             0             0              38  United-States       0  \n",
              "48838             0             0              40  United-States       1  \n",
              "48839             0             0              40  United-States       0  \n",
              "48840             0             0              20  United-States       0  \n",
              "48841         15024             0              40  United-States       1  \n",
              "\n",
              "[45175 rows x 15 columns]"
            ]
          },
          "execution_count": 36,
          "metadata": {},
          "output_type": "execute_result"
        }
      ],
      "source": [
        "df.drop(columns='encoded_income', axis=1)"
      ]
    },
    {
      "cell_type": "markdown",
      "id": "688841cb",
      "metadata": {
        "papermill": {
          "duration": 0.067889,
          "end_time": "2022-03-08T14:29:33.263523",
          "exception": false,
          "start_time": "2022-03-08T14:29:33.195634",
          "status": "completed"
        },
        "tags": [],
        "id": "688841cb"
      },
      "source": [
        "#### *Which Workclass is getting the highest income?*"
      ]
    },
    {
      "cell_type": "code",
      "execution_count": null,
      "id": "7ba25f77",
      "metadata": {
        "execution": {
          "iopub.execute_input": "2022-03-08T14:29:33.402271Z",
          "iopub.status.busy": "2022-03-08T14:29:33.398166Z",
          "iopub.status.idle": "2022-03-08T14:29:33.412081Z",
          "shell.execute_reply": "2022-03-08T14:29:33.412645Z",
          "shell.execute_reply.started": "2022-03-08T14:18:47.000327Z"
        },
        "papermill": {
          "duration": 0.083645,
          "end_time": "2022-03-08T14:29:33.412827",
          "exception": false,
          "start_time": "2022-03-08T14:29:33.329182",
          "status": "completed"
        },
        "tags": [],
        "id": "7ba25f77",
        "outputId": "7fe3c7df-7047-466c-cc24-b332e343b2c8"
      },
      "outputs": [
        {
          "data": {
            "text/plain": [
              "workclass\n",
              "Self-emp-inc        0.554407\n",
              "Federal-gov         0.390469\n",
              "Local-gov           0.295161\n",
              "Self-emp-not-inc    0.279051\n",
              "State-gov           0.267215\n",
              "Private             0.217816\n",
              "Without-pay         0.095238\n",
              "Name: income, dtype: float64"
            ]
          },
          "execution_count": 37,
          "metadata": {},
          "output_type": "execute_result"
        }
      ],
      "source": [
        "df.groupby('workclass')['income'].mean().sort_values(ascending= False)"
      ]
    },
    {
      "cell_type": "markdown",
      "id": "523ea507",
      "metadata": {
        "papermill": {
          "duration": 0.065622,
          "end_time": "2022-03-08T14:29:33.545277",
          "exception": false,
          "start_time": "2022-03-08T14:29:33.479655",
          "status": "completed"
        },
        "tags": [],
        "id": "523ea507"
      },
      "source": [
        "* Self-emp-inc workclass is getiing the highest income."
      ]
    },
    {
      "cell_type": "markdown",
      "id": "1d5053db",
      "metadata": {
        "papermill": {
          "duration": 0.065473,
          "end_time": "2022-03-08T14:29:33.678102",
          "exception": false,
          "start_time": "2022-03-08T14:29:33.612629",
          "status": "completed"
        },
        "tags": [],
        "id": "1d5053db"
      },
      "source": [
        "#### *How has better chance to get income greater than 50K, Male or Female?*"
      ]
    },
    {
      "cell_type": "code",
      "execution_count": null,
      "id": "dfa76586",
      "metadata": {
        "execution": {
          "iopub.execute_input": "2022-03-08T14:29:33.813612Z",
          "iopub.status.busy": "2022-03-08T14:29:33.812999Z",
          "iopub.status.idle": "2022-03-08T14:29:33.824140Z",
          "shell.execute_reply": "2022-03-08T14:29:33.824676Z",
          "shell.execute_reply.started": "2022-03-08T14:18:47.014723Z"
        },
        "papermill": {
          "duration": 0.080612,
          "end_time": "2022-03-08T14:29:33.824843",
          "exception": false,
          "start_time": "2022-03-08T14:29:33.744231",
          "status": "completed"
        },
        "tags": [],
        "id": "dfa76586",
        "outputId": "706c4477-d5e7-4816-c0da-896e45a67339"
      },
      "outputs": [
        {
          "data": {
            "text/plain": [
              "gender\n",
              "Male      0.312609\n",
              "Female    0.113692\n",
              "Name: income, dtype: float64"
            ]
          },
          "execution_count": 38,
          "metadata": {},
          "output_type": "execute_result"
        }
      ],
      "source": [
        "df.groupby('gender')['income'].mean().sort_values(ascending=False)"
      ]
    },
    {
      "cell_type": "markdown",
      "id": "61e9b36d",
      "metadata": {
        "papermill": {
          "duration": 0.066287,
          "end_time": "2022-03-08T14:29:33.958976",
          "exception": false,
          "start_time": "2022-03-08T14:29:33.892689",
          "status": "completed"
        },
        "tags": [],
        "id": "61e9b36d"
      },
      "source": [
        "* As per above result, 'Male' has better chance to get income greater than 50K."
      ]
    },
    {
      "cell_type": "markdown",
      "id": "ac9c19cb",
      "metadata": {
        "papermill": {
          "duration": 0.065258,
          "end_time": "2022-03-08T14:29:34.091035",
          "exception": false,
          "start_time": "2022-03-08T14:29:34.025777",
          "status": "completed"
        },
        "tags": [],
        "id": "ac9c19cb"
      },
      "source": [
        "#### *Covert workclass Columns Datatype To Category Datatype*"
      ]
    },
    {
      "cell_type": "code",
      "execution_count": null,
      "id": "f3c3de57",
      "metadata": {
        "execution": {
          "iopub.execute_input": "2022-03-08T14:29:34.229990Z",
          "iopub.status.busy": "2022-03-08T14:29:34.228850Z",
          "iopub.status.idle": "2022-03-08T14:29:34.239128Z",
          "shell.execute_reply": "2022-03-08T14:29:34.239693Z",
          "shell.execute_reply.started": "2022-03-08T14:18:47.028478Z"
        },
        "papermill": {
          "duration": 0.082402,
          "end_time": "2022-03-08T14:29:34.239880",
          "exception": false,
          "start_time": "2022-03-08T14:29:34.157478",
          "status": "completed"
        },
        "tags": [],
        "id": "f3c3de57"
      },
      "outputs": [],
      "source": [
        "df['workclass'] = df['workclass'].astype('category')"
      ]
    },
    {
      "cell_type": "code",
      "execution_count": null,
      "id": "97e89c97",
      "metadata": {
        "execution": {
          "iopub.execute_input": "2022-03-08T14:29:34.376316Z",
          "iopub.status.busy": "2022-03-08T14:29:34.375322Z",
          "iopub.status.idle": "2022-03-08T14:29:34.382353Z",
          "shell.execute_reply": "2022-03-08T14:29:34.382868Z",
          "shell.execute_reply.started": "2022-03-08T14:18:47.040241Z"
        },
        "papermill": {
          "duration": 0.075968,
          "end_time": "2022-03-08T14:29:34.383059",
          "exception": false,
          "start_time": "2022-03-08T14:29:34.307091",
          "status": "completed"
        },
        "tags": [],
        "id": "97e89c97",
        "outputId": "388656e7-b4fd-48dd-f8dc-e1d9314bfcf3"
      },
      "outputs": [
        {
          "data": {
            "text/plain": [
              "age                   int64\n",
              "workclass          category\n",
              "fnlwgt                int64\n",
              "education            object\n",
              "educational-num       int64\n",
              "marital-status       object\n",
              "occupation           object\n",
              "relationship         object\n",
              "race                 object\n",
              "gender               object\n",
              "capital-gain          int64\n",
              "capital-loss          int64\n",
              "hours-per-week        int64\n",
              "native-country       object\n",
              "income                int64\n",
              "encoded_income        int64\n",
              "dtype: object"
            ]
          },
          "execution_count": 40,
          "metadata": {},
          "output_type": "execute_result"
        }
      ],
      "source": [
        "df.dtypes"
      ]
    },
    {
      "cell_type": "markdown",
      "id": "7de2d200",
      "metadata": {
        "papermill": {
          "duration": 0.06625,
          "end_time": "2022-03-08T14:29:34.520567",
          "exception": false,
          "start_time": "2022-03-08T14:29:34.454317",
          "status": "completed"
        },
        "tags": [],
        "id": "7de2d200"
      },
      "source": [
        "* We have successfully change the dtype of ['workclass'] column"
      ]
    },
    {
      "cell_type": "code",
      "execution_count": null,
      "id": "e5116e69",
      "metadata": {
        "papermill": {
          "duration": 0.066501,
          "end_time": "2022-03-08T14:29:34.657392",
          "exception": false,
          "start_time": "2022-03-08T14:29:34.590891",
          "status": "completed"
        },
        "tags": [],
        "id": "e5116e69"
      },
      "outputs": [],
      "source": []
    }
  ],
  "metadata": {
    "kernelspec": {
      "display_name": "Python 3",
      "language": "python",
      "name": "python3"
    },
    "language_info": {
      "codemirror_mode": {
        "name": "ipython",
        "version": 3
      },
      "file_extension": ".py",
      "mimetype": "text/x-python",
      "name": "python",
      "nbconvert_exporter": "python",
      "pygments_lexer": "ipython3",
      "version": "3.7.12"
    },
    "papermill": {
      "default_parameters": {},
      "duration": 26.077882,
      "end_time": "2022-03-08T14:29:35.534543",
      "environment_variables": {},
      "exception": null,
      "input_path": "__notebook__.ipynb",
      "output_path": "__notebook__.ipynb",
      "parameters": {},
      "start_time": "2022-03-08T14:29:09.456661",
      "version": "2.3.3"
    },
    "colab": {
      "provenance": []
    }
  },
  "nbformat": 4,
  "nbformat_minor": 5
}