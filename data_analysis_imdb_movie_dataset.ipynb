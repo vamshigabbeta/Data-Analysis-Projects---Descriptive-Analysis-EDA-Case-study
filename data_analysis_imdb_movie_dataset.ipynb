{
  "cells": [
    {
      "cell_type": "code",
      "execution_count": 2,
      "id": "d15cb0e4",
      "metadata": {
        "_cell_guid": "b1076dfc-b9ad-4769-8c92-a6c4dae69d19",
        "_uuid": "8f2839f25d086af736a60e9eeb907d3b93b6e0e5",
        "execution": {
          "iopub.execute_input": "2022-10-07T08:19:49.390919Z",
          "iopub.status.busy": "2022-10-07T08:19:49.390233Z",
          "iopub.status.idle": "2022-10-07T08:19:49.411137Z",
          "shell.execute_reply": "2022-10-07T08:19:49.409670Z"
        },
        "papermill": {
          "duration": 0.042465,
          "end_time": "2022-10-07T08:19:49.414539",
          "exception": false,
          "start_time": "2022-10-07T08:19:49.372074",
          "status": "completed"
        },
        "tags": [],
        "id": "d15cb0e4"
      },
      "outputs": [],
      "source": [
        "\n",
        "import numpy as np # linear algebra\n",
        "import pandas as pd # data processing, CSV file I/O (e.g. pd.read_csv)\n",
        "\n"
      ]
    },
    {
      "cell_type": "markdown",
      "id": "404bbdfd",
      "metadata": {
        "papermill": {
          "duration": 0.016149,
          "end_time": "2022-10-07T08:19:49.445283",
          "exception": false,
          "start_time": "2022-10-07T08:19:49.429134",
          "status": "completed"
        },
        "tags": [],
        "id": "404bbdfd"
      },
      "source": [
        "About Dataset\n",
        "Here's a data set of 1,000 most popular movies on IMDB in the last 10 years. The data points included are:\n",
        "\n",
        "Title, Genre, Description, Director, Actors, Year, Runtime, Rating, Votes, Revenue, Metascrore\n",
        "\n",
        "Feel free to tinker with it and derive interesting insights."
      ]
    },
    {
      "cell_type": "code",
      "execution_count": 3,
      "id": "d7072d13",
      "metadata": {
        "execution": {
          "iopub.execute_input": "2022-10-07T08:19:49.477000Z",
          "iopub.status.busy": "2022-10-07T08:19:49.475573Z",
          "iopub.status.idle": "2022-10-07T08:19:49.481900Z",
          "shell.execute_reply": "2022-10-07T08:19:49.480513Z"
        },
        "papermill": {
          "duration": 0.025536,
          "end_time": "2022-10-07T08:19:49.484785",
          "exception": false,
          "start_time": "2022-10-07T08:19:49.459249",
          "status": "completed"
        },
        "tags": [],
        "id": "d7072d13"
      },
      "outputs": [],
      "source": [
        "import warnings\n",
        "warnings.filterwarnings('ignore')"
      ]
    },
    {
      "cell_type": "code",
      "execution_count": null,
      "id": "141d2c2e",
      "metadata": {
        "execution": {
          "iopub.execute_input": "2022-10-07T08:19:49.516730Z",
          "iopub.status.busy": "2022-10-07T08:19:49.516183Z",
          "iopub.status.idle": "2022-10-07T08:19:49.551537Z",
          "shell.execute_reply": "2022-10-07T08:19:49.550515Z"
        },
        "papermill": {
          "duration": 0.054575,
          "end_time": "2022-10-07T08:19:49.554523",
          "exception": false,
          "start_time": "2022-10-07T08:19:49.499948",
          "status": "completed"
        },
        "tags": [],
        "id": "141d2c2e"
      },
      "outputs": [],
      "source": [
        "data = pd.read_csv('/kaggle/input/imdb-data/IMDB-Movie-Data.csv')"
      ]
    },
    {
      "cell_type": "markdown",
      "id": "23f8c9af",
      "metadata": {
        "execution": {
          "iopub.execute_input": "2022-10-07T05:28:53.867396Z",
          "iopub.status.busy": "2022-10-07T05:28:53.866112Z",
          "iopub.status.idle": "2022-10-07T05:28:53.897473Z",
          "shell.execute_reply": "2022-10-07T05:28:53.896329Z",
          "shell.execute_reply.started": "2022-10-07T05:28:53.867351Z"
        },
        "papermill": {
          "duration": 0.014809,
          "end_time": "2022-10-07T08:19:49.584016",
          "exception": false,
          "start_time": "2022-10-07T08:19:49.569207",
          "status": "completed"
        },
        "tags": [],
        "id": "23f8c9af"
      },
      "source": [
        "# 1. Display Top 10 Rows of The Dataset"
      ]
    },
    {
      "cell_type": "code",
      "execution_count": null,
      "id": "4eeda79e",
      "metadata": {
        "execution": {
          "iopub.execute_input": "2022-10-07T08:19:49.615811Z",
          "iopub.status.busy": "2022-10-07T08:19:49.615330Z",
          "iopub.status.idle": "2022-10-07T08:19:49.655282Z",
          "shell.execute_reply": "2022-10-07T08:19:49.653794Z"
        },
        "papermill": {
          "duration": 0.059301,
          "end_time": "2022-10-07T08:19:49.658096",
          "exception": false,
          "start_time": "2022-10-07T08:19:49.598795",
          "status": "completed"
        },
        "tags": [],
        "id": "4eeda79e",
        "outputId": "e0114cb0-c5a1-406c-c3c7-6cdd4d36cd64"
      },
      "outputs": [
        {
          "data": {
            "text/html": [
              "<div>\n",
              "<style scoped>\n",
              "    .dataframe tbody tr th:only-of-type {\n",
              "        vertical-align: middle;\n",
              "    }\n",
              "\n",
              "    .dataframe tbody tr th {\n",
              "        vertical-align: top;\n",
              "    }\n",
              "\n",
              "    .dataframe thead th {\n",
              "        text-align: right;\n",
              "    }\n",
              "</style>\n",
              "<table border=\"1\" class=\"dataframe\">\n",
              "  <thead>\n",
              "    <tr style=\"text-align: right;\">\n",
              "      <th></th>\n",
              "      <th>Rank</th>\n",
              "      <th>Title</th>\n",
              "      <th>Genre</th>\n",
              "      <th>Description</th>\n",
              "      <th>Director</th>\n",
              "      <th>Actors</th>\n",
              "      <th>Year</th>\n",
              "      <th>Runtime (Minutes)</th>\n",
              "      <th>Rating</th>\n",
              "      <th>Votes</th>\n",
              "      <th>Revenue (Millions)</th>\n",
              "      <th>Metascore</th>\n",
              "    </tr>\n",
              "  </thead>\n",
              "  <tbody>\n",
              "    <tr>\n",
              "      <th>0</th>\n",
              "      <td>1</td>\n",
              "      <td>Guardians of the Galaxy</td>\n",
              "      <td>Action,Adventure,Sci-Fi</td>\n",
              "      <td>A group of intergalactic criminals are forced ...</td>\n",
              "      <td>James Gunn</td>\n",
              "      <td>Chris Pratt, Vin Diesel, Bradley Cooper, Zoe S...</td>\n",
              "      <td>2014</td>\n",
              "      <td>121</td>\n",
              "      <td>8.1</td>\n",
              "      <td>757074</td>\n",
              "      <td>333.13</td>\n",
              "      <td>76.0</td>\n",
              "    </tr>\n",
              "    <tr>\n",
              "      <th>1</th>\n",
              "      <td>2</td>\n",
              "      <td>Prometheus</td>\n",
              "      <td>Adventure,Mystery,Sci-Fi</td>\n",
              "      <td>Following clues to the origin of mankind, a te...</td>\n",
              "      <td>Ridley Scott</td>\n",
              "      <td>Noomi Rapace, Logan Marshall-Green, Michael Fa...</td>\n",
              "      <td>2012</td>\n",
              "      <td>124</td>\n",
              "      <td>7.0</td>\n",
              "      <td>485820</td>\n",
              "      <td>126.46</td>\n",
              "      <td>65.0</td>\n",
              "    </tr>\n",
              "    <tr>\n",
              "      <th>2</th>\n",
              "      <td>3</td>\n",
              "      <td>Split</td>\n",
              "      <td>Horror,Thriller</td>\n",
              "      <td>Three girls are kidnapped by a man with a diag...</td>\n",
              "      <td>M. Night Shyamalan</td>\n",
              "      <td>James McAvoy, Anya Taylor-Joy, Haley Lu Richar...</td>\n",
              "      <td>2016</td>\n",
              "      <td>117</td>\n",
              "      <td>7.3</td>\n",
              "      <td>157606</td>\n",
              "      <td>138.12</td>\n",
              "      <td>62.0</td>\n",
              "    </tr>\n",
              "    <tr>\n",
              "      <th>3</th>\n",
              "      <td>4</td>\n",
              "      <td>Sing</td>\n",
              "      <td>Animation,Comedy,Family</td>\n",
              "      <td>In a city of humanoid animals, a hustling thea...</td>\n",
              "      <td>Christophe Lourdelet</td>\n",
              "      <td>Matthew McConaughey,Reese Witherspoon, Seth Ma...</td>\n",
              "      <td>2016</td>\n",
              "      <td>108</td>\n",
              "      <td>7.2</td>\n",
              "      <td>60545</td>\n",
              "      <td>270.32</td>\n",
              "      <td>59.0</td>\n",
              "    </tr>\n",
              "    <tr>\n",
              "      <th>4</th>\n",
              "      <td>5</td>\n",
              "      <td>Suicide Squad</td>\n",
              "      <td>Action,Adventure,Fantasy</td>\n",
              "      <td>A secret government agency recruits some of th...</td>\n",
              "      <td>David Ayer</td>\n",
              "      <td>Will Smith, Jared Leto, Margot Robbie, Viola D...</td>\n",
              "      <td>2016</td>\n",
              "      <td>123</td>\n",
              "      <td>6.2</td>\n",
              "      <td>393727</td>\n",
              "      <td>325.02</td>\n",
              "      <td>40.0</td>\n",
              "    </tr>\n",
              "    <tr>\n",
              "      <th>5</th>\n",
              "      <td>6</td>\n",
              "      <td>The Great Wall</td>\n",
              "      <td>Action,Adventure,Fantasy</td>\n",
              "      <td>European mercenaries searching for black powde...</td>\n",
              "      <td>Yimou Zhang</td>\n",
              "      <td>Matt Damon, Tian Jing, Willem Dafoe, Andy Lau</td>\n",
              "      <td>2016</td>\n",
              "      <td>103</td>\n",
              "      <td>6.1</td>\n",
              "      <td>56036</td>\n",
              "      <td>45.13</td>\n",
              "      <td>42.0</td>\n",
              "    </tr>\n",
              "    <tr>\n",
              "      <th>6</th>\n",
              "      <td>7</td>\n",
              "      <td>La La Land</td>\n",
              "      <td>Comedy,Drama,Music</td>\n",
              "      <td>A jazz pianist falls for an aspiring actress i...</td>\n",
              "      <td>Damien Chazelle</td>\n",
              "      <td>Ryan Gosling, Emma Stone, Rosemarie DeWitt, J....</td>\n",
              "      <td>2016</td>\n",
              "      <td>128</td>\n",
              "      <td>8.3</td>\n",
              "      <td>258682</td>\n",
              "      <td>151.06</td>\n",
              "      <td>93.0</td>\n",
              "    </tr>\n",
              "    <tr>\n",
              "      <th>7</th>\n",
              "      <td>8</td>\n",
              "      <td>Mindhorn</td>\n",
              "      <td>Comedy</td>\n",
              "      <td>A has-been actor best known for playing the ti...</td>\n",
              "      <td>Sean Foley</td>\n",
              "      <td>Essie Davis, Andrea Riseborough, Julian Barrat...</td>\n",
              "      <td>2016</td>\n",
              "      <td>89</td>\n",
              "      <td>6.4</td>\n",
              "      <td>2490</td>\n",
              "      <td>NaN</td>\n",
              "      <td>71.0</td>\n",
              "    </tr>\n",
              "    <tr>\n",
              "      <th>8</th>\n",
              "      <td>9</td>\n",
              "      <td>The Lost City of Z</td>\n",
              "      <td>Action,Adventure,Biography</td>\n",
              "      <td>A true-life drama, centering on British explor...</td>\n",
              "      <td>James Gray</td>\n",
              "      <td>Charlie Hunnam, Robert Pattinson, Sienna Mille...</td>\n",
              "      <td>2016</td>\n",
              "      <td>141</td>\n",
              "      <td>7.1</td>\n",
              "      <td>7188</td>\n",
              "      <td>8.01</td>\n",
              "      <td>78.0</td>\n",
              "    </tr>\n",
              "    <tr>\n",
              "      <th>9</th>\n",
              "      <td>10</td>\n",
              "      <td>Passengers</td>\n",
              "      <td>Adventure,Drama,Romance</td>\n",
              "      <td>A spacecraft traveling to a distant colony pla...</td>\n",
              "      <td>Morten Tyldum</td>\n",
              "      <td>Jennifer Lawrence, Chris Pratt, Michael Sheen,...</td>\n",
              "      <td>2016</td>\n",
              "      <td>116</td>\n",
              "      <td>7.0</td>\n",
              "      <td>192177</td>\n",
              "      <td>100.01</td>\n",
              "      <td>41.0</td>\n",
              "    </tr>\n",
              "  </tbody>\n",
              "</table>\n",
              "</div>"
            ],
            "text/plain": [
              "   Rank                    Title                       Genre  \\\n",
              "0     1  Guardians of the Galaxy     Action,Adventure,Sci-Fi   \n",
              "1     2               Prometheus    Adventure,Mystery,Sci-Fi   \n",
              "2     3                    Split             Horror,Thriller   \n",
              "3     4                     Sing     Animation,Comedy,Family   \n",
              "4     5            Suicide Squad    Action,Adventure,Fantasy   \n",
              "5     6           The Great Wall    Action,Adventure,Fantasy   \n",
              "6     7               La La Land          Comedy,Drama,Music   \n",
              "7     8                 Mindhorn                      Comedy   \n",
              "8     9       The Lost City of Z  Action,Adventure,Biography   \n",
              "9    10               Passengers     Adventure,Drama,Romance   \n",
              "\n",
              "                                         Description              Director  \\\n",
              "0  A group of intergalactic criminals are forced ...            James Gunn   \n",
              "1  Following clues to the origin of mankind, a te...          Ridley Scott   \n",
              "2  Three girls are kidnapped by a man with a diag...    M. Night Shyamalan   \n",
              "3  In a city of humanoid animals, a hustling thea...  Christophe Lourdelet   \n",
              "4  A secret government agency recruits some of th...            David Ayer   \n",
              "5  European mercenaries searching for black powde...           Yimou Zhang   \n",
              "6  A jazz pianist falls for an aspiring actress i...       Damien Chazelle   \n",
              "7  A has-been actor best known for playing the ti...            Sean Foley   \n",
              "8  A true-life drama, centering on British explor...            James Gray   \n",
              "9  A spacecraft traveling to a distant colony pla...         Morten Tyldum   \n",
              "\n",
              "                                              Actors  Year  Runtime (Minutes)  \\\n",
              "0  Chris Pratt, Vin Diesel, Bradley Cooper, Zoe S...  2014                121   \n",
              "1  Noomi Rapace, Logan Marshall-Green, Michael Fa...  2012                124   \n",
              "2  James McAvoy, Anya Taylor-Joy, Haley Lu Richar...  2016                117   \n",
              "3  Matthew McConaughey,Reese Witherspoon, Seth Ma...  2016                108   \n",
              "4  Will Smith, Jared Leto, Margot Robbie, Viola D...  2016                123   \n",
              "5      Matt Damon, Tian Jing, Willem Dafoe, Andy Lau  2016                103   \n",
              "6  Ryan Gosling, Emma Stone, Rosemarie DeWitt, J....  2016                128   \n",
              "7  Essie Davis, Andrea Riseborough, Julian Barrat...  2016                 89   \n",
              "8  Charlie Hunnam, Robert Pattinson, Sienna Mille...  2016                141   \n",
              "9  Jennifer Lawrence, Chris Pratt, Michael Sheen,...  2016                116   \n",
              "\n",
              "   Rating   Votes  Revenue (Millions)  Metascore  \n",
              "0     8.1  757074              333.13       76.0  \n",
              "1     7.0  485820              126.46       65.0  \n",
              "2     7.3  157606              138.12       62.0  \n",
              "3     7.2   60545              270.32       59.0  \n",
              "4     6.2  393727              325.02       40.0  \n",
              "5     6.1   56036               45.13       42.0  \n",
              "6     8.3  258682              151.06       93.0  \n",
              "7     6.4    2490                 NaN       71.0  \n",
              "8     7.1    7188                8.01       78.0  \n",
              "9     7.0  192177              100.01       41.0  "
            ]
          },
          "execution_count": 4,
          "metadata": {},
          "output_type": "execute_result"
        }
      ],
      "source": [
        "data.head(10)"
      ]
    },
    {
      "cell_type": "markdown",
      "id": "99ede81d",
      "metadata": {
        "papermill": {
          "duration": 0.014218,
          "end_time": "2022-10-07T08:19:49.686978",
          "exception": false,
          "start_time": "2022-10-07T08:19:49.672760",
          "status": "completed"
        },
        "tags": [],
        "id": "99ede81d"
      },
      "source": [
        "# 2. Check Last 10 Rows of The Dataset"
      ]
    },
    {
      "cell_type": "code",
      "execution_count": null,
      "id": "88960047",
      "metadata": {
        "execution": {
          "iopub.execute_input": "2022-10-07T08:19:49.718926Z",
          "iopub.status.busy": "2022-10-07T08:19:49.717915Z",
          "iopub.status.idle": "2022-10-07T08:19:49.740172Z",
          "shell.execute_reply": "2022-10-07T08:19:49.738647Z"
        },
        "papermill": {
          "duration": 0.04122,
          "end_time": "2022-10-07T08:19:49.742702",
          "exception": false,
          "start_time": "2022-10-07T08:19:49.701482",
          "status": "completed"
        },
        "tags": [],
        "id": "88960047",
        "outputId": "b899f955-81f4-4e19-b72f-471b25f7c4b3"
      },
      "outputs": [
        {
          "data": {
            "text/html": [
              "<div>\n",
              "<style scoped>\n",
              "    .dataframe tbody tr th:only-of-type {\n",
              "        vertical-align: middle;\n",
              "    }\n",
              "\n",
              "    .dataframe tbody tr th {\n",
              "        vertical-align: top;\n",
              "    }\n",
              "\n",
              "    .dataframe thead th {\n",
              "        text-align: right;\n",
              "    }\n",
              "</style>\n",
              "<table border=\"1\" class=\"dataframe\">\n",
              "  <thead>\n",
              "    <tr style=\"text-align: right;\">\n",
              "      <th></th>\n",
              "      <th>Rank</th>\n",
              "      <th>Title</th>\n",
              "      <th>Genre</th>\n",
              "      <th>Description</th>\n",
              "      <th>Director</th>\n",
              "      <th>Actors</th>\n",
              "      <th>Year</th>\n",
              "      <th>Runtime (Minutes)</th>\n",
              "      <th>Rating</th>\n",
              "      <th>Votes</th>\n",
              "      <th>Revenue (Millions)</th>\n",
              "      <th>Metascore</th>\n",
              "    </tr>\n",
              "  </thead>\n",
              "  <tbody>\n",
              "    <tr>\n",
              "      <th>990</th>\n",
              "      <td>991</td>\n",
              "      <td>Underworld: Rise of the Lycans</td>\n",
              "      <td>Action,Adventure,Fantasy</td>\n",
              "      <td>An origins story centered on the centuries-old...</td>\n",
              "      <td>Patrick Tatopoulos</td>\n",
              "      <td>Rhona Mitra, Michael Sheen, Bill Nighy, Steven...</td>\n",
              "      <td>2009</td>\n",
              "      <td>92</td>\n",
              "      <td>6.6</td>\n",
              "      <td>129708</td>\n",
              "      <td>45.80</td>\n",
              "      <td>44.0</td>\n",
              "    </tr>\n",
              "    <tr>\n",
              "      <th>991</th>\n",
              "      <td>992</td>\n",
              "      <td>Taare Zameen Par</td>\n",
              "      <td>Drama,Family,Music</td>\n",
              "      <td>An eight-year-old boy is thought to be a lazy ...</td>\n",
              "      <td>Aamir Khan</td>\n",
              "      <td>Darsheel Safary, Aamir Khan, Tanay Chheda, Sac...</td>\n",
              "      <td>2007</td>\n",
              "      <td>165</td>\n",
              "      <td>8.5</td>\n",
              "      <td>102697</td>\n",
              "      <td>1.20</td>\n",
              "      <td>42.0</td>\n",
              "    </tr>\n",
              "    <tr>\n",
              "      <th>992</th>\n",
              "      <td>993</td>\n",
              "      <td>Take Me Home Tonight</td>\n",
              "      <td>Comedy,Drama,Romance</td>\n",
              "      <td>Four years after graduation, an awkward high s...</td>\n",
              "      <td>Michael Dowse</td>\n",
              "      <td>Topher Grace, Anna Faris, Dan Fogler, Teresa P...</td>\n",
              "      <td>2011</td>\n",
              "      <td>97</td>\n",
              "      <td>6.3</td>\n",
              "      <td>45419</td>\n",
              "      <td>6.92</td>\n",
              "      <td>NaN</td>\n",
              "    </tr>\n",
              "    <tr>\n",
              "      <th>993</th>\n",
              "      <td>994</td>\n",
              "      <td>Resident Evil: Afterlife</td>\n",
              "      <td>Action,Adventure,Horror</td>\n",
              "      <td>While still out to destroy the evil Umbrella C...</td>\n",
              "      <td>Paul W.S. Anderson</td>\n",
              "      <td>Milla Jovovich, Ali Larter, Wentworth Miller,K...</td>\n",
              "      <td>2010</td>\n",
              "      <td>97</td>\n",
              "      <td>5.9</td>\n",
              "      <td>140900</td>\n",
              "      <td>60.13</td>\n",
              "      <td>37.0</td>\n",
              "    </tr>\n",
              "    <tr>\n",
              "      <th>994</th>\n",
              "      <td>995</td>\n",
              "      <td>Project X</td>\n",
              "      <td>Comedy</td>\n",
              "      <td>3 high school seniors throw a birthday party t...</td>\n",
              "      <td>Nima Nourizadeh</td>\n",
              "      <td>Thomas Mann, Oliver Cooper, Jonathan Daniel Br...</td>\n",
              "      <td>2012</td>\n",
              "      <td>88</td>\n",
              "      <td>6.7</td>\n",
              "      <td>164088</td>\n",
              "      <td>54.72</td>\n",
              "      <td>48.0</td>\n",
              "    </tr>\n",
              "    <tr>\n",
              "      <th>995</th>\n",
              "      <td>996</td>\n",
              "      <td>Secret in Their Eyes</td>\n",
              "      <td>Crime,Drama,Mystery</td>\n",
              "      <td>A tight-knit team of rising investigators, alo...</td>\n",
              "      <td>Billy Ray</td>\n",
              "      <td>Chiwetel Ejiofor, Nicole Kidman, Julia Roberts...</td>\n",
              "      <td>2015</td>\n",
              "      <td>111</td>\n",
              "      <td>6.2</td>\n",
              "      <td>27585</td>\n",
              "      <td>NaN</td>\n",
              "      <td>45.0</td>\n",
              "    </tr>\n",
              "    <tr>\n",
              "      <th>996</th>\n",
              "      <td>997</td>\n",
              "      <td>Hostel: Part II</td>\n",
              "      <td>Horror</td>\n",
              "      <td>Three American college students studying abroa...</td>\n",
              "      <td>Eli Roth</td>\n",
              "      <td>Lauren German, Heather Matarazzo, Bijou Philli...</td>\n",
              "      <td>2007</td>\n",
              "      <td>94</td>\n",
              "      <td>5.5</td>\n",
              "      <td>73152</td>\n",
              "      <td>17.54</td>\n",
              "      <td>46.0</td>\n",
              "    </tr>\n",
              "    <tr>\n",
              "      <th>997</th>\n",
              "      <td>998</td>\n",
              "      <td>Step Up 2: The Streets</td>\n",
              "      <td>Drama,Music,Romance</td>\n",
              "      <td>Romantic sparks occur between two dance studen...</td>\n",
              "      <td>Jon M. Chu</td>\n",
              "      <td>Robert Hoffman, Briana Evigan, Cassie Ventura,...</td>\n",
              "      <td>2008</td>\n",
              "      <td>98</td>\n",
              "      <td>6.2</td>\n",
              "      <td>70699</td>\n",
              "      <td>58.01</td>\n",
              "      <td>50.0</td>\n",
              "    </tr>\n",
              "    <tr>\n",
              "      <th>998</th>\n",
              "      <td>999</td>\n",
              "      <td>Search Party</td>\n",
              "      <td>Adventure,Comedy</td>\n",
              "      <td>A pair of friends embark on a mission to reuni...</td>\n",
              "      <td>Scot Armstrong</td>\n",
              "      <td>Adam Pally, T.J. Miller, Thomas Middleditch,Sh...</td>\n",
              "      <td>2014</td>\n",
              "      <td>93</td>\n",
              "      <td>5.6</td>\n",
              "      <td>4881</td>\n",
              "      <td>NaN</td>\n",
              "      <td>22.0</td>\n",
              "    </tr>\n",
              "    <tr>\n",
              "      <th>999</th>\n",
              "      <td>1000</td>\n",
              "      <td>Nine Lives</td>\n",
              "      <td>Comedy,Family,Fantasy</td>\n",
              "      <td>A stuffy businessman finds himself trapped ins...</td>\n",
              "      <td>Barry Sonnenfeld</td>\n",
              "      <td>Kevin Spacey, Jennifer Garner, Robbie Amell,Ch...</td>\n",
              "      <td>2016</td>\n",
              "      <td>87</td>\n",
              "      <td>5.3</td>\n",
              "      <td>12435</td>\n",
              "      <td>19.64</td>\n",
              "      <td>11.0</td>\n",
              "    </tr>\n",
              "  </tbody>\n",
              "</table>\n",
              "</div>"
            ],
            "text/plain": [
              "     Rank                           Title                     Genre  \\\n",
              "990   991  Underworld: Rise of the Lycans  Action,Adventure,Fantasy   \n",
              "991   992                Taare Zameen Par        Drama,Family,Music   \n",
              "992   993            Take Me Home Tonight      Comedy,Drama,Romance   \n",
              "993   994        Resident Evil: Afterlife   Action,Adventure,Horror   \n",
              "994   995                       Project X                    Comedy   \n",
              "995   996            Secret in Their Eyes       Crime,Drama,Mystery   \n",
              "996   997                 Hostel: Part II                    Horror   \n",
              "997   998          Step Up 2: The Streets       Drama,Music,Romance   \n",
              "998   999                    Search Party          Adventure,Comedy   \n",
              "999  1000                      Nine Lives     Comedy,Family,Fantasy   \n",
              "\n",
              "                                           Description            Director  \\\n",
              "990  An origins story centered on the centuries-old...  Patrick Tatopoulos   \n",
              "991  An eight-year-old boy is thought to be a lazy ...          Aamir Khan   \n",
              "992  Four years after graduation, an awkward high s...       Michael Dowse   \n",
              "993  While still out to destroy the evil Umbrella C...  Paul W.S. Anderson   \n",
              "994  3 high school seniors throw a birthday party t...     Nima Nourizadeh   \n",
              "995  A tight-knit team of rising investigators, alo...           Billy Ray   \n",
              "996  Three American college students studying abroa...            Eli Roth   \n",
              "997  Romantic sparks occur between two dance studen...          Jon M. Chu   \n",
              "998  A pair of friends embark on a mission to reuni...      Scot Armstrong   \n",
              "999  A stuffy businessman finds himself trapped ins...    Barry Sonnenfeld   \n",
              "\n",
              "                                                Actors  Year  \\\n",
              "990  Rhona Mitra, Michael Sheen, Bill Nighy, Steven...  2009   \n",
              "991  Darsheel Safary, Aamir Khan, Tanay Chheda, Sac...  2007   \n",
              "992  Topher Grace, Anna Faris, Dan Fogler, Teresa P...  2011   \n",
              "993  Milla Jovovich, Ali Larter, Wentworth Miller,K...  2010   \n",
              "994  Thomas Mann, Oliver Cooper, Jonathan Daniel Br...  2012   \n",
              "995  Chiwetel Ejiofor, Nicole Kidman, Julia Roberts...  2015   \n",
              "996  Lauren German, Heather Matarazzo, Bijou Philli...  2007   \n",
              "997  Robert Hoffman, Briana Evigan, Cassie Ventura,...  2008   \n",
              "998  Adam Pally, T.J. Miller, Thomas Middleditch,Sh...  2014   \n",
              "999  Kevin Spacey, Jennifer Garner, Robbie Amell,Ch...  2016   \n",
              "\n",
              "     Runtime (Minutes)  Rating   Votes  Revenue (Millions)  Metascore  \n",
              "990                 92     6.6  129708               45.80       44.0  \n",
              "991                165     8.5  102697                1.20       42.0  \n",
              "992                 97     6.3   45419                6.92        NaN  \n",
              "993                 97     5.9  140900               60.13       37.0  \n",
              "994                 88     6.7  164088               54.72       48.0  \n",
              "995                111     6.2   27585                 NaN       45.0  \n",
              "996                 94     5.5   73152               17.54       46.0  \n",
              "997                 98     6.2   70699               58.01       50.0  \n",
              "998                 93     5.6    4881                 NaN       22.0  \n",
              "999                 87     5.3   12435               19.64       11.0  "
            ]
          },
          "execution_count": 5,
          "metadata": {},
          "output_type": "execute_result"
        }
      ],
      "source": [
        "data.tail(10)"
      ]
    },
    {
      "cell_type": "markdown",
      "id": "221432f4",
      "metadata": {
        "execution": {
          "iopub.execute_input": "2022-10-07T05:32:37.224670Z",
          "iopub.status.busy": "2022-10-07T05:32:37.224157Z",
          "iopub.status.idle": "2022-10-07T05:32:37.230098Z",
          "shell.execute_reply": "2022-10-07T05:32:37.228700Z",
          "shell.execute_reply.started": "2022-10-07T05:32:37.224616Z"
        },
        "papermill": {
          "duration": 0.015511,
          "end_time": "2022-10-07T08:19:49.774744",
          "exception": false,
          "start_time": "2022-10-07T08:19:49.759233",
          "status": "completed"
        },
        "tags": [],
        "id": "221432f4"
      },
      "source": [
        "# 3. Find Shape of Our Dataset (Number of Rows And Number of Columns)"
      ]
    },
    {
      "cell_type": "code",
      "execution_count": null,
      "id": "2ed00606",
      "metadata": {
        "execution": {
          "iopub.execute_input": "2022-10-07T08:19:49.809463Z",
          "iopub.status.busy": "2022-10-07T08:19:49.808560Z",
          "iopub.status.idle": "2022-10-07T08:19:49.816502Z",
          "shell.execute_reply": "2022-10-07T08:19:49.815205Z"
        },
        "papermill": {
          "duration": 0.028336,
          "end_time": "2022-10-07T08:19:49.819100",
          "exception": false,
          "start_time": "2022-10-07T08:19:49.790764",
          "status": "completed"
        },
        "tags": [],
        "id": "2ed00606",
        "outputId": "cd23be77-7c3c-4d73-ef06-eb41515a118c"
      },
      "outputs": [
        {
          "data": {
            "text/plain": [
              "(1000, 12)"
            ]
          },
          "execution_count": 6,
          "metadata": {},
          "output_type": "execute_result"
        }
      ],
      "source": [
        "data.shape"
      ]
    },
    {
      "cell_type": "code",
      "execution_count": null,
      "id": "a91d0dd6",
      "metadata": {
        "execution": {
          "iopub.execute_input": "2022-10-07T08:19:49.854126Z",
          "iopub.status.busy": "2022-10-07T08:19:49.853623Z",
          "iopub.status.idle": "2022-10-07T08:19:49.859806Z",
          "shell.execute_reply": "2022-10-07T08:19:49.858508Z"
        },
        "papermill": {
          "duration": 0.026921,
          "end_time": "2022-10-07T08:19:49.862698",
          "exception": false,
          "start_time": "2022-10-07T08:19:49.835777",
          "status": "completed"
        },
        "tags": [],
        "id": "a91d0dd6",
        "outputId": "6233098d-227f-4a71-de8e-d854be0c18f5"
      },
      "outputs": [
        {
          "name": "stdout",
          "output_type": "stream",
          "text": [
            "Number of Rows 1000\n",
            "Number of Columns 12\n"
          ]
        }
      ],
      "source": [
        "print('Number of Rows',data.shape[0])\n",
        "print('Number of Columns',data.shape[1])"
      ]
    },
    {
      "cell_type": "markdown",
      "id": "da2d1898",
      "metadata": {
        "papermill": {
          "duration": 0.016007,
          "end_time": "2022-10-07T08:19:49.895274",
          "exception": false,
          "start_time": "2022-10-07T08:19:49.879267",
          "status": "completed"
        },
        "tags": [],
        "id": "da2d1898"
      },
      "source": [
        "# 4. Getting Information About Our Dataset Like Total Number Rows, Total Number of Columns, Datatypes of Each Column And Memory Requirement"
      ]
    },
    {
      "cell_type": "code",
      "execution_count": null,
      "id": "06fe950a",
      "metadata": {
        "execution": {
          "iopub.execute_input": "2022-10-07T08:19:49.928707Z",
          "iopub.status.busy": "2022-10-07T08:19:49.928177Z",
          "iopub.status.idle": "2022-10-07T08:19:49.957516Z",
          "shell.execute_reply": "2022-10-07T08:19:49.955833Z"
        },
        "papermill": {
          "duration": 0.049272,
          "end_time": "2022-10-07T08:19:49.960097",
          "exception": false,
          "start_time": "2022-10-07T08:19:49.910825",
          "status": "completed"
        },
        "tags": [],
        "id": "06fe950a",
        "outputId": "fa6d9eb4-f1cc-44b0-d722-de44161458fe"
      },
      "outputs": [
        {
          "name": "stdout",
          "output_type": "stream",
          "text": [
            "<class 'pandas.core.frame.DataFrame'>\n",
            "RangeIndex: 1000 entries, 0 to 999\n",
            "Data columns (total 12 columns):\n",
            " #   Column              Non-Null Count  Dtype  \n",
            "---  ------              --------------  -----  \n",
            " 0   Rank                1000 non-null   int64  \n",
            " 1   Title               1000 non-null   object \n",
            " 2   Genre               1000 non-null   object \n",
            " 3   Description         1000 non-null   object \n",
            " 4   Director            1000 non-null   object \n",
            " 5   Actors              1000 non-null   object \n",
            " 6   Year                1000 non-null   int64  \n",
            " 7   Runtime (Minutes)   1000 non-null   int64  \n",
            " 8   Rating              1000 non-null   float64\n",
            " 9   Votes               1000 non-null   int64  \n",
            " 10  Revenue (Millions)  872 non-null    float64\n",
            " 11  Metascore           936 non-null    float64\n",
            "dtypes: float64(3), int64(4), object(5)\n",
            "memory usage: 93.9+ KB\n"
          ]
        }
      ],
      "source": [
        "data.info()"
      ]
    },
    {
      "cell_type": "markdown",
      "id": "20d51026",
      "metadata": {
        "papermill": {
          "duration": 0.014866,
          "end_time": "2022-10-07T08:19:49.990352",
          "exception": false,
          "start_time": "2022-10-07T08:19:49.975486",
          "status": "completed"
        },
        "tags": [],
        "id": "20d51026"
      },
      "source": [
        "# 5. Check Null Values In The Dataset"
      ]
    },
    {
      "cell_type": "code",
      "execution_count": null,
      "id": "9365fcc3",
      "metadata": {
        "execution": {
          "iopub.execute_input": "2022-10-07T08:19:50.022964Z",
          "iopub.status.busy": "2022-10-07T08:19:50.022505Z",
          "iopub.status.idle": "2022-10-07T08:19:50.032822Z",
          "shell.execute_reply": "2022-10-07T08:19:50.031940Z"
        },
        "papermill": {
          "duration": 0.02924,
          "end_time": "2022-10-07T08:19:50.034824",
          "exception": false,
          "start_time": "2022-10-07T08:19:50.005584",
          "status": "completed"
        },
        "tags": [],
        "id": "9365fcc3",
        "outputId": "9682b1bd-ee8d-40a7-869e-391d81b452e3"
      },
      "outputs": [
        {
          "data": {
            "text/plain": [
              "Rank                    0\n",
              "Title                   0\n",
              "Genre                   0\n",
              "Description             0\n",
              "Director                0\n",
              "Actors                  0\n",
              "Year                    0\n",
              "Runtime (Minutes)       0\n",
              "Rating                  0\n",
              "Votes                   0\n",
              "Revenue (Millions)    128\n",
              "Metascore              64\n",
              "dtype: int64"
            ]
          },
          "execution_count": 9,
          "metadata": {},
          "output_type": "execute_result"
        }
      ],
      "source": [
        "data.isnull().sum()"
      ]
    },
    {
      "cell_type": "code",
      "execution_count": null,
      "id": "27539a7d",
      "metadata": {
        "execution": {
          "iopub.execute_input": "2022-10-07T08:19:50.072528Z",
          "iopub.status.busy": "2022-10-07T08:19:50.071562Z",
          "iopub.status.idle": "2022-10-07T08:19:51.780806Z",
          "shell.execute_reply": "2022-10-07T08:19:51.779805Z"
        },
        "papermill": {
          "duration": 1.733293,
          "end_time": "2022-10-07T08:19:51.783760",
          "exception": false,
          "start_time": "2022-10-07T08:19:50.050467",
          "status": "completed"
        },
        "tags": [],
        "id": "27539a7d",
        "outputId": "cd5e58dc-7653-4e0d-a833-a43b47bea892"
      },
      "outputs": [
        {
          "data": {
            "image/png": "[encoded data removed]",
            "text/plain": [
              "<Figure size 432x288 with 2 Axes>"
            ]
          },
          "metadata": {
            "needs_background": "light"
          },
          "output_type": "display_data"
        }
      ],
      "source": [
        "import matplotlib.pyplot as plt\n",
        "import seaborn as sns\n",
        "sns.heatmap(data.isnull())\n",
        "plt.show()"
      ]
    },
    {
      "cell_type": "markdown",
      "id": "99ec8771",
      "metadata": {
        "papermill": {
          "duration": 0.017266,
          "end_time": "2022-10-07T08:19:51.818757",
          "exception": false,
          "start_time": "2022-10-07T08:19:51.801491",
          "status": "completed"
        },
        "tags": [],
        "id": "99ec8771"
      },
      "source": [
        "# 6. Drop All The Missing Values"
      ]
    },
    {
      "cell_type": "code",
      "execution_count": null,
      "id": "37bd24a5",
      "metadata": {
        "execution": {
          "iopub.execute_input": "2022-10-07T08:19:51.857621Z",
          "iopub.status.busy": "2022-10-07T08:19:51.856684Z",
          "iopub.status.idle": "2022-10-07T08:19:51.868602Z",
          "shell.execute_reply": "2022-10-07T08:19:51.867244Z"
        },
        "papermill": {
          "duration": 0.035585,
          "end_time": "2022-10-07T08:19:51.871761",
          "exception": false,
          "start_time": "2022-10-07T08:19:51.836176",
          "status": "completed"
        },
        "tags": [],
        "id": "37bd24a5"
      },
      "outputs": [],
      "source": [
        "data = data.dropna(axis=0)"
      ]
    },
    {
      "cell_type": "code",
      "execution_count": null,
      "id": "bf8d468d",
      "metadata": {
        "execution": {
          "iopub.execute_input": "2022-10-07T08:19:51.906341Z",
          "iopub.status.busy": "2022-10-07T08:19:51.905767Z",
          "iopub.status.idle": "2022-10-07T08:19:52.365899Z",
          "shell.execute_reply": "2022-10-07T08:19:52.364501Z"
        },
        "papermill": {
          "duration": 0.480599,
          "end_time": "2022-10-07T08:19:52.368342",
          "exception": false,
          "start_time": "2022-10-07T08:19:51.887743",
          "status": "completed"
        },
        "tags": [],
        "id": "bf8d468d",
        "outputId": "bdd5d021-5b0a-4ab1-bc3b-8e40b1609d6c"
      },
      "outputs": [
        {
          "data": {
            "image/png": "[encoded data removed]",
            "text/plain": [
              "<Figure size 432x288 with 2 Axes>"
            ]
          },
          "metadata": {
            "needs_background": "light"
          },
          "output_type": "display_data"
        }
      ],
      "source": [
        "sns.heatmap(data.isnull())\n",
        "plt.show()"
      ]
    },
    {
      "cell_type": "markdown",
      "id": "259c0735",
      "metadata": {
        "papermill": {
          "duration": 0.015446,
          "end_time": "2022-10-07T08:19:52.399577",
          "exception": false,
          "start_time": "2022-10-07T08:19:52.384131",
          "status": "completed"
        },
        "tags": [],
        "id": "259c0735"
      },
      "source": [
        "# 7. Check For Duplicate Data"
      ]
    },
    {
      "cell_type": "code",
      "execution_count": null,
      "id": "4c5b437d",
      "metadata": {
        "execution": {
          "iopub.execute_input": "2022-10-07T08:19:52.433734Z",
          "iopub.status.busy": "2022-10-07T08:19:52.432922Z",
          "iopub.status.idle": "2022-10-07T08:19:52.446845Z",
          "shell.execute_reply": "2022-10-07T08:19:52.445357Z"
        },
        "papermill": {
          "duration": 0.034317,
          "end_time": "2022-10-07T08:19:52.449719",
          "exception": false,
          "start_time": "2022-10-07T08:19:52.415402",
          "status": "completed"
        },
        "tags": [],
        "id": "4c5b437d",
        "outputId": "f2c062f8-7875-4831-d17d-b101c0129bd4"
      },
      "outputs": [
        {
          "name": "stdout",
          "output_type": "stream",
          "text": [
            "Are there any duplicated values in data? False\n"
          ]
        }
      ],
      "source": [
        "dup_data=data.duplicated().any()\n",
        "print(\"Are there any duplicated values in data?\",dup_data)"
      ]
    },
    {
      "cell_type": "markdown",
      "id": "54bb19da",
      "metadata": {
        "papermill": {
          "duration": 0.015404,
          "end_time": "2022-10-07T08:19:52.481174",
          "exception": false,
          "start_time": "2022-10-07T08:19:52.465770",
          "status": "completed"
        },
        "tags": [],
        "id": "54bb19da"
      },
      "source": [
        "# 8. Get Overall Statistics About The DataFrame"
      ]
    },
    {
      "cell_type": "code",
      "execution_count": null,
      "id": "ae33234c",
      "metadata": {
        "execution": {
          "iopub.execute_input": "2022-10-07T08:19:52.515555Z",
          "iopub.status.busy": "2022-10-07T08:19:52.515020Z",
          "iopub.status.idle": "2022-10-07T08:19:52.553009Z",
          "shell.execute_reply": "2022-10-07T08:19:52.551785Z"
        },
        "papermill": {
          "duration": 0.058856,
          "end_time": "2022-10-07T08:19:52.555869",
          "exception": false,
          "start_time": "2022-10-07T08:19:52.497013",
          "status": "completed"
        },
        "tags": [],
        "id": "ae33234c",
        "outputId": "9b3564a2-a2c8-4f18-e9c9-307142fe8144"
      },
      "outputs": [
        {
          "data": {
            "text/html": [
              "<div>\n",
              "<style scoped>\n",
              "    .dataframe tbody tr th:only-of-type {\n",
              "        vertical-align: middle;\n",
              "    }\n",
              "\n",
              "    .dataframe tbody tr th {\n",
              "        vertical-align: top;\n",
              "    }\n",
              "\n",
              "    .dataframe thead th {\n",
              "        text-align: right;\n",
              "    }\n",
              "</style>\n",
              "<table border=\"1\" class=\"dataframe\">\n",
              "  <thead>\n",
              "    <tr style=\"text-align: right;\">\n",
              "      <th></th>\n",
              "      <th>Rank</th>\n",
              "      <th>Year</th>\n",
              "      <th>Runtime (Minutes)</th>\n",
              "      <th>Rating</th>\n",
              "      <th>Votes</th>\n",
              "      <th>Revenue (Millions)</th>\n",
              "      <th>Metascore</th>\n",
              "    </tr>\n",
              "  </thead>\n",
              "  <tbody>\n",
              "    <tr>\n",
              "      <th>count</th>\n",
              "      <td>838.000000</td>\n",
              "      <td>838.00000</td>\n",
              "      <td>838.000000</td>\n",
              "      <td>838.000000</td>\n",
              "      <td>8.380000e+02</td>\n",
              "      <td>838.000000</td>\n",
              "      <td>838.000000</td>\n",
              "    </tr>\n",
              "    <tr>\n",
              "      <th>mean</th>\n",
              "      <td>485.247017</td>\n",
              "      <td>2012.50716</td>\n",
              "      <td>114.638425</td>\n",
              "      <td>6.814320</td>\n",
              "      <td>1.932303e+05</td>\n",
              "      <td>84.564558</td>\n",
              "      <td>59.575179</td>\n",
              "    </tr>\n",
              "    <tr>\n",
              "      <th>std</th>\n",
              "      <td>286.572065</td>\n",
              "      <td>3.17236</td>\n",
              "      <td>18.470922</td>\n",
              "      <td>0.877754</td>\n",
              "      <td>1.930990e+05</td>\n",
              "      <td>104.520227</td>\n",
              "      <td>16.952416</td>\n",
              "    </tr>\n",
              "    <tr>\n",
              "      <th>min</th>\n",
              "      <td>1.000000</td>\n",
              "      <td>2006.00000</td>\n",
              "      <td>66.000000</td>\n",
              "      <td>1.900000</td>\n",
              "      <td>1.780000e+02</td>\n",
              "      <td>0.000000</td>\n",
              "      <td>11.000000</td>\n",
              "    </tr>\n",
              "    <tr>\n",
              "      <th>25%</th>\n",
              "      <td>238.250000</td>\n",
              "      <td>2010.00000</td>\n",
              "      <td>101.000000</td>\n",
              "      <td>6.300000</td>\n",
              "      <td>6.127650e+04</td>\n",
              "      <td>13.967500</td>\n",
              "      <td>47.000000</td>\n",
              "    </tr>\n",
              "    <tr>\n",
              "      <th>50%</th>\n",
              "      <td>475.500000</td>\n",
              "      <td>2013.00000</td>\n",
              "      <td>112.000000</td>\n",
              "      <td>6.900000</td>\n",
              "      <td>1.368795e+05</td>\n",
              "      <td>48.150000</td>\n",
              "      <td>60.000000</td>\n",
              "    </tr>\n",
              "    <tr>\n",
              "      <th>75%</th>\n",
              "      <td>729.750000</td>\n",
              "      <td>2015.00000</td>\n",
              "      <td>124.000000</td>\n",
              "      <td>7.500000</td>\n",
              "      <td>2.710830e+05</td>\n",
              "      <td>116.800000</td>\n",
              "      <td>72.000000</td>\n",
              "    </tr>\n",
              "    <tr>\n",
              "      <th>max</th>\n",
              "      <td>1000.000000</td>\n",
              "      <td>2016.00000</td>\n",
              "      <td>187.000000</td>\n",
              "      <td>9.000000</td>\n",
              "      <td>1.791916e+06</td>\n",
              "      <td>936.630000</td>\n",
              "      <td>100.000000</td>\n",
              "    </tr>\n",
              "  </tbody>\n",
              "</table>\n",
              "</div>"
            ],
            "text/plain": [
              "              Rank        Year  Runtime (Minutes)      Rating         Votes  \\\n",
              "count   838.000000   838.00000         838.000000  838.000000  8.380000e+02   \n",
              "mean    485.247017  2012.50716         114.638425    6.814320  1.932303e+05   \n",
              "std     286.572065     3.17236          18.470922    0.877754  1.930990e+05   \n",
              "min       1.000000  2006.00000          66.000000    1.900000  1.780000e+02   \n",
              "25%     238.250000  2010.00000         101.000000    6.300000  6.127650e+04   \n",
              "50%     475.500000  2013.00000         112.000000    6.900000  1.368795e+05   \n",
              "75%     729.750000  2015.00000         124.000000    7.500000  2.710830e+05   \n",
              "max    1000.000000  2016.00000         187.000000    9.000000  1.791916e+06   \n",
              "\n",
              "       Revenue (Millions)   Metascore  \n",
              "count          838.000000  838.000000  \n",
              "mean            84.564558   59.575179  \n",
              "std            104.520227   16.952416  \n",
              "min              0.000000   11.000000  \n",
              "25%             13.967500   47.000000  \n",
              "50%             48.150000   60.000000  \n",
              "75%            116.800000   72.000000  \n",
              "max            936.630000  100.000000  "
            ]
          },
          "execution_count": 14,
          "metadata": {},
          "output_type": "execute_result"
        }
      ],
      "source": [
        "data.describe()"
      ]
    },
    {
      "cell_type": "markdown",
      "id": "538e4b6e",
      "metadata": {
        "papermill": {
          "duration": 0.017346,
          "end_time": "2022-10-07T08:19:52.590981",
          "exception": false,
          "start_time": "2022-10-07T08:19:52.573635",
          "status": "completed"
        },
        "tags": [],
        "id": "538e4b6e"
      },
      "source": [
        "# 9. Display Title of The Movie Having Runtime >= 180 Minutes"
      ]
    },
    {
      "cell_type": "code",
      "execution_count": null,
      "id": "3a4f02de",
      "metadata": {
        "execution": {
          "iopub.execute_input": "2022-10-07T08:19:52.627992Z",
          "iopub.status.busy": "2022-10-07T08:19:52.627459Z",
          "iopub.status.idle": "2022-10-07T08:19:52.638530Z",
          "shell.execute_reply": "2022-10-07T08:19:52.637137Z"
        },
        "papermill": {
          "duration": 0.03273,
          "end_time": "2022-10-07T08:19:52.641196",
          "exception": false,
          "start_time": "2022-10-07T08:19:52.608466",
          "status": "completed"
        },
        "tags": [],
        "id": "3a4f02de",
        "outputId": "ac1933a2-868f-4336-ebee-777a0c0d421c"
      },
      "outputs": [
        {
          "data": {
            "text/plain": [
              "82     The Wolf of Wall Street\n",
              "88           The Hateful Eight\n",
              "311             La vie d'Adèle\n",
              "Name: Title, dtype: object"
            ]
          },
          "execution_count": 15,
          "metadata": {},
          "output_type": "execute_result"
        }
      ],
      "source": [
        "data[data['Runtime (Minutes)']>=180]['Title']"
      ]
    },
    {
      "cell_type": "markdown",
      "id": "c9f6db18",
      "metadata": {
        "papermill": {
          "duration": 0.016591,
          "end_time": "2022-10-07T08:19:52.676958",
          "exception": false,
          "start_time": "2022-10-07T08:19:52.660367",
          "status": "completed"
        },
        "tags": [],
        "id": "c9f6db18"
      },
      "source": [
        "# 10. In Which Year There Was The Highest Voting?"
      ]
    },
    {
      "cell_type": "code",
      "execution_count": null,
      "id": "c8303ab9",
      "metadata": {
        "execution": {
          "iopub.execute_input": "2022-10-07T08:19:52.712601Z",
          "iopub.status.busy": "2022-10-07T08:19:52.711594Z",
          "iopub.status.idle": "2022-10-07T08:19:53.235894Z",
          "shell.execute_reply": "2022-10-07T08:19:53.234530Z"
        },
        "papermill": {
          "duration": 0.545753,
          "end_time": "2022-10-07T08:19:53.239084",
          "exception": false,
          "start_time": "2022-10-07T08:19:52.693331",
          "status": "completed"
        },
        "tags": [],
        "id": "c8303ab9",
        "outputId": "2cbc1b39-6fbc-4763-e8c1-d9de6c50abc3"
      },
      "outputs": [
        {
          "data": {
            "image/png": "[encoded data removed]",
            "text/plain": [
              "<Figure size 432x288 with 1 Axes>"
            ]
          },
          "metadata": {
            "needs_background": "light"
          },
          "output_type": "display_data"
        }
      ],
      "source": [
        "sns.barplot(x='Year',y='Votes',data=data)\n",
        "plt.title(\"Votes By Year\")\n",
        "plt.show()"
      ]
    },
    {
      "cell_type": "markdown",
      "id": "886fcf72",
      "metadata": {
        "papermill": {
          "duration": 0.016115,
          "end_time": "2022-10-07T08:19:53.272715",
          "exception": false,
          "start_time": "2022-10-07T08:19:53.256600",
          "status": "completed"
        },
        "tags": [],
        "id": "886fcf72"
      },
      "source": [
        "# 11. In Which Year There Was The Highest Revenue?"
      ]
    },
    {
      "cell_type": "code",
      "execution_count": null,
      "id": "c7957fbe",
      "metadata": {
        "execution": {
          "iopub.execute_input": "2022-10-07T08:19:53.311087Z",
          "iopub.status.busy": "2022-10-07T08:19:53.309739Z",
          "iopub.status.idle": "2022-10-07T08:19:53.848364Z",
          "shell.execute_reply": "2022-10-07T08:19:53.847009Z"
        },
        "papermill": {
          "duration": 0.559911,
          "end_time": "2022-10-07T08:19:53.851205",
          "exception": false,
          "start_time": "2022-10-07T08:19:53.291294",
          "status": "completed"
        },
        "tags": [],
        "id": "c7957fbe",
        "outputId": "390d2b84-b3d2-4b36-cf2f-b47ac5a18ea6"
      },
      "outputs": [
        {
          "data": {
            "image/png": "[encoded data removed]",
            "text/plain": [
              "<Figure size 432x288 with 1 Axes>"
            ]
          },
          "metadata": {
            "needs_background": "light"
          },
          "output_type": "display_data"
        }
      ],
      "source": [
        "sns.barplot(x='Year',y='Revenue (Millions)',data=data)\n",
        "plt.title(\"Revenue By Year\")\n",
        "plt.show()"
      ]
    },
    {
      "cell_type": "markdown",
      "id": "c984ed51",
      "metadata": {
        "papermill": {
          "duration": 0.017786,
          "end_time": "2022-10-07T08:19:53.887294",
          "exception": false,
          "start_time": "2022-10-07T08:19:53.869508",
          "status": "completed"
        },
        "tags": [],
        "id": "c984ed51"
      },
      "source": [
        "# 12. Find The Average Rating For Each Director"
      ]
    },
    {
      "cell_type": "code",
      "execution_count": null,
      "id": "c47b5920",
      "metadata": {
        "execution": {
          "iopub.execute_input": "2022-10-07T08:19:53.925664Z",
          "iopub.status.busy": "2022-10-07T08:19:53.925093Z",
          "iopub.status.idle": "2022-10-07T08:19:53.939705Z",
          "shell.execute_reply": "2022-10-07T08:19:53.938462Z"
        },
        "papermill": {
          "duration": 0.037065,
          "end_time": "2022-10-07T08:19:53.942270",
          "exception": false,
          "start_time": "2022-10-07T08:19:53.905205",
          "status": "completed"
        },
        "tags": [],
        "id": "c47b5920",
        "outputId": "4c8cb8e6-9d32-4bf1-a9fe-5248d27d5caf"
      },
      "outputs": [
        {
          "data": {
            "text/plain": [
              "Director\n",
              "Christopher Nolan                   8.68\n",
              "Olivier Nakache                     8.60\n",
              "Makoto Shinkai                      8.60\n",
              "Florian Henckel von Donnersmarck    8.50\n",
              "Aamir Khan                          8.50\n",
              "                                    ... \n",
              "Sam Taylor-Johnson                  4.10\n",
              "Joey Curtis                         4.00\n",
              "George Nolfi                        3.90\n",
              "James Wong                          2.70\n",
              "Jason Friedberg                     1.90\n",
              "Name: Rating, Length: 524, dtype: float64"
            ]
          },
          "execution_count": 18,
          "metadata": {},
          "output_type": "execute_result"
        }
      ],
      "source": [
        "data.groupby('Director')['Rating'].mean().sort_values(ascending=False)"
      ]
    },
    {
      "cell_type": "markdown",
      "id": "aa36f48b",
      "metadata": {
        "papermill": {
          "duration": 0.016595,
          "end_time": "2022-10-07T08:19:53.976652",
          "exception": false,
          "start_time": "2022-10-07T08:19:53.960057",
          "status": "completed"
        },
        "tags": [],
        "id": "aa36f48b"
      },
      "source": [
        "# 13. Display Top 10 Lengthy Movies Title"
      ]
    },
    {
      "cell_type": "code",
      "execution_count": null,
      "id": "fca53572",
      "metadata": {
        "execution": {
          "iopub.execute_input": "2022-10-07T08:19:54.015082Z",
          "iopub.status.busy": "2022-10-07T08:19:54.013619Z",
          "iopub.status.idle": "2022-10-07T08:19:54.024566Z",
          "shell.execute_reply": "2022-10-07T08:19:54.023076Z"
        },
        "papermill": {
          "duration": 0.033465,
          "end_time": "2022-10-07T08:19:54.027830",
          "exception": false,
          "start_time": "2022-10-07T08:19:53.994365",
          "status": "completed"
        },
        "tags": [],
        "id": "fca53572"
      },
      "outputs": [],
      "source": [
        "le =data.nlargest(10,'Runtime (Minutes)')[['Title','Runtime (Minutes)']]. \\\n",
        "set_index('Title')"
      ]
    },
    {
      "cell_type": "code",
      "execution_count": null,
      "id": "d79c86bc",
      "metadata": {
        "execution": {
          "iopub.execute_input": "2022-10-07T08:19:54.066907Z",
          "iopub.status.busy": "2022-10-07T08:19:54.065624Z",
          "iopub.status.idle": "2022-10-07T08:19:54.336217Z",
          "shell.execute_reply": "2022-10-07T08:19:54.335282Z"
        },
        "papermill": {
          "duration": 0.292403,
          "end_time": "2022-10-07T08:19:54.338726",
          "exception": false,
          "start_time": "2022-10-07T08:19:54.046323",
          "status": "completed"
        },
        "tags": [],
        "id": "d79c86bc",
        "outputId": "46860140-3f9f-4546-ac5e-18b46bfb0332"
      },
      "outputs": [
        {
          "data": {
            "image/png": "[encoded data removed]",
            "text/plain": [
              "<Figure size 432x288 with 1 Axes>"
            ]
          },
          "metadata": {
            "needs_background": "light"
          },
          "output_type": "display_data"
        }
      ],
      "source": [
        "sns.barplot(le['Runtime (Minutes)'],y=le.index)\n",
        "plt.title('Top 5 Lengtly Movies')\n",
        "plt.show()"
      ]
    },
    {
      "cell_type": "markdown",
      "id": "55f389a3",
      "metadata": {
        "papermill": {
          "duration": 0.017395,
          "end_time": "2022-10-07T08:19:54.374341",
          "exception": false,
          "start_time": "2022-10-07T08:19:54.356946",
          "status": "completed"
        },
        "tags": [],
        "id": "55f389a3"
      },
      "source": [
        "# 14. Display Number of Movies Per Year"
      ]
    },
    {
      "cell_type": "code",
      "execution_count": null,
      "id": "4665315f",
      "metadata": {
        "execution": {
          "iopub.execute_input": "2022-10-07T08:19:54.412784Z",
          "iopub.status.busy": "2022-10-07T08:19:54.411780Z",
          "iopub.status.idle": "2022-10-07T08:19:54.687780Z",
          "shell.execute_reply": "2022-10-07T08:19:54.686504Z"
        },
        "papermill": {
          "duration": 0.298548,
          "end_time": "2022-10-07T08:19:54.690793",
          "exception": false,
          "start_time": "2022-10-07T08:19:54.392245",
          "status": "completed"
        },
        "tags": [],
        "id": "4665315f",
        "outputId": "89d60a2f-9c3e-4179-8e90-f643fa81938d"
      },
      "outputs": [
        {
          "data": {
            "text/plain": [
              "Text(0.5, 1.0, 'Number of Movies Per Year')"
            ]
          },
          "execution_count": 21,
          "metadata": {},
          "output_type": "execute_result"
        },
        {
          "data": {
            "image/png": "[encoded data removed]",
            "text/plain": [
              "<Figure size 432x288 with 1 Axes>"
            ]
          },
          "metadata": {
            "needs_background": "light"
          },
          "output_type": "display_data"
        }
      ],
      "source": [
        "sns.countplot(x='Year',data=data)\n",
        "plt.title(\"Number of Movies Per Year\")"
      ]
    },
    {
      "cell_type": "markdown",
      "id": "f117a24f",
      "metadata": {
        "papermill": {
          "duration": 0.017956,
          "end_time": "2022-10-07T08:19:54.727355",
          "exception": false,
          "start_time": "2022-10-07T08:19:54.709399",
          "status": "completed"
        },
        "tags": [],
        "id": "f117a24f"
      },
      "source": [
        "# 15. Find Most Popular Movie Title (Higest Revenue)"
      ]
    },
    {
      "cell_type": "code",
      "execution_count": null,
      "id": "6bdd5795",
      "metadata": {
        "execution": {
          "iopub.execute_input": "2022-10-07T08:19:54.766377Z",
          "iopub.status.busy": "2022-10-07T08:19:54.765890Z",
          "iopub.status.idle": "2022-10-07T08:19:54.774515Z",
          "shell.execute_reply": "2022-10-07T08:19:54.773355Z"
        },
        "papermill": {
          "duration": 0.031453,
          "end_time": "2022-10-07T08:19:54.777142",
          "exception": false,
          "start_time": "2022-10-07T08:19:54.745689",
          "status": "completed"
        },
        "tags": [],
        "id": "6bdd5795",
        "outputId": "3201cae4-9eef-4d66-d149-1c5d600b804b"
      },
      "outputs": [
        {
          "data": {
            "text/plain": [
              "Index(['Rank', 'Title', 'Genre', 'Description', 'Director', 'Actors', 'Year',\n",
              "       'Runtime (Minutes)', 'Rating', 'Votes', 'Revenue (Millions)',\n",
              "       'Metascore'],\n",
              "      dtype='object')"
            ]
          },
          "execution_count": 22,
          "metadata": {},
          "output_type": "execute_result"
        }
      ],
      "source": [
        "data.columns"
      ]
    },
    {
      "cell_type": "code",
      "execution_count": null,
      "id": "9320b27c",
      "metadata": {
        "execution": {
          "iopub.execute_input": "2022-10-07T08:19:54.816311Z",
          "iopub.status.busy": "2022-10-07T08:19:54.815548Z",
          "iopub.status.idle": "2022-10-07T08:19:54.825399Z",
          "shell.execute_reply": "2022-10-07T08:19:54.824505Z"
        },
        "papermill": {
          "duration": 0.032305,
          "end_time": "2022-10-07T08:19:54.827803",
          "exception": false,
          "start_time": "2022-10-07T08:19:54.795498",
          "status": "completed"
        },
        "tags": [],
        "id": "9320b27c",
        "outputId": "43ee0e44-3fe7-46b9-ddca-dced1229b35a"
      },
      "outputs": [
        {
          "data": {
            "text/plain": [
              "50    Star Wars: Episode VII - The Force Awakens\n",
              "Name: Title, dtype: object"
            ]
          },
          "execution_count": 23,
          "metadata": {},
          "output_type": "execute_result"
        }
      ],
      "source": [
        "data[data['Revenue (Millions)'].max() == data['Revenue (Millions)']]['Title']"
      ]
    },
    {
      "cell_type": "markdown",
      "id": "34d3a309",
      "metadata": {
        "papermill": {
          "duration": 0.018637,
          "end_time": "2022-10-07T08:19:54.864937",
          "exception": false,
          "start_time": "2022-10-07T08:19:54.846300",
          "status": "completed"
        },
        "tags": [],
        "id": "34d3a309"
      },
      "source": [
        "# 16. Display Top 10 Highest Rated Movie Titles And its Directors"
      ]
    },
    {
      "cell_type": "code",
      "execution_count": null,
      "id": "19d41f39",
      "metadata": {
        "execution": {
          "iopub.execute_input": "2022-10-07T08:19:54.904118Z",
          "iopub.status.busy": "2022-10-07T08:19:54.903139Z",
          "iopub.status.idle": "2022-10-07T08:19:54.913285Z",
          "shell.execute_reply": "2022-10-07T08:19:54.912098Z"
        },
        "papermill": {
          "duration": 0.033073,
          "end_time": "2022-10-07T08:19:54.916295",
          "exception": false,
          "start_time": "2022-10-07T08:19:54.883222",
          "status": "completed"
        },
        "tags": [],
        "id": "19d41f39"
      },
      "outputs": [],
      "source": [
        "top_10=data.nlargest(10,'Rating')[['Title','Rating','Director']].set_index('Title')"
      ]
    },
    {
      "cell_type": "code",
      "execution_count": null,
      "id": "c60d1a65",
      "metadata": {
        "execution": {
          "iopub.execute_input": "2022-10-07T08:19:54.955486Z",
          "iopub.status.busy": "2022-10-07T08:19:54.954944Z",
          "iopub.status.idle": "2022-10-07T08:19:54.968582Z",
          "shell.execute_reply": "2022-10-07T08:19:54.967328Z"
        },
        "papermill": {
          "duration": 0.036135,
          "end_time": "2022-10-07T08:19:54.971036",
          "exception": false,
          "start_time": "2022-10-07T08:19:54.934901",
          "status": "completed"
        },
        "tags": [],
        "id": "c60d1a65",
        "outputId": "56f9ca7f-b6af-4d71-8582-d5882396c107"
      },
      "outputs": [
        {
          "data": {
            "text/html": [
              "<div>\n",
              "<style scoped>\n",
              "    .dataframe tbody tr th:only-of-type {\n",
              "        vertical-align: middle;\n",
              "    }\n",
              "\n",
              "    .dataframe tbody tr th {\n",
              "        vertical-align: top;\n",
              "    }\n",
              "\n",
              "    .dataframe thead th {\n",
              "        text-align: right;\n",
              "    }\n",
              "</style>\n",
              "<table border=\"1\" class=\"dataframe\">\n",
              "  <thead>\n",
              "    <tr style=\"text-align: right;\">\n",
              "      <th></th>\n",
              "      <th>Rating</th>\n",
              "      <th>Director</th>\n",
              "    </tr>\n",
              "    <tr>\n",
              "      <th>Title</th>\n",
              "      <th></th>\n",
              "      <th></th>\n",
              "    </tr>\n",
              "  </thead>\n",
              "  <tbody>\n",
              "    <tr>\n",
              "      <th>The Dark Knight</th>\n",
              "      <td>9.0</td>\n",
              "      <td>Christopher Nolan</td>\n",
              "    </tr>\n",
              "    <tr>\n",
              "      <th>Inception</th>\n",
              "      <td>8.8</td>\n",
              "      <td>Christopher Nolan</td>\n",
              "    </tr>\n",
              "    <tr>\n",
              "      <th>Interstellar</th>\n",
              "      <td>8.6</td>\n",
              "      <td>Christopher Nolan</td>\n",
              "    </tr>\n",
              "    <tr>\n",
              "      <th>Kimi no na wa</th>\n",
              "      <td>8.6</td>\n",
              "      <td>Makoto Shinkai</td>\n",
              "    </tr>\n",
              "    <tr>\n",
              "      <th>The Intouchables</th>\n",
              "      <td>8.6</td>\n",
              "      <td>Olivier Nakache</td>\n",
              "    </tr>\n",
              "    <tr>\n",
              "      <th>The Prestige</th>\n",
              "      <td>8.5</td>\n",
              "      <td>Christopher Nolan</td>\n",
              "    </tr>\n",
              "    <tr>\n",
              "      <th>The Departed</th>\n",
              "      <td>8.5</td>\n",
              "      <td>Martin Scorsese</td>\n",
              "    </tr>\n",
              "    <tr>\n",
              "      <th>The Dark Knight Rises</th>\n",
              "      <td>8.5</td>\n",
              "      <td>Christopher Nolan</td>\n",
              "    </tr>\n",
              "    <tr>\n",
              "      <th>Whiplash</th>\n",
              "      <td>8.5</td>\n",
              "      <td>Damien Chazelle</td>\n",
              "    </tr>\n",
              "    <tr>\n",
              "      <th>The Lives of Others</th>\n",
              "      <td>8.5</td>\n",
              "      <td>Florian Henckel von Donnersmarck</td>\n",
              "    </tr>\n",
              "  </tbody>\n",
              "</table>\n",
              "</div>"
            ],
            "text/plain": [
              "                       Rating                          Director\n",
              "Title                                                          \n",
              "The Dark Knight           9.0                 Christopher Nolan\n",
              "Inception                 8.8                 Christopher Nolan\n",
              "Interstellar              8.6                 Christopher Nolan\n",
              "Kimi no na wa             8.6                    Makoto Shinkai\n",
              "The Intouchables          8.6                   Olivier Nakache\n",
              "The Prestige              8.5                 Christopher Nolan\n",
              "The Departed              8.5                   Martin Scorsese\n",
              "The Dark Knight Rises     8.5                 Christopher Nolan\n",
              "Whiplash                  8.5                   Damien Chazelle\n",
              "The Lives of Others       8.5  Florian Henckel von Donnersmarck"
            ]
          },
          "execution_count": 25,
          "metadata": {},
          "output_type": "execute_result"
        }
      ],
      "source": [
        "top_10"
      ]
    },
    {
      "cell_type": "code",
      "execution_count": null,
      "id": "158f89dd",
      "metadata": {
        "execution": {
          "iopub.execute_input": "2022-10-07T08:19:55.010304Z",
          "iopub.status.busy": "2022-10-07T08:19:55.009553Z",
          "iopub.status.idle": "2022-10-07T08:19:55.285415Z",
          "shell.execute_reply": "2022-10-07T08:19:55.284071Z"
        },
        "papermill": {
          "duration": 0.299162,
          "end_time": "2022-10-07T08:19:55.288570",
          "exception": false,
          "start_time": "2022-10-07T08:19:54.989408",
          "status": "completed"
        },
        "tags": [],
        "id": "158f89dd",
        "outputId": "94b3fe7a-dd6c-4494-93e1-b169fce04226"
      },
      "outputs": [
        {
          "data": {
            "text/plain": [
              "Text(0.5, 1.0, 'Display Top 10 Highest Rated Movie Titles')"
            ]
          },
          "execution_count": 26,
          "metadata": {},
          "output_type": "execute_result"
        },
        {
          "data": {
            "image/png": "[encoded data removed]",
            "text/plain": [
              "<Figure size 432x288 with 1 Axes>"
            ]
          },
          "metadata": {
            "needs_background": "light"
          },
          "output_type": "display_data"
        }
      ],
      "source": [
        "sns.barplot(top_10['Rating'],top_10.index)\n",
        "plt.title(\"Display Top 10 Highest Rated Movie Titles\")"
      ]
    },
    {
      "cell_type": "markdown",
      "id": "8370f94f",
      "metadata": {
        "papermill": {
          "duration": 0.018615,
          "end_time": "2022-10-07T08:19:55.326577",
          "exception": false,
          "start_time": "2022-10-07T08:19:55.307962",
          "status": "completed"
        },
        "tags": [],
        "id": "8370f94f"
      },
      "source": [
        "# 17. Display Top 10 Highest Revenue Movie Titles"
      ]
    },
    {
      "cell_type": "code",
      "execution_count": null,
      "id": "ed99c895",
      "metadata": {
        "execution": {
          "iopub.execute_input": "2022-10-07T08:19:55.368772Z",
          "iopub.status.busy": "2022-10-07T08:19:55.368237Z",
          "iopub.status.idle": "2022-10-07T08:19:55.376062Z",
          "shell.execute_reply": "2022-10-07T08:19:55.374666Z"
        },
        "papermill": {
          "duration": 0.032731,
          "end_time": "2022-10-07T08:19:55.378828",
          "exception": false,
          "start_time": "2022-10-07T08:19:55.346097",
          "status": "completed"
        },
        "tags": [],
        "id": "ed99c895",
        "outputId": "cf0953a6-fb15-4ced-d3f5-0004d00ae614"
      },
      "outputs": [
        {
          "data": {
            "text/plain": [
              "Index(['Rank', 'Title', 'Genre', 'Description', 'Director', 'Actors', 'Year',\n",
              "       'Runtime (Minutes)', 'Rating', 'Votes', 'Revenue (Millions)',\n",
              "       'Metascore'],\n",
              "      dtype='object')"
            ]
          },
          "execution_count": 27,
          "metadata": {},
          "output_type": "execute_result"
        }
      ],
      "source": [
        "data.columns"
      ]
    },
    {
      "cell_type": "code",
      "execution_count": null,
      "id": "a799a5a6",
      "metadata": {
        "execution": {
          "iopub.execute_input": "2022-10-07T08:19:55.419169Z",
          "iopub.status.busy": "2022-10-07T08:19:55.418365Z",
          "iopub.status.idle": "2022-10-07T08:19:55.442209Z",
          "shell.execute_reply": "2022-10-07T08:19:55.440970Z"
        },
        "papermill": {
          "duration": 0.046852,
          "end_time": "2022-10-07T08:19:55.444822",
          "exception": false,
          "start_time": "2022-10-07T08:19:55.397970",
          "status": "completed"
        },
        "tags": [],
        "id": "a799a5a6",
        "outputId": "4b959c64-c65f-45b2-a37c-2ee747a5b9f4"
      },
      "outputs": [
        {
          "data": {
            "text/html": [
              "<div>\n",
              "<style scoped>\n",
              "    .dataframe tbody tr th:only-of-type {\n",
              "        vertical-align: middle;\n",
              "    }\n",
              "\n",
              "    .dataframe tbody tr th {\n",
              "        vertical-align: top;\n",
              "    }\n",
              "\n",
              "    .dataframe thead th {\n",
              "        text-align: right;\n",
              "    }\n",
              "</style>\n",
              "<table border=\"1\" class=\"dataframe\">\n",
              "  <thead>\n",
              "    <tr style=\"text-align: right;\">\n",
              "      <th></th>\n",
              "      <th>Rank</th>\n",
              "      <th>Title</th>\n",
              "      <th>Genre</th>\n",
              "      <th>Description</th>\n",
              "      <th>Director</th>\n",
              "      <th>Actors</th>\n",
              "      <th>Year</th>\n",
              "      <th>Runtime (Minutes)</th>\n",
              "      <th>Rating</th>\n",
              "      <th>Votes</th>\n",
              "      <th>Revenue (Millions)</th>\n",
              "      <th>Metascore</th>\n",
              "    </tr>\n",
              "  </thead>\n",
              "  <tbody>\n",
              "    <tr>\n",
              "      <th>50</th>\n",
              "      <td>51</td>\n",
              "      <td>Star Wars: Episode VII - The Force Awakens</td>\n",
              "      <td>Action,Adventure,Fantasy</td>\n",
              "      <td>Three decades after the defeat of the Galactic...</td>\n",
              "      <td>J.J. Abrams</td>\n",
              "      <td>Daisy Ridley, John Boyega, Oscar Isaac, Domhna...</td>\n",
              "      <td>2015</td>\n",
              "      <td>136</td>\n",
              "      <td>8.1</td>\n",
              "      <td>661608</td>\n",
              "      <td>936.63</td>\n",
              "      <td>81.0</td>\n",
              "    </tr>\n",
              "    <tr>\n",
              "      <th>87</th>\n",
              "      <td>88</td>\n",
              "      <td>Avatar</td>\n",
              "      <td>Action,Adventure,Fantasy</td>\n",
              "      <td>A paraplegic marine dispatched to the moon Pan...</td>\n",
              "      <td>James Cameron</td>\n",
              "      <td>Sam Worthington, Zoe Saldana, Sigourney Weaver...</td>\n",
              "      <td>2009</td>\n",
              "      <td>162</td>\n",
              "      <td>7.8</td>\n",
              "      <td>935408</td>\n",
              "      <td>760.51</td>\n",
              "      <td>83.0</td>\n",
              "    </tr>\n",
              "    <tr>\n",
              "      <th>85</th>\n",
              "      <td>86</td>\n",
              "      <td>Jurassic World</td>\n",
              "      <td>Action,Adventure,Sci-Fi</td>\n",
              "      <td>A new theme park, built on the original site o...</td>\n",
              "      <td>Colin Trevorrow</td>\n",
              "      <td>Chris Pratt, Bryce Dallas Howard, Ty Simpkins,...</td>\n",
              "      <td>2015</td>\n",
              "      <td>124</td>\n",
              "      <td>7.0</td>\n",
              "      <td>455169</td>\n",
              "      <td>652.18</td>\n",
              "      <td>59.0</td>\n",
              "    </tr>\n",
              "    <tr>\n",
              "      <th>76</th>\n",
              "      <td>77</td>\n",
              "      <td>The Avengers</td>\n",
              "      <td>Action,Sci-Fi</td>\n",
              "      <td>Earth's mightiest heroes must come together an...</td>\n",
              "      <td>Joss Whedon</td>\n",
              "      <td>Robert Downey Jr., Chris Evans, Scarlett Johan...</td>\n",
              "      <td>2012</td>\n",
              "      <td>143</td>\n",
              "      <td>8.1</td>\n",
              "      <td>1045588</td>\n",
              "      <td>623.28</td>\n",
              "      <td>69.0</td>\n",
              "    </tr>\n",
              "    <tr>\n",
              "      <th>54</th>\n",
              "      <td>55</td>\n",
              "      <td>The Dark Knight</td>\n",
              "      <td>Action,Crime,Drama</td>\n",
              "      <td>When the menace known as the Joker wreaks havo...</td>\n",
              "      <td>Christopher Nolan</td>\n",
              "      <td>Christian Bale, Heath Ledger, Aaron Eckhart,Mi...</td>\n",
              "      <td>2008</td>\n",
              "      <td>152</td>\n",
              "      <td>9.0</td>\n",
              "      <td>1791916</td>\n",
              "      <td>533.32</td>\n",
              "      <td>82.0</td>\n",
              "    </tr>\n",
              "    <tr>\n",
              "      <th>12</th>\n",
              "      <td>13</td>\n",
              "      <td>Rogue One</td>\n",
              "      <td>Action,Adventure,Sci-Fi</td>\n",
              "      <td>The Rebel Alliance makes a risky move to steal...</td>\n",
              "      <td>Gareth Edwards</td>\n",
              "      <td>Felicity Jones, Diego Luna, Alan Tudyk, Donnie...</td>\n",
              "      <td>2016</td>\n",
              "      <td>133</td>\n",
              "      <td>7.9</td>\n",
              "      <td>323118</td>\n",
              "      <td>532.17</td>\n",
              "      <td>65.0</td>\n",
              "    </tr>\n",
              "    <tr>\n",
              "      <th>119</th>\n",
              "      <td>120</td>\n",
              "      <td>Finding Dory</td>\n",
              "      <td>Animation,Adventure,Comedy</td>\n",
              "      <td>The friendly but forgetful blue tang fish, Dor...</td>\n",
              "      <td>Andrew Stanton</td>\n",
              "      <td>Ellen DeGeneres, Albert Brooks,Ed O'Neill, Kai...</td>\n",
              "      <td>2016</td>\n",
              "      <td>97</td>\n",
              "      <td>7.4</td>\n",
              "      <td>157026</td>\n",
              "      <td>486.29</td>\n",
              "      <td>77.0</td>\n",
              "    </tr>\n",
              "    <tr>\n",
              "      <th>94</th>\n",
              "      <td>95</td>\n",
              "      <td>Avengers: Age of Ultron</td>\n",
              "      <td>Action,Adventure,Sci-Fi</td>\n",
              "      <td>When Tony Stark and Bruce Banner try to jump-s...</td>\n",
              "      <td>Joss Whedon</td>\n",
              "      <td>Robert Downey Jr., Chris Evans, Mark Ruffalo, ...</td>\n",
              "      <td>2015</td>\n",
              "      <td>141</td>\n",
              "      <td>7.4</td>\n",
              "      <td>516895</td>\n",
              "      <td>458.99</td>\n",
              "      <td>66.0</td>\n",
              "    </tr>\n",
              "    <tr>\n",
              "      <th>124</th>\n",
              "      <td>125</td>\n",
              "      <td>The Dark Knight Rises</td>\n",
              "      <td>Action,Thriller</td>\n",
              "      <td>Eight years after the Joker's reign of anarchy...</td>\n",
              "      <td>Christopher Nolan</td>\n",
              "      <td>Christian Bale, Tom Hardy, Anne Hathaway,Gary ...</td>\n",
              "      <td>2012</td>\n",
              "      <td>164</td>\n",
              "      <td>8.5</td>\n",
              "      <td>1222645</td>\n",
              "      <td>448.13</td>\n",
              "      <td>78.0</td>\n",
              "    </tr>\n",
              "    <tr>\n",
              "      <th>578</th>\n",
              "      <td>579</td>\n",
              "      <td>The Hunger Games: Catching Fire</td>\n",
              "      <td>Action,Adventure,Mystery</td>\n",
              "      <td>Katniss Everdeen and Peeta Mellark become targ...</td>\n",
              "      <td>Francis Lawrence</td>\n",
              "      <td>Jennifer Lawrence, Josh Hutcherson, Liam Hemsw...</td>\n",
              "      <td>2013</td>\n",
              "      <td>146</td>\n",
              "      <td>7.6</td>\n",
              "      <td>525646</td>\n",
              "      <td>424.65</td>\n",
              "      <td>76.0</td>\n",
              "    </tr>\n",
              "  </tbody>\n",
              "</table>\n",
              "</div>"
            ],
            "text/plain": [
              "     Rank                                       Title  \\\n",
              "50     51  Star Wars: Episode VII - The Force Awakens   \n",
              "87     88                                      Avatar   \n",
              "85     86                              Jurassic World   \n",
              "76     77                                The Avengers   \n",
              "54     55                             The Dark Knight   \n",
              "12     13                                   Rogue One   \n",
              "119   120                                Finding Dory   \n",
              "94     95                     Avengers: Age of Ultron   \n",
              "124   125                       The Dark Knight Rises   \n",
              "578   579             The Hunger Games: Catching Fire   \n",
              "\n",
              "                          Genre  \\\n",
              "50     Action,Adventure,Fantasy   \n",
              "87     Action,Adventure,Fantasy   \n",
              "85      Action,Adventure,Sci-Fi   \n",
              "76                Action,Sci-Fi   \n",
              "54           Action,Crime,Drama   \n",
              "12      Action,Adventure,Sci-Fi   \n",
              "119  Animation,Adventure,Comedy   \n",
              "94      Action,Adventure,Sci-Fi   \n",
              "124             Action,Thriller   \n",
              "578    Action,Adventure,Mystery   \n",
              "\n",
              "                                           Description           Director  \\\n",
              "50   Three decades after the defeat of the Galactic...        J.J. Abrams   \n",
              "87   A paraplegic marine dispatched to the moon Pan...      James Cameron   \n",
              "85   A new theme park, built on the original site o...    Colin Trevorrow   \n",
              "76   Earth's mightiest heroes must come together an...        Joss Whedon   \n",
              "54   When the menace known as the Joker wreaks havo...  Christopher Nolan   \n",
              "12   The Rebel Alliance makes a risky move to steal...     Gareth Edwards   \n",
              "119  The friendly but forgetful blue tang fish, Dor...     Andrew Stanton   \n",
              "94   When Tony Stark and Bruce Banner try to jump-s...        Joss Whedon   \n",
              "124  Eight years after the Joker's reign of anarchy...  Christopher Nolan   \n",
              "578  Katniss Everdeen and Peeta Mellark become targ...   Francis Lawrence   \n",
              "\n",
              "                                                Actors  Year  \\\n",
              "50   Daisy Ridley, John Boyega, Oscar Isaac, Domhna...  2015   \n",
              "87   Sam Worthington, Zoe Saldana, Sigourney Weaver...  2009   \n",
              "85   Chris Pratt, Bryce Dallas Howard, Ty Simpkins,...  2015   \n",
              "76   Robert Downey Jr., Chris Evans, Scarlett Johan...  2012   \n",
              "54   Christian Bale, Heath Ledger, Aaron Eckhart,Mi...  2008   \n",
              "12   Felicity Jones, Diego Luna, Alan Tudyk, Donnie...  2016   \n",
              "119  Ellen DeGeneres, Albert Brooks,Ed O'Neill, Kai...  2016   \n",
              "94   Robert Downey Jr., Chris Evans, Mark Ruffalo, ...  2015   \n",
              "124  Christian Bale, Tom Hardy, Anne Hathaway,Gary ...  2012   \n",
              "578  Jennifer Lawrence, Josh Hutcherson, Liam Hemsw...  2013   \n",
              "\n",
              "     Runtime (Minutes)  Rating    Votes  Revenue (Millions)  Metascore  \n",
              "50                 136     8.1   661608              936.63       81.0  \n",
              "87                 162     7.8   935408              760.51       83.0  \n",
              "85                 124     7.0   455169              652.18       59.0  \n",
              "76                 143     8.1  1045588              623.28       69.0  \n",
              "54                 152     9.0  1791916              533.32       82.0  \n",
              "12                 133     7.9   323118              532.17       65.0  \n",
              "119                 97     7.4   157026              486.29       77.0  \n",
              "94                 141     7.4   516895              458.99       66.0  \n",
              "124                164     8.5  1222645              448.13       78.0  \n",
              "578                146     7.6   525646              424.65       76.0  "
            ]
          },
          "execution_count": 28,
          "metadata": {},
          "output_type": "execute_result"
        }
      ],
      "source": [
        "data.sort_values(by='Revenue (Millions)',ascending=False).head(10)"
      ]
    },
    {
      "cell_type": "code",
      "execution_count": null,
      "id": "52715993",
      "metadata": {
        "execution": {
          "iopub.execute_input": "2022-10-07T08:19:55.486760Z",
          "iopub.status.busy": "2022-10-07T08:19:55.485901Z",
          "iopub.status.idle": "2022-10-07T08:19:55.495355Z",
          "shell.execute_reply": "2022-10-07T08:19:55.494389Z"
        },
        "papermill": {
          "duration": 0.033626,
          "end_time": "2022-10-07T08:19:55.497971",
          "exception": false,
          "start_time": "2022-10-07T08:19:55.464345",
          "status": "completed"
        },
        "tags": [],
        "id": "52715993"
      },
      "outputs": [],
      "source": [
        "top_10 = data.nlargest(10,'Revenue (Millions)')[['Title','Director','Revenue (Millions)']].set_index('Title')"
      ]
    },
    {
      "cell_type": "code",
      "execution_count": null,
      "id": "79d9d768",
      "metadata": {
        "execution": {
          "iopub.execute_input": "2022-10-07T08:19:55.539378Z",
          "iopub.status.busy": "2022-10-07T08:19:55.538614Z",
          "iopub.status.idle": "2022-10-07T08:19:55.798271Z",
          "shell.execute_reply": "2022-10-07T08:19:55.796948Z"
        },
        "papermill": {
          "duration": 0.283514,
          "end_time": "2022-10-07T08:19:55.801008",
          "exception": false,
          "start_time": "2022-10-07T08:19:55.517494",
          "status": "completed"
        },
        "tags": [],
        "id": "79d9d768",
        "outputId": "82f1bd0a-941f-42d2-c002-02f18b112740"
      },
      "outputs": [
        {
          "data": {
            "image/png": "[encoded data removed]",
            "text/plain": [
              "<Figure size 432x288 with 1 Axes>"
            ]
          },
          "metadata": {
            "needs_background": "light"
          },
          "output_type": "display_data"
        }
      ],
      "source": [
        "sns.barplot(top_10['Revenue (Millions)'],top_10.index)\n",
        "plt.title(\"Display Top 10 Highest Revenue Movie Titles\")\n",
        "plt.show()"
      ]
    },
    {
      "cell_type": "markdown",
      "id": "8152e5f1",
      "metadata": {
        "papermill": {
          "duration": 0.01941,
          "end_time": "2022-10-07T08:19:55.840764",
          "exception": false,
          "start_time": "2022-10-07T08:19:55.821354",
          "status": "completed"
        },
        "tags": [],
        "id": "8152e5f1"
      },
      "source": [
        "# 18.  Find Average Rating of Movies Year-wise"
      ]
    },
    {
      "cell_type": "code",
      "execution_count": null,
      "id": "f68eee20",
      "metadata": {
        "execution": {
          "iopub.execute_input": "2022-10-07T08:19:55.884656Z",
          "iopub.status.busy": "2022-10-07T08:19:55.883853Z",
          "iopub.status.idle": "2022-10-07T08:19:55.892060Z",
          "shell.execute_reply": "2022-10-07T08:19:55.890898Z"
        },
        "papermill": {
          "duration": 0.033433,
          "end_time": "2022-10-07T08:19:55.894416",
          "exception": false,
          "start_time": "2022-10-07T08:19:55.860983",
          "status": "completed"
        },
        "tags": [],
        "id": "f68eee20",
        "outputId": "4235a992-97c2-40db-f17b-2b7883814be8"
      },
      "outputs": [
        {
          "data": {
            "text/plain": [
              "Index(['Rank', 'Title', 'Genre', 'Description', 'Director', 'Actors', 'Year',\n",
              "       'Runtime (Minutes)', 'Rating', 'Votes', 'Revenue (Millions)',\n",
              "       'Metascore'],\n",
              "      dtype='object')"
            ]
          },
          "execution_count": 31,
          "metadata": {},
          "output_type": "execute_result"
        }
      ],
      "source": [
        "data.columns"
      ]
    },
    {
      "cell_type": "code",
      "execution_count": null,
      "id": "a6540848",
      "metadata": {
        "execution": {
          "iopub.execute_input": "2022-10-07T08:19:55.937006Z",
          "iopub.status.busy": "2022-10-07T08:19:55.936178Z",
          "iopub.status.idle": "2022-10-07T08:19:55.949764Z",
          "shell.execute_reply": "2022-10-07T08:19:55.948667Z"
        },
        "papermill": {
          "duration": 0.038191,
          "end_time": "2022-10-07T08:19:55.952654",
          "exception": false,
          "start_time": "2022-10-07T08:19:55.914463",
          "status": "completed"
        },
        "tags": [],
        "id": "a6540848"
      },
      "outputs": [],
      "source": [
        "data1=data.groupby('Year')['Year','Rating'].mean().\\\n",
        "sort_values(by='Rating',ascending=False).set_index('Year')"
      ]
    },
    {
      "cell_type": "code",
      "execution_count": null,
      "id": "21c01132",
      "metadata": {
        "execution": {
          "iopub.execute_input": "2022-10-07T08:19:55.995998Z",
          "iopub.status.busy": "2022-10-07T08:19:55.995128Z",
          "iopub.status.idle": "2022-10-07T08:19:56.006890Z",
          "shell.execute_reply": "2022-10-07T08:19:56.006043Z"
        },
        "papermill": {
          "duration": 0.036384,
          "end_time": "2022-10-07T08:19:56.009367",
          "exception": false,
          "start_time": "2022-10-07T08:19:55.972983",
          "status": "completed"
        },
        "tags": [],
        "id": "21c01132",
        "outputId": "2fcf0a05-325a-4d7d-f3d2-4b0716e5f645"
      },
      "outputs": [
        {
          "data": {
            "text/html": [
              "<div>\n",
              "<style scoped>\n",
              "    .dataframe tbody tr th:only-of-type {\n",
              "        vertical-align: middle;\n",
              "    }\n",
              "\n",
              "    .dataframe tbody tr th {\n",
              "        vertical-align: top;\n",
              "    }\n",
              "\n",
              "    .dataframe thead th {\n",
              "        text-align: right;\n",
              "    }\n",
              "</style>\n",
              "<table border=\"1\" class=\"dataframe\">\n",
              "  <thead>\n",
              "    <tr style=\"text-align: right;\">\n",
              "      <th></th>\n",
              "      <th>Rating</th>\n",
              "    </tr>\n",
              "    <tr>\n",
              "      <th>Year</th>\n",
              "      <th></th>\n",
              "    </tr>\n",
              "  </thead>\n",
              "  <tbody>\n",
              "    <tr>\n",
              "      <th>2006.0</th>\n",
              "      <td>7.143902</td>\n",
              "    </tr>\n",
              "    <tr>\n",
              "      <th>2007.0</th>\n",
              "      <td>7.140909</td>\n",
              "    </tr>\n",
              "    <tr>\n",
              "      <th>2011.0</th>\n",
              "      <td>6.945614</td>\n",
              "    </tr>\n",
              "    <tr>\n",
              "      <th>2012.0</th>\n",
              "      <td>6.933871</td>\n",
              "    </tr>\n",
              "    <tr>\n",
              "      <th>2009.0</th>\n",
              "      <td>6.911111</td>\n",
              "    </tr>\n",
              "    <tr>\n",
              "      <th>2010.0</th>\n",
              "      <td>6.894737</td>\n",
              "    </tr>\n",
              "    <tr>\n",
              "      <th>2013.0</th>\n",
              "      <td>6.832143</td>\n",
              "    </tr>\n",
              "    <tr>\n",
              "      <th>2014.0</th>\n",
              "      <td>6.822581</td>\n",
              "    </tr>\n",
              "    <tr>\n",
              "      <th>2008.0</th>\n",
              "      <td>6.708333</td>\n",
              "    </tr>\n",
              "    <tr>\n",
              "      <th>2015.0</th>\n",
              "      <td>6.674312</td>\n",
              "    </tr>\n",
              "    <tr>\n",
              "      <th>2016.0</th>\n",
              "      <td>6.644444</td>\n",
              "    </tr>\n",
              "  </tbody>\n",
              "</table>\n",
              "</div>"
            ],
            "text/plain": [
              "          Rating\n",
              "Year            \n",
              "2006.0  7.143902\n",
              "2007.0  7.140909\n",
              "2011.0  6.945614\n",
              "2012.0  6.933871\n",
              "2009.0  6.911111\n",
              "2010.0  6.894737\n",
              "2013.0  6.832143\n",
              "2014.0  6.822581\n",
              "2008.0  6.708333\n",
              "2015.0  6.674312\n",
              "2016.0  6.644444"
            ]
          },
          "execution_count": 33,
          "metadata": {},
          "output_type": "execute_result"
        }
      ],
      "source": [
        "data1"
      ]
    },
    {
      "cell_type": "code",
      "execution_count": null,
      "id": "9e5a9b2f",
      "metadata": {
        "execution": {
          "iopub.execute_input": "2022-10-07T08:19:56.052383Z",
          "iopub.status.busy": "2022-10-07T08:19:56.051453Z",
          "iopub.status.idle": "2022-10-07T08:19:56.314375Z",
          "shell.execute_reply": "2022-10-07T08:19:56.313054Z"
        },
        "papermill": {
          "duration": 0.287116,
          "end_time": "2022-10-07T08:19:56.316950",
          "exception": false,
          "start_time": "2022-10-07T08:19:56.029834",
          "status": "completed"
        },
        "tags": [],
        "id": "9e5a9b2f",
        "outputId": "d370feba-5752-4d16-f522-40d802c8567f"
      },
      "outputs": [
        {
          "data": {
            "image/png": "[encoded data removed]",
            "text/plain": [
              "<Figure size 720x360 with 1 Axes>"
            ]
          },
          "metadata": {
            "needs_background": "light"
          },
          "output_type": "display_data"
        }
      ],
      "source": [
        "plt.figure(figsize=(10,5))\n",
        "sns.barplot(data1.index,data1['Rating'])\n",
        "plt.show()"
      ]
    },
    {
      "cell_type": "markdown",
      "id": "1cf32ead",
      "metadata": {
        "papermill": {
          "duration": 0.020929,
          "end_time": "2022-10-07T08:19:56.358457",
          "exception": false,
          "start_time": "2022-10-07T08:19:56.337528",
          "status": "completed"
        },
        "tags": [],
        "id": "1cf32ead"
      },
      "source": [
        "# 19. Does Rating Affect The Revenue?"
      ]
    },
    {
      "cell_type": "code",
      "execution_count": null,
      "id": "cb148b9e",
      "metadata": {
        "execution": {
          "iopub.execute_input": "2022-10-07T08:19:56.402549Z",
          "iopub.status.busy": "2022-10-07T08:19:56.401260Z",
          "iopub.status.idle": "2022-10-07T08:19:56.657610Z",
          "shell.execute_reply": "2022-10-07T08:19:56.656546Z"
        },
        "papermill": {
          "duration": 0.281021,
          "end_time": "2022-10-07T08:19:56.660262",
          "exception": false,
          "start_time": "2022-10-07T08:19:56.379241",
          "status": "completed"
        },
        "tags": [],
        "id": "cb148b9e",
        "outputId": "5b4f95b9-5b75-424f-ad7a-9e5b220520b6"
      },
      "outputs": [
        {
          "data": {
            "text/plain": [
              "<AxesSubplot:xlabel='Rating', ylabel='Revenue (Millions)'>"
            ]
          },
          "execution_count": 35,
          "metadata": {},
          "output_type": "execute_result"
        },
        {
          "data": {
            "image/png": "[encoded data removed]",
            "text/plain": [
              "<Figure size 432x288 with 1 Axes>"
            ]
          },
          "metadata": {
            "needs_background": "light"
          },
          "output_type": "display_data"
        }
      ],
      "source": [
        "sns.scatterplot(x='Rating',y='Revenue (Millions)',data=data)"
      ]
    },
    {
      "cell_type": "markdown",
      "id": "5b8c0313",
      "metadata": {
        "execution": {
          "iopub.execute_input": "2022-10-07T08:03:20.504935Z",
          "iopub.status.busy": "2022-10-07T08:03:20.504347Z",
          "iopub.status.idle": "2022-10-07T08:03:20.562599Z",
          "shell.execute_reply": "2022-10-07T08:03:20.560512Z",
          "shell.execute_reply.started": "2022-10-07T08:03:20.504898Z"
        },
        "papermill": {
          "duration": 0.020949,
          "end_time": "2022-10-07T08:19:56.702965",
          "exception": false,
          "start_time": "2022-10-07T08:19:56.682016",
          "status": "completed"
        },
        "tags": [],
        "id": "5b8c0313"
      },
      "source": [
        "# Answer : Yes"
      ]
    },
    {
      "cell_type": "markdown",
      "id": "417e4da0",
      "metadata": {
        "papermill": {
          "duration": 0.020836,
          "end_time": "2022-10-07T08:19:56.744851",
          "exception": false,
          "start_time": "2022-10-07T08:19:56.724015",
          "status": "completed"
        },
        "tags": [],
        "id": "417e4da0"
      },
      "source": [
        "# 20. Classify Movies Based on Ratings [Good,Better and Best]"
      ]
    },
    {
      "cell_type": "code",
      "execution_count": null,
      "id": "55120d75",
      "metadata": {
        "execution": {
          "iopub.execute_input": "2022-10-07T08:19:56.790588Z",
          "iopub.status.busy": "2022-10-07T08:19:56.789231Z",
          "iopub.status.idle": "2022-10-07T08:19:56.799083Z",
          "shell.execute_reply": "2022-10-07T08:19:56.797673Z"
        },
        "papermill": {
          "duration": 0.035213,
          "end_time": "2022-10-07T08:19:56.801663",
          "exception": false,
          "start_time": "2022-10-07T08:19:56.766450",
          "status": "completed"
        },
        "tags": [],
        "id": "55120d75",
        "outputId": "b4dda361-67a1-4d88-ac7c-ea0abbdb63fc"
      },
      "outputs": [
        {
          "data": {
            "text/plain": [
              "Index(['Rank', 'Title', 'Genre', 'Description', 'Director', 'Actors', 'Year',\n",
              "       'Runtime (Minutes)', 'Rating', 'Votes', 'Revenue (Millions)',\n",
              "       'Metascore'],\n",
              "      dtype='object')"
            ]
          },
          "execution_count": 36,
          "metadata": {},
          "output_type": "execute_result"
        }
      ],
      "source": [
        "data.columns"
      ]
    },
    {
      "cell_type": "code",
      "execution_count": null,
      "id": "5d54bbb6",
      "metadata": {
        "execution": {
          "iopub.execute_input": "2022-10-07T08:19:56.847231Z",
          "iopub.status.busy": "2022-10-07T08:19:56.845920Z",
          "iopub.status.idle": "2022-10-07T08:19:56.852153Z",
          "shell.execute_reply": "2022-10-07T08:19:56.850872Z"
        },
        "papermill": {
          "duration": 0.031624,
          "end_time": "2022-10-07T08:19:56.854773",
          "exception": false,
          "start_time": "2022-10-07T08:19:56.823149",
          "status": "completed"
        },
        "tags": [],
        "id": "5d54bbb6"
      },
      "outputs": [],
      "source": [
        "def rating(rating):\n",
        "    if rating>=7.0:\n",
        "        return 'Excellent'\n",
        "    elif rating>=6.0:\n",
        "        return 'Good'\n",
        "    else:\n",
        "        return 'Average'"
      ]
    },
    {
      "cell_type": "code",
      "execution_count": null,
      "id": "43e18561",
      "metadata": {
        "execution": {
          "iopub.execute_input": "2022-10-07T08:19:56.901771Z",
          "iopub.status.busy": "2022-10-07T08:19:56.901217Z",
          "iopub.status.idle": "2022-10-07T08:19:56.909374Z",
          "shell.execute_reply": "2022-10-07T08:19:56.907998Z"
        },
        "papermill": {
          "duration": 0.035652,
          "end_time": "2022-10-07T08:19:56.911782",
          "exception": false,
          "start_time": "2022-10-07T08:19:56.876130",
          "status": "completed"
        },
        "tags": [],
        "id": "43e18561"
      },
      "outputs": [],
      "source": [
        "data['rating_cat']=data['Rating'].apply(rating)"
      ]
    },
    {
      "cell_type": "code",
      "execution_count": null,
      "id": "64cc6097",
      "metadata": {
        "execution": {
          "iopub.execute_input": "2022-10-07T08:19:56.957401Z",
          "iopub.status.busy": "2022-10-07T08:19:56.956908Z",
          "iopub.status.idle": "2022-10-07T08:19:56.976702Z",
          "shell.execute_reply": "2022-10-07T08:19:56.975407Z"
        },
        "papermill": {
          "duration": 0.045772,
          "end_time": "2022-10-07T08:19:56.979527",
          "exception": false,
          "start_time": "2022-10-07T08:19:56.933755",
          "status": "completed"
        },
        "tags": [],
        "id": "64cc6097",
        "outputId": "a042f36b-a8c6-4895-ddde-8fb501de3da0"
      },
      "outputs": [
        {
          "data": {
            "text/html": [
              "<div>\n",
              "<style scoped>\n",
              "    .dataframe tbody tr th:only-of-type {\n",
              "        vertical-align: middle;\n",
              "    }\n",
              "\n",
              "    .dataframe tbody tr th {\n",
              "        vertical-align: top;\n",
              "    }\n",
              "\n",
              "    .dataframe thead th {\n",
              "        text-align: right;\n",
              "    }\n",
              "</style>\n",
              "<table border=\"1\" class=\"dataframe\">\n",
              "  <thead>\n",
              "    <tr style=\"text-align: right;\">\n",
              "      <th></th>\n",
              "      <th>Rank</th>\n",
              "      <th>Title</th>\n",
              "      <th>Genre</th>\n",
              "      <th>Description</th>\n",
              "      <th>Director</th>\n",
              "      <th>Actors</th>\n",
              "      <th>Year</th>\n",
              "      <th>Runtime (Minutes)</th>\n",
              "      <th>Rating</th>\n",
              "      <th>Votes</th>\n",
              "      <th>Revenue (Millions)</th>\n",
              "      <th>Metascore</th>\n",
              "      <th>rating_cat</th>\n",
              "    </tr>\n",
              "  </thead>\n",
              "  <tbody>\n",
              "    <tr>\n",
              "      <th>0</th>\n",
              "      <td>1</td>\n",
              "      <td>Guardians of the Galaxy</td>\n",
              "      <td>Action,Adventure,Sci-Fi</td>\n",
              "      <td>A group of intergalactic criminals are forced ...</td>\n",
              "      <td>James Gunn</td>\n",
              "      <td>Chris Pratt, Vin Diesel, Bradley Cooper, Zoe S...</td>\n",
              "      <td>2014</td>\n",
              "      <td>121</td>\n",
              "      <td>8.1</td>\n",
              "      <td>757074</td>\n",
              "      <td>333.13</td>\n",
              "      <td>76.0</td>\n",
              "      <td>Excellent</td>\n",
              "    </tr>\n",
              "  </tbody>\n",
              "</table>\n",
              "</div>"
            ],
            "text/plain": [
              "   Rank                    Title                    Genre  \\\n",
              "0     1  Guardians of the Galaxy  Action,Adventure,Sci-Fi   \n",
              "\n",
              "                                         Description    Director  \\\n",
              "0  A group of intergalactic criminals are forced ...  James Gunn   \n",
              "\n",
              "                                              Actors  Year  Runtime (Minutes)  \\\n",
              "0  Chris Pratt, Vin Diesel, Bradley Cooper, Zoe S...  2014                121   \n",
              "\n",
              "   Rating   Votes  Revenue (Millions)  Metascore rating_cat  \n",
              "0     8.1  757074              333.13       76.0  Excellent  "
            ]
          },
          "execution_count": 39,
          "metadata": {},
          "output_type": "execute_result"
        }
      ],
      "source": [
        "data.head(1)"
      ]
    },
    {
      "cell_type": "markdown",
      "id": "389a0e7a",
      "metadata": {
        "papermill": {
          "duration": 0.021572,
          "end_time": "2022-10-07T08:19:57.022634",
          "exception": false,
          "start_time": "2022-10-07T08:19:57.001062",
          "status": "completed"
        },
        "tags": [],
        "id": "389a0e7a"
      },
      "source": [
        "# 21. Count Number of Action Movies"
      ]
    },
    {
      "cell_type": "code",
      "execution_count": null,
      "id": "9097e2f0",
      "metadata": {
        "execution": {
          "iopub.execute_input": "2022-10-07T08:19:57.068154Z",
          "iopub.status.busy": "2022-10-07T08:19:57.067658Z",
          "iopub.status.idle": "2022-10-07T08:19:57.075057Z",
          "shell.execute_reply": "2022-10-07T08:19:57.073627Z"
        },
        "papermill": {
          "duration": 0.033537,
          "end_time": "2022-10-07T08:19:57.077719",
          "exception": false,
          "start_time": "2022-10-07T08:19:57.044182",
          "status": "completed"
        },
        "tags": [],
        "id": "9097e2f0"
      },
      "outputs": [],
      "source": [
        "list1=[]\n",
        "for value in data['Genre']:\n",
        "    list1.append(value.split(','))"
      ]
    },
    {
      "cell_type": "code",
      "execution_count": null,
      "id": "7c24695e",
      "metadata": {
        "execution": {
          "iopub.execute_input": "2022-10-07T08:19:57.124504Z",
          "iopub.status.busy": "2022-10-07T08:19:57.123038Z",
          "iopub.status.idle": "2022-10-07T08:19:57.129848Z",
          "shell.execute_reply": "2022-10-07T08:19:57.128735Z"
        },
        "papermill": {
          "duration": 0.033216,
          "end_time": "2022-10-07T08:19:57.132709",
          "exception": false,
          "start_time": "2022-10-07T08:19:57.099493",
          "status": "completed"
        },
        "tags": [],
        "id": "7c24695e"
      },
      "outputs": [],
      "source": [
        "data['temp']=list1"
      ]
    },
    {
      "cell_type": "code",
      "execution_count": null,
      "id": "873a7c21",
      "metadata": {
        "execution": {
          "iopub.execute_input": "2022-10-07T08:19:57.179451Z",
          "iopub.status.busy": "2022-10-07T08:19:57.178874Z",
          "iopub.status.idle": "2022-10-07T08:19:57.290963Z",
          "shell.execute_reply": "2022-10-07T08:19:57.289268Z"
        },
        "papermill": {
          "duration": 0.13803,
          "end_time": "2022-10-07T08:19:57.293393",
          "exception": true,
          "start_time": "2022-10-07T08:19:57.155363",
          "status": "failed"
        },
        "tags": [],
        "id": "873a7c21",
        "outputId": "85430e74-0610-4297-ab6f-a5a1058d77ee"
      },
      "outputs": [
        {
          "ename": "StdinNotImplementedError",
          "evalue": "raw_input was called, but this frontend does not support input requests.",
          "output_type": "error",
          "traceback": [
            "\u001b[0;31m---------------------------------------------------------------------------\u001b[0m",
            "\u001b[0;31mStdinNotImplementedError\u001b[0m                  Traceback (most recent call last)",
            "\u001b[0;32m/tmp/ipykernel_19/720143593.py\u001b[0m in \u001b[0;36m<module>\u001b[0;34m\u001b[0m\n\u001b[0;32m----> 1\u001b[0;31m \u001b[0mgenre\u001b[0m\u001b[0;34m=\u001b[0m\u001b[0minput\u001b[0m\u001b[0;34m(\u001b[0m\u001b[0;34m\"Enter Genre you want to count : \"\u001b[0m\u001b[0;34m)\u001b[0m\u001b[0;34m.\u001b[0m\u001b[0mtitle\u001b[0m\u001b[0;34m(\u001b[0m\u001b[0;34m)\u001b[0m\u001b[0;34m\u001b[0m\u001b[0;34m\u001b[0m\u001b[0m\n\u001b[0m\u001b[1;32m      2\u001b[0m \u001b[0mcount\u001b[0m\u001b[0;34m=\u001b[0m\u001b[0;36m0\u001b[0m\u001b[0;34m\u001b[0m\u001b[0;34m\u001b[0m\u001b[0m\n\u001b[1;32m      3\u001b[0m \u001b[0;32mfor\u001b[0m \u001b[0mvalue\u001b[0m \u001b[0;32min\u001b[0m \u001b[0mdata\u001b[0m\u001b[0;34m[\u001b[0m\u001b[0;34m'temp'\u001b[0m\u001b[0;34m]\u001b[0m\u001b[0;34m:\u001b[0m\u001b[0;34m\u001b[0m\u001b[0;34m\u001b[0m\u001b[0m\n\u001b[1;32m      4\u001b[0m     \u001b[0;32mif\u001b[0m \u001b[0mgenre\u001b[0m \u001b[0;32min\u001b[0m \u001b[0mvalue\u001b[0m\u001b[0;34m:\u001b[0m\u001b[0;34m\u001b[0m\u001b[0;34m\u001b[0m\u001b[0m\n\u001b[1;32m      5\u001b[0m         \u001b[0mcount\u001b[0m\u001b[0;34m=\u001b[0m\u001b[0mcount\u001b[0m\u001b[0;34m+\u001b[0m\u001b[0;36m1\u001b[0m\u001b[0;34m\u001b[0m\u001b[0;34m\u001b[0m\u001b[0m\n",
            "\u001b[0;32m/opt/conda/lib/python3.7/site-packages/ipykernel/kernelbase.py\u001b[0m in \u001b[0;36mraw_input\u001b[0;34m(self, prompt)\u001b[0m\n\u001b[1;32m   1173\u001b[0m         \u001b[0;32mif\u001b[0m \u001b[0;32mnot\u001b[0m \u001b[0mself\u001b[0m\u001b[0;34m.\u001b[0m\u001b[0m_allow_stdin\u001b[0m\u001b[0;34m:\u001b[0m\u001b[0;34m\u001b[0m\u001b[0;34m\u001b[0m\u001b[0m\n\u001b[1;32m   1174\u001b[0m             raise StdinNotImplementedError(\n\u001b[0;32m-> 1175\u001b[0;31m                 \u001b[0;34m\"raw_input was called, but this frontend does not support input requests.\"\u001b[0m\u001b[0;34m\u001b[0m\u001b[0;34m\u001b[0m\u001b[0m\n\u001b[0m\u001b[1;32m   1176\u001b[0m             )\n\u001b[1;32m   1177\u001b[0m         return self._input_request(\n",
            "\u001b[0;31mStdinNotImplementedError\u001b[0m: raw_input was called, but this frontend does not support input requests."
          ]
        }
      ],
      "source": [
        "genre=input(\"Enter Genre you want to count : \").title()\n",
        "count=0\n",
        "for value in data['temp']:\n",
        "    if genre in value:\n",
        "        count=count+1\n",
        "print(\"Total Count is\",count)"
      ]
    },
    {
      "cell_type": "markdown",
      "id": "022fdf95",
      "metadata": {
        "papermill": {
          "duration": null,
          "end_time": null,
          "exception": null,
          "start_time": null,
          "status": "pending"
        },
        "tags": [],
        "id": "022fdf95"
      },
      "source": [
        "# OR"
      ]
    },
    {
      "cell_type": "code",
      "execution_count": null,
      "id": "800dff79",
      "metadata": {
        "execution": {
          "iopub.execute_input": "2022-10-07T08:06:23.987806Z",
          "iopub.status.busy": "2022-10-07T08:06:23.987360Z",
          "iopub.status.idle": "2022-10-07T08:06:24.000377Z",
          "shell.execute_reply": "2022-10-07T08:06:23.999005Z",
          "shell.execute_reply.started": "2022-10-07T08:06:23.987745Z"
        },
        "papermill": {
          "duration": null,
          "end_time": null,
          "exception": null,
          "start_time": null,
          "status": "pending"
        },
        "tags": [],
        "id": "800dff79"
      },
      "outputs": [],
      "source": [
        "len(data[data['Genre'].str.contains('action',case=False)])"
      ]
    },
    {
      "cell_type": "code",
      "execution_count": null,
      "id": "53f2abdf",
      "metadata": {
        "papermill": {
          "duration": null,
          "end_time": null,
          "exception": null,
          "start_time": null,
          "status": "pending"
        },
        "tags": [],
        "id": "53f2abdf"
      },
      "outputs": [],
      "source": []
    }
  ],
  "metadata": {
    "kernelspec": {
      "display_name": "Python 3",
      "language": "python",
      "name": "python3"
    },
    "language_info": {
      "codemirror_mode": {
        "name": "ipython",
        "version": 3
      },
      "file_extension": ".py",
      "mimetype": "text/x-python",
      "name": "python",
      "nbconvert_exporter": "python",
      "pygments_lexer": "ipython3",
      "version": "3.7.12"
    },
    "papermill": {
      "default_parameters": {},
      "duration": 18.912665,
      "end_time": "2022-10-07T08:19:58.443340",
      "environment_variables": {},
      "exception": true,
      "input_path": "__notebook__.ipynb",
      "output_path": "__notebook__.ipynb",
      "parameters": {},
      "start_time": "2022-10-07T08:19:39.530675",
      "version": "2.3.4"
    },
    "colab": {
      "provenance": []
    }
  },
  "nbformat": 4,
  "nbformat_minor": 5
}